{
 "cells": [
  {
   "cell_type": "markdown",
   "id": "0d4655a9",
   "metadata": {
    "editable": true,
    "slideshow": {
     "slide_type": ""
    }
   },
   "source": [
    "# Comparison - Exercise\n",
    "\n",
    "For this exercise, we will expand our previous fit to include the measurements of a conductivity sensor. We will also include the replicate that our colleagues in the lab made to control for system variance. You can find all required data in the labbook."
   ]
  },
  {
   "cell_type": "markdown",
   "id": "976dbdc4",
   "metadata": {
    "editable": true,
    "slideshow": {
     "slide_type": ""
    }
   },
   "source": [
    "## Exercise 1: Comparator\n",
    "\n",
    "The experiment was repeated to account for system variability. The data was converted to concentrations in $mM$ and can be found in `./experimental_data`. Inspect the conductivity measurements and see what kind of pre-processing might make them usefull and which unit operation you can compare them to.\n",
    "\n",
    "**Task:**\n",
    "- Import and plot the experimental data using the `ReferenceIO` class.\n",
    "- Add the references to the `Comparator`.\n",
    "- Add the `SSE` difference metric and compare with simulation results.\n",
    "- Add the `Shape` difference metric and compare with simulation results.\n",
    "\n",
    "\n",
    "## Exercise 2: Optimization:\n",
    "\n",
    "Optimize these parameters:\n",
    "\n",
    "`flow_sheet.column.axial_dispersion` from `1e-8` to `1e-5`\n",
    "and\n",
    "\n",
    "`flow_sheet.column.total_porosity` from `0.2` to `0.9`\n",
    "\n",
    "use the `U_NSGA3` optimizer with a population size of 64 and a maximum number of generatinos of 12 on4 cores."
   ]
  },
  {
   "cell_type": "code",
   "execution_count": null,
   "id": "2ec9686e",
   "metadata": {
    "editable": true,
    "slideshow": {
     "slide_type": ""
    },
    "tags": [
     "solution"
    ]
   },
   "outputs": [],
   "source": [
    "import numpy as np\n",
    "import matplotlib.pyplot as plt\n",
    "import pandas as pd\n",
    "from CADETProcess.processModel import ComponentSystem\n",
    "from CADETProcess.processModel import FlowSheet\n",
    "from CADETProcess.processModel import Inlet, TubularReactor, LumpedRateModelWithoutPores, Outlet\n",
    "from CADETProcess.processModel import Process\n",
    "from CADETProcess.processModel import StericMassAction\n",
    "from CADETProcess.simulator import Cadet\n",
    "\n",
    "component_system = ComponentSystem([\"Acetone\"])\n",
    "\n",
    "column = LumpedRateModelWithoutPores(component_system, name='column')\n",
    "column.length = 0.014\n",
    "column.total_porosity = 0.5\n",
    "column.diameter = 0.01\n",
    "column.axial_dispersion = 5.75e-7\n",
    "\n",
    "pipe5 = TubularReactor(component_system, name=\"pipe5\")\n",
    "pipe5.length = 0.1\n",
    "pipe5.diameter = 0.001\n",
    "pipe5.axial_dispersion = 6e-6\n",
    "pipe5.discretization.ncol = 50\n",
    "\n",
    "pipe6 = TubularReactor(component_system, name=\"pipe6\")\n",
    "pipe6.length = 0.02\n",
    "pipe6.diameter = 0.001\n",
    "pipe6.axial_dispersion = 6e-6\n",
    "pipe6.discretization.ncol = 50\n",
    "\n",
    "pipe7 = TubularReactor(component_system, name=\"pipe7\")\n",
    "pipe7.length = 0.1\n",
    "pipe7.diameter = 0.001\n",
    "pipe7.axial_dispersion = 6e-6\n",
    "pipe7.discretization.ncol = 50\n",
    "\n",
    "volumetric_flow_rate = 1.67e-8\n",
    "\n",
    "inlet = Inlet(component_system, name='inlet')\n",
    "inlet.flow_rate = volumetric_flow_rate\n",
    "\n",
    "outlet = Outlet(component_system, name='outlet')\n",
    "\n",
    "# Flow Sheet\n",
    "flow_sheet = FlowSheet(component_system)\n",
    "\n",
    "flow_sheet.add_unit(inlet, feed_inlet=True)\n",
    "flow_sheet.add_unit(pipe5)\n",
    "flow_sheet.add_unit(column)\n",
    "flow_sheet.add_unit(pipe6)\n",
    "flow_sheet.add_unit(pipe7)\n",
    "flow_sheet.add_unit(outlet, product_outlet=True)\n",
    "\n",
    "flow_sheet.add_connection(inlet, pipe5)\n",
    "flow_sheet.add_connection(pipe5, column)\n",
    "flow_sheet.add_connection(column, pipe6)\n",
    "flow_sheet.add_connection(pipe6, pipe7)\n",
    "flow_sheet.add_connection(pipe7, outlet)\n",
    "\n",
    "process = Process(flow_sheet, 'batch elution')\n",
    "\n",
    "process.cycle_time = 3 * 60\n",
    "\n",
    "process.add_event('load', 'flow_sheet.inlet.c', 1, 0)\n",
    "process.add_event('wash', 'flow_sheet.inlet.c', 0, 1)\n",
    "simulator = Cadet()\n",
    "simulator.time_resolution = 0.5\n",
    "\n",
    "simulation_results = simulator.simulate(process)\n",
    "print(simulation_results.time_elapsed)"
   ]
  },
  {
   "cell_type": "code",
   "execution_count": null,
   "id": "f15893ed",
   "metadata": {
    "editable": true,
    "slideshow": {
     "slide_type": ""
    },
    "tags": [
     "solution"
    ]
   },
   "outputs": [],
   "source": [
    "import pandas as pd\n",
    "data1 = pd.read_excel(\"experimental_data/tracer_1.xlsx\", index_col=0)\n",
    "data2 = pd.read_excel(\"experimental_data/tracer_2.xlsx\", index_col=0)\n",
    "\n",
    "from CADETProcess.reference import ReferenceIO\n",
    "\n",
    "reference_uv1 = ReferenceIO('tracer experiment uv1', data1.index, data1.iloc[:, 0])\n",
    "reference_uv2 = ReferenceIO('tracer experiment uv2', data2.index, data2.iloc[:, 0])\n",
    "reference_conductivity1 = ReferenceIO('tracer experiment conductivity1', data2.index, 0.1-data2.iloc[:, 1])\n",
    "reference_uv2.plot()\n",
    "reference_conductivity1.plot()"
   ]
  },
  {
   "cell_type": "code",
   "execution_count": null,
   "id": "df2c782a",
   "metadata": {
    "editable": true,
    "slideshow": {
     "slide_type": ""
    },
    "tags": [
     "solution"
    ]
   },
   "outputs": [],
   "source": []
  },
  {
   "cell_type": "code",
   "execution_count": null,
   "id": "b81b1a81",
   "metadata": {
    "editable": true,
    "slideshow": {
     "slide_type": ""
    },
    "tags": [
     "solution"
    ]
   },
   "outputs": [],
   "source": [
    "from CADETProcess.comparison import Comparator\n",
    "\n",
    "comparator = Comparator()\n",
    "\n",
    "comparator.add_reference(reference_uv1)\n",
    "comparator.add_reference(reference_uv2)\n",
    "comparator.add_reference(reference_conductivity1)"
   ]
  },
  {
   "cell_type": "code",
   "execution_count": null,
   "id": "de781fff",
   "metadata": {
    "editable": true,
    "slideshow": {
     "slide_type": ""
    },
    "tags": [
     "solution"
    ]
   },
   "outputs": [],
   "source": [
    "comparator.add_difference_metric('Shape', reference_uv1, 'pipe6.outlet')\n",
    "comparator.add_difference_metric('Shape', reference_uv2, 'pipe6.outlet')\n",
    "\n",
    "comparator.add_difference_metric('Shape', reference_conductivity1, 'pipe7.outlet')"
   ]
  },
  {
   "cell_type": "code",
   "execution_count": null,
   "id": "d8335317",
   "metadata": {
    "editable": true,
    "slideshow": {
     "slide_type": ""
    },
    "tags": [
     "solution"
    ]
   },
   "outputs": [],
   "source": [
    "comparator.evaluate(simulation_results)"
   ]
  },
  {
   "cell_type": "code",
   "execution_count": null,
   "id": "dfcfd9dd",
   "metadata": {
    "editable": true,
    "slideshow": {
     "slide_type": ""
    },
    "tags": [
     "solution"
    ]
   },
   "outputs": [],
   "source": [
    "_ = comparator.plot_comparison(simulation_results)"
   ]
  },
  {
   "cell_type": "code",
   "execution_count": null,
   "id": "1fdc2a85",
   "metadata": {
    "editable": true,
    "slideshow": {
     "slide_type": ""
    },
    "tags": [
     "solution"
    ]
   },
   "outputs": [],
   "source": [
    "from CADETProcess.optimization import OptimizationProblem\n",
    "optimization_problem = OptimizationProblem('Column transport')\n",
    "\n",
    "optimization_problem.add_evaluation_object(process)\n",
    "\n",
    "optimization_problem.add_variable(\n",
    "    name='axial dispersion', parameter_path='flow_sheet.column.axial_dispersion',\n",
    "    lb=1e-8, ub=1e-5,\n",
    "    transform='auto'\n",
    ")\n",
    "\n",
    "optimization_problem.add_variable(\n",
    "    name='porosity', parameter_path='flow_sheet.column.total_porosity',\n",
    "    lb=0.2, ub=0.9,\n",
    "    transform='auto'\n",
    ")\n",
    "\n",
    "\n",
    "optimization_problem.add_evaluator(simulator)\n",
    "\n",
    "optimization_problem.add_objective(\n",
    "    comparator,\n",
    "    n_objectives=comparator.n_metrics,\n",
    "    requires=[simulator]\n",
    ")\n",
    "\n",
    "def callback(simulation_results, individual, evaluation_object, callbacks_dir='./'):\n",
    "    comparator.plot_comparison(\n",
    "        simulation_results,\n",
    "        file_name=f'{callbacks_dir}/{individual.id}_{evaluation_object}_comparison.png',\n",
    "        show=False\n",
    "    )\n",
    "\n",
    "\n",
    "optimization_problem.add_callback(callback, requires=[simulator])"
   ]
  },
  {
   "cell_type": "code",
   "execution_count": null,
   "id": "c0297d2e",
   "metadata": {
    "editable": true,
    "slideshow": {
     "slide_type": ""
    },
    "tags": [
     "solution"
    ]
   },
   "outputs": [],
   "source": [
    "from CADETProcess.optimization import U_NSGA3\n",
    "optimizer = U_NSGA3()\n",
    "optimizer.n_cores = 8\n",
    "optimizer.pop_size = 64\n",
    "optimizer.n_max_gen = 16\n",
    "\n",
    "# optimization_results = optimizer.optimize(\n",
    "#     optimization_problem,\n",
    "#     use_checkpoint=False\n",
    "# )"
   ]
  },
  {
   "cell_type": "markdown",
   "id": "1264684d",
   "metadata": {},
   "source": [
    "**Task:**\n",
    "- Import and plot the experimental data using the `ReferenceIO` class.\n",
    "- Add the references to the `Comparator`.\n",
    "- Add the `SSE` difference metric and compare with simulation results.\n",
    "- Compare with other metrics.\n",
    "- *Consider the accuracy of the model fit and the model complexity. Are there details in the data that your model is not yet capturing?*\n",
    "-"
   ]
  },
  {
   "cell_type": "markdown",
   "id": "c9f3d309",
   "metadata": {
    "editable": true,
    "slideshow": {
     "slide_type": ""
    }
   },
   "source": [
    "## Exercise 2: SMA parameter estimation\n",
    "\n",
    "Set up an optimization problem to identify the binding parameters of your three proteins. The data is in `./experimental_data`.\n",
    "\n",
    "**Task:**\n",
    "- Import and plot the experimental data using the `ReferenceIO` class.\n",
    "- Add the references to the `Comparator`.\n",
    "- Add the `SSE` difference metric and compare with simulation results.\n",
    "- Add the `Shape` difference metric and compare with simulation results.\n",
    "\n",
    "\n",
    "## Exercise 2: Optimization:\n",
    "\n",
    "Optimize these parameters:\n",
    "\n",
    "`flow_sheet.column.axial_dispersion` from `1e-8` to `1e-5`\n",
    "and\n",
    "\n",
    "`flow_sheet.column.total_porosity` from `0.2` to `0.9`\n",
    "\n",
    "use the `U_NSGA3` optimizer with a population size of 64 and a maximum number of generatinos of 12 on4 cores."
   ]
  },
  {
   "cell_type": "code",
   "execution_count": null,
   "id": "6004bc61",
   "metadata": {
    "editable": true,
    "slideshow": {
     "slide_type": ""
    },
    "tags": [
     "solution"
    ]
   },
   "outputs": [],
   "source": [
    "import numpy as np\n",
    "import matplotlib.pyplot as plt\n",
    "import pandas as pd\n",
    "from CADETProcess.processModel import ComponentSystem\n",
    "from CADETProcess.processModel import FlowSheet\n",
    "from CADETProcess.processModel import Inlet, TubularReactor, LumpedRateModelWithoutPores, Outlet\n",
    "from CADETProcess.processModel import Process\n",
    "from CADETProcess.processModel import StericMassAction\n",
    "from CADETProcess.simulator import Cadet\n",
    "\n",
    "def create_column(component_system):\n",
    "    column = LumpedRateModelWithoutPores(component_system, name='column')\n",
    "    column.length = 0.014\n",
    "    column.total_porosity = 0.5\n",
    "    column.diameter = 0.01\n",
    "    column.axial_dispersion = 5.75e-7\n",
    "    return column\n",
    "\n",
    "def create_pipes(component_system):\n",
    "    pipe1 = TubularReactor(component_system, name=\"pipe5\")\n",
    "    pipe1.length = 0.1\n",
    "    pipe1.diameter = 0.001\n",
    "    pipe1.axial_dispersion = 6e-6\n",
    "    pipe1.discretization.ncol = 50\n",
    "\n",
    "    pipe2 = TubularReactor(component_system, name=\"pipe6\")\n",
    "    pipe2.length = 0.02\n",
    "    pipe2.diameter = 0.001\n",
    "    pipe2.axial_dispersion = 6e-6\n",
    "    pipe2.discretization.ncol = 50\n",
    "\n",
    "    pipe3 = TubularReactor(component_system, name=\"pipe7\")\n",
    "    pipe3.length = 0.1\n",
    "    pipe3.diameter = 0.001\n",
    "    pipe3.axial_dispersion = 6e-6\n",
    "    pipe3.discretization.ncol = 50\n",
    "    return pipe1, pipe2, pipe3\n",
    "\n",
    "\n",
    "def create_flow_sheet(component_system):\n",
    "\n",
    "    # Binding Model\n",
    "    binding_model = StericMassAction(component_system)\n",
    "    binding_model.is_kinetic = True\n",
    "    binding_model.adsorption_rate = [0, 2.3e-5, 5.59e-1, 3.5e-3]\n",
    "    binding_model.desorption_rate = [0, 1, 1, 1]\n",
    "    binding_model.characteristic_charge = [0, 6.9, 2.3, 5.8]\n",
    "    binding_model.steric_factor = [0, 10, 10.6, 11.83]\n",
    "    binding_model.capacity = 1.2e3\n",
    "\n",
    "    column = create_column(component_system)\n",
    "\n",
    "    pipe5, pipe6, pipe7 = create_pipes(component_system)\n",
    "\n",
    "    column.binding_model = binding_model\n",
    "\n",
    "    column.q = [50, 0, 0, 0]\n",
    "    column.c = [50, 0, 0, 0]\n",
    "    pipe5.c = [50, 0, 0, 0]\n",
    "    pipe6.c = [50, 0, 0, 0]\n",
    "    pipe7.c = [50, 0, 0, 0]\n",
    "\n",
    "    volumetric_flow_rate = 1.67e-8\n",
    "\n",
    "    inlet = Inlet(component_system, name='inlet')\n",
    "    inlet.flow_rate = volumetric_flow_rate\n",
    "\n",
    "    outlet = Outlet(component_system, name='outlet')\n",
    "\n",
    "    # Flow Sheet\n",
    "    flow_sheet = FlowSheet(component_system)\n",
    "\n",
    "    flow_sheet.add_unit(inlet, feed_inlet=True)\n",
    "    flow_sheet.add_unit(pipe5)\n",
    "    flow_sheet.add_unit(column)\n",
    "    flow_sheet.add_unit(pipe6)\n",
    "    flow_sheet.add_unit(pipe7)\n",
    "    flow_sheet.add_unit(outlet, product_outlet=True)\n",
    "\n",
    "    flow_sheet.add_connection(inlet, pipe5)\n",
    "    flow_sheet.add_connection(pipe5, column)\n",
    "    flow_sheet.add_connection(column, pipe6)\n",
    "    flow_sheet.add_connection(pipe6, pipe7)\n",
    "    flow_sheet.add_connection(pipe7, outlet)\n",
    "    return flow_sheet\n",
    "\n",
    "\n",
    "def create_breakthrough_process(component_system):\n",
    "    flow_sheet = create_flow_sheet(component_system)\n",
    "\n",
    "    process = Process(flow_sheet, 'breakthrough')\n",
    "\n",
    "    process.cycle_time = 60 * 60\n",
    "\n",
    "    c_salt_load = 50\n",
    "    c_load = [c_salt_load, 1, 1, 1]\n",
    "\n",
    "    process.add_event('load', 'flow_sheet.inlet.c', c_load, 0)\n",
    "    return process\n",
    "\n",
    "def create_gradient_process(gradient_length_in_cv, component_system):\n",
    "    flow_sheet = create_flow_sheet(component_system)\n",
    "    process = Process(flow_sheet, f\"gradient {gradient_length_in_cv}\")\n",
    "\n",
    "    c_salt_load = 50\n",
    "    c_salt_gradient1_start = 80\n",
    "    c_salt_gradient1_end = 500\n",
    "    duration_gradient1 = gradient_length_in_cv * 60\n",
    "    process.cycle_time = duration_gradient1 + 600\n",
    "    t_gradient1_start = 90\n",
    "    t_gradient1_end = 90 + duration_gradient1\n",
    "    t_start_wash = 10\n",
    "    gradient_1_slope = (c_salt_gradient1_end - c_salt_gradient1_start)/(duration_gradient1)\n",
    "\n",
    "    c_load = [c_salt_load, 1, 1, 1]\n",
    "\n",
    "    c_wash = [c_salt_load, 0, 0, 0]\n",
    "\n",
    "    c_gradient1_poly = [\n",
    "        [c_salt_gradient1_start, gradient_1_slope, 0, 0],\n",
    "        [0, 0, 0, 0],\n",
    "        [0, 0, 0, 0],\n",
    "        [0, 0, 0, 0]\n",
    "    ]\n",
    "\n",
    "    process.add_duration(\"grad1_duration\", duration_gradient1)\n",
    "\n",
    "    process.add_event('load', 'flow_sheet.inlet.c', c_load, time=0)\n",
    "    process.add_event('wash', 'flow_sheet.inlet.c', c_wash, time=t_start_wash)\n",
    "    process.add_event('grad1_start', 'flow_sheet.inlet.c', c_gradient1_poly, t_gradient1_start)\n",
    "    process.add_event('grad1_end', 'flow_sheet.inlet.c', [c_salt_gradient1_end, 0, 0, 0], t_gradient1_end)\n",
    "    return process\n",
    "\n",
    "\n",
    "component_system = ComponentSystem(['Salt', 'A', \"B\", \"C\"])\n",
    "process_bt = create_breakthrough_process(component_system)\n",
    "process_15cv = create_gradient_process(15, component_system)\n",
    "process_120cv = create_gradient_process(120, component_system)\n",
    "\n",
    "simulator = Cadet()\n",
    "simulator.time_resolution = 0.5\n",
    "\n",
    "# for process in [process_bt, process_15cv, process_120cv]:\n",
    "#     simulation_results = simulator.simulate(process)\n",
    "#     simulation_results.solution.outlet.outlet.plot()\n",
    "#     print(simulation_results.time_elapsed)"
   ]
  },
  {
   "cell_type": "code",
   "execution_count": null,
   "id": "0674c716",
   "metadata": {
    "editable": true,
    "slideshow": {
     "slide_type": ""
    },
    "tags": [
     "solution"
    ]
   },
   "outputs": [],
   "source": [
    "import pandas as pd\n",
    "data_bt = pd.read_excel(\"experimental_data/breakthrough.xlsx\", index_col=0)\n",
    "data_15cv = pd.read_excel(\"experimental_data/15cv_gradient.xlsx\", index_col=0)\n",
    "data_120cv = pd.read_excel(\"experimental_data/120cv_gradient.xlsx\", index_col=0)\n",
    "\n",
    "# data_bt.describe()\n",
    "from CADETProcess.reference import ReferenceIO\n",
    "\n",
    "reference_bt = ReferenceIO('experiment bt', data_bt.index, data_bt, component_system=component_system)\n",
    "reference_15cv = ReferenceIO('experiment 15cv', data_15cv.index, data_15cv , component_system=component_system)\n",
    "reference_120cv = ReferenceIO('experiment 120cv', data_120cv.index, data_120cv, component_system=component_system)\n",
    "reference_bt.plot()\n",
    "reference_15cv.plot()"
   ]
  },
  {
   "cell_type": "code",
   "execution_count": null,
   "id": "e69eb3d1",
   "metadata": {
    "editable": true,
    "slideshow": {
     "slide_type": ""
    },
    "tags": [
     "solution"
    ]
   },
   "outputs": [],
   "source": []
  },
  {
   "cell_type": "code",
   "execution_count": null,
   "id": "3a17f7ff",
   "metadata": {
    "editable": true,
    "slideshow": {
     "slide_type": ""
    },
    "tags": [
     "solution"
    ]
   },
   "outputs": [],
   "source": [
    "from CADETProcess.comparison import Comparator\n",
    "from CADETProcess.optimization import OptimizationProblem\n",
    "optimization_problem = OptimizationProblem('SMA binding')\n",
    "\n",
    "optimization_problem.add_evaluator(simulator)\n",
    "\n",
    "for process, reference in zip([process_bt, process_15cv, process_120cv], [reference_bt, reference_15cv, reference_120cv]):\n",
    "    comparator = Comparator(name=reference.name)\n",
    "\n",
    "    comparator.add_reference(reference)\n",
    "    comparator.add_difference_metric('Shape', reference, 'pipe6.outlet', components=[\"A\"])\n",
    "    comparator.add_difference_metric('Shape', reference, 'pipe6.outlet', components=[\"B\"])\n",
    "    comparator.add_difference_metric('Shape', reference, 'pipe6.outlet', components=[\"C\"])\n",
    "\n",
    "    optimization_problem.add_evaluation_object(process)\n",
    "\n",
    "    optimization_problem.add_objective(\n",
    "        comparator,\n",
    "        name=f\"Objective {reference.name} for {process.name}\",\n",
    "        n_objectives=comparator.n_metrics,\n",
    "        evaluation_objects=[process],\n",
    "        requires=[simulator]\n",
    "    )\n",
    "\n",
    "    simulation_results = simulator.simulate(process)\n",
    "    comparator.plot_comparison(simulation_results)"
   ]
  },
  {
   "cell_type": "code",
   "execution_count": null,
   "id": "e56c445e",
   "metadata": {
    "editable": true,
    "slideshow": {
     "slide_type": ""
    },
    "tags": [
     "solution"
    ]
   },
   "outputs": [],
   "source": [
    "for component_idx in [1, 2, 3]:\n",
    "    # As kD = 1, kEq = kA / kD = kA\n",
    "    optimization_problem.add_variable(\n",
    "        name=f'equilibrium_constant_{component_idx}',\n",
    "        parameter_path='flow_sheet.column.binding_model.adsorption_rate',\n",
    "        lb=1e-7, ub=1,\n",
    "        transform='auto',\n",
    "        indices=[component_idx],\n",
    "    )\n",
    "\n",
    "    optimization_problem.add_variable(\n",
    "        name=f'characteristic_charge_{component_idx}',\n",
    "        parameter_path='flow_sheet.column.binding_model.characteristic_charge',\n",
    "        lb=1, ub=10,\n",
    "        transform='linear',\n",
    "        indices=[component_idx]\n",
    "    )\n",
    "\n",
    "    optimization_problem.add_variable(\n",
    "        name=f'steric_factor_{component_idx}',\n",
    "        parameter_path='flow_sheet.column.binding_model.steric_factor',\n",
    "        lb=1, ub=30,\n",
    "        transform='auto',\n",
    "        indices=[component_idx]\n",
    "    )"
   ]
  },
  {
   "cell_type": "code",
   "execution_count": null,
   "id": "915730c4",
   "metadata": {
    "editable": true,
    "slideshow": {
     "slide_type": ""
    },
    "tags": [
     "solution"
    ]
   },
   "outputs": [],
   "source": [
    "# comparator.evaluate(simulation_results)"
   ]
  },
  {
   "cell_type": "code",
   "execution_count": null,
   "id": "0e0fe316",
   "metadata": {
    "editable": true,
    "slideshow": {
     "slide_type": ""
    },
    "tags": [
     "solution"
    ]
   },
   "outputs": [],
   "source": [
    "# _ = comparator.plot_comparison(simulation_results)"
   ]
  },
  {
   "cell_type": "markdown",
   "id": "6dd47932",
   "metadata": {
    "editable": true,
    "slideshow": {
     "slide_type": "fragment"
    }
   },
   "source": [
    "```{note}\n",
    "It's also possible to add multiple references, e.g. for triplicate experiments or for different sensors.\n",
    "```"
   ]
  },
  {
   "cell_type": "code",
   "execution_count": null,
   "id": "624fe536",
   "metadata": {
    "editable": true,
    "slideshow": {
     "slide_type": ""
    },
    "tags": [
     "solution"
    ]
   },
   "outputs": [],
   "source": []
  },
  {
   "cell_type": "code",
   "execution_count": null,
   "id": "0542b57d",
   "metadata": {
    "editable": true,
    "slideshow": {
     "slide_type": ""
    },
    "tags": [
     "solution"
    ]
   },
   "outputs": [],
   "source": [
    "from CADETProcess.optimization import U_NSGA3\n",
    "optimizer = U_NSGA3()\n",
    "optimizer.n_cores = 8\n",
    "optimizer.pop_size = 16\n",
    "optimizer.n_max_gen = 6\n",
    "\n",
    "# optimization_results = optimizer.optimize(\n",
    "#     optimization_problem,\n",
    "#     use_checkpoint=False\n",
    "# )"
   ]
  }
 ],
 "metadata": {
  "jupytext": {
   "formats": "ipynb,md:myst"
  },
  "kernelspec": {
   "display_name": "Python 3 (ipykernel)",
   "language": "python",
   "name": "python3"
  }
 },
 "nbformat": 4,
 "nbformat_minor": 5
}
