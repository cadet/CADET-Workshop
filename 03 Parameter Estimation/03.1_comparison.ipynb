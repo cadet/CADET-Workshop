{
 "cells": [
  {
   "cell_type": "markdown",
   "id": "a3561f79",
   "metadata": {
    "editable": true,
    "slideshow": {
     "slide_type": "slide"
    }
   },
   "source": [
    "# Model Calibration / i.e. Parameter Estimation\n",
    "\n",
    "Our models contain a lot of parameters that need to be set before the model can make useful predictions.\n",
    "Some parameters in our models can be set directly from measurements, such as column lengths.\n",
    "Other can not be measured directly, such as dispersion coefficients, and need to be estimated by comparing simulation predictions to experimental data.\n",
    "\n",
    "For our target `LRM` with `SMA` model, these are the parameters we can measure externally:\n",
    "\n",
    "```\n",
    "inlet.flow_rate\n",
    "inlet.c\n",
    "lrm.length\n",
    "lrm.diameter\n",
    "sma.capacity\n",
    "```\n",
    "\n",
    "And these are the ones we need to fit:\n",
    "\n",
    "```\n",
    "lrm.axial_dispersion\n",
    "lrm.total_porosity\n",
    "sma.adsorption_rate\n",
    "sma.desorption_rate\n",
    "sma.characteristic_charge\n",
    "sma.steric_factor\n",
    "```"
   ]
  },
  {
   "cell_type": "code",
   "execution_count": null,
   "id": "568e26da",
   "metadata": {},
   "outputs": [],
   "source": []
  },
  {
   "cell_type": "code",
   "execution_count": null,
   "id": "06ef7636",
   "metadata": {},
   "outputs": [],
   "source": [
    "from CADETProcess.processModel import Inlet, Outlet, ComponentSystem, LumpedRateModelWithoutPores, StericMassAction\n",
    "\n",
    "component_system = ComponentSystem([\"Salt\", \"ProteinA\", \"ProteinB\", \"ProteinC\"])\n",
    "\n",
    "inlet = Inlet(component_system, \"inlet\")\n",
    "inlet.flow_rate = 1 / 60 / 1000 / 1000\n",
    "\n",
    "outlet = Outlet(component_system, \"outlet\")\n",
    "\n",
    "column = LumpedRateModelWithoutPores(component_system, \"column\")\n",
    "\n",
    "column.total_porosity = 0.4\n",
    "column.axial_dispersion = 1e-6\n",
    "column.length = 0.014\n",
    "column.diameter = 0.01\n",
    "column.c = [50, 0, 0, 0]\n",
    "\n",
    "binding = StericMassAction(component_system, \"binding\")\n",
    "binding.is_kinetic = True\n",
    "binding.adsorption_rate = [0, 1e-5, 1e-1, 1e-3]\n",
    "binding.desorption_rate = [0, 1, 1, 1]\n",
    "binding.characteristic_charge = [0, 5, 1, 7]\n",
    "binding.steric_factor = [0, 1, 1, 1]\n",
    "binding.capacity = 1200\n",
    "\n",
    "column.binding_model = binding\n",
    "\n",
    "column.q = [50, 0, 0, 0]\n",
    "\n",
    "from CADETProcess.processModel import FlowSheet, Process\n",
    "\n",
    "flow_sheet = FlowSheet(component_system, \"flow_sheet\")\n",
    "\n",
    "flow_sheet.add_unit(inlet)\n",
    "flow_sheet.add_unit(column)\n",
    "flow_sheet.add_unit(outlet)\n",
    "\n",
    "flow_sheet.add_connection(inlet, column)\n",
    "flow_sheet.add_connection(column, outlet)\n",
    "\n",
    "process = Process(flow_sheet, \"process\")\n",
    "\n",
    "gradient_column_volumes = 15\n",
    "gradient_duration = gradient_column_volumes * column.volume / inlet.flow_rate[0]\n",
    "\n",
    "process.cycle_time = 90 + gradient_duration + 90\n",
    "\n",
    "# add load\n",
    "total_protein = 0.001  # mol\n",
    "load_duration = 10  # sec\n",
    "protein_concentration = 1.0\n",
    "\n",
    "process.add_event(\n",
    "    name=\"load\",\n",
    "    parameter_path=\"flow_sheet.inlet.c\",\n",
    "    state=[\n",
    "        [50, 0, 0, 0],\n",
    "        [protein_concentration, 0, 0, 0],\n",
    "        [protein_concentration, 0, 0, 0],\n",
    "        [protein_concentration, 0, 0, 0]\n",
    "    ],\n",
    "    time=0\n",
    ")\n",
    "# add wash\n",
    "process.add_event(\n",
    "    name=\"wash\",\n",
    "    parameter_path=\"flow_sheet.inlet.c\",\n",
    "    state=[\n",
    "        [50, 0, 0, 0],\n",
    "        [0, 0, 0, 0],\n",
    "        [0, 0, 0, 0],\n",
    "        [0, 0, 0, 0]\n",
    "    ],\n",
    "    time=10\n",
    ")\n",
    "\n",
    "start_concentration = 50\n",
    "end_concentration = 1000\n",
    "gradient_duration\n",
    "\n",
    "slope = (end_concentration - start_concentration) / gradient_duration\n",
    "\n",
    "# add gradient\n",
    "process.add_event(\n",
    "    name=\"gradient_start\",\n",
    "    parameter_path=\"flow_sheet.inlet.c\",\n",
    "    state=[\n",
    "        [50, slope, 0, 0],\n",
    "        [0, 0, 0, 0],\n",
    "        [0, 0, 0, 0],\n",
    "        [0, 0, 0, 0]\n",
    "    ],\n",
    "    time=90\n",
    ")\n",
    "\n",
    "# stop gradient\n",
    "process.add_event(\n",
    "    name=\"gradient_end\",\n",
    "    parameter_path=\"flow_sheet.inlet.c\",\n",
    "    state=[\n",
    "        [1000, 0, 0, 0],\n",
    "        [0, 0, 0, 0],\n",
    "        [0, 0, 0, 0],\n",
    "        [0, 0, 0, 0]\n",
    "    ],\n",
    "    time=90 + gradient_duration\n",
    ")\n",
    "\n",
    "process.check_config()"
   ]
  },
  {
   "cell_type": "markdown",
   "id": "fcb07566",
   "metadata": {
    "editable": true,
    "slideshow": {
     "slide_type": "fragment"
    }
   },
   "source": [
    "We need to start somewhere.\n",
    "\n",
    "What is the chromatographic experiment with the least parameters you can think of?"
   ]
  },
  {
   "cell_type": "markdown",
   "id": "55d57563",
   "metadata": {
    "editable": true,
    "slideshow": {
     "slide_type": "fragment"
    }
   },
   "source": [
    "The experiment we ususally start with is a simple tracer pulse injection onto a chromatographic column with a non-binding molecule.\n",
    "\n",
    "The only parameters that influence the elution are: `lrm.axial_dispersion` and `lrm.total_porosity`"
   ]
  },
  {
   "cell_type": "markdown",
   "id": "bc328020",
   "metadata": {
    "editable": true,
    "slideshow": {
     "slide_type": "slide"
    }
   },
   "source": [
    "Your colleagues from the lab have shared their lab measurement with you in `./experimental_data/tracer_1.xlsx`. We can use the `pandas` library to import and plot the data."
   ]
  },
  {
   "cell_type": "code",
   "execution_count": null,
   "id": "67ac2e2d",
   "metadata": {
    "editable": true,
    "slideshow": {
     "slide_type": ""
    },
    "tags": [
     "solution"
    ]
   },
   "outputs": [],
   "source": []
  },
  {
   "cell_type": "markdown",
   "id": "a1c150b4",
   "metadata": {
    "editable": true,
    "slideshow": {
     "slide_type": "slide"
    }
   },
   "source": [
    "## References\n",
    "\n",
    "To quantify the difference between simulation and reference, **CADET-Process** provides a `comparison` module.\n",
    "\n",
    "To properly work with **CADET-Process**, the experimental data needs to be converted to an internal standard.\n",
    "The `reference` module provides different classes for different types of experiments.\n",
    "For in- and outgoing streams of unit operations, the `ReferenceIO` class must be used."
   ]
  },
  {
   "cell_type": "code",
   "execution_count": null,
   "id": "11c5d913",
   "metadata": {
    "editable": true,
    "slideshow": {
     "slide_type": ""
    },
    "tags": [
     "solution"
    ]
   },
   "outputs": [],
   "source": []
  },
  {
   "cell_type": "markdown",
   "id": "3ddf8963",
   "metadata": {
    "editable": true,
    "slideshow": {
     "slide_type": "fragment"
    }
   },
   "source": [
    "Similarly to the `SolutionIO` class, the `ReferenceIO` class also provides a plot method:"
   ]
  },
  {
   "cell_type": "code",
   "execution_count": null,
   "id": "bfe4b533",
   "metadata": {
    "editable": true,
    "slideshow": {
     "slide_type": ""
    },
    "tags": [
     "solution"
    ]
   },
   "outputs": [],
   "source": []
  },
  {
   "cell_type": "markdown",
   "id": "678bf95a",
   "metadata": {
    "editable": true,
    "slideshow": {
     "slide_type": "slide"
    }
   },
   "source": [
    "## Comparator\n",
    "\n",
    "The `Comparator` class comparing the simulation output with experimental data. It provides several methods for visualizing and analyzing the differences between the data sets. Users can choose from a range of metrics to quantify the differences between the two data sets, such as sum squared errors or shape comparison."
   ]
  },
  {
   "cell_type": "code",
   "execution_count": null,
   "id": "790018bb",
   "metadata": {
    "editable": true,
    "slideshow": {
     "slide_type": ""
    },
    "tags": [
     "solution"
    ]
   },
   "outputs": [],
   "source": []
  },
  {
   "cell_type": "markdown",
   "id": "86b641eb",
   "metadata": {
    "editable": true,
    "slideshow": {
     "slide_type": "fragment"
    }
   },
   "source": [
    "```{note}\n",
    "It's also possible to add multiple references, e.g. for triplicate experiments or for different sensors.\n",
    "```"
   ]
  },
  {
   "cell_type": "markdown",
   "id": "f8b977e5",
   "metadata": {
    "editable": true,
    "slideshow": {
     "slide_type": "slide"
    }
   },
   "source": [
    "## Difference Metrics\n",
    "There are many metrics which can be used to quantify the difference between the simulation and the reference.\n",
    "Most commonly, the sum squared error (SSE) is used."
   ]
  },
  {
   "cell_type": "markdown",
   "id": "cb70200d",
   "metadata": {
    "editable": true,
    "slideshow": {
     "slide_type": "fragment"
    }
   },
   "source": [
    "However, SSE is often not an ideal measurement for chromatography.\n",
    "Because of experimental non-idealities like pump delays and fluctuations in flow rate there is a tendency for the peaks to shift in time.\n",
    "This causes the optimizer to favour peak position over peak shape and can lead for example to an overestimation of axial dispersion.\n",
    "\n",
    "In contrast, the peak shape is dictated by the physics of the physico-chemical interactions while the position can shift slightly due to systematic errors like pump delays.\n",
    "Hence, a metric which prioritizes the shape of the peaks being accurate over the peak eluting exactly at the correct time is preferable.\n",
    "For this purpose, **CADET-Process** offers a `Shape` metric."
   ]
  },
  {
   "cell_type": "markdown",
   "id": "f87edb52",
   "metadata": {
    "editable": true,
    "jupyterlab-deck": {
     "layer": "fragment"
    },
    "slideshow": {
     "slide_type": "fragment"
    }
   },
   "source": [
    "To add a difference metric, the following arguments need to be passed to the `add_difference_metric` method:\n",
    "- `difference_metric`: The type of the metric.\n",
    "- `reference`: The reference which should be used for the metric.\n",
    "- `solution_path`: The path to the corresponding solution in the simulation results."
   ]
  },
  {
   "cell_type": "code",
   "execution_count": null,
   "id": "743512ce",
   "metadata": {
    "editable": true,
    "slideshow": {
     "slide_type": ""
    },
    "tags": [
     "solution"
    ]
   },
   "outputs": [],
   "source": []
  },
  {
   "cell_type": "markdown",
   "id": "0df91a1c",
   "metadata": {
    "editable": true,
    "slideshow": {
     "slide_type": "slide"
    }
   },
   "source": [
    "## Reference Model\n",
    "\n",
    "Now, we need our prepared model to compare to the experimental data."
   ]
  },
  {
   "cell_type": "code",
   "execution_count": null,
   "id": "0ba2eaef",
   "metadata": {
    "editable": true,
    "slideshow": {
     "slide_type": ""
    }
   },
   "outputs": [],
   "source": [
    "from CADETProcess.simulator import Cadet\n",
    "\n",
    "simulator = Cadet()\n",
    "simulation_results = simulator.simulate(process)"
   ]
  },
  {
   "cell_type": "markdown",
   "id": "df3b8c27",
   "metadata": {
    "editable": true,
    "slideshow": {
     "slide_type": "fragment"
    }
   },
   "source": [
    "The difference can also be visualized:"
   ]
  },
  {
   "cell_type": "code",
   "execution_count": null,
   "id": "1c1ed922",
   "metadata": {
    "editable": true,
    "slideshow": {
     "slide_type": ""
    },
    "tags": [
     "solution"
    ]
   },
   "outputs": [],
   "source": []
  },
  {
   "cell_type": "markdown",
   "id": "10aa4690",
   "metadata": {
    "editable": true,
    "slideshow": {
     "slide_type": "slide"
    }
   },
   "source": [
    "And we can calculate the exact value of the difference:"
   ]
  },
  {
   "cell_type": "code",
   "execution_count": null,
   "id": "0e1c898b",
   "metadata": {
    "editable": true,
    "slideshow": {
     "slide_type": ""
    },
    "tags": [
     "solution"
    ]
   },
   "outputs": [],
   "source": []
  },
  {
   "cell_type": "markdown",
   "id": "84d2bb53",
   "metadata": {
    "editable": true,
    "slideshow": {
     "slide_type": "fragment"
    }
   },
   "source": [
    "The comparison shows that there is still a large discrepancy between simulation and experiment."
   ]
  },
  {
   "cell_type": "markdown",
   "id": "892b44ee",
   "metadata": {
    "editable": true,
    "slideshow": {
     "slide_type": "slide"
    }
   },
   "source": [
    "## Optimization\n",
    "To find the binding_strength with the best agreement between simulation and data, we can screen some porosities and compare them to our data:"
   ]
  },
  {
   "cell_type": "code",
   "execution_count": null,
   "id": "80d87c7c",
   "metadata": {
    "editable": true,
    "slideshow": {
     "slide_type": "fragment"
    }
   },
   "outputs": [],
   "source": [
    "import numpy as np\n",
    "scan_simulation_results = {}\n",
    "metrics = {}\n",
    "kas = np.linspace(1e-5, 1e-2, 21)\n",
    "for ka in kas:\n",
    "    process.flow_sheet.column.binding_model.adsorption_rate[1] = ka\n",
    "    simulation_results = simulator.simulate(process)\n",
    "    scan_simulation_results[ka] = simulation_results\n",
    "    metrics[ka] = comparator.evaluate(simulation_results)[0]"
   ]
  },
  {
   "cell_type": "code",
   "execution_count": null,
   "id": "791478a8",
   "metadata": {
    "editable": true,
    "slideshow": {
     "slide_type": ""
    }
   },
   "outputs": [],
   "source": [
    "%matplotlib ipympl\n",
    "from ipywidgets import interact, interactive\n",
    "import ipywidgets as widgets\n",
    "import matplotlib.pyplot as plt\n",
    "from scipy.interpolate import PchipInterpolator\n",
    "\n",
    "sim_res = scan_simulation_results[kas[0]]\n",
    "\n",
    "reference_interpolated = PchipInterpolator(reference.time, reference.solution[:, 1])(sim_res.time_complete)\n",
    "\n",
    "fig, (ax, ax_score) = plt.subplots(1,2, figsize=(15,10))\n",
    "\n",
    "\n",
    "ax_score.bar(kas, metrics.values(), color=\"red\", width=kas[1]-kas[0], alpha=0.6)\n",
    "vline = ax_score.axvline(x=1e-5, linestyle=\":\", color=\"grey\")\n",
    "ax_score.set_ylabel(\"SSE [-]\")\n",
    "ax_score.set_xlabel(\"porosity [-]\")\n",
    "plt.tight_layout()\n",
    "\n",
    "# Visualization\n",
    "def graph_column(porosity=1e-5):\n",
    "    ax.clear()\n",
    "    sim_res = scan_simulation_results[porosity]\n",
    "    ax.fill_between(sim_res.time_complete, reference_interpolated, sim_res.solution.outlet.outlet.solution_original[:, 1], color=\"red\", alpha=0.6)\n",
    "    line_sim = ax.plot(sim_res.time_complete, sim_res.solution.outlet.outlet.solution_original[:, 1])[0]\n",
    "    line_ref = ax.plot(reference.time, reference.solution[:, 1], \":\", color=\"black\")\n",
    "    vline.set_xdata([porosity, porosity])\n",
    "\n",
    "\n",
    "style = {'description_width': 'initial'}\n",
    "interact(graph_column, porosity=widgets.SelectionSlider(layout={'width': '800px'}, style=style, description='porosity', options = kas))"
   ]
  },
  {
   "cell_type": "code",
   "execution_count": null,
   "id": "18ebe112",
   "metadata": {
    "editable": true,
    "slideshow": {
     "slide_type": ""
    }
   },
   "outputs": [],
   "source": []
  },
  {
   "cell_type": "markdown",
   "id": "cb4da941",
   "metadata": {
    "editable": true,
    "slideshow": {
     "slide_type": "slide"
    }
   },
   "source": [
    "Instead of manually adjusting these parameters, an `OptimizationProblem` can be set up which automatically determines the parameter values.\n",
    "For this purpose, an `OptimimizationProblem` is defined and the process is added as an evaluation object."
   ]
  },
  {
   "cell_type": "code",
   "execution_count": null,
   "id": "25c19c65",
   "metadata": {
    "editable": true,
    "slideshow": {
     "slide_type": ""
    },
    "tags": [
     "solution"
    ]
   },
   "outputs": [],
   "source": []
  },
  {
   "cell_type": "markdown",
   "id": "7804c6a4",
   "metadata": {
    "editable": true,
    "slideshow": {
     "slide_type": "fragment"
    }
   },
   "source": [
    "Then, the optimization variables are added.\n",
    "Note, the parameter path associates the variable with the parameter of the corresponding column unit operation."
   ]
  },
  {
   "cell_type": "code",
   "execution_count": null,
   "id": "c6dd443f",
   "metadata": {
    "editable": true,
    "slideshow": {
     "slide_type": ""
    },
    "tags": [
     "solution"
    ]
   },
   "outputs": [],
   "source": []
  },
  {
   "cell_type": "markdown",
   "id": "d9b8a69a",
   "metadata": {
    "editable": true,
    "slideshow": {
     "slide_type": "slide"
    }
   },
   "source": [
    "Before the difference metrics, which we want to minimize, the `Process` needs to be simulated.\n",
    "For this purpose, register the `Cadet` simulator instance as an evaluator."
   ]
  },
  {
   "cell_type": "code",
   "execution_count": null,
   "id": "f5a3db8c",
   "metadata": {
    "editable": true,
    "slideshow": {
     "slide_type": ""
    },
    "tags": [
     "solution"
    ]
   },
   "outputs": [],
   "source": []
  },
  {
   "cell_type": "markdown",
   "id": "050b1a28",
   "metadata": {
    "editable": true,
    "slideshow": {
     "slide_type": "fragment"
    }
   },
   "source": [
    "Now, when adding the `Comparator` (which determines the difference metrics) as objective function, the simulator can be added to the `required` list.\n",
    "Note that the number of metrics needs to be passed as `n_objectives`."
   ]
  },
  {
   "cell_type": "code",
   "execution_count": null,
   "id": "41e2ba99",
   "metadata": {
    "editable": true,
    "slideshow": {
     "slide_type": ""
    },
    "tags": [
     "solution"
    ]
   },
   "outputs": [],
   "source": []
  },
  {
   "cell_type": "markdown",
   "id": "84ea9767",
   "metadata": {
    "editable": true,
    "slideshow": {
     "slide_type": "slide"
    }
   },
   "source": [
    "## Callbacks\n",
    "A `callback` function is a user function that is called periodically by the optimizer in order to allow the user to query the state of the optimization.\n",
    "For example, a simple user callback function might be used to plot results.\n",
    "The function is called after each iteration for all best individuals at that state."
   ]
  },
  {
   "cell_type": "markdown",
   "id": "10e77705",
   "metadata": {
    "editable": true,
    "slideshow": {
     "slide_type": "slide"
    }
   },
   "source": [
    "The callback signature may include any of the following arguments:\n",
    "- `results`: obj\n",
    "\n",
    "    x or final result of evaluation toolchain.\n",
    "- `individual`: {class}`Individual`, optional\n",
    "\n",
    "    Information about current step of optimzer.\n",
    "- `evaluation_object`: obj, optional\n",
    "\n",
    "    Current evaluation object.\n",
    "- `callbacks_dir`: Path, optional\n",
    "\n",
    "    Path to store results."
   ]
  },
  {
   "cell_type": "code",
   "execution_count": null,
   "id": "10bd0bd5",
   "metadata": {},
   "outputs": [],
   "source": [
    "from CADETProcess.optimization import U_NSGA3\n",
    "\n",
    "optimizer = U_NSGA3()\n",
    "optimizer.n_cores = 12\n",
    "optimizer.pop_size = 64\n",
    "optimizer.n_max_gen = 10"
   ]
  },
  {
   "cell_type": "code",
   "execution_count": null,
   "id": "3c198c88",
   "metadata": {
    "editable": true,
    "slideshow": {
     "slide_type": ""
    }
   },
   "outputs": [],
   "source": [
    "def callback(simulation_results, individual, evaluation_object, callbacks_dir='./'):\n",
    "    comparator.plot_comparison(\n",
    "        simulation_results,\n",
    "        file_name=f'{callbacks_dir}/{individual.id}_{evaluation_object}_comparison.png',\n",
    "        show=False\n",
    "    )\n",
    "\n",
    "optimization_problem.add_callback(callback, requires=[simulator])"
   ]
  },
  {
   "cell_type": "markdown",
   "id": "1bc806e3",
   "metadata": {
    "editable": true,
    "slideshow": {
     "slide_type": "slide"
    }
   },
   "source": [
    "## Optimizer\n",
    "\n",
    "A couple of optimizers are available in **CADET-Process**.\n",
    "Depending on the problem at hand, some optimizers might outperform others.\n",
    "Generally, `U_NSGA3`, a genetic algorithm, is a robust choice.\n",
    "While not necessarily the most efficient, it usually manages to handle complex problems with multiple dimensions, constraints, and objectives.\n",
    "Here, we limit the number of cores, the population size, as well as the maximum number of generations."
   ]
  },
  {
   "cell_type": "code",
   "execution_count": null,
   "id": "5450e728",
   "metadata": {
    "editable": true,
    "slideshow": {
     "slide_type": ""
    },
    "tags": [
     "solution"
    ]
   },
   "outputs": [],
   "source": []
  },
  {
   "cell_type": "code",
   "execution_count": null,
   "id": "8a64629b",
   "metadata": {
    "editable": true,
    "slideshow": {
     "slide_type": ""
    },
    "tags": [
     "solution"
    ]
   },
   "outputs": [],
   "source": []
  },
  {
   "cell_type": "code",
   "execution_count": null,
   "id": "6d60dfc2",
   "metadata": {
    "editable": true,
    "slideshow": {
     "slide_type": ""
    }
   },
   "outputs": [],
   "source": [
    "optimization_results = optimizer.optimize(optimization_problem)"
   ]
  },
  {
   "cell_type": "markdown",
   "id": "9e9dbf15",
   "metadata": {
    "editable": true,
    "slideshow": {
     "slide_type": "slide"
    }
   },
   "source": [
    "### Optimization Progress and Results\n",
    "\n",
    "The `OptimizationResults` which are returned contain information about the progress of the optimization.\n",
    "For example, the attributes `x` and `f` contain the final value(s) of parameters and the objective function."
   ]
  },
  {
   "cell_type": "code",
   "execution_count": null,
   "id": "b43c3f7f",
   "metadata": {
    "editable": true,
    "slideshow": {
     "slide_type": ""
    },
    "tags": [
     "solution"
    ]
   },
   "outputs": [],
   "source": []
  },
  {
   "cell_type": "markdown",
   "id": "650c6fd7",
   "metadata": {
    "editable": true,
    "slideshow": {
     "slide_type": "slide"
    }
   },
   "source": [
    "After optimization, several figures can be plotted to vizualize the results.\n",
    "For example, the convergence plot shows how the function value changes with the number of evaluations."
   ]
  },
  {
   "cell_type": "code",
   "execution_count": null,
   "id": "d2023a67",
   "metadata": {
    "editable": true,
    "slideshow": {
     "slide_type": ""
    },
    "tags": [
     "solution"
    ]
   },
   "outputs": [],
   "source": []
  },
  {
   "cell_type": "markdown",
   "id": "360de5ba",
   "metadata": {
    "editable": true,
    "slideshow": {
     "slide_type": "slide"
    }
   },
   "source": [
    "The `plot_objectives` method shows the objective function values of all evaluated individuals.\n",
    "Here, lighter color represent later evaluations.\n",
    "Note that by default the values are plotted on a log scale if they span many orders of magnitude.\n",
    "To disable this, set `autoscale=False`."
   ]
  },
  {
   "cell_type": "code",
   "execution_count": null,
   "id": "34dd99f1",
   "metadata": {
    "editable": true,
    "slideshow": {
     "slide_type": ""
    },
    "tags": [
     "solution"
    ]
   },
   "outputs": [],
   "source": []
  },
  {
   "cell_type": "markdown",
   "id": "131e3b16",
   "metadata": {
    "editable": true,
    "slideshow": {
     "slide_type": "slide"
    }
   },
   "source": [
    "Note that more figures are created for constrained optimization, as well as multi-objective optimization.\n",
    "All figures are also saved automatically in the `working_directory`.\n",
    "Moreover, results are stored in a `.csv` file.\n",
    "- The `results_all.csv` file contains information about all evaluated individuals.\n",
    "- The `results_last.csv` file contains information about the last generation of evaluated individuals.\n",
    "- The `results_pareto.csv` file contains only the best individual(s)."
   ]
  },
  {
   "cell_type": "markdown",
   "id": "e7154fc8",
   "metadata": {
    "editable": true,
    "slideshow": {
     "slide_type": "fragment"
    }
   },
   "source": [
    "We can also look at the callbacks that were generated."
   ]
  },
  {
   "cell_type": "code",
   "execution_count": null,
   "id": "19d694a3",
   "metadata": {
    "editable": true,
    "slideshow": {
     "slide_type": ""
    }
   },
   "outputs": [],
   "source": []
  },
  {
   "cell_type": "code",
   "execution_count": null,
   "id": "e76a95f0",
   "metadata": {
    "editable": true,
    "slideshow": {
     "slide_type": ""
    }
   },
   "outputs": [],
   "source": []
  },
  {
   "cell_type": "code",
   "execution_count": null,
   "id": "eaf3a7c4",
   "metadata": {},
   "outputs": [],
   "source": []
  },
  {
   "cell_type": "code",
   "execution_count": null,
   "id": "6e3bb090",
   "metadata": {},
   "outputs": [],
   "source": []
  },
  {
   "cell_type": "code",
   "execution_count": null,
   "id": "2e7ba773",
   "metadata": {},
   "outputs": [],
   "source": []
  },
  {
   "cell_type": "code",
   "execution_count": null,
   "id": "13ef2e67",
   "metadata": {},
   "outputs": [],
   "source": []
  }
 ],
 "metadata": {
  "jupytext": {
   "formats": "ipynb,md:myst"
  },
  "kernelspec": {
   "display_name": "Python 3 (ipykernel)",
   "language": "python",
   "name": "python3"
  }
 },
 "nbformat": 4,
 "nbformat_minor": 5
}
