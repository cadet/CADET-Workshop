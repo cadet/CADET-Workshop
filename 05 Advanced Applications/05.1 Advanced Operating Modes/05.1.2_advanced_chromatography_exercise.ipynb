{
 "cells": [
  {
   "cell_type": "markdown",
   "id": "fa6942d1",
   "metadata": {
    "slideshow": {
     "slide_type": "slide"
    }
   },
   "source": [
    "# Advanced Chromatographic Processes - Exercises\n",
    "\n",
    "\n",
    "## Exercise 1: Modelling dispersion of valves and tubing\n",
    "\n",
    "Take the example from the lesson and add tubing using a `TubularReactor` with $L_c = 0.5~m$, $A_c = 1 \\cdot 10^{-5}~m^2$, and $D_{ax} = 1 \\cdot 10^{-5}~m^2 \\cdot s^{-1}$.\n",
    "\n",
    "***Task:*** Plot the inlet and outlet of every unit operation and compare the results to a system without any considerations for valving and tubing."
   ]
  },
  {
   "cell_type": "code",
   "execution_count": null,
   "id": "a922cf9c",
   "metadata": {
    "tags": [
     "solution"
    ]
   },
   "outputs": [],
   "source": [
    "Q = 1e-6/60\n",
    "\n",
    "from CADETProcess.processModel import ComponentSystem\n",
    "from CADETProcess.processModel import Langmuir\n",
    "from CADETProcess.processModel import (\n",
    "    Inlet, Cstr, TubularReactor, LumpedRateModelWithPores, Outlet\n",
    ")\n",
    "from CADETProcess.processModel import FlowSheet\n",
    "from CADETProcess.processModel import Process\n",
    "\n",
    "# Component System\n",
    "component_system = ComponentSystem(['A', 'B'])\n",
    "\n",
    "# Binding Model\n",
    "binding_model = Langmuir(component_system, name='langmuir')\n",
    "binding_model.is_kinetic = False\n",
    "binding_model.adsorption_rate = [0.02, 0.03]\n",
    "binding_model.desorption_rate = [1, 1]\n",
    "binding_model.capacity = [100, 100]\n",
    "\n",
    "# Unit Operations\n",
    "feed = Inlet(component_system, name='feed')\n",
    "feed.c = [10, 10]\n",
    "\n",
    "eluent = Inlet(component_system, name='eluent')\n",
    "eluent.c = [0, 0]\n",
    "\n",
    "# Mixer\n",
    "valve = Cstr(component_system, 'valve')\n",
    "valve.V = 1e-6\n",
    "valve.flow_rate = Q\n",
    "\n",
    "# Tubing\n",
    "tubing = TubularReactor(component_system, 'tubing')\n",
    "tubing.length = 0.5\n",
    "tubing.cross_section_area = 1e-5\n",
    "tubing.axial_dispersion = 1e-5\n",
    "\n",
    "# Column\n",
    "column = LumpedRateModelWithPores(component_system, 'column')\n",
    "column.binding_model = binding_model\n",
    "column.length = 0.1\n",
    "column.diameter = 0.01\n",
    "column.bed_porosity = 0.37\n",
    "column.particle_radius = 4.5e-5\n",
    "column.particle_porosity = 0.33\n",
    "column.axial_dispersion = 2.0e-7\n",
    "column.film_diffusion = [1e-4, 1e-4]\n",
    "\n",
    "outlet = Outlet(component_system, name='outlet')\n",
    "\n",
    "# Flow Sheet\n",
    "flow_sheet = FlowSheet(component_system)\n",
    "\n",
    "flow_sheet.add_unit(feed)\n",
    "flow_sheet.add_unit(eluent)\n",
    "flow_sheet.add_unit(valve)\n",
    "flow_sheet.add_unit(tubing)\n",
    "flow_sheet.add_unit(column)\n",
    "flow_sheet.add_unit(outlet)\n",
    "\n",
    "flow_sheet.add_connection(feed, valve)\n",
    "flow_sheet.add_connection(eluent, valve)\n",
    "flow_sheet.add_connection(valve, tubing)\n",
    "flow_sheet.add_connection(tubing, column)\n",
    "flow_sheet.add_connection(column, outlet)\n",
    "\n",
    "# Process\n",
    "process = Process(flow_sheet, 'batch elution')\n",
    "\n",
    "## Create Events and Durations\n",
    "process.add_event('feed_on', 'flow_sheet.feed.flow_rate', Q, 0)\n",
    "process.add_event('feed_off', 'flow_sheet.feed.flow_rate', 0.0, 60)\n",
    "\n",
    "process.add_event('eluent_off', 'flow_sheet.eluent.flow_rate', 0.0, 0)\n",
    "process.add_event('eluent_on', 'flow_sheet.eluent.flow_rate', Q, 60)\n",
    "\n",
    "## Set Process Times\n",
    "process.cycle_time = 1200"
   ]
  },
  {
   "cell_type": "code",
   "execution_count": null,
   "id": "bb9e4b18",
   "metadata": {
    "tags": [
     "solution"
    ]
   },
   "outputs": [],
   "source": [
    "from CADETProcess.simulator import Cadet\n",
    "process_simulator = Cadet()\n",
    "\n",
    "simulation_results = process_simulator.simulate(process)\n",
    "_ = simulation_results.solution.column.inlet.plot()\n",
    "_ = simulation_results.solution.column.outlet.plot()"
   ]
  },
  {
   "cell_type": "markdown",
   "id": "d59ef8f1",
   "metadata": {
    "slideshow": {
     "slide_type": "slide"
    }
   },
   "source": [
    "## Example 2: Carousel System\n",
    "\n",
    "Consider the following multi column system:\n",
    "\n",
    "```{figure} ./resources/carousel.png\n",
    ":width: 50%\n",
    ":align: center\n",
    "```\n",
    "There exist four zones in this system:\n",
    "- Wash: 3 columns in series\n",
    "- Feed: 3 columns in parallel\n",
    "- Dilute: 2 columns in series; reverse flow\n",
    "- Elute: 2 Columns in series"
   ]
  },
  {
   "cell_type": "code",
   "execution_count": null,
   "id": "9bd0c60e",
   "metadata": {
    "tags": [
     "solution"
    ]
   },
   "outputs": [],
   "source": [
    "from CADETProcess.processModel import Inlet, Outlet\n",
    "i_wash = Inlet(component_system, name='i_wash')\n",
    "i_wash.c = [0, 0]\n",
    "i_wash.flow_rate = 60/60/1e6\n",
    "i_feed = Inlet(component_system, name='i_feed')\n",
    "i_feed.c = [10, 10]\n",
    "i_feed.flow_rate = 30/60/1e6\n",
    "i_elute = Inlet(component_system, name='i_elute')\n",
    "i_elute.c = [0, 0]\n",
    "i_elute.flow_rate = 60/60/1e6\n",
    "\n",
    "o_waste = Outlet(component_system, name='o_waste')\n",
    "o_product = Outlet(component_system, name='o_product')"
   ]
  },
  {
   "cell_type": "markdown",
   "id": "9f1c4b7b",
   "metadata": {
    "slideshow": {
     "slide_type": "slide"
    }
   },
   "source": [
    "Now the zones are set up and the reverse flow is set in the dilution zone."
   ]
  },
  {
   "cell_type": "code",
   "execution_count": null,
   "id": "e0ffb2d6",
   "metadata": {
    "tags": [
     "solution"
    ]
   },
   "outputs": [],
   "source": [
    "from CADETProcess.modelBuilder import SerialZone, ParallelZone\n",
    "\n",
    "z_wash = SerialZone(component_system, 'z_wash', 3)\n",
    "z_feed = ParallelZone(component_system, 'z_feed', 3)\n",
    "z_dilute = SerialZone(component_system, 'z_dilute', 2, flow_direction=-1)\n",
    "z_elute = SerialZone(component_system, 'z_elute', 2)"
   ]
  },
  {
   "cell_type": "markdown",
   "id": "a7e13007",
   "metadata": {
    "slideshow": {
     "slide_type": "slide"
    }
   },
   "source": [
    "As in the previous example, the units and zones are added and connected in the CarouselBuilder"
   ]
  },
  {
   "cell_type": "code",
   "execution_count": null,
   "id": "d858548b",
   "metadata": {
    "tags": [
     "solution"
    ]
   },
   "outputs": [],
   "source": [
    "from CADETProcess.modelBuilder import CarouselBuilder\n",
    "\n",
    "builder = CarouselBuilder(component_system, 'multi_zone')\n",
    "builder.column = column\n",
    "builder.add_unit(i_wash)\n",
    "builder.add_unit(i_feed)\n",
    "builder.add_unit(i_elute)\n",
    "\n",
    "builder.add_unit(o_waste)\n",
    "builder.add_unit(o_product)\n",
    "\n",
    "builder.add_unit(z_wash)\n",
    "builder.add_unit(z_feed)\n",
    "builder.add_unit(z_dilute)\n",
    "builder.add_unit(z_elute)\n",
    "\n",
    "builder.add_connection(i_wash, z_wash)\n",
    "builder.add_connection(z_wash, z_dilute)\n",
    "builder.add_connection(i_feed, z_feed)\n",
    "builder.add_connection(z_feed, z_dilute)\n",
    "builder.add_connection(z_dilute, o_waste)\n",
    "builder.add_connection(z_dilute, z_elute)\n",
    "builder.set_output_state(z_dilute, [0.5, 0.5])\n",
    "builder.add_connection(i_elute, z_elute)\n",
    "builder.add_connection(z_elute, o_product)"
   ]
  }
 ],
 "metadata": {
  "jupytext": {
   "formats": "ipynb,md:myst"
  },
  "kernelspec": {
   "display_name": "Python 3 (ipykernel)",
   "language": "python",
   "name": "python3"
  }
 },
 "nbformat": 4,
 "nbformat_minor": 5
}
