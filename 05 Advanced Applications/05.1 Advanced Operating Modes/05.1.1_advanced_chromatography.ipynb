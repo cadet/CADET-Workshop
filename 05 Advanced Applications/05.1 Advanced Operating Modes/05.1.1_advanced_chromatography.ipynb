{
 "cells": [
  {
   "cell_type": "markdown",
   "id": "7c5ec6b9",
   "metadata": {},
   "source": [
    "# Advanced Chromatographic Processes\n",
    "\n",
    "In this lesson we will learn how to create more complex models with binding, multiple components, and multiple unit operations"
   ]
  },
  {
   "cell_type": "markdown",
   "id": "e3e79722",
   "metadata": {
    "slideshow": {
     "slide_type": "slide"
    }
   },
   "source": [
    "## Example 1: Modelling dispersion of valves and tubing\n",
    "\n",
    "A real system does not have an inlet connected directly to the column which connects directly to the outlet.\n",
    "Real systems have tubes and mixing valves.\n",
    "If they are not accounted for, the pulse that arrives at the column inlet will be far too sharp.\n",
    "Moreover, the measured output signal from your column will be appear more diffuse than the real column outlet, because it will have spent time in tubing between the outlet and the detector."
   ]
  },
  {
   "cell_type": "markdown",
   "id": "831b9ae2",
   "metadata": {
    "slideshow": {
     "slide_type": "fragment"
    }
   },
   "source": [
    "We can model this, by introducing additional unit operations that can account for the time shift and dispersion that is introduced by the periphery of the column.\n",
    "For this example, we will model the mixer at the inlet using a `Cstr`."
   ]
  },
  {
   "cell_type": "markdown",
   "id": "71874ac4",
   "metadata": {
    "slideshow": {
     "slide_type": "fragment"
    }
   },
   "source": [
    "Moreover, in this example we will use two `Inlets` and modify `flow_rate` to create the inlet profile.\n",
    "\n",
    "```{figure} ./resources/valve_mixer.png\n",
    ":width: 50%\n",
    ":align: center\n",
    "```"
   ]
  },
  {
   "cell_type": "markdown",
   "id": "9df8fda4",
   "metadata": {
    "slideshow": {
     "slide_type": "slide"
    }
   },
   "source": [
    "For the column, assume the following parameters which are usually provided by the manufacturer (or can be measured):\n",
    "- length: $0.1~m$\n",
    "- diameter: $0.01~m$\n",
    "- bed porosity: $0.37$\n",
    "- particle radius: $4.5 \\cdot 10^{-5}~m$\n",
    "- particle porosity: $0.33$\n",
    "- axial dispersion: $2.0 \\cdot 10^{-7}~m^2 \\cdot s^{-1}$"
   ]
  },
  {
   "cell_type": "markdown",
   "id": "6b99334a",
   "metadata": {
    "slideshow": {
     "slide_type": "fragment"
    }
   },
   "source": [
    "For the Langmuir isotherm, use the following parameters:\n",
    "- adsorption rate: $[0.02, 0.03]~m^3 mol^{-1} s^{-1}$\n",
    "- desorption rate: $[1, 1]~s^{-1}$\n",
    "- binding capacity: $[100, 100]~mM$"
   ]
  },
  {
   "cell_type": "markdown",
   "id": "e80947a3",
   "metadata": {
    "slideshow": {
     "slide_type": "fragment"
    }
   },
   "source": [
    "For the tank, assume a volume of $1 mL$.\n",
    "\n",
    "Moreover, consider a flow rate of $1~mL/min$, a feed concentration of $10~mM$, and a feed duration of $60~s$."
   ]
  },
  {
   "cell_type": "code",
   "execution_count": null,
   "id": "65abe4fb",
   "metadata": {
    "tags": [
     "solution"
    ]
   },
   "outputs": [],
   "source": []
  },
  {
   "cell_type": "markdown",
   "id": "7ccbaa02",
   "metadata": {
    "slideshow": {
     "slide_type": "slide"
    }
   },
   "source": [
    "Now simulate and plot the results."
   ]
  },
  {
   "cell_type": "code",
   "execution_count": null,
   "id": "a007aaea",
   "metadata": {
    "tags": [
     "solution"
    ]
   },
   "outputs": [],
   "source": []
  },
  {
   "cell_type": "markdown",
   "id": "ebd771bc",
   "metadata": {
    "slideshow": {
     "slide_type": "slide"
    }
   },
   "source": [
    "## Simulated Moving Bed (Cyclic Systems)\n",
    "\n",
    "For many applications, the use of multiple columns can improve process performance when compared with conventional batch elution processes.\n",
    "Next to the well known simulated moving bed (SMB) many other operating modes exist which extend the use of multiple columns, e.g. Varicol, or PowerFeed processes and gradient operations."
   ]
  },
  {
   "cell_type": "markdown",
   "id": "259983a1",
   "metadata": {
    "slideshow": {
     "slide_type": "fragment"
    }
   },
   "source": [
    "In all of the aforementioned processes, multiple chromatographic columns are mounted to a rotating column carousel and a central multiport switching valve distributes in- and outgoing streams to and from the columns. After a given time, the column positions are moved to the next position in the carousel. In this process, the columns pass through different zones which serve different purposes."
   ]
  },
  {
   "cell_type": "markdown",
   "id": "1aba23e9",
   "metadata": {
    "slideshow": {
     "slide_type": "slide"
    }
   },
   "source": [
    "For example, in a classical SMB, four zones are present (see Figure below)\n",
    "\n",
    "- Zone I: Elution of the strongly adsorbing component\n",
    "- Zone II: Elution of the weakly adsorbing component\n",
    "- Zone III: Adsorption of the strongly adsorbing component\n",
    "- Zone IV : Adsorption of the weakly adsorbing component\n",
    "\n",
    "```{figure} ./resources/smb.png\n",
    ":width: 50%\n",
    ":align: center\n",
    "```"
   ]
  },
  {
   "cell_type": "markdown",
   "id": "2cc806ea",
   "metadata": {
    "slideshow": {
     "slide_type": "fragment"
    }
   },
   "source": [
    "Moreover, four in- and outlets are connected to the zones:\n",
    "- Feed: Inlet containing the components to be separated\n",
    "- Eluent: Inlet with elution buffer\n",
    "- Extract: Outlet containing the strongly adsorbing component\n",
    "- Raffinate: Outlet containing the weakly adsorbing component\n",
    "\n",
    "To facilitate the configuration of complex SMB, carousel, or other multi column systems systems, a CarouselBuilder was implemented in CADET-Process.\n",
    "It allows a straight-forward configuration of the zones and returns a fully configured Process object including all internal connections, as well as switching events."
   ]
  },
  {
   "cell_type": "markdown",
   "id": "15b88a6d",
   "metadata": {
    "slideshow": {
     "slide_type": "slide"
    }
   },
   "source": [
    "Before configuring the zones, the binding and column models are configured.\n",
    "The column is later used as a template for all columns in the system."
   ]
  },
  {
   "cell_type": "code",
   "execution_count": null,
   "id": "99d08008",
   "metadata": {
    "tags": [
     "solution"
    ]
   },
   "outputs": [],
   "source": []
  },
  {
   "cell_type": "markdown",
   "id": "4e9edbb9",
   "metadata": {
    "slideshow": {
     "slide_type": "slide"
    }
   },
   "source": [
    "Now, the inlets and outlets of the system are configured:"
   ]
  },
  {
   "cell_type": "code",
   "execution_count": null,
   "id": "e0f41ca7",
   "metadata": {
    "tags": [
     "solution"
    ]
   },
   "outputs": [],
   "source": []
  },
  {
   "cell_type": "markdown",
   "id": "9baf9924",
   "metadata": {
    "slideshow": {
     "slide_type": "slide"
    }
   },
   "source": [
    "To allow more complicated systems, CADET-Process provides two options for configuring zones, a SerialZone and a ParallelZone.\n",
    "For both, the number of columns in the zone needs to be specified.\n",
    "Since here all the zones only consist of one column, either can be used."
   ]
  },
  {
   "cell_type": "code",
   "execution_count": null,
   "id": "4ca405a5",
   "metadata": {
    "tags": [
     "solution"
    ]
   },
   "outputs": [],
   "source": []
  },
  {
   "cell_type": "markdown",
   "id": "79459b5d",
   "metadata": {
    "slideshow": {
     "slide_type": "slide"
    }
   },
   "source": [
    "The CarouselBuilder can now be used like a regular FlowSheet where the zones are conceptually used like other UnitOperations.\n",
    "After initializing the CarouselBuilder, the column template is assigned and all units and zones are added."
   ]
  },
  {
   "cell_type": "code",
   "execution_count": null,
   "id": "2553e898",
   "metadata": {
    "tags": [
     "solution"
    ]
   },
   "outputs": [],
   "source": []
  },
  {
   "cell_type": "markdown",
   "id": "404abbcc",
   "metadata": {
    "slideshow": {
     "slide_type": "slide"
    }
   },
   "source": [
    "Now, the connections are added to the builder.\n",
    "To define split streams, the output_state is used which sets the ratio between outgoing streams of a unit operation in the flow sheet."
   ]
  },
  {
   "cell_type": "code",
   "execution_count": null,
   "id": "87d6fb26",
   "metadata": {
    "tags": [
     "solution"
    ]
   },
   "outputs": [],
   "source": []
  },
  {
   "cell_type": "markdown",
   "id": "0cd6f54a",
   "metadata": {
    "slideshow": {
     "slide_type": "slide"
    }
   },
   "source": [
    "Now, the switch time is assigned to the builder which determines after how much time a column is switched to the next position.\n",
    "By calling the build_process() method, a regular Process object is constructed which can be simulated just as usual using CADET.\n",
    "It contains the assembled flow sheet with all columns, as well as the events required for simulation."
   ]
  },
  {
   "cell_type": "code",
   "execution_count": null,
   "id": "0429809a",
   "metadata": {
    "tags": [
     "solution"
    ]
   },
   "outputs": [],
   "source": []
  },
  {
   "cell_type": "markdown",
   "id": "7d7559b8",
   "metadata": {
    "slideshow": {
     "slide_type": "slide"
    }
   },
   "source": [
    "Since multi column systems often exhibit a transient startup behavior, it might be useful to simulate multiple cycles until cyclic stationarity is reached (see Cyclic Stationarity).\n",
    "Because this simulation is computationally expensive, only a few simulations are run here.\n",
    "Please run this simulation locally to see the full results."
   ]
  },
  {
   "cell_type": "code",
   "execution_count": null,
   "id": "07054a52",
   "metadata": {
    "tags": [
     "solution"
    ]
   },
   "outputs": [],
   "source": []
  },
  {
   "cell_type": "markdown",
   "id": "a081c6ea",
   "metadata": {
    "slideshow": {
     "slide_type": "slide"
    }
   },
   "source": [
    "The results can now be plotted.\n",
    "For example, this is how the concentration profiles of the raffinate and extract outlets are plotted:"
   ]
  },
  {
   "cell_type": "code",
   "execution_count": null,
   "id": "121fe74c",
   "metadata": {
    "tags": [
     "solution"
    ]
   },
   "outputs": [],
   "source": []
  }
 ],
 "metadata": {
  "jupytext": {
   "formats": "ipynb,md:myst"
  },
  "kernelspec": {
   "display_name": "Python 3 (ipykernel)",
   "language": "python",
   "name": "python3"
  }
 },
 "nbformat": 4,
 "nbformat_minor": 5
}
