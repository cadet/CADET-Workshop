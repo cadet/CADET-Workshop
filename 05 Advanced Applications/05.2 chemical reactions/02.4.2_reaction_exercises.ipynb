{
 "cells": [
  {
   "cell_type": "markdown",
   "id": "3ebd38c3",
   "metadata": {
    "editable": true,
    "slideshow": {
     "slide_type": ""
    }
   },
   "source": [
    "# Lesson 3: Exercises\n",
    "\n",
    "\n",
    "## Exercise 1: Equilibrium reaction with intermediate state\n",
    "\n",
    "We will consider again consider a batch reaction in a `CSTR` but this time, we will also account for an intermediate state:"
   ]
  },
  {
   "cell_type": "code",
   "execution_count": null,
   "id": "2ffdae01",
   "metadata": {
    "editable": true,
    "jupyter": {
     "source_hidden": true
    },
    "slideshow": {
     "slide_type": ""
    }
   },
   "outputs": [],
   "source": [
    "from IPython.display import display, Math, Latex\n",
    "display(Math(r'\\ce{A <=>[k_{AB}][k_{BA}] B <=>[k_{BC}][k_{CB}] C}'))"
   ]
  },
  {
   "cell_type": "markdown",
   "id": "3f9f9135",
   "metadata": {
    "editable": true,
    "slideshow": {
     "slide_type": ""
    }
   },
   "source": [
    "***Task:*** Implement the reaction and plot the results. Assume the following values for the rate constants:\n",
    "- $k_{AB} = 0.080~s^{-1}$\n",
    "- $k_{BA} = 0.0~s^{-1}$\n",
    "- $k_{BC} = 0.060~s^{-1}$\n",
    "- $k_{CB} = 0.0~s^{-1}$\n",
    "-"
   ]
  },
  {
   "cell_type": "code",
   "execution_count": null,
   "id": "dfdb46b0",
   "metadata": {
    "editable": true,
    "slideshow": {
     "slide_type": ""
    },
    "tags": [
     "solution"
    ]
   },
   "outputs": [],
   "source": []
  },
  {
   "cell_type": "code",
   "execution_count": null,
   "id": "edb43513",
   "metadata": {
    "editable": true,
    "slideshow": {
     "slide_type": ""
    },
    "tags": [
     "solution"
    ]
   },
   "outputs": [],
   "source": []
  },
  {
   "cell_type": "code",
   "execution_count": null,
   "id": "33e51aa5",
   "metadata": {
    "editable": true,
    "slideshow": {
     "slide_type": ""
    },
    "tags": [
     "solution"
    ]
   },
   "outputs": [],
   "source": []
  },
  {
   "cell_type": "code",
   "execution_count": null,
   "id": "0b86b3c7",
   "metadata": {
    "editable": true,
    "slideshow": {
     "slide_type": ""
    },
    "tags": [
     "solution"
    ]
   },
   "outputs": [],
   "source": []
  },
  {
   "cell_type": "code",
   "execution_count": null,
   "id": "b44cd6ad",
   "metadata": {
    "editable": true,
    "slideshow": {
     "slide_type": ""
    },
    "tags": [
     "solution"
    ]
   },
   "outputs": [],
   "source": []
  },
  {
   "cell_type": "markdown",
   "id": "ea5f78f9",
   "metadata": {
    "editable": true,
    "slideshow": {
     "slide_type": "slide"
    }
   },
   "source": [
    "## Exercise 2: Equilibrium reaction with intermediate state in tubular reactor\n",
    "***Task:*** Implement the reaction in a tubular reactor and plot the results at the outlet, as well as over the length of the column for the last timestep.\n",
    "\n",
    "Consider again the reaction parameters from Exercise 1.\n",
    "For the `TubularReactor` use the following parameters:\n",
    "- length: 1 m\n",
    "- diameter: 10 cm\n",
    "- axial_dispersio: 1e-7\n",
    "- flow rate: 1e-4 m³/s\n",
    "\n",
    "\n",
    "\n",
    "\n",
    "***Hint:*** To plot the bulk solution, make sure that you set the `write_solution_bulk` flag in the `TubularReactor`."
   ]
  },
  {
   "cell_type": "code",
   "execution_count": null,
   "id": "d1a2fbad",
   "metadata": {
    "tags": [
     "solution"
    ]
   },
   "outputs": [],
   "source": []
  },
  {
   "cell_type": "code",
   "execution_count": null,
   "id": "b1005e29",
   "metadata": {
    "editable": true,
    "slideshow": {
     "slide_type": ""
    },
    "tags": [
     "solution"
    ]
   },
   "outputs": [],
   "source": []
  },
  {
   "cell_type": "code",
   "execution_count": null,
   "id": "9ad9cbe9",
   "metadata": {
    "editable": true,
    "slideshow": {
     "slide_type": ""
    },
    "tags": [
     "solution"
    ]
   },
   "outputs": [],
   "source": []
  },
  {
   "cell_type": "code",
   "execution_count": null,
   "id": "14e78c2d",
   "metadata": {
    "tags": [
     "solution"
    ]
   },
   "outputs": [],
   "source": []
  },
  {
   "cell_type": "code",
   "execution_count": null,
   "id": "ef95eeb7",
   "metadata": {
    "tags": [
     "solution"
    ]
   },
   "outputs": [],
   "source": []
  },
  {
   "cell_type": "markdown",
   "id": "16f03545",
   "metadata": {
    "slideshow": {
     "slide_type": "slide"
    }
   },
   "source": [
    "## Bonus Exercise\n",
    "\n",
    "Try implementing other reaction systems such as:"
   ]
  },
  {
   "cell_type": "code",
   "execution_count": null,
   "id": "c64135e3",
   "metadata": {
    "tags": [
     "solution"
    ]
   },
   "outputs": [],
   "source": []
  },
  {
   "cell_type": "code",
   "execution_count": null,
   "id": "1ff29bab",
   "metadata": {
    "editable": true,
    "slideshow": {
     "slide_type": ""
    }
   },
   "outputs": [],
   "source": []
  }
 ],
 "metadata": {
  "jupytext": {
   "formats": "ipynb,md:myst"
  },
  "kernelspec": {
   "display_name": "Python 3 (ipykernel)",
   "language": "python",
   "name": "python3"
  }
 },
 "nbformat": 4,
 "nbformat_minor": 5
}
