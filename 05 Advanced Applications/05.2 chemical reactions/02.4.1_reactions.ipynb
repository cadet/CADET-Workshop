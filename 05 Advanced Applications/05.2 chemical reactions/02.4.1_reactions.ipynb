{
 "cells": [
  {
   "cell_type": "markdown",
   "id": "8ba16334",
   "metadata": {
    "editable": true,
    "slideshow": {
     "slide_type": ""
    }
   },
   "source": [
    "# Chemical Reactions\n",
    "\n",
    "Since version 4, it is possible to model chemical reactions with CADET using mass action law type reactions (see [Reaction models](https://cadet.github.io/master/modelling/reactions.html#reaction-models)).\n",
    "The mass action law states that the speed of a reaction is proportional to the product of the concentrations of their reactants.\n",
    "\n",
    "In CADET-Process, a reaction module was implemented to facilitate the setup of these reactions.\n",
    "There are two different classes: the `MassActionLaw` which is used for bulk phase reactions, as well as `MassActionLawParticle` which is specifically designed to model reactions in particle pore phase.\n",
    "\n",
    "In this tutorial, we're going to learn how to setup:\n",
    "- Forward Reactions\n",
    "- Equilibrium Reactions"
   ]
  },
  {
   "cell_type": "markdown",
   "id": "8cd5ad96",
   "metadata": {
    "slideshow": {
     "slide_type": "slide"
    }
   },
   "source": [
    "## Forward Reactions\n",
    "As a simple example, consider the following system:"
   ]
  },
  {
   "cell_type": "code",
   "execution_count": null,
   "id": "4ee66752",
   "metadata": {
    "editable": true,
    "slideshow": {
     "slide_type": ""
    }
   },
   "outputs": [],
   "source": [
    "from IPython.display import display, Math, Latex\n",
    "display(Math(r'\\ce{1 A ->[k_{AB}] 1 B}'))"
   ]
  },
  {
   "cell_type": "markdown",
   "id": "16f91dfc",
   "metadata": {
    "editable": true,
    "slideshow": {
     "slide_type": ""
    }
   },
   "source": [
    "First, initiate a `ComponentSystem` with components `A` and `B`."
   ]
  },
  {
   "cell_type": "code",
   "execution_count": null,
   "id": "5be4ac22",
   "metadata": {
    "editable": true,
    "slideshow": {
     "slide_type": ""
    },
    "tags": [
     "solution"
    ]
   },
   "outputs": [],
   "source": []
  },
  {
   "cell_type": "markdown",
   "id": "06d4db75",
   "metadata": {
    "slideshow": {
     "slide_type": "slide"
    }
   },
   "source": [
    "Then, configure the `MassActionLaw` reaction model.\n",
    "To instantiate it, pass the `ComponentSystem`.\n",
    "Then, add the reaction using the `add_reaction` method.\n",
    "The following arguments are expected:\n",
    "- indices: The indices of the components that take part in the reaction (useful for bigger systems)\n",
    "- stoichiometric coefficients in the order of the indices\n",
    "- forward reaction rate\n",
    "- backward reaction rate"
   ]
  },
  {
   "cell_type": "code",
   "execution_count": null,
   "id": "7cfd458a",
   "metadata": {
    "editable": true,
    "slideshow": {
     "slide_type": ""
    },
    "tags": [
     "solution"
    ]
   },
   "outputs": [],
   "source": []
  },
  {
   "cell_type": "markdown",
   "id": "70fab0e6",
   "metadata": {
    "slideshow": {
     "slide_type": "slide"
    }
   },
   "source": [
    "To demonstrate this reaction, a `Cstr` is instantiated and the reaction is added to the tank.\n",
    "Moreover, the initial conditions are set.\n",
    "In principle, the `Cstr` supports reactions in bulk and particle pore phase.\n",
    "Since the porosity is $1$ by default, only the bulk phase is considered."
   ]
  },
  {
   "cell_type": "code",
   "execution_count": null,
   "id": "14f94c6f",
   "metadata": {
    "editable": true,
    "slideshow": {
     "slide_type": ""
    },
    "tags": [
     "solution"
    ]
   },
   "outputs": [],
   "source": []
  },
  {
   "cell_type": "markdown",
   "id": "b4424207",
   "metadata": {
    "editable": true,
    "slideshow": {
     "slide_type": "slide"
    }
   },
   "source": [
    "Now, the reactor is added to a `FlowSheet` and a `Process` is set up.\n",
    "Here, the `FlowSheet` only consists of a single `Cstr`, and there are no `Events` in the process."
   ]
  },
  {
   "cell_type": "code",
   "execution_count": null,
   "id": "2def5cb6",
   "metadata": {
    "editable": true,
    "slideshow": {
     "slide_type": ""
    },
    "tags": [
     "solution"
    ]
   },
   "outputs": [],
   "source": []
  },
  {
   "cell_type": "markdown",
   "id": "b7d6cf4b",
   "metadata": {
    "editable": true,
    "slideshow": {
     "slide_type": "slide"
    }
   },
   "source": [
    "After simulation, the results can be plotted:"
   ]
  },
  {
   "cell_type": "code",
   "execution_count": null,
   "id": "600fab16",
   "metadata": {
    "editable": true,
    "slideshow": {
     "slide_type": ""
    },
    "tags": [
     "solution"
    ]
   },
   "outputs": [],
   "source": []
  },
  {
   "cell_type": "markdown",
   "id": "5502270d",
   "metadata": {
    "editable": true,
    "slideshow": {
     "slide_type": "slide"
    }
   },
   "source": [
    "## Equilibrium Reactions\n",
    "It is also possible to consider equilibrium reactions where the product can react back to the educts."
   ]
  },
  {
   "cell_type": "code",
   "execution_count": null,
   "id": "4eb74fda",
   "metadata": {
    "editable": true,
    "slideshow": {
     "slide_type": ""
    }
   },
   "outputs": [],
   "source": [
    "display(Math(r'\\ce{ 2 A <=>[k_{AB}][k_{BA}] B}'))"
   ]
  },
  {
   "cell_type": "markdown",
   "id": "9e6aa414",
   "metadata": {
    "editable": true,
    "slideshow": {
     "slide_type": "slide"
    }
   },
   "source": [
    "Here, the same units, flow sheet, and process are reused which were defined above."
   ]
  },
  {
   "cell_type": "code",
   "execution_count": null,
   "id": "70d83536",
   "metadata": {
    "editable": true,
    "slideshow": {
     "slide_type": ""
    },
    "tags": [
     "solution"
    ]
   },
   "outputs": [],
   "source": []
  },
  {
   "cell_type": "markdown",
   "id": "bac692a2",
   "metadata": {
    "editable": true,
    "slideshow": {
     "slide_type": "slide"
    }
   },
   "source": [
    "After simulation, the results can be plotted:"
   ]
  },
  {
   "cell_type": "code",
   "execution_count": null,
   "id": "9eec91be",
   "metadata": {
    "editable": true,
    "slideshow": {
     "slide_type": ""
    },
    "tags": [
     "solution"
    ]
   },
   "outputs": [],
   "source": []
  },
  {
   "cell_type": "code",
   "execution_count": null,
   "id": "3dc5b69d",
   "metadata": {
    "editable": true,
    "slideshow": {
     "slide_type": ""
    }
   },
   "outputs": [],
   "source": []
  }
 ],
 "metadata": {
  "jupytext": {
   "formats": "ipynb,md:myst"
  },
  "kernelspec": {
   "display_name": "Python 3 (ipykernel)",
   "language": "python",
   "name": "python3"
  }
 },
 "nbformat": 4,
 "nbformat_minor": 5
}
