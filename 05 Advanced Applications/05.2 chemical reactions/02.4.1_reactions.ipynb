{
 "cells": [
  {
   "cell_type": "markdown",
   "id": "5931f227",
   "metadata": {
    "editable": true,
    "slideshow": {
     "slide_type": ""
    }
   },
   "source": [
    "# Chemical Reactions\n",
    "\n",
    "Since version 4, it is possible to model chemical reactions with CADET using mass action law type reactions (see [Reaction models](https://cadet.github.io/master/modelling/reactions.html#reaction-models)).\n",
    "The mass action law states that the speed of a reaction is proportional to the product of the concentrations of their reactants.\n",
    "\n",
    "In CADET-Process, a reaction module was implemented to facilitate the setup of these reactions.\n",
    "There are two different classes: the `MassActionLaw` which is used for bulk phase reactions, as well as `MassActionLawParticle` which is specifically designed to model reactions in particle pore phase.\n",
    "\n",
    "In this tutorial, we're going to learn how to setup:\n",
    "- Forward Reactions\n",
    "- Equilibrium Reactions"
   ]
  },
  {
   "cell_type": "markdown",
   "id": "d3ef4b7e",
   "metadata": {
    "slideshow": {
     "slide_type": "slide"
    }
   },
   "source": [
    "## Forward Reactions\n",
    "As a simple example, consider the following system:"
   ]
  },
  {
   "cell_type": "code",
   "execution_count": null,
   "id": "adaf1a27",
   "metadata": {
    "editable": true,
    "slideshow": {
     "slide_type": ""
    }
   },
   "outputs": [],
   "source": [
    "from IPython.display import display, Math, Latex\n",
    "display(Math(r'\\ce{1 A ->[k_{AB}] 1 B}'))"
   ]
  },
  {
   "cell_type": "markdown",
   "id": "b184af67",
   "metadata": {
    "editable": true,
    "slideshow": {
     "slide_type": ""
    }
   },
   "source": [
    "First, initiate a `ComponentSystem` with components `A` and `B`."
   ]
  },
  {
   "cell_type": "code",
   "execution_count": null,
   "id": "3eead1aa",
   "metadata": {
    "editable": true,
    "slideshow": {
     "slide_type": ""
    },
    "tags": [
     "solution"
    ]
   },
   "outputs": [],
   "source": [
    "from CADETProcess.processModel import ComponentSystem\n",
    "component_system = ComponentSystem(['A', 'B'])"
   ]
  },
  {
   "cell_type": "markdown",
   "id": "355f37f7",
   "metadata": {
    "slideshow": {
     "slide_type": "slide"
    }
   },
   "source": [
    "Then, configure the `MassActionLaw` reaction model.\n",
    "To instantiate it, pass the `ComponentSystem`.\n",
    "Then, add the reaction using the `add_reaction` method.\n",
    "The following arguments are expected:\n",
    "- indices: The indices of the components that take part in the reaction (useful for bigger systems)\n",
    "- stoichiometric coefficients in the order of the indices\n",
    "- forward reaction rate\n",
    "- backward reaction rate"
   ]
  },
  {
   "cell_type": "code",
   "execution_count": null,
   "id": "7a0bda64",
   "metadata": {
    "editable": true,
    "slideshow": {
     "slide_type": ""
    },
    "tags": [
     "solution"
    ]
   },
   "outputs": [],
   "source": [
    "from CADETProcess.processModel import MassActionLaw\n",
    "reaction_system = MassActionLaw(component_system)\n",
    "reaction_system.add_reaction(\n",
    "    indices=[0,1],\n",
    "    coefficients=[-1, 1],\n",
    "    k_fwd=0.1,\n",
    "    k_bwd=0\n",
    ")"
   ]
  },
  {
   "cell_type": "markdown",
   "id": "bffb9f2a",
   "metadata": {
    "slideshow": {
     "slide_type": "slide"
    }
   },
   "source": [
    "To demonstrate this reaction, a `Cstr` is instantiated and the reaction is added to the tank.\n",
    "Moreover, the initial conditions are set.\n",
    "In principle, the `Cstr` supports reactions in bulk and particle pore phase.\n",
    "Since the porosity is $1$ by default, only the bulk phase is considered."
   ]
  },
  {
   "cell_type": "code",
   "execution_count": null,
   "id": "62103a8d",
   "metadata": {
    "editable": true,
    "slideshow": {
     "slide_type": ""
    },
    "tags": [
     "solution"
    ]
   },
   "outputs": [],
   "source": [
    "from CADETProcess.processModel import Cstr\n",
    "\n",
    "reactor = Cstr(component_system, 'reactor')\n",
    "reactor.bulk_reaction_model = reaction_system\n",
    "reactor.init_liquid_volume = 1e-6\n",
    "reactor.const_solid_volume = 0\n",
    "reactor.c = [1.0, 0.0]"
   ]
  },
  {
   "cell_type": "markdown",
   "id": "bd4396fb",
   "metadata": {
    "editable": true,
    "slideshow": {
     "slide_type": "slide"
    }
   },
   "source": [
    "Now, the reactor is added to a `FlowSheet` and a `Process` is set up.\n",
    "Here, the `FlowSheet` only consists of a single `Cstr`, and there are no `Events` in the process."
   ]
  },
  {
   "cell_type": "code",
   "execution_count": null,
   "id": "73c6c49c",
   "metadata": {
    "editable": true,
    "slideshow": {
     "slide_type": ""
    },
    "tags": [
     "solution"
    ]
   },
   "outputs": [],
   "source": [
    "from CADETProcess.processModel import FlowSheet\n",
    "flow_sheet = FlowSheet(component_system)\n",
    "flow_sheet.add_unit(reactor)\n",
    "\n",
    "from CADETProcess.processModel import Process\n",
    "process = Process(flow_sheet, 'reaction_demo')\n",
    "process.cycle_time = 100"
   ]
  },
  {
   "cell_type": "markdown",
   "id": "eeb5c979",
   "metadata": {
    "editable": true,
    "slideshow": {
     "slide_type": "slide"
    }
   },
   "source": [
    "After simulation, the results can be plotted:"
   ]
  },
  {
   "cell_type": "code",
   "execution_count": null,
   "id": "0ed36b9f",
   "metadata": {
    "editable": true,
    "slideshow": {
     "slide_type": ""
    },
    "tags": [
     "solution"
    ]
   },
   "outputs": [],
   "source": [
    "from CADETProcess.simulator import Cadet\n",
    "simulator = Cadet()\n",
    "sim_results = simulator.run(process)\n",
    "_ = sim_results.solution.reactor.outlet.plot()"
   ]
  },
  {
   "cell_type": "markdown",
   "id": "470c6180",
   "metadata": {
    "editable": true,
    "slideshow": {
     "slide_type": "slide"
    }
   },
   "source": [
    "## Equilibrium Reactions\n",
    "It is also possible to consider equilibrium reactions where the product can react back to the educts."
   ]
  },
  {
   "cell_type": "code",
   "execution_count": null,
   "id": "00323772",
   "metadata": {
    "editable": true,
    "slideshow": {
     "slide_type": ""
    }
   },
   "outputs": [],
   "source": [
    "display(Math(r'\\ce{ 2 A <=>[k_{AB}][k_{BA}] B}'))"
   ]
  },
  {
   "cell_type": "markdown",
   "id": "115d051f",
   "metadata": {
    "editable": true,
    "slideshow": {
     "slide_type": "slide"
    }
   },
   "source": [
    "Here, the same units, flow sheet, and process are reused which were defined above."
   ]
  },
  {
   "cell_type": "code",
   "execution_count": null,
   "id": "4486623d",
   "metadata": {
    "editable": true,
    "slideshow": {
     "slide_type": ""
    },
    "tags": [
     "solution"
    ]
   },
   "outputs": [],
   "source": [
    "reaction_system = MassActionLaw(component_system)\n",
    "reaction_system.add_reaction(\n",
    "    indices=[0,1],\n",
    "    coefficients=[-2, 1],\n",
    "    k_fwd=0.2,\n",
    "    k_bwd=0.1\n",
    ")\n",
    "\n",
    "reactor.bulk_reaction_model = reaction_system"
   ]
  },
  {
   "cell_type": "markdown",
   "id": "f650a5a7",
   "metadata": {
    "editable": true,
    "slideshow": {
     "slide_type": "slide"
    }
   },
   "source": [
    "After simulation, the results can be plotted:"
   ]
  },
  {
   "cell_type": "code",
   "execution_count": null,
   "id": "e78a8ec1",
   "metadata": {
    "editable": true,
    "slideshow": {
     "slide_type": ""
    },
    "tags": [
     "solution"
    ]
   },
   "outputs": [],
   "source": [
    "sim_results = simulator.run(process)\n",
    "_ = sim_results.solution.reactor.outlet.plot()"
   ]
  },
  {
   "cell_type": "code",
   "execution_count": null,
   "id": "449198e7",
   "metadata": {
    "editable": true,
    "slideshow": {
     "slide_type": ""
    }
   },
   "outputs": [],
   "source": []
  }
 ],
 "metadata": {
  "jupytext": {
   "formats": "ipynb,md:myst"
  },
  "kernelspec": {
   "display_name": "Python 3 (ipykernel)",
   "language": "python",
   "name": "python3"
  }
 },
 "nbformat": 4,
 "nbformat_minor": 5
}
