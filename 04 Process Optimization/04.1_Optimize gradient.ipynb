{
 "cells": [
  {
   "cell_type": "markdown",
   "id": "463fa521",
   "metadata": {
    "editable": true,
    "slideshow": {
     "slide_type": "slide"
    }
   },
   "source": [
    "# Process Optimization\n",
    "\n",
    "In this session we will take the calibrated process we created before and try to find the optimal process parameters.\n",
    "\n",
    "First, we should define how we _measure_ optimality.\n",
    "\n",
    "Then, we will look into how we _find_ parameters that optimize these measurements."
   ]
  },
  {
   "cell_type": "markdown",
   "id": "01212022",
   "metadata": {
    "editable": true,
    "slideshow": {
     "slide_type": "slide"
    }
   },
   "source": [
    "## Section 1: Fractionation\n",
    "\n",
    "In our example, our colleagues asked us to optimize the process to get the highest recovery of component \"B\" with a purity of above 95%.\n",
    "\n",
    "Let's take our process model and with a random gradient configuration and try to evaluate the recovery and purity of our components.\n",
    "\n",
    "\n",
    "To start, import the previously configured LRM-SMA process."
   ]
  },
  {
   "cell_type": "code",
   "execution_count": null,
   "id": "a3d4a9cc",
   "metadata": {
    "editable": true,
    "slideshow": {
     "slide_type": "slide"
    }
   },
   "outputs": [],
   "source": [
    "from CADETProcess.processModel import ComponentSystem\n",
    "from CADETProcess.processModel import StericMassAction\n",
    "from CADETProcess.processModel import Inlet, GeneralRateModel, Outlet, LumpedRateModelWithoutPores, TubularReactor\n",
    "from CADETProcess.processModel import FlowSheet\n",
    "from CADETProcess.processModel import Process\n",
    "from CADETProcess.simulator import Cadet"
   ]
  },
  {
   "cell_type": "code",
   "execution_count": null,
   "id": "d88ebf1b",
   "metadata": {
    "editable": true,
    "slideshow": {
     "slide_type": "slide"
    }
   },
   "outputs": [],
   "source": [
    "component_system = ComponentSystem(['Salt', 'A', \"B\", \"C\"])\n",
    "\n",
    "# Binding Model\n",
    "binding_model = StericMassAction(component_system)\n",
    "binding_model.is_kinetic = True\n",
    "binding_model.adsorption_rate = [0, 1.3e-5, 5.59e-1, 9.5e-3]\n",
    "binding_model.desorption_rate = [0, 1, 1, 1]\n",
    "binding_model.characteristic_charge = [0, 6.9, 2.3, 5.8]\n",
    "binding_model.steric_factor = [0, 10, 10.6, 11.83]\n",
    "binding_model.capacity = 1.2e3\n",
    "\n",
    "column = LumpedRateModelWithoutPores(component_system, name='column')\n",
    "column.length = 0.014\n",
    "column.total_porosity = 0.5\n",
    "column.diameter = 0.01\n",
    "column.axial_dispersion = 5.75e-7\n",
    "\n",
    "pipe1 = TubularReactor(component_system, name=\"pipe1\")\n",
    "pipe1.length = 0.1\n",
    "pipe1.diameter = 0.001\n",
    "pipe1.axial_dispersion = 6e-6\n",
    "pipe1.discretization.ncol = 50\n",
    "\n",
    "pipe2 = TubularReactor(component_system, name=\"pipe2\")\n",
    "pipe2.length = 0.02\n",
    "pipe2.diameter = 0.001\n",
    "pipe2.axial_dispersion = 6e-6\n",
    "pipe2.discretization.ncol = 50\n",
    "\n",
    "\n",
    "column.binding_model = binding_model\n",
    "\n",
    "column.q = [50, 0, 0, 0]\n",
    "column.c = [50, 0, 0, 0]\n",
    "pipe1.c = [50, 0, 0, 0]\n",
    "pipe2.c = [50, 0, 0, 0]\n",
    "column.volume"
   ]
  },
  {
   "cell_type": "code",
   "execution_count": null,
   "id": "c9622b8a",
   "metadata": {
    "editable": true,
    "slideshow": {
     "slide_type": "slide"
    }
   },
   "outputs": [],
   "source": [
    "volumetric_flow_rate = 1.67e-8\n",
    "\n",
    "inlet = Inlet(component_system, name='inlet')\n",
    "inlet.flow_rate = volumetric_flow_rate\n",
    "\n",
    "outlet = Outlet(component_system, name='outlet')\n",
    "\n",
    "# Flow Sheet\n",
    "flow_sheet = FlowSheet(component_system)\n",
    "\n",
    "flow_sheet.add_unit(inlet, feed_inlet=True)\n",
    "flow_sheet.add_unit(pipe1)\n",
    "flow_sheet.add_unit(column)\n",
    "flow_sheet.add_unit(pipe2)\n",
    "flow_sheet.add_unit(outlet, product_outlet=True)\n",
    "\n",
    "flow_sheet.add_connection(inlet, pipe1)\n",
    "flow_sheet.add_connection(pipe1, column)\n",
    "flow_sheet.add_connection(column, pipe2)\n",
    "flow_sheet.add_connection(pipe2, outlet)"
   ]
  },
  {
   "cell_type": "code",
   "execution_count": null,
   "id": "c2427ff4",
   "metadata": {
    "editable": true,
    "slideshow": {
     "slide_type": "slide"
    }
   },
   "outputs": [],
   "source": [
    "# Process\n",
    "process = Process(flow_sheet, 'batch elution')\n",
    "\n",
    "process.cycle_time = 6000\n",
    "\n",
    "c_salt_load = 50\n",
    "c_salt_gradient1_start = 86.89371792\n",
    "c_salt_gradient1_end = 500\n",
    "duration_gradient1 = 3127.53243\n",
    "t_gradient1_start = 90\n",
    "t_start_wash = 10\n",
    "gradient_1_slope = (c_salt_gradient1_end - c_salt_gradient1_start)/(process.cycle_time - t_gradient1_start)\n",
    "\n",
    "c_load = [c_salt_load, 1, 1, 1]\n",
    "\n",
    "c_wash = [c_salt_load, 0, 0, 0]\n",
    "\n",
    "c_gradient1_poly = [\n",
    "    [c_salt_gradient1_start, gradient_1_slope, 0, 0],\n",
    "    [0, 0, 0, 0],\n",
    "    [0, 0, 0, 0],\n",
    "    [0, 0, 0, 0]\n",
    "]\n",
    "\n",
    "process.add_duration(\"grad1_duration\", duration_gradient1)\n",
    "\n",
    "process.add_event('load', 'flow_sheet.inlet.c', c_load, 0)\n",
    "process.add_event('wash', 'flow_sheet.inlet.c', c_wash, t_start_wash)\n",
    "process.add_event('grad1_start', 'flow_sheet.inlet.c', c_gradient1_poly, t_gradient1_start)"
   ]
  },
  {
   "cell_type": "code",
   "execution_count": null,
   "id": "bcc9392a",
   "metadata": {
    "editable": true,
    "slideshow": {
     "slide_type": "slide"
    }
   },
   "outputs": [],
   "source": [
    "simulator = Cadet()\n",
    "simulator.time_resolution = 5\n",
    "\n",
    "# process.plot_events()\n",
    "\n",
    "simulation_results = simulator.simulate(process)\n",
    "print(simulation_results.time_elapsed)\n",
    "\n",
    "from CADETProcess.plotting import SecondaryAxis\n",
    "\n",
    "sec = SecondaryAxis()\n",
    "sec.components = ['Salt']\n",
    "sec.y_label = '$c_{salt}$'\n",
    "\n",
    "simulation_results.solution.outlet.outlet.plot(secondary_axis=sec)\n",
    "import matplotlib.pyplot as plt\n",
    "\n",
    "plt.tight_layout()"
   ]
  },
  {
   "cell_type": "markdown",
   "id": "f3bb60a4",
   "metadata": {
    "editable": true,
    "slideshow": {
     "slide_type": "slide"
    }
   },
   "source": [
    "The requirements for the \"optimal\" process we got from our colleagues were:\n",
    "- Collect a fraction for component B\n",
    "- Purity above 95% for component B\n",
    "- Highest possible recovery\n",
    "\n",
    "What exactly do these metrics mean?"
   ]
  },
  {
   "cell_type": "markdown",
   "id": "be372f9a",
   "metadata": {
    "editable": true,
    "slideshow": {
     "slide_type": "slide"
    }
   },
   "source": [
    "## Key Performance Indicators (KPI)"
   ]
  },
  {
   "cell_type": "markdown",
   "id": "00da45ca",
   "metadata": {
    "editable": true,
    "slideshow": {
     "slide_type": "fragment"
    }
   },
   "source": [
    "### Purity\n",
    "\n",
    "$$\n",
    "PU_{i} = \\frac{m_{i}^{i}}{\\sum_{l=1}^{n_{comp}} m_{l}^{i}},\\\\\n",
    "$$\n",
    "where $n_{comp}$ is the number of mixture components and $m_{l}^{i}$ is the mass of component $l$ in target fraction $i$."
   ]
  },
  {
   "cell_type": "markdown",
   "id": "8275837f",
   "metadata": {
    "editable": true,
    "slideshow": {
     "slide_type": "slide"
    }
   },
   "source": [
    "### Recovery Yield\n",
    "$$\n",
    "Y_{i} = \\frac{m_i}{m_{feed, i}},\\\\\n",
    "$$\n",
    "with $m_{feed}$: injected amount of mixture."
   ]
  },
  {
   "cell_type": "markdown",
   "id": "10cf2b9a",
   "metadata": {
    "editable": true,
    "slideshow": {
     "slide_type": "slide"
    }
   },
   "source": [
    "### Productivity\n",
    "$$\n",
    "PR_{i} = \\frac{m_i}{V_{solid} \\cdot \\Delta t_{cycle}},\\\\\n",
    "$$\n",
    "with $V_{solid}$: volume of stationary phase."
   ]
  },
  {
   "cell_type": "markdown",
   "id": "c12e1414",
   "metadata": {
    "editable": true,
    "slideshow": {
     "slide_type": "slide"
    }
   },
   "source": [
    "### Eluent Consumption\n",
    "$$\n",
    "EC_{i} = \\frac{V_{solvent}}{m_i},\\\\\n",
    "$$\n",
    "with $V_{solvent}$: solvent used during a cycle."
   ]
  },
  {
   "cell_type": "markdown",
   "id": "325b512b",
   "metadata": {
    "editable": true,
    "slideshow": {
     "slide_type": "fragment"
    }
   },
   "source": [
    "Luckily we do not need to calculate them by hand.\n",
    "\n",
    "The `Fractionator` class allows slicing the solution and pool fractions for the individual components.\n",
    "\n",
    "It enables evaluating multiple chromatograms at once and multiple fractions per component per chromatogram."
   ]
  },
  {
   "cell_type": "code",
   "execution_count": null,
   "id": "3692e48c",
   "metadata": {
    "editable": true,
    "slideshow": {
     "slide_type": "fragment"
    },
    "tags": [
     "solution"
    ]
   },
   "outputs": [],
   "source": [
    "from CADETProcess.fractionation import Fractionator\n",
    "\n",
    "fractionator = Fractionator(simulation_results, components=[\"A\", \"B\", \"C\"])"
   ]
  },
  {
   "cell_type": "markdown",
   "id": "603c72d8",
   "metadata": {
    "editable": true,
    "slideshow": {
     "slide_type": "slide"
    }
   },
   "source": [
    "To add a fractionation event, the following arguments need to be provided:\n",
    "- `event_name`: Name of the event.\n",
    "- `target`: Pool to which fraction is added. `-1` indicates waste.\n",
    "- `time`: Time of the event\n",
    "- `chromatogram`: Name of the chromatogram. Optional if only one outlet is set as `chromatogram_sink`.\n",
    "\n",
    "Here, component $B$ seems to have sufficient purity between 30 minutes and 34 minutes and component $C$ between 45 and 60 minutes."
   ]
  },
  {
   "cell_type": "code",
   "execution_count": null,
   "id": "dd6f3428",
   "metadata": {
    "editable": true,
    "slideshow": {
     "slide_type": "fragment"
    },
    "tags": [
     "solution"
    ]
   },
   "outputs": [],
   "source": [
    "fractionator.add_fractionation_event(\"start_collect_B\", 1, time=30*60)\n",
    "fractionator.add_fractionation_event(\"stop_collect_B\", -1, time=40*60)"
   ]
  },
  {
   "cell_type": "markdown",
   "id": "e237266a",
   "metadata": {
    "editable": true,
    "slideshow": {
     "slide_type": "slide"
    }
   },
   "source": [
    "The `performance` object of the `Fractionator` contains the parameters:"
   ]
  },
  {
   "cell_type": "code",
   "execution_count": null,
   "id": "81ecd15c",
   "metadata": {
    "editable": true,
    "slideshow": {
     "slide_type": ""
    },
    "tags": [
     "solution"
    ]
   },
   "outputs": [],
   "source": [
    "fractionator.performance"
   ]
  },
  {
   "cell_type": "markdown",
   "id": "afde8c02",
   "metadata": {
    "editable": true,
    "slideshow": {
     "slide_type": "slide"
    }
   },
   "source": [
    "The chromatogram can be plotted with the fraction times overlaid:"
   ]
  },
  {
   "cell_type": "code",
   "execution_count": null,
   "id": "c8217486",
   "metadata": {
    "editable": true,
    "slideshow": {
     "slide_type": ""
    },
    "tags": [
     "solution"
    ]
   },
   "outputs": [],
   "source": [
    "fractionator.plot_fraction_signal()"
   ]
  },
  {
   "cell_type": "markdown",
   "id": "fe48f5a7",
   "metadata": {
    "editable": true,
    "slideshow": {
     "slide_type": "slide"
    }
   },
   "source": [
    "## Optimization of Fractionation Times\n",
    "- The `fractionation` module provides tools to automatically determines optimal cut times.\n",
    "- By default, the mass of the components is maximized under purity constraints.\n",
    "- Different purity requirements can be specified for each component"
   ]
  },
  {
   "cell_type": "code",
   "execution_count": null,
   "id": "64080dd2",
   "metadata": {
    "editable": true,
    "slideshow": {
     "slide_type": ""
    },
    "tags": [
     "solution"
    ]
   },
   "outputs": [],
   "source": [
    "from CADETProcess.fractionation import FractionationOptimizer\n",
    "\n",
    "fractionation_optimizer = FractionationOptimizer()"
   ]
  },
  {
   "cell_type": "markdown",
   "id": "f6f69ff1",
   "metadata": {
    "editable": true,
    "slideshow": {
     "slide_type": "slide"
    }
   },
   "source": [
    "To automatically optimize the fractionation times, pass the simulation results to the `optimize_fractionation` function."
   ]
  },
  {
   "cell_type": "code",
   "execution_count": null,
   "id": "47087c52",
   "metadata": {
    "editable": true,
    "slideshow": {
     "slide_type": ""
    },
    "tags": [
     "solution"
    ]
   },
   "outputs": [],
   "source": [
    "# results = fractionation_optimizer.optimize_fractionation(\n",
    "#     simulation_results,\n",
    "#     purity_required=[0.90, 0.95, 0.90],\n",
    "#     components=[\"A\", \"B\", \"C\"],\n",
    "# )"
   ]
  },
  {
   "cell_type": "markdown",
   "id": "1de0c419",
   "metadata": {
    "editable": true,
    "slideshow": {
     "slide_type": "fragment"
    }
   },
   "source": [
    "The results are stored in a `Performance` object."
   ]
  },
  {
   "cell_type": "code",
   "execution_count": null,
   "id": "1cf5ca5c",
   "metadata": {
    "editable": true,
    "slideshow": {
     "slide_type": ""
    },
    "tags": [
     "solution"
    ]
   },
   "outputs": [],
   "source": [
    "# results.plot_fraction_signal()"
   ]
  },
  {
   "cell_type": "markdown",
   "id": "39641c64",
   "metadata": {
    "editable": true,
    "slideshow": {
     "slide_type": "slide"
    }
   },
   "source": [
    "The chromatogram can also be plotted with the fraction times overlaid:"
   ]
  },
  {
   "cell_type": "code",
   "execution_count": null,
   "id": "09d90a78",
   "metadata": {
    "editable": true,
    "slideshow": {
     "slide_type": ""
    },
    "tags": [
     "solution"
    ]
   },
   "outputs": [],
   "source": [
    "# results.purity"
   ]
  },
  {
   "cell_type": "markdown",
   "id": "b07d981f",
   "metadata": {
    "editable": true,
    "slideshow": {
     "slide_type": "slide"
    }
   },
   "source": [
    "For comparison, this is the results if two components are relevant:"
   ]
  },
  {
   "cell_type": "code",
   "execution_count": null,
   "id": "867b2a38",
   "metadata": {
    "editable": true,
    "slideshow": {
     "slide_type": ""
    },
    "tags": [
     "solution"
    ]
   },
   "outputs": [],
   "source": []
  },
  {
   "cell_type": "markdown",
   "id": "0bd410a5",
   "metadata": {
    "editable": true,
    "slideshow": {
     "slide_type": "slide"
    }
   },
   "source": [
    "We can add a `FractionationOptimizer` to the optimization chain. This way, the optimizer will, during each optimization step:\n",
    "1. run a simulation with some set of parameters\n",
    "2. run a fractionation-optimization on the resulting chromatogram\n",
    "3. calculate and report the target metric (yield, purity, time, etc.)"
   ]
  },
  {
   "cell_type": "markdown",
   "id": "381c4376",
   "metadata": {
    "editable": true,
    "slideshow": {
     "slide_type": "fragment"
    }
   },
   "source": [
    "First, again, create an `OptimizationProblem`:"
   ]
  },
  {
   "cell_type": "code",
   "execution_count": null,
   "id": "d6acc63b",
   "metadata": {
    "editable": true,
    "slideshow": {
     "slide_type": ""
    },
    "tags": [
     "solution"
    ]
   },
   "outputs": [],
   "source": [
    "from CADETProcess.optimization import OptimizationProblem\n",
    "\n",
    "optimization_problem = OptimizationProblem(name=\"Optimize_Gradient\")\n",
    "optimization_problem.add_evaluation_object(process)\n",
    "optimization_problem.add_evaluator(simulator)"
   ]
  },
  {
   "cell_type": "markdown",
   "id": "8412ea9d",
   "metadata": {
    "editable": true,
    "slideshow": {
     "slide_type": "slide"
    }
   },
   "source": [
    "Then we can add a `FractionationOptimizer` as an evaluator, and add the `Recovery` as our objective."
   ]
  },
  {
   "cell_type": "code",
   "execution_count": null,
   "id": "27d171e0",
   "metadata": {
    "editable": true,
    "slideshow": {
     "slide_type": ""
    },
    "tags": [
     "solution"
    ]
   },
   "outputs": [],
   "source": [
    "from CADETProcess.performance import Recovery\n",
    "\n",
    "\n",
    "fractionation_options = dict(\n",
    "    purity_required=[0.00, 0.95, 0.00],\n",
    "    components=[\"A\", \"B\", \"C\"],\n",
    "    )\n",
    "\n",
    "fractionation_optimizer = FractionationOptimizer()\n",
    "optimization_problem.add_evaluator(\n",
    "    fractionation_optimizer,\n",
    "    kwargs=fractionation_options\n",
    ")\n",
    "\n",
    "recovery = Recovery(ranking=1)\n",
    "optimization_problem.add_objective(\n",
    "    recovery,\n",
    "    minimize=False,\n",
    "    requires=[simulator, fractionation_optimizer]\n",
    ")"
   ]
  },
  {
   "cell_type": "markdown",
   "id": "6c52b759",
   "metadata": {
    "editable": true,
    "slideshow": {
     "slide_type": "fragment"
    }
   },
   "source": [
    "Now we can identify the optimal solution if we find it. Next step: set up our optimization problem to search for it."
   ]
  },
  {
   "cell_type": "markdown",
   "id": "3a89910f",
   "metadata": {
    "editable": true,
    "slideshow": {
     "slide_type": "slide"
    }
   },
   "source": [
    "## Section 2: Constrained Optimization\n",
    "\n",
    "Let us collect process parameters we could tune to optimize the separation process."
   ]
  },
  {
   "cell_type": "code",
   "execution_count": null,
   "id": "4d26a3a4",
   "metadata": {
    "editable": true,
    "slideshow": {
     "slide_type": ""
    }
   },
   "outputs": [],
   "source": [
    "from CADETProcess.plotting import SecondaryAxis\n",
    "\n",
    "sec = SecondaryAxis()\n",
    "sec.components = ['Salt']\n",
    "sec.y_label = '$c_{salt}$'\n",
    "\n",
    "simulation_results.solution.outlet.outlet.plot(secondary_axis=sec)\n",
    "import matplotlib.pyplot as plt\n",
    "\n",
    "plt.tight_layout()"
   ]
  },
  {
   "cell_type": "markdown",
   "id": "db9dcc2c",
   "metadata": {
    "editable": true,
    "slideshow": {
     "slide_type": "slide"
    }
   },
   "source": [
    "For today, let us focus on a two-gradient scenario. This gives the following parameters:\n",
    "\n",
    "1. Gradient\n",
    "   - starting concentration\n",
    "   - starting time\n",
    "   - slope\n",
    "   - duration\n",
    "2. Gradient\n",
    "   - starting concentration\n",
    "   - starting time\n",
    "   - slope\n",
    "   - duration\n",
    "\n",
    "Some of these parameters depend on one another. Can you give an example?"
   ]
  },
  {
   "cell_type": "markdown",
   "id": "3105e3fe",
   "metadata": {
    "editable": true,
    "slideshow": {
     "slide_type": "slide"
    }
   },
   "source": [
    "First, we'll need to add the missing event."
   ]
  },
  {
   "cell_type": "code",
   "execution_count": null,
   "id": "a9eafe1b",
   "metadata": {
    "editable": true,
    "slideshow": {
     "slide_type": ""
    },
    "tags": [
     "solution"
    ]
   },
   "outputs": [],
   "source": [
    "# starting concentration 2nd => slope * duration\n",
    "# starting time 2nd => duration + starting time 1st\n",
    "# slope 2nd = func()\n",
    "process.add_event(\"grad2_start\", \"flow_sheet.inlet.c\", [[0, 0, 0, 0], ]*4, time=200)"
   ]
  },
  {
   "cell_type": "markdown",
   "id": "ac2246f2",
   "metadata": {
    "editable": true,
    "slideshow": {
     "slide_type": ""
    }
   },
   "source": [
    "Now let's add the `grad1_start` `time` variable and the `grad1_start` `concentration` variable:"
   ]
  },
  {
   "cell_type": "code",
   "execution_count": null,
   "id": "40b137e7",
   "metadata": {
    "editable": true,
    "slideshow": {
     "slide_type": ""
    },
    "tags": [
     "solution"
    ]
   },
   "outputs": [],
   "source": [
    "# gradient1 start time\n",
    "optimization_problem.add_variable(\n",
    "    \"grad1_start_time\",\n",
    "    parameter_path=\"grad1_start.time\",\n",
    "    lb=90,\n",
    "    ub=100\n",
    ")\n",
    "\n",
    "optimization_problem.add_variable(\n",
    "    \"grad1_start_conc\",\n",
    "    parameter_path=\"grad1_start.state\",\n",
    "    lb=50, ub=500,\n",
    "    indices=(0,0)\n",
    ")"
   ]
  },
  {
   "cell_type": "code",
   "execution_count": null,
   "id": "424e7f75",
   "metadata": {
    "editable": true,
    "slideshow": {
     "slide_type": "fragment"
    }
   },
   "outputs": [],
   "source": [
    "# gradient1 slope\n",
    "optimization_problem.add_variable(\n",
    "    \"gradient1_slope\",\n",
    "    lb=0.001, ub=10, indices=(0, 1),\n",
    "    parameter_path='grad1_start.state'\n",
    ")\n",
    "\n",
    "optimization_problem.add_variable(\n",
    "    'grad1_duration.time',\n",
    "    lb=120,\n",
    "    ub=5790\n",
    ")\n",
    "\n",
    "# gradient2 start time\n",
    "var = optimization_problem.add_variable(\n",
    "    \"grad2_start.time\",\n",
    "    lb=500,\n",
    "    ub=900,\n",
    ")\n",
    "\n",
    "# gradient2 start concentration\n",
    "var = optimization_problem.add_variable(\n",
    "    \"gradient2_start_conc\", lb=1, ub=1e5, indices=(0, 0),\n",
    "    parameter_path='grad2_start.state'\n",
    ")\n",
    "\n",
    "# gradient2 slope\n",
    "optimization_problem.add_variable(\n",
    "    \"gradient2_slope\", lb=-100, ub=1e6, indices=(0, 1),\n",
    "    parameter_path='grad2_start.state'\n",
    ")"
   ]
  },
  {
   "cell_type": "markdown",
   "id": "0be97448",
   "metadata": {
    "editable": true,
    "slideshow": {
     "slide_type": "slide"
    }
   },
   "source": [
    "Now that we have all variables defined, let's have a look at the four types of constraints we can use:\n",
    "\n",
    "```\n",
    "|              | Linear | Nonlinear |\n",
    "|--------------|--------|-----------|\n",
    "| Equality     |        |           |\n",
    "| Non-equality |        |           |\n",
    "```"
   ]
  },
  {
   "cell_type": "markdown",
   "id": "569d95d1",
   "metadata": {
    "editable": true,
    "slideshow": {
     "slide_type": "slide"
    }
   },
   "source": [
    "### Linear equality constraints\n",
    "\n",
    "The start duration of the second gradient is a good example of a linear equality constraint.\n",
    "\n",
    "(Even though it could be done with event dependencies.)\n",
    "\n",
    "We can formualte it as:\n",
    "\n",
    "```\n",
    "grad1_start.time + grad1_duration = grad2_start.time\n",
    "```\n",
    "\n",
    "or, restructured in a way that is more common in constraint formulations:\n",
    "\n",
    "```\n",
    "1 * grad1_start.time + 1 * grad1_duration - 1 * grad2_start.time = 0\n",
    "```"
   ]
  },
  {
   "cell_type": "markdown",
   "id": "ad0f89d4",
   "metadata": {
    "editable": true,
    "slideshow": {
     "slide_type": "fragment"
    }
   },
   "source": [
    "This is a formulation according to the standard:\n",
    "\n",
    "$$\n",
    "A_{eq} \\cdot x = b_{eq}\n",
    "$$\n",
    "\n",
    "with $A_{eq} = (1, 1, -1)$ and $ b_{eq} = 0$.\n",
    "\n",
    "\n",
    "In **CADET-Process**, add each row $a_{eq}$ of the constraint matrix needs to be added individually.\n",
    "The `add_linear_equality_constraint` function takes the variables subject to the constraint as first argument.\n",
    "The left-hand side $a_{eq}$ and the bound $b_{eq, a}$ are passed as second and third argument.\n",
    "It is important to note that the column order in $a$ is inferred from the order in which the optimization variables are passed.\n",
    "\n",
    "\n",
    "\n",
    "to the optimization problem, add the following:"
   ]
  },
  {
   "cell_type": "code",
   "execution_count": null,
   "id": "1eb9d92a",
   "metadata": {
    "editable": true,
    "slideshow": {
     "slide_type": ""
    },
    "tags": [
     "solution"
    ]
   },
   "outputs": [],
   "source": []
  },
  {
   "cell_type": "markdown",
   "id": "b9a21c3e",
   "metadata": {
    "editable": true,
    "slideshow": {
     "slide_type": "slide"
    }
   },
   "source": [
    "To wheck if a point fulfils the linear equality constraints, use the `check_linear_equality_constraints` method.\n",
    "It returns `True` if the point is within bounds and `False` otherwise."
   ]
  },
  {
   "cell_type": "code",
   "execution_count": null,
   "id": "e4303f07",
   "metadata": {
    "editable": true,
    "slideshow": {
     "slide_type": ""
    },
    "tags": [
     "solution"
    ]
   },
   "outputs": [],
   "source": [
    "optimization_problem.check_linear_equality_constraints([10, 50, 0.1, 100, 110, 100, 0.1])\n",
    "optimization_problem.variable_names"
   ]
  },
  {
   "cell_type": "markdown",
   "id": "75d5e82f",
   "metadata": {
    "editable": true,
    "slideshow": {
     "slide_type": "slide"
    }
   },
   "source": [
    "### Linear inequality constraints\n",
    "\n",
    "Linear inequality constraints work much like linear equality constraints.\n",
    "\n",
    "$$\n",
    "A \\cdot x \\leq b\n",
    "$$\n",
    "\n",
    "In **CADET-Process**, add each row $a$ of the constraint matrix needs to be added individually.\n",
    "The `add_linear_constraint` function takes the variables subject to the constraint as first argument.\n",
    "The left-hand side $a$ and the bound $b_a$ are passed as second and third argument.\n",
    "It is important to note that the column order in $a$ is inferred from the order in which the optimization variables are passed.\n",
    "\n",
    "There are no inequality constraints in our example, but we could add a step with constant salt concentration between gradient 1 and gradient 2, which would turn the equality constraint from above into:\n",
    "\n",
    "```\n",
    "grad1_start.time + grad1_duration <= grad2_start.time\n",
    "```"
   ]
  },
  {
   "cell_type": "markdown",
   "id": "d4c5a1cf",
   "metadata": {
    "editable": true,
    "slideshow": {
     "slide_type": "slide"
    }
   },
   "source": [
    "### Nonlinear constraints\n",
    "\n",
    "It is also possible to add nonlinear constraints to the `OptimizationProblem`.\n",
    "\n",
    "The salt concentration of the first gradient is a good example of a non-linear inequality constraint.\n",
    "\n",
    "We have been told from our lab-colleagues, that the salt concentration after the first gradient should not exceed 1000 mM.\n",
    "\n",
    "We can formualte this requirement as:\n",
    "\n",
    "```\n",
    "gradient1_start_conc + gradient1_slope * grad1_duration <= 1000\n",
    "```\n",
    "\n",
    "This is a formulation according to the standard:\n",
    "\n",
    "\n",
    "$$\n",
    "g(x) \\le 0 \\\\\n",
    "$$\n",
    "\n",
    "Nonlinear constraints need to be added as a callable functions.\n",
    "\n",
    "Note that multiple nonlinear constraints can be added.\n",
    "\n",
    "In addition to the function, lower or upper bounds can be added."
   ]
  },
  {
   "cell_type": "code",
   "execution_count": null,
   "id": "378cf4cf",
   "metadata": {},
   "outputs": [],
   "source": [
    "optimization_problem.variable_names"
   ]
  },
  {
   "cell_type": "code",
   "execution_count": null,
   "id": "98509191",
   "metadata": {
    "editable": true,
    "slideshow": {
     "slide_type": ""
    },
    "tags": [
     "solution"
    ]
   },
   "outputs": [],
   "source": [
    "def calculate_salt_concentration_after_gradient(x):\n",
    "    salt_concentration_after_gradient_1 = x[1] + x[2] * x[3]\n",
    "    return salt_concentration_after_gradient_1\n",
    "\n",
    "optimization_problem.add_nonlinear_constraint(\n",
    "    calculate_salt_concentration_after_gradient,\n",
    "    bounds=1000,\n",
    "    comparison_operator=\"le\",\n",
    "    evaluation_objects=None,\n",
    "    name=\"salt_after_gradient_1\",\n",
    ")"
   ]
  },
  {
   "cell_type": "markdown",
   "id": "ae50986e",
   "metadata": {
    "editable": true,
    "slideshow": {
     "slide_type": "slide"
    }
   },
   "source": [
    "Again, the function can be evaluated manually."
   ]
  },
  {
   "cell_type": "code",
   "execution_count": null,
   "id": "387e1f06",
   "metadata": {
    "editable": true,
    "slideshow": {
     "slide_type": ""
    },
    "tags": [
     "solution"
    ]
   },
   "outputs": [],
   "source": [
    "optimization_problem.check_nonlinear_constraints(x=[100, 50, 0.1, 200, 700, 1, 0])"
   ]
  },
  {
   "cell_type": "markdown",
   "id": "8491c5ff",
   "metadata": {
    "editable": true,
    "slideshow": {
     "slide_type": "slide"
    }
   },
   "source": [
    "## Nonlinear equality constraints / aka variable dependencies\n",
    "\n",
    "Lastly, we can add variable dependencies that rely on non-linear combinations of other variables. These also need to be added as a callable.\n",
    "\n",
    "We could make the start concentration of the second gradient depend on the parameters of the first gradient, as:\n",
    "\n",
    "```\n",
    "gradient2_start_conc = gradient1_start_conc + gradient1_slope * grad1_duration\n",
    "```"
   ]
  },
  {
   "cell_type": "code",
   "execution_count": null,
   "id": "b7bfecc3",
   "metadata": {},
   "outputs": [],
   "source": [
    "optimization_problem.variable_names"
   ]
  },
  {
   "cell_type": "code",
   "execution_count": null,
   "id": "8fde3965",
   "metadata": {
    "editable": true,
    "slideshow": {
     "slide_type": ""
    },
    "tags": [
     "solution"
    ]
   },
   "outputs": [],
   "source": [
    "optimization_problem.add_variable_dependency(\n",
    "    \"gradient2_start_conc\",\n",
    "    [\"grad1_start_conc\", \"gradient1_slope\", \"grad1_duration.time\"],\n",
    "    transform=lambda start_conc, slope, duration: start_conc + slope * duration\n",
    ")"
   ]
  },
  {
   "cell_type": "code",
   "execution_count": null,
   "id": "cf3c2b4b",
   "metadata": {},
   "outputs": [],
   "source": [
    "optimization_problem.add_variable_dependency(\n",
    "    dependent_variable=\"gradient2_slope\",\n",
    "    independent_variables=[\"grad1_start_conc\", \"gradient1_slope\", \"grad1_duration.time\"],\n",
    "    transform=lambda start_conc, slope, duration:\n",
    "    (1000 - (start_conc + slope * duration)) / (process.cycle_time - 90 - duration)\n",
    ")"
   ]
  },
  {
   "cell_type": "code",
   "execution_count": null,
   "id": "796f5aa9",
   "metadata": {},
   "outputs": [],
   "source": [
    "optimization_problem.add_variable_dependency(\n",
    "    \"grad2_start.time\",\n",
    "    [\"grad1_start_time\", \"grad1_duration.time\" ],\n",
    "    transform=lambda starttime, duration: starttime+duration\n",
    ")"
   ]
  },
  {
   "cell_type": "code",
   "execution_count": null,
   "id": "f0523749",
   "metadata": {},
   "outputs": [],
   "source": [
    "def callback(fractionation, individual, evaluation_object, callbacks_dir):\n",
    "    fractionation.plot_fraction_signal(\n",
    "        file_name=f'{callbacks_dir}/{individual.id[:10]}_{evaluation_object}_fractionation.png',\n",
    "        show=False\n",
    "    )\n",
    "\n",
    "optimization_problem.add_callback(\n",
    "    callback, requires=[simulator, fractionation_optimizer]\n",
    ")\n",
    "\n",
    "def callback_sim(simulation_results, individual, callbacks_dir='./'):\n",
    "    sec = SecondaryAxis()\n",
    "    sec.components = ['Salt']\n",
    "    sec.y_label = '$c_{salt}$'\n",
    "\n",
    "    simulation_results.solution.outlet.outlet.plot(\n",
    "        secondary_axis=sec,\n",
    "        show=False,\n",
    "        file_name=f'{callbacks_dir}/{individual.id[:10]}.png'\n",
    "    )\n",
    "\n",
    "optimization_problem.add_callback(\n",
    "    callback_sim, requires=[simulator, ]\n",
    ")"
   ]
  },
  {
   "cell_type": "code",
   "execution_count": null,
   "id": "111b8a53",
   "metadata": {},
   "outputs": [],
   "source": [
    "from CADETProcess.optimization import U_NSGA3\n",
    "\n",
    "optimizer = U_NSGA3()\n",
    "optimizer.n_cores = 6\n",
    "optimizer.pop_size = 60\n",
    "optimizer.n_max_gen = 4"
   ]
  },
  {
   "cell_type": "code",
   "execution_count": null,
   "id": "9fc648b2",
   "metadata": {},
   "outputs": [],
   "source": [
    "optimization_results = optimizer.optimize(\n",
    "    optimization_problem\n",
    ")"
   ]
  },
  {
   "cell_type": "code",
   "execution_count": null,
   "id": "760cd1a1",
   "metadata": {},
   "outputs": [],
   "source": []
  },
  {
   "cell_type": "code",
   "execution_count": null,
   "id": "099b2d55",
   "metadata": {},
   "outputs": [],
   "source": []
  },
  {
   "cell_type": "code",
   "execution_count": null,
   "id": "ed8e43ec",
   "metadata": {},
   "outputs": [],
   "source": []
  }
 ],
 "metadata": {
  "jupytext": {
   "formats": "ipynb,md:myst"
  },
  "kernelspec": {
   "display_name": "Python 3 (ipykernel)",
   "language": "python",
   "name": "python3"
  }
 },
 "nbformat": 4,
 "nbformat_minor": 5
}
