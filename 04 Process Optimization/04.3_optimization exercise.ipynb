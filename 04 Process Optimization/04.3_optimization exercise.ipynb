{
 "cells": [
  {
   "cell_type": "markdown",
   "id": "a9048b76",
   "metadata": {
    "editable": true,
    "slideshow": {
     "slide_type": ""
    }
   },
   "source": [
    "# Optimization - Exercise\n",
    "\n",
    "Take the SMA LRM process and define an optimization problem to get the highest possible recovery with > 95% purity. The limitations are:\n",
    "- 10 seconds of loading time + 80 seconds of wash, then gradients of any shape\n",
    "- 6000 seconds maximal process duration.\n",
    "- 1000 mM maximal salt concentration\n",
    "\n",
    "You will have one night with 12 cores per group to run the optimization."
   ]
  },
  {
   "cell_type": "code",
   "execution_count": null,
   "id": "e8f495d4",
   "metadata": {
    "editable": true,
    "slideshow": {
     "slide_type": ""
    }
   },
   "outputs": [],
   "source": []
  }
 ],
 "metadata": {
  "jupytext": {
   "formats": "ipynb,md:myst"
  },
  "kernelspec": {
   "display_name": "Python 3 (ipykernel)",
   "language": "python",
   "name": "python3"
  }
 },
 "nbformat": 4,
 "nbformat_minor": 5
}
