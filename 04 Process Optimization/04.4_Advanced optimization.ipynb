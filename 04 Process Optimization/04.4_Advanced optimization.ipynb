{
 "cells": [
  {
   "cell_type": "markdown",
   "id": "8edc9e3a",
   "metadata": {},
   "source": [
    "# Section 3: Advanced optimization"
   ]
  },
  {
   "cell_type": "markdown",
   "id": "bf83bd42",
   "metadata": {
    "editable": true,
    "slideshow": {
     "slide_type": "slide"
    }
   },
   "source": [
    "### Initial Values\n",
    "\n",
    "To start solving any optimization problem, initial values are required.\n",
    "To facilitate the definition of starting points, the `OptimizationProblem` provides a `create_initial_values` method."
   ]
  },
  {
   "cell_type": "markdown",
   "id": "a780ba85",
   "metadata": {
    "editable": true,
    "slideshow": {
     "slide_type": "fragment"
    }
   },
   "source": [
    "```{note}\n",
    "This method only works if all optimization variables have defined lower and upper bounds.\n",
    "\n",
    "Moreover, this method only guarantees that linear constraints are fulfilled.\n",
    "Any nonlinear constraints may not be satisfied by the generated samples, and nonlinear parameter dependencies can be challenging to incorporate.\n",
    "```"
   ]
  },
  {
   "cell_type": "markdown",
   "id": "7fe10f1f",
   "metadata": {
    "editable": true,
    "slideshow": {
     "slide_type": "fragment"
    }
   },
   "source": [
    "By default, the method returns a random point from the feasible region of the parameter space.\n",
    "For this purpose, [hopsy](https://modsim.github.io/hopsy/) is used to efficiently (uniformly) sample the parameter space.\n",
    "To create initial values, call `create_initial_values` and specify the number of individuals that should be returned."
   ]
  },
  {
   "cell_type": "code",
   "execution_count": null,
   "id": "50e14546",
   "metadata": {},
   "outputs": [],
   "source": [
    "x0 = rosenbrock_problem.create_initial_values(10)\n",
    "print(x0)"
   ]
  },
  {
   "cell_type": "markdown",
   "id": "3be23a1b",
   "metadata": {
    "slideshow": {
     "slide_type": "fragment"
    }
   },
   "source": [
    "Alternatively, the Chebyshev center of the polytope can be computed, which is the center of the largest Euclidean ball that is fully contained within that polytope."
   ]
  },
  {
   "cell_type": "code",
   "execution_count": null,
   "id": "d15d863c",
   "metadata": {},
   "outputs": [],
   "source": [
    "x0 = rosenbrock_problem.get_chebyshev_center()\n",
    "print(x0)"
   ]
  },
  {
   "cell_type": "markdown",
   "id": "07421734",
   "metadata": {},
   "source": [
    "Let's create a method to visualize these points in the parameter space."
   ]
  },
  {
   "cell_type": "code",
   "execution_count": null,
   "id": "324efeb9",
   "metadata": {
    "editable": true,
    "slideshow": {
     "slide_type": ""
    }
   },
   "outputs": [],
   "source": [
    "def plot_initial_values(x0):\n",
    "    import matplotlib.pyplot as plt\n",
    "    import numpy as np\n",
    "    fig, ax = plt.subplots()\n",
    "    try:\n",
    "        ax.scatter(x0[:, 0], x0[:, 1])\n",
    "        ax.set_xlabel(r'$x_0$')\n",
    "        ax.set_ylabel(r'$x_1$')\n",
    "    except IndexError:\n",
    "        ax.scatter(x0, np.ones_like((x0)))\n",
    "        ax.set_xlabel(r'$x_0$')\n",
    "    fig.tight_layout()\n",
    "\n",
    "x0 = rosenbrock_problem.create_initial_values(500)\n",
    "plot_initial_values(x0)"
   ]
  },
  {
   "cell_type": "markdown",
   "id": "014999fb",
   "metadata": {
    "slideshow": {
     "slide_type": "slide"
    }
   },
   "source": [
    "## Parameter Normalization\n",
    "Most optimization algorithms struggle when optimization variables spread over multiple orders of magnitude.\n",
    "**CADET-Process** provides several transformation methods which can help to soften these challenges."
   ]
  },
  {
   "cell_type": "markdown",
   "id": "f6d52de1",
   "metadata": {
    "slideshow": {
     "slide_type": "fragment"
    }
   },
   "source": [
    "```{figure} ./figures/transform.png\n",
    "```"
   ]
  },
  {
   "cell_type": "markdown",
   "id": "b40e2938",
   "metadata": {
    "slideshow": {
     "slide_type": "slide"
    }
   },
   "source": [
    "### Linear Normalization\n",
    "The linear normalization maps the variable space from the lower and upper bound to a range between $0$ and $1$ by applying the following transformation:\n",
    "\n",
    "$$\n",
    "x^\\prime = \\frac{x - x_{lb}}{x_{ub} - x_{lb}}\n",
    "$$"
   ]
  },
  {
   "cell_type": "code",
   "execution_count": null,
   "id": "5c66d6e5",
   "metadata": {
    "editable": true,
    "slideshow": {
     "slide_type": ""
    },
    "tags": [
     "solution"
    ]
   },
   "outputs": [],
   "source": []
  },
  {
   "cell_type": "markdown",
   "id": "a6a78dc3",
   "metadata": {
    "slideshow": {
     "slide_type": "slide"
    }
   },
   "source": [
    "### Log Normalization\n",
    "The log normalization maps the variable space from the lower and upper bound to a range between $0$ and $1$ by applying the following transformation:\n",
    "\n",
    "$$\n",
    "x^\\prime = \\frac{log \\left( \\frac{x}{x_{lb}} \\right) }{log \\left( \\frac{x_{ub} }{x_{lb}} \\right) }\n",
    "$$"
   ]
  },
  {
   "cell_type": "code",
   "execution_count": null,
   "id": "d468ed4a",
   "metadata": {
    "tags": [
     "solution"
    ]
   },
   "outputs": [],
   "source": []
  },
  {
   "cell_type": "markdown",
   "id": "b3ba6f6c",
   "metadata": {
    "slideshow": {
     "slide_type": "slide"
    }
   },
   "source": [
    "### Auto Transform\n",
    "This transform will automatically switch between a linear and a log transform if the ratio of upper and lower bounds is larger than some value ($1000$ by default)."
   ]
  },
  {
   "cell_type": "code",
   "execution_count": null,
   "id": "84f85d54",
   "metadata": {
    "tags": [
     "solution"
    ]
   },
   "outputs": [],
   "source": []
  },
  {
   "cell_type": "markdown",
   "id": "1917841a",
   "metadata": {},
   "source": [
    "```{figure} ./figures/evaluation_example.png\n",
    "```"
   ]
  },
  {
   "cell_type": "markdown",
   "id": "8d4b8190",
   "metadata": {
    "slideshow": {
     "slide_type": "slide"
    }
   },
   "source": [
    "## Evaluation Objects\n",
    "\n",
    "```{figure} ./figures/evaluation_steps.png\n",
    "```\n",
    "\n",
    "- `OptimizationVariables` usually refers to attributes of a `Process` model (e.g. model parameters / event times.\n",
    "- `EvaluationObject` objects manage the value of that optimization variable\n",
    "- `Evaluators` execute (intermediate) steps required for calculating the objective (e.g. simulation)"
   ]
  },
  {
   "cell_type": "markdown",
   "id": "8c2d7312",
   "metadata": {
    "slideshow": {
     "slide_type": "slide"
    }
   },
   "source": [
    "```{figure} ./figures/evaluation_single_variable.png\n",
    ":width: 30%\n",
    "```\n",
    "\n",
    "\n",
    "To associate an `OptimizationVariable` with an `EvaluationObject`, it first needs to be added to the `OptimizationProblem`.\n",
    "For this purpose, consider a simple `Process` object from the [examples collection](https://cadet-process.readthedocs.io/en/stable/examples/batch_elution/process.html)."
   ]
  },
  {
   "cell_type": "code",
   "execution_count": null,
   "id": "c1d4409e",
   "metadata": {
    "tags": [
     "solution"
    ]
   },
   "outputs": [],
   "source": []
  },
  {
   "cell_type": "markdown",
   "id": "d8c3b115",
   "metadata": {
    "slideshow": {
     "slide_type": "fragment"
    }
   },
   "source": [
    "Then add the variable. In addition, specify:\n",
    "\n",
    "- `parameter_path`: Path to the variable in the evaluation object\n",
    "- `evaluation_objects`: The evaluation object(s) for which the variable should be set."
   ]
  },
  {
   "cell_type": "code",
   "execution_count": null,
   "id": "3aabbba8",
   "metadata": {
    "tags": [
     "solution"
    ]
   },
   "outputs": [],
   "source": []
  },
  {
   "cell_type": "markdown",
   "id": "62886f05",
   "metadata": {
    "slideshow": {
     "slide_type": "slide"
    }
   },
   "source": [
    "## Multiple Evaluation Objects\n",
    "\n",
    "```{figure} ./figures/evaluation_multiple_variables.png\n",
    ":width: 30%\n",
    "```"
   ]
  },
  {
   "cell_type": "code",
   "execution_count": null,
   "id": "8966082d",
   "metadata": {
    "tags": [
     "solution"
    ]
   },
   "outputs": [],
   "source": []
  },
  {
   "cell_type": "markdown",
   "id": "9504e8dc",
   "metadata": {
    "slideshow": {
     "slide_type": "slide"
    }
   },
   "source": [
    "### Evaluators\n",
    "Any callable function can be added as `Evaluator`, assuming the first argument is the result of the previous step and it returns a single result object which is then processed by the next step.\n",
    "\n",
    "```{figure} ./figures/evaluation_steps.png\n",
    "```\n",
    "\n",
    "- Any callable function can be added as `Evaluator`.\n",
    "- Each `Evaluator` takes the previous result as input and returns a new (intermediate) result.\n",
    "- Intermediate results are automatically cached."
   ]
  },
  {
   "cell_type": "markdown",
   "id": "f2ac4d96",
   "metadata": {
    "slideshow": {
     "slide_type": "slide"
    }
   },
   "source": [
    "## Evaluator Example\n",
    "\n",
    "In this example, two steps are required:\n",
    "- Process Simulation\n",
    "- Fractionation"
   ]
  },
  {
   "cell_type": "code",
   "execution_count": null,
   "id": "b1f98d4b",
   "metadata": {
    "slideshow": {
     "slide_type": "slide"
    },
    "tags": [
     "solution"
    ]
   },
   "outputs": [],
   "source": []
  },
  {
   "cell_type": "markdown",
   "id": "1f77c7d3",
   "metadata": {
    "slideshow": {
     "slide_type": "slide"
    }
   },
   "source": [
    "## Adding Objectives\n",
    "\n",
    "Now, when adding objectives, specify which steps are required for each objective"
   ]
  },
  {
   "cell_type": "code",
   "execution_count": null,
   "id": "fbdc4dd0",
   "metadata": {
    "tags": [
     "solution"
    ]
   },
   "outputs": [],
   "source": []
  },
  {
   "cell_type": "markdown",
   "id": "09c86ef8",
   "metadata": {
    "slideshow": {
     "slide_type": "slide"
    }
   },
   "source": [
    "## Evaluate Toolchain\n",
    "\n",
    "To check the toolchain, simply call `evaluate_objectives`"
   ]
  },
  {
   "cell_type": "code",
   "execution_count": null,
   "id": "51ff4480",
   "metadata": {
    "tags": [
     "solution"
    ]
   },
   "outputs": [],
   "source": []
  },
  {
   "cell_type": "code",
   "execution_count": null,
   "id": "e0ddf70e",
   "metadata": {
    "editable": true,
    "slideshow": {
     "slide_type": ""
    }
   },
   "outputs": [],
   "source": [
    "optimization_problem.objective_labels"
   ]
  }
 ],
 "metadata": {
  "jupytext": {
   "formats": "ipynb,md:myst"
  },
  "kernelspec": {
   "display_name": "Python 3 (ipykernel)",
   "language": "python",
   "name": "python3"
  }
 },
 "nbformat": 4,
 "nbformat_minor": 5
}
