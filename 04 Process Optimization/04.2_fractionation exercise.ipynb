{
 "cells": [
  {
   "cell_type": "markdown",
   "id": "6b5b2d93",
   "metadata": {
    "editable": true,
    "slideshow": {
     "slide_type": ""
    }
   },
   "source": [
    "# Fractionation - Exercise\n",
    "\n",
    "Take the following process from [this example](https://cadet-process.readthedocs.io/en/stable/examples/load_wash_elute/lwe_flow_rate.html).\n",
    "\n",
    "- Simulate the process.\n",
    "- Plot the outlet concentration. Use a secondary axis for the `Salt` component.\n",
    "- Instantiate a `Fractionator` and manually set fractionation times to purify component `C`.\n",
    "- Plot the results and analyse the `performance`, especially the purity.\n",
    "- Exclude the `Salt` component from the fractionation and analyse the `performance` again.\n",
    "- Use a `FractionationOptimizer` to automatically determine adequate cut times. Play around with different purity requirements and objecives."
   ]
  },
  {
   "cell_type": "code",
   "execution_count": null,
   "id": "fe2d0e1b",
   "metadata": {
    "editable": true,
    "slideshow": {
     "slide_type": ""
    }
   },
   "outputs": [],
   "source": [
    "from examples.load_wash_elute.lwe_flow_rate import process"
   ]
  },
  {
   "cell_type": "code",
   "execution_count": null,
   "id": "37fe7ad9",
   "metadata": {
    "editable": true,
    "slideshow": {
     "slide_type": ""
    },
    "tags": [
     "solution"
    ]
   },
   "outputs": [],
   "source": [
    "from CADETProcess.simulator import Cadet\n",
    "\n",
    "simulator = Cadet()\n",
    "\n",
    "simulation_results = simulator.simulate(process)\n",
    "\n",
    "from CADETProcess.plotting import SecondaryAxis\n",
    "sec = SecondaryAxis()\n",
    "sec.components = ['Salt']\n",
    "sec.y_label = '$c_{salt}$'\n",
    "\n",
    "simulation_results.solution.outlet.inlet.plot(secondary_axis=sec)"
   ]
  },
  {
   "cell_type": "code",
   "execution_count": null,
   "id": "5cd9046f",
   "metadata": {
    "editable": true,
    "slideshow": {
     "slide_type": ""
    },
    "tags": [
     "solution"
    ]
   },
   "outputs": [],
   "source": [
    "from CADETProcess.fractionation import Fractionator\n",
    "fractionator = Fractionator(simulation_results)\n",
    "\n",
    "fractionator.add_fractionation_event('start_C', 2, 5*60)\n",
    "fractionator.add_fractionation_event('end_C', -1, 8*60)\n",
    "\n",
    "fractionator.plot_fraction_signal()\n",
    "fractionator.performance"
   ]
  },
  {
   "cell_type": "code",
   "execution_count": null,
   "id": "1b84d53f",
   "metadata": {
    "editable": true,
    "slideshow": {
     "slide_type": ""
    },
    "tags": [
     "solution"
    ]
   },
   "outputs": [],
   "source": [
    "fractionator = Fractionator(simulation_results, components=['A', 'B', 'C'])\n",
    "\n",
    "fractionator.add_fractionation_event('start_C', 0, 5*60)\n",
    "fractionator.add_fractionation_event('end_C', -1, 8*60)\n",
    "\n",
    "fractionator.plot_fraction_signal()\n",
    "fractionator.performance"
   ]
  },
  {
   "cell_type": "code",
   "execution_count": null,
   "id": "7a6e850a",
   "metadata": {
    "editable": true,
    "slideshow": {
     "slide_type": ""
    },
    "tags": [
     "solution"
    ]
   },
   "outputs": [],
   "source": [
    "from CADETProcess.fractionation import FractionationOptimizer\n",
    "fractionation_optimizer = FractionationOptimizer()\n",
    "\n",
    "fractionator = fractionation_optimizer.optimize_fractionation(\n",
    "    simulation_results,\n",
    "    components=['A', 'B', 'C'],\n",
    "    purity_required=[0, 0, 0.95]\n",
    ")\n",
    "print(fractionator.performance)\n",
    "_ = fractionator.plot_fraction_signal()"
   ]
  },
  {
   "cell_type": "code",
   "execution_count": null,
   "id": "858fded5",
   "metadata": {
    "editable": true,
    "slideshow": {
     "slide_type": ""
    }
   },
   "outputs": [],
   "source": []
  },
  {
   "cell_type": "code",
   "execution_count": null,
   "id": "09ec3040",
   "metadata": {},
   "outputs": [],
   "source": []
  }
 ],
 "metadata": {
  "jupytext": {
   "formats": "ipynb,md:myst"
  },
  "kernelspec": {
   "display_name": "Python 3 (ipykernel)",
   "language": "python",
   "name": "python3"
  }
 },
 "nbformat": 4,
 "nbformat_minor": 5
}
