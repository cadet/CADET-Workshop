{
 "cells": [
  {
   "cell_type": "markdown",
   "id": "2b8d813f",
   "metadata": {
    "editable": true,
    "slideshow": {
     "slide_type": ""
    }
   },
   "source": [
    "# Fractionation - Exercise\n",
    "\n",
    "Take the following process from [this example](https://cadet-process.readthedocs.io/en/stable/examples/load_wash_elute/lwe_flow_rate.html).\n",
    "\n",
    "- Simulate the process.\n",
    "- Plot the outlet concentration. Use a secondary axis for the `Salt` component.\n",
    "- Instantiate a `Fractionator` and manually set fractionation times to purify component `C`.\n",
    "- Plot the results and analyse the `performance`, especially the purity.\n",
    "- Exclude the `Salt` component from the fractionation and analyse the `performance` again.\n",
    "- Use a `FractionationOptimizer` to automatically determine adequate cut times. Play around with different purity requirements and objecives."
   ]
  },
  {
   "cell_type": "code",
   "execution_count": null,
   "id": "0d285cea",
   "metadata": {
    "editable": true,
    "slideshow": {
     "slide_type": ""
    }
   },
   "outputs": [],
   "source": [
    "from examples.load_wash_elute.lwe_flow_rate import process"
   ]
  },
  {
   "cell_type": "code",
   "execution_count": null,
   "id": "6db87b7d",
   "metadata": {
    "editable": true,
    "slideshow": {
     "slide_type": ""
    },
    "tags": [
     "solution"
    ]
   },
   "outputs": [],
   "source": []
  },
  {
   "cell_type": "code",
   "execution_count": null,
   "id": "43cb4da0",
   "metadata": {
    "editable": true,
    "slideshow": {
     "slide_type": ""
    },
    "tags": [
     "solution"
    ]
   },
   "outputs": [],
   "source": []
  },
  {
   "cell_type": "code",
   "execution_count": null,
   "id": "0d2dc185",
   "metadata": {
    "editable": true,
    "slideshow": {
     "slide_type": ""
    },
    "tags": [
     "solution"
    ]
   },
   "outputs": [],
   "source": []
  },
  {
   "cell_type": "code",
   "execution_count": null,
   "id": "ac0a3769",
   "metadata": {
    "editable": true,
    "slideshow": {
     "slide_type": ""
    },
    "tags": [
     "solution"
    ]
   },
   "outputs": [],
   "source": []
  },
  {
   "cell_type": "code",
   "execution_count": null,
   "id": "d0f65e6c",
   "metadata": {
    "editable": true,
    "slideshow": {
     "slide_type": ""
    }
   },
   "outputs": [],
   "source": []
  }
 ],
 "metadata": {
  "jupytext": {
   "formats": "ipynb,md:myst"
  },
  "kernelspec": {
   "display_name": "Python 3 (ipykernel)",
   "language": "python",
   "name": "python3"
  }
 },
 "nbformat": 4,
 "nbformat_minor": 5
}
