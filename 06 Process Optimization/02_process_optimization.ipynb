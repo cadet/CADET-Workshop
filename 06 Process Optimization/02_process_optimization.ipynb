{
 "cells": [
  {
   "cell_type": "markdown",
   "id": "21bf502d",
   "metadata": {
    "editable": true,
    "slideshow": {
     "slide_type": ""
    }
   },
   "source": [
    "# Process Optimization"
   ]
  },
  {
   "cell_type": "markdown",
   "id": "ef4c4b1a",
   "metadata": {
    "editable": true,
    "slideshow": {
     "slide_type": "fragment"
    }
   },
   "source": [
    "First, an `OptimizationProblem` is instantiated."
   ]
  },
  {
   "cell_type": "code",
   "execution_count": null,
   "id": "9a66ca3b",
   "metadata": {
    "editable": true,
    "slideshow": {
     "slide_type": ""
    }
   },
   "outputs": [],
   "source": [
    "from CADETProcess.optimization import OptimizationProblem\n",
    "optimization_problem = OptimizationProblem('batch_elution')"
   ]
  },
  {
   "cell_type": "markdown",
   "id": "c7b637db",
   "metadata": {
    "editable": true,
    "slideshow": {
     "slide_type": "fragment"
    }
   },
   "source": [
    "The fully configured `Process` is imported from the examples and added to the `OptimizationProblem`."
   ]
  },
  {
   "cell_type": "code",
   "execution_count": null,
   "id": "161b832c",
   "metadata": {
    "editable": true,
    "slideshow": {
     "slide_type": ""
    }
   },
   "outputs": [],
   "source": [
    "from examples.batch_elution.process import process\n",
    "optimization_problem.add_evaluation_object(process)"
   ]
  },
  {
   "cell_type": "markdown",
   "id": "0dc79089",
   "metadata": {
    "editable": true,
    "slideshow": {
     "slide_type": "fragment"
    }
   },
   "source": [
    "In this case, the cycle time of the process, as well as the feed duration are to be optimized."
   ]
  },
  {
   "cell_type": "code",
   "execution_count": null,
   "id": "b35cbf41",
   "metadata": {
    "editable": true,
    "slideshow": {
     "slide_type": ""
    }
   },
   "outputs": [],
   "source": [
    "optimization_problem.add_variable('cycle_time', lb=10, ub=600)\n",
    "optimization_problem.add_variable('feed_duration.time', lb=10, ub=300)"
   ]
  },
  {
   "cell_type": "markdown",
   "id": "9907d328",
   "metadata": {
    "editable": true,
    "slideshow": {
     "slide_type": "fragment"
    }
   },
   "source": [
    "To ensure that the feed duration is always shorter than the cycle time, a linear constraint is added."
   ]
  },
  {
   "cell_type": "code",
   "execution_count": null,
   "id": "8dfad8bc",
   "metadata": {
    "editable": true,
    "slideshow": {
     "slide_type": ""
    }
   },
   "outputs": [],
   "source": [
    "optimization_problem.add_linear_constraint(\n",
    "    ['feed_duration.time', 'cycle_time'], [1, -1]\n",
    ")"
   ]
  },
  {
   "cell_type": "markdown",
   "id": "3a2f0ed0",
   "metadata": {
    "editable": true,
    "slideshow": {
     "slide_type": "fragment"
    }
   },
   "source": [
    "Now, the a simulator is configured and registered as evaluator.\n",
    "We want to ensure that the simulator repeats the simulatation until cyclic stationarity is reached."
   ]
  },
  {
   "cell_type": "code",
   "execution_count": null,
   "id": "d982556e",
   "metadata": {
    "editable": true,
    "slideshow": {
     "slide_type": ""
    }
   },
   "outputs": [],
   "source": [
    "from CADETProcess.simulator import Cadet\n",
    "process_simulator = Cadet()\n",
    "process_simulator.evaluate_stationarity = True\n",
    "\n",
    "optimization_problem.add_evaluator(process_simulator)"
   ]
  },
  {
   "cell_type": "markdown",
   "id": "d528143f",
   "metadata": {
    "editable": true,
    "slideshow": {
     "slide_type": "fragment"
    }
   },
   "source": [
    "Here, the fractionation optimizer is configured and registered as another evaluator."
   ]
  },
  {
   "cell_type": "code",
   "execution_count": null,
   "id": "58393ca6",
   "metadata": {
    "editable": true,
    "slideshow": {
     "slide_type": ""
    }
   },
   "outputs": [],
   "source": [
    "from CADETProcess.fractionation import FractionationOptimizer\n",
    "frac_opt = FractionationOptimizer()\n",
    "\n",
    "optimization_problem.add_evaluator(\n",
    "    frac_opt,\n",
    "    kwargs={\n",
    "        'purity_required': [0.95, 0.95],\n",
    "        'ignore_failed': False,\n",
    "        'allow_empty_fractions': False,\n",
    "    }\n",
    ")"
   ]
  },
  {
   "cell_type": "markdown",
   "id": "7a54dda1",
   "metadata": {
    "editable": true,
    "slideshow": {
     "slide_type": "fragment"
    }
   },
   "source": [
    "Now, the objectives are defined."
   ]
  },
  {
   "cell_type": "code",
   "execution_count": null,
   "id": "b9af3419",
   "metadata": {
    "editable": true,
    "slideshow": {
     "slide_type": ""
    }
   },
   "outputs": [],
   "source": [
    "from CADETProcess.performance import PerformanceProduct\n",
    "ranking = [1, 1]\n",
    "performance = PerformanceProduct(ranking=ranking)\n",
    "\n",
    "optimization_problem.add_objective(\n",
    "    performance,\n",
    "    requires=[process_simulator, frac_opt],\n",
    "    minimize=False,\n",
    ")"
   ]
  },
  {
   "cell_type": "markdown",
   "id": "0c60aa7d",
   "metadata": {
    "editable": true,
    "slideshow": {
     "slide_type": "fragment"
    }
   },
   "source": [
    "Add callback for post-processing"
   ]
  },
  {
   "cell_type": "code",
   "execution_count": null,
   "id": "03123bac",
   "metadata": {
    "editable": true,
    "slideshow": {
     "slide_type": ""
    }
   },
   "outputs": [],
   "source": [
    "def callback(fractionation, individual, evaluation_object, callbacks_dir):\n",
    "    fractionation.plot_fraction_signal(\n",
    "        file_name=f'{callbacks_dir}/{individual.id}_{evaluation_object}_fractionation.png',\n",
    "        show=False\n",
    "    )\n",
    "\n",
    "optimization_problem.add_callback(\n",
    "    callback, requires=[process_simulator, frac_opt]\n",
    ")"
   ]
  },
  {
   "cell_type": "markdown",
   "id": "bf378a41",
   "metadata": {
    "editable": true,
    "slideshow": {
     "slide_type": "fragment"
    }
   },
   "source": [
    "Finally, the an optimizer is configured.\n",
    "Again, we use `U_NSGA3`."
   ]
  },
  {
   "cell_type": "code",
   "execution_count": null,
   "id": "2115edb9",
   "metadata": {
    "editable": true,
    "slideshow": {
     "slide_type": ""
    }
   },
   "outputs": [],
   "source": [
    "from CADETProcess.optimization import U_NSGA3\n",
    "optimizer = U_NSGA3()\n",
    "\n",
    "optimizer.n_cores = 8\n",
    "optimizer.pop_size = 32\n",
    "optimizer.n_max_gen = 16"
   ]
  },
  {
   "cell_type": "code",
   "execution_count": null,
   "id": "83aa81d0",
   "metadata": {
    "editable": true,
    "slideshow": {
     "slide_type": ""
    }
   },
   "outputs": [],
   "source": [
    "results = optimizer.optimize(\n",
    "    optimization_problem,\n",
    "    use_checkpoint=False,\n",
    ")"
   ]
  }
 ],
 "metadata": {
  "kernelspec": {
   "display_name": "Python 3 (ipykernel)",
   "language": "python",
   "name": "python3"
  }
 },
 "nbformat": 4,
 "nbformat_minor": 5
}
