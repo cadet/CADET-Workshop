{
 "cells": [
  {
   "cell_type": "markdown",
   "id": "d36a3ad1",
   "metadata": {
    "editable": true,
    "slideshow": {
     "slide_type": ""
    }
   },
   "source": [
    "# Fractionation - Exercise\n",
    "\n",
    "Take the following process from [this example](https://cadet-process.readthedocs.io/en/stable/examples/load_wash_elute/lwe_flow_rate.html).\n",
    "\n",
    "- Simulate the process.\n",
    "- Plot the outlet concentration. Use a secondary axis for the `Salt` component.\n",
    "- Instantiate a `Fractionator` and manually set fractionation times to purify component `C`.\n",
    "- Plot the results and analyse the `performance`, especially the purity.\n",
    "- Exclude the `Salt` component from the fractionation and analyse the `performance` again.\n",
    "- Use a `FractionationOptimizer` to automatically determine adequate cut times. Play around with different purity requirements and objecives."
   ]
  },
  {
   "cell_type": "code",
   "execution_count": null,
   "id": "89303ab1",
   "metadata": {
    "editable": true,
    "slideshow": {
     "slide_type": ""
    }
   },
   "outputs": [],
   "source": [
    "from examples.load_wash_elute.lwe_flow_rate import process"
   ]
  },
  {
   "cell_type": "code",
   "execution_count": null,
   "id": "97bff0c9",
   "metadata": {
    "editable": true,
    "slideshow": {
     "slide_type": ""
    },
    "tags": [
     "solution"
    ]
   },
   "outputs": [],
   "source": []
  },
  {
   "cell_type": "code",
   "execution_count": null,
   "id": "6c0477b8",
   "metadata": {
    "editable": true,
    "slideshow": {
     "slide_type": ""
    },
    "tags": [
     "solution"
    ]
   },
   "outputs": [],
   "source": []
  },
  {
   "cell_type": "code",
   "execution_count": null,
   "id": "a8fe235a",
   "metadata": {
    "editable": true,
    "slideshow": {
     "slide_type": ""
    },
    "tags": [
     "solution"
    ]
   },
   "outputs": [],
   "source": []
  },
  {
   "cell_type": "code",
   "execution_count": null,
   "id": "924057af",
   "metadata": {
    "editable": true,
    "slideshow": {
     "slide_type": ""
    },
    "tags": [
     "solution"
    ]
   },
   "outputs": [],
   "source": []
  }
 ],
 "metadata": {
  "jupytext": {
   "formats": "ipynb,md:myst"
  },
  "kernelspec": {
   "display_name": "Python 3 (ipykernel)",
   "language": "python",
   "name": "python3"
  }
 },
 "nbformat": 4,
 "nbformat_minor": 5
}
