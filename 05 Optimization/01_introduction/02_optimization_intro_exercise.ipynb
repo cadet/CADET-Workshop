{
 "cells": [
  {
   "cell_type": "markdown",
   "id": "f26f20db",
   "metadata": {},
   "source": [
    "# Optimization - Exercise"
   ]
  },
  {
   "cell_type": "markdown",
   "id": "2b630244",
   "metadata": {},
   "source": [
    "## Exercise 1: Setup simple optimization problem\n",
    "\n",
    "Solve the following optimization problem.\n",
    "\n",
    "$$\n",
    "f(x) = \\left(x - 2 \\right)^3 - 3 \\cdot \\left( x - 2 \\right) + 1 \\\\\n",
    "s.t. \\\\\n",
    "0.2 \\le x \\le 4.5\n",
    "$$\n",
    "\n",
    "Explore different optimizers, modify their options and start from different initial values."
   ]
  },
  {
   "cell_type": "code",
   "execution_count": null,
   "id": "dddad064",
   "metadata": {
    "tags": [
     "solution"
    ]
   },
   "outputs": [],
   "source": []
  },
  {
   "cell_type": "code",
   "execution_count": null,
   "id": "6d6b1594",
   "metadata": {
    "tags": [
     "solution"
    ]
   },
   "outputs": [],
   "source": []
  },
  {
   "cell_type": "code",
   "execution_count": null,
   "id": "857ed49d",
   "metadata": {
    "tags": [
     "solution"
    ]
   },
   "outputs": [],
   "source": []
  },
  {
   "cell_type": "code",
   "execution_count": null,
   "id": "10e3092c",
   "metadata": {},
   "outputs": [],
   "source": [
    "optimizer = TrustConstr()\n",
    "optimizer.n_max_gen = 10\n",
    "\n",
    "optimization_results = optimizer.optimize(optimization_problem, x0=0.5)"
   ]
  },
  {
   "cell_type": "code",
   "execution_count": null,
   "id": "6aff9def",
   "metadata": {},
   "outputs": [],
   "source": [
    "optimizer.results.plot_objectives()"
   ]
  }
 ],
 "metadata": {
  "kernelspec": {
   "display_name": "Python 3 (ipykernel)",
   "language": "python",
   "name": "python3"
  }
 },
 "nbformat": 4,
 "nbformat_minor": 5
}
