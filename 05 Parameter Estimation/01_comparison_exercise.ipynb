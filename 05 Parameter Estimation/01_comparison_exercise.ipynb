{
 "cells": [
  {
   "cell_type": "markdown",
   "id": "344191aa",
   "metadata": {
    "editable": true,
    "slideshow": {
     "slide_type": ""
    }
   },
   "source": [
    "# Comparison - Exercise\n",
    "\n",
    "For this exercise, consider the following flow sheet:\n",
    "\n",
    "```{figure} ./figures/comparator_uv_cond.png\n",
    "```\n",
    "\n",
    "To characterize the system periphery, a pore-penetrating tracer (Acetone) pulse was injected into the system without a column and UV and conductivity were measured.\n",
    "\n",
    "```{note}\n",
    "To model the additional dispersion of the system, two `Cstr`s were introduced\n",
    "```"
   ]
  },
  {
   "cell_type": "markdown",
   "id": "caedd9fa",
   "metadata": {
    "editable": true,
    "slideshow": {
     "slide_type": ""
    }
   },
   "source": [
    "## Exercise 1: Comparator\n",
    "\n",
    "The (synthetic) experiment was repeated to account for system variability. The data was converted to concentrations in $mM$ and can be found in `./experimental_data`.\n",
    "\n",
    "**Task:**\n",
    "- Import and plot the experimental data using the `ReferenceIO` class.\n",
    "- Add the references to the `Comparator`.\n",
    "- Add the `SSE` difference metric and compare with simulation results.\n",
    "- Compare with other metrics."
   ]
  },
  {
   "cell_type": "code",
   "execution_count": null,
   "id": "b320069e",
   "metadata": {
    "editable": true,
    "slideshow": {
     "slide_type": ""
    }
   },
   "outputs": [],
   "source": [
    "from CADETProcess.processModel import ComponentSystem\n",
    "from CADETProcess.processModel import Inlet, Cstr, TubularReactor, Outlet\n",
    "from CADETProcess.processModel import FlowSheet\n",
    "from CADETProcess.processModel import Process\n",
    "from CADETProcess.simulator import Cadet\n",
    "\n",
    "# Some Variables\n",
    "Q_ml_min = 0.5  # ml/min\n",
    "Q_m3_s = Q_ml_min/(60*1e6)\n",
    "V_tracer = 50e-9  # m3\n",
    "\n",
    "# Component System\n",
    "component_system = ComponentSystem(['Acetone'])\n",
    "\n",
    "# Unit Operations\n",
    "acetone = Inlet(component_system, name='acetone')\n",
    "acetone.c = [131.75]\n",
    "\n",
    "water = Inlet(component_system, name='water')\n",
    "water.c = [0]\n",
    "\n",
    "inlet_valve = Cstr(component_system, name='inlet_valve')\n",
    "inlet_valve.V = 0.3e-6\n",
    "inlet_valve.c = [0]\n",
    "\n",
    "tubing = TubularReactor(component_system, name='tubing')\n",
    "tubing.length = 0.85\n",
    "tubing.diameter = 0.75e-3\n",
    "tubing.axial_dispersion = 1e-7\n",
    "tubing.c = [0]\n",
    "\n",
    "uv_detector = Cstr(component_system, name='uv_detector')\n",
    "uv_detector.V = 0.1e-6\n",
    "uv_detector.c = [0]\n",
    "\n",
    "cond_detector = Cstr(component_system, name='cond_detector')\n",
    "cond_detector.V = 0.2e-6\n",
    "cond_detector.c = [0]\n",
    "\n",
    "outlet = Outlet(component_system, name='outlet')\n",
    "\n",
    "# Flow Sheet\n",
    "fs = FlowSheet(component_system)\n",
    "fs.add_unit(acetone)\n",
    "fs.add_unit(water)\n",
    "fs.add_unit(inlet_valve)\n",
    "fs.add_unit(tubing)\n",
    "fs.add_unit(uv_detector)\n",
    "fs.add_unit(cond_detector)\n",
    "fs.add_unit(outlet)\n",
    "\n",
    "fs.add_connection(acetone, inlet_valve)\n",
    "fs.add_connection(water, inlet_valve)\n",
    "fs.add_connection(inlet_valve, tubing)\n",
    "fs.add_connection(tubing, uv_detector)\n",
    "fs.add_connection(uv_detector, cond_detector)\n",
    "fs.add_connection(cond_detector, outlet)\n",
    "\n",
    "# Process\n",
    "process = Process(fs, 'Acetone_Pulse_no_column')\n",
    "process.cycle_time = 500\n",
    "\n",
    "process.add_event('pulse_acetone_on', 'flow_sheet.acetone.flow_rate', Q_m3_s, 0)\n",
    "process.add_event('pulse_acetone_off', 'flow_sheet.acetone.flow_rate', 0, V_tracer/Q_m3_s)\n",
    "\n",
    "process.add_event('feed_water_on', 'flow_sheet.water.flow_rate', Q_m3_s, V_tracer/Q_m3_s)\n",
    "process.add_event('feed_water_off', 'flow_sheet.water.flow_rate', 0, process.cycle_time)"
   ]
  },
  {
   "cell_type": "code",
   "execution_count": null,
   "id": "1cdca3fc",
   "metadata": {
    "editable": true,
    "slideshow": {
     "slide_type": ""
    }
   },
   "outputs": [],
   "source": [
    "simulator = Cadet()\n",
    "\n",
    "simulation_results = simulator.simulate(process)\n",
    "\n",
    "fig, ax = None, None\n",
    "y_max = 30\n",
    "fig, ax = simulation_results.solution.inlet_valve.outlet.plot(fig=fig, ax=ax, y_max=y_max)\n",
    "fig, ax = simulation_results.solution.tubing.outlet.plot(fig=fig, ax=ax, y_max=y_max)\n",
    "fig, ax = simulation_results.solution.uv_detector.outlet.plot(fig=fig, ax=ax, y_max=y_max)"
   ]
  },
  {
   "cell_type": "code",
   "execution_count": null,
   "id": "c5a927e7",
   "metadata": {
    "editable": true,
    "slideshow": {
     "slide_type": ""
    },
    "tags": [
     "solution"
    ]
   },
   "outputs": [],
   "source": [
    "from CADETProcess.reference import ReferenceIO\n",
    "import numpy as np\n",
    "\n",
    "data_uv_1 = np.loadtxt('./experimental_data/uv_detector_1.csv', delimiter=',')\n",
    "time_uv_1 = data_uv_1[:, 0]\n",
    "uv_1 = data_uv_1[:, 1]\n",
    "reference_uv_1 = ReferenceIO('uv_1', time_uv_1, uv_1)\n",
    "_ = reference_uv_1.plot()\n",
    "\n",
    "data_uv_2 = np.loadtxt('./experimental_data/uv_detector_2.csv', delimiter=',')\n",
    "time_uv_2 = data_uv_2[:, 0]\n",
    "uv_2 = data_uv_2[:, 1]\n",
    "reference_uv_2 = ReferenceIO('uv_2', time_uv_2, uv_2)\n",
    "_ = reference_uv_2.plot()\n",
    "\n",
    "data_cond_1 = np.loadtxt('./experimental_data/cond_detector_1.csv', delimiter=',')\n",
    "time_cond_1 = data_cond_1[:, 0]\n",
    "cond_1 = data_cond_1[:, 1]\n",
    "reference_cond_1 = ReferenceIO('cond_1', time_cond_1, cond_1)\n",
    "_ = reference_cond_1.plot()\n",
    "\n",
    "data_cond_2 = np.loadtxt('./experimental_data/cond_detector_2.csv', delimiter=',')\n",
    "time_cond_2 = data_cond_2[:, 0]\n",
    "cond_2 = data_cond_2[:, 1]\n",
    "reference_cond_2 = ReferenceIO('cond_2', time_cond_2, cond_2)\n",
    "_ = reference_cond_2.plot()"
   ]
  },
  {
   "cell_type": "code",
   "execution_count": null,
   "id": "bef5678f",
   "metadata": {
    "editable": true,
    "slideshow": {
     "slide_type": ""
    },
    "tags": [
     "solution"
    ]
   },
   "outputs": [],
   "source": [
    "from CADETProcess.comparison import Comparator\n",
    "\n",
    "comparator = Comparator()\n",
    "\n",
    "comparator.add_reference(reference_uv_1)\n",
    "comparator.add_reference(reference_uv_2)\n",
    "comparator.add_reference(reference_cond_1)\n",
    "comparator.add_reference(reference_cond_2)"
   ]
  },
  {
   "cell_type": "code",
   "execution_count": null,
   "id": "77a5ce15",
   "metadata": {
    "editable": true,
    "slideshow": {
     "slide_type": ""
    },
    "tags": [
     "solution"
    ]
   },
   "outputs": [],
   "source": [
    "comparator.add_difference_metric('Shape', reference_uv_1, 'uv_detector.outlet')\n",
    "comparator.add_difference_metric('Shape', reference_uv_2, 'uv_detector.outlet')\n",
    "\n",
    "comparator.add_difference_metric('Shape', reference_cond_1, 'cond_detector.outlet')\n",
    "comparator.add_difference_metric('Shape', reference_cond_2, 'cond_detector.outlet')"
   ]
  },
  {
   "cell_type": "code",
   "execution_count": null,
   "id": "3cf2406f",
   "metadata": {
    "editable": true,
    "slideshow": {
     "slide_type": ""
    },
    "tags": [
     "solution"
    ]
   },
   "outputs": [],
   "source": [
    "comparator.evaluate(simulation_results)"
   ]
  },
  {
   "cell_type": "code",
   "execution_count": null,
   "id": "987504b6",
   "metadata": {
    "editable": true,
    "slideshow": {
     "slide_type": ""
    }
   },
   "outputs": [],
   "source": [
    "_ = comparator.plot_comparison(simulation_results)"
   ]
  },
  {
   "cell_type": "markdown",
   "id": "f275ef72",
   "metadata": {
    "editable": true,
    "slideshow": {
     "slide_type": "fragment"
    }
   },
   "source": [
    "```{note}\n",
    "It's also possible to add multiple references, e.g. for triplicate experiments or for different sensors.\n",
    "```"
   ]
  },
  {
   "cell_type": "markdown",
   "id": "211c322b",
   "metadata": {
    "editable": true,
    "slideshow": {
     "slide_type": ""
    }
   },
   "source": [
    "## Exercise 2: Optimization\n",
    "\n",
    "**Task:**\n",
    "- Setup optimization problem\n",
    "- Add the process to the optimization problem and define the following optimization variables.\n",
    "  - `inlet_valve.V`: [1e-7, 1e-6] m³\n",
    "  - `tubing.axial_dispersion` = [1e-8, 1e-6] m²/s\n",
    "  - `uv_detector.V`: [1e-7, 1e-6] m³\n",
    "  - `cond_detector.V`: [1e-7, 1e-6] m³\n",
    "- Add the `Comparator` as objective, using the simulator as evaluator\n",
    "- Define a callback function that compares simulation output with experimental data.\n",
    "- Setup an optimizer, e.g. `U_NSGA3` and run the optimization"
   ]
  },
  {
   "cell_type": "code",
   "execution_count": null,
   "id": "5c224393",
   "metadata": {
    "editable": true,
    "slideshow": {
     "slide_type": ""
    }
   },
   "outputs": [],
   "source": [
    "from CADETProcess.optimization import OptimizationProblem\n",
    "optimization_problem = OptimizationProblem('System periphery')\n",
    "\n",
    "optimization_problem.add_evaluation_object(process)\n",
    "\n",
    "optimization_problem.add_variable(\n",
    "    name='Inlet valve volume', parameter_path='flow_sheet.inlet_valve.V',\n",
    "    lb=1e-7, ub=1e-6,\n",
    "    transform='auto'\n",
    ")\n",
    "\n",
    "optimization_problem.add_variable(\n",
    "    name='Tubing axial dispersion', parameter_path='flow_sheet.tubing.axial_dispersion',\n",
    "    lb=1e-8, ub=1e-6,\n",
    "    transform='auto'\n",
    ")\n",
    "\n",
    "optimization_problem.add_variable(\n",
    "    name='UV Detector volume', parameter_path='flow_sheet.uv_detector.V',\n",
    "    lb=1e-7, ub=1e-6,\n",
    "    transform='auto'\n",
    ")\n",
    "\n",
    "optimization_problem.add_variable(\n",
    "    name='Conductivity detector volume', parameter_path='flow_sheet.cond_detector.V',\n",
    "    lb=1e-7, ub=1e-6,\n",
    "    transform='auto'\n",
    ")\n",
    "\n",
    "optimization_problem.add_evaluator(simulator)\n",
    "\n",
    "optimization_problem.add_objective(\n",
    "    comparator,\n",
    "    n_objectives=comparator.n_metrics,\n",
    "    requires=[simulator]\n",
    ")\n",
    "\n",
    "def callback(simulation_results, individual, evaluation_object, callbacks_dir='./'):\n",
    "    comparator.plot_comparison(\n",
    "        simulation_results,\n",
    "        file_name=f'{callbacks_dir}/{individual.id}_{evaluation_object}_comparison.png',\n",
    "        show=False\n",
    "    )\n",
    "\n",
    "\n",
    "optimization_problem.add_callback(callback, requires=[simulator])"
   ]
  },
  {
   "cell_type": "code",
   "execution_count": null,
   "id": "09d56d27",
   "metadata": {
    "editable": true,
    "slideshow": {
     "slide_type": ""
    }
   },
   "outputs": [],
   "source": [
    "from CADETProcess.optimization import U_NSGA3\n",
    "optimizer = U_NSGA3()\n",
    "optimizer.n_cores = 8\n",
    "optimizer.pop_size = 64\n",
    "optimizer.n_max_gen = 16\n",
    "\n",
    "optimization_results = optimizer.optimize(\n",
    "    optimization_problem,\n",
    "    use_checkpoint=False\n",
    ")"
   ]
  }
 ],
 "metadata": {
  "kernelspec": {
   "display_name": "Python 3 (ipykernel)",
   "language": "python",
   "name": "python3"
  }
 },
 "nbformat": 4,
 "nbformat_minor": 5
}
