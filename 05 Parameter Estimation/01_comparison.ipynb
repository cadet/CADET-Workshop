{
 "cells": [
  {
   "cell_type": "markdown",
   "id": "3eec497a",
   "metadata": {
    "editable": true,
    "slideshow": {
     "slide_type": ""
    }
   },
   "source": [
    "# Parameter Estimation\n",
    "One important aspect in modelling is parameter estimation.\n",
    "For this purpose, model parameters are varied until the simulated output matches some reference (usually experimental data).\n",
    "To quantify the difference between simulation and reference, **CADET-Process** provides a `comparison` module."
   ]
  },
  {
   "cell_type": "markdown",
   "id": "71f88845",
   "metadata": {
    "slideshow": {
     "slide_type": "fragment"
    }
   },
   "source": [
    "Consider a simple tracer pulse injection onto a chromatographic column.\n",
    "The following (experimental) concentration profile is measured at the column outlet."
   ]
  },
  {
   "cell_type": "code",
   "execution_count": null,
   "id": "02d95ab9",
   "metadata": {
    "editable": true,
    "slideshow": {
     "slide_type": ""
    }
   },
   "outputs": [],
   "source": [
    "import numpy as np\n",
    "data = np.loadtxt('./experimental_data/non_pore_penetrating_tracer.csv', delimiter=',')\n",
    "\n",
    "time_experiment = data[:, 0]\n",
    "dextran_experiment = data[:, 1]\n",
    "\n",
    "import matplotlib.pyplot as plt\n",
    "_ = plt.plot(time_experiment, dextran_experiment)"
   ]
  },
  {
   "cell_type": "markdown",
   "id": "08c22d3d",
   "metadata": {
    "slideshow": {
     "slide_type": "fragment"
    }
   },
   "source": [
    "The goal is to determine the bed porosity of the column, as well the axial dispersion.\n",
    "Other process parameters like the column geometry and particle sizes are assumed to be known."
   ]
  },
  {
   "cell_type": "markdown",
   "id": "7428e952",
   "metadata": {
    "slideshow": {
     "slide_type": "slide"
    }
   },
   "source": [
    "## References\n",
    "To properly work with **CADET-Process**, the experimental data needs to be converted to an internal standard.\n",
    "The `reference` module provides different classes for different types of experiments.\n",
    "For in- and outgoing streams of unit operations, the `ReferenceIO` class must be used."
   ]
  },
  {
   "cell_type": "code",
   "execution_count": null,
   "id": "80d9b755",
   "metadata": {
    "editable": true,
    "slideshow": {
     "slide_type": ""
    }
   },
   "outputs": [],
   "source": [
    "from CADETProcess.reference import ReferenceIO\n",
    "\n",
    "reference = ReferenceIO('dextran experiment', time_experiment, dextran_experiment)"
   ]
  },
  {
   "cell_type": "markdown",
   "id": "d89b08d3",
   "metadata": {
    "slideshow": {
     "slide_type": "fragment"
    }
   },
   "source": [
    "Similarly to the `SolutionIO` class, the `ReferenceIO` class also provides a plot method:"
   ]
  },
  {
   "cell_type": "code",
   "execution_count": null,
   "id": "560828e6",
   "metadata": {},
   "outputs": [],
   "source": [
    "_ = reference.plot()"
   ]
  },
  {
   "cell_type": "markdown",
   "id": "b1520467",
   "metadata": {
    "slideshow": {
     "slide_type": "slide"
    }
   },
   "source": [
    "## Comparator\n",
    "\n",
    "The `Comparator` class comparing the simulation output with experimental data. It provides several methods for visualizing and analyzing the differences between the data sets. Users can choose from a range of metrics to quantify the differences between the two data sets, such as sum squared errors or shape comparison."
   ]
  },
  {
   "cell_type": "code",
   "execution_count": null,
   "id": "90b7bc60",
   "metadata": {
    "editable": true,
    "slideshow": {
     "slide_type": ""
    },
    "tags": [
     "solution"
    ]
   },
   "outputs": [],
   "source": []
  },
  {
   "cell_type": "markdown",
   "id": "c6814b2e",
   "metadata": {
    "slideshow": {
     "slide_type": "fragment"
    }
   },
   "source": [
    "```{note}\n",
    "It's also possible to add multiple references, e.g. for triplicate experiments or for different sensors.\n",
    "```"
   ]
  },
  {
   "cell_type": "markdown",
   "id": "73a0f99a",
   "metadata": {
    "slideshow": {
     "slide_type": "slide"
    }
   },
   "source": [
    "## Difference Metrics\n",
    "There are many metrics which can be used to quantify the difference between the simulation and the reference.\n",
    "Most commonly, the sum squared error (SSE) is used."
   ]
  },
  {
   "cell_type": "markdown",
   "id": "89646834",
   "metadata": {
    "slideshow": {
     "slide_type": "fragment"
    }
   },
   "source": [
    "However, SSE is often not an ideal measurement for chromatography.\n",
    "Because of experimental non-idealities like pump delays and fluctuations in flow rate there is a tendency for the peaks to shift in time.\n",
    "This causes the optimizer to favour peak position over peak shape and can lead for example to an overestimation of axial dispersion.\n",
    "\n",
    "In contrast, the peak shape is dictated by the physics of the physico-chemical interactions while the position can shift slightly due to systematic errors like pump delays.\n",
    "Hence, a metric which prioritizes the shape of the peaks being accurate over the peak eluting exactly at the correct time is preferable.\n",
    "For this purpose, **CADET-Process** offers a `Shape` metric."
   ]
  },
  {
   "cell_type": "markdown",
   "id": "50d485ee",
   "metadata": {
    "jupyterlab-deck": {
     "layer": "fragment"
    }
   },
   "source": [
    "To add a difference metric, the following arguments need to be passed to the `add_difference_metric` method:\n",
    "- `difference_metric`: The type of the metric.\n",
    "- `reference`: The reference which should be used for the metric.\n",
    "- `solution_path`: The path to the corresponding solution in the simulation results."
   ]
  },
  {
   "cell_type": "code",
   "execution_count": null,
   "id": "48eb39dd",
   "metadata": {
    "editable": true,
    "slideshow": {
     "slide_type": ""
    },
    "tags": [
     "solution"
    ]
   },
   "outputs": [],
   "source": []
  },
  {
   "cell_type": "markdown",
   "id": "6c4e63b3",
   "metadata": {
    "slideshow": {
     "slide_type": "fragment"
    }
   },
   "source": [
    "Optionally, a start and end time can be specified to only evaluate the difference metric at that slice.\n",
    "This is particularly useful if system noise (e.g. injection peaks) should be ignored or if certain peaks correspond to certain components."
   ]
  },
  {
   "cell_type": "code",
   "execution_count": null,
   "id": "07cad8ca",
   "metadata": {
    "editable": true,
    "slideshow": {
     "slide_type": ""
    },
    "tags": [
     "solution"
    ]
   },
   "outputs": [],
   "source": []
  },
  {
   "cell_type": "markdown",
   "id": "85b4f606",
   "metadata": {
    "slideshow": {
     "slide_type": "slide"
    }
   },
   "source": [
    "## Reference Model\n",
    "\n",
    "Next to the experimental data, a reference model needs to be configured.\n",
    "It must include relevant details s.t. it is capable of accurately predicting the experimental system (e.g. tubing, valves etc.).\n",
    "For this example, the full process configuration can be found {ref}`here <dextran_pulse_example>`.\n",
    "\n",
    "As an initial guess, the bed porosity is set to $0.5$, and the axial dispersion to $1.0 \\cdot 10^{-7}$.\n",
    "After process simulation, the `evaluate` method is called with the simulation results."
   ]
  },
  {
   "cell_type": "code",
   "execution_count": null,
   "id": "52e20219",
   "metadata": {
    "editable": true,
    "slideshow": {
     "slide_type": ""
    },
    "tags": [
     "solution"
    ]
   },
   "outputs": [],
   "source": []
  },
  {
   "cell_type": "markdown",
   "id": "0c3f2821",
   "metadata": {
    "slideshow": {
     "slide_type": "fragment"
    }
   },
   "source": [
    "The difference can also be visualized:"
   ]
  },
  {
   "cell_type": "code",
   "execution_count": null,
   "id": "7aae886c",
   "metadata": {
    "editable": true,
    "slideshow": {
     "slide_type": ""
    },
    "tags": [
     "solution"
    ]
   },
   "outputs": [],
   "source": []
  },
  {
   "cell_type": "markdown",
   "id": "7268ee6a",
   "metadata": {
    "slideshow": {
     "slide_type": "fragment"
    }
   },
   "source": [
    "The comparison shows that there is still a large discrepancy between simulation and experiment."
   ]
  },
  {
   "cell_type": "markdown",
   "id": "395ccd0c",
   "metadata": {
    "editable": true,
    "slideshow": {
     "slide_type": "slide"
    }
   },
   "source": [
    "## Optimization\n",
    "\n",
    "Instead of manually adjusting these parameters, an `OptimizationProblem` can be set up which automatically determines the parameter values.\n",
    "For this purpose, an `OptimimizationProblem` is defined and the process is added as an evaluation object."
   ]
  },
  {
   "cell_type": "code",
   "execution_count": null,
   "id": "3c94ec9f",
   "metadata": {
    "editable": true,
    "slideshow": {
     "slide_type": ""
    },
    "tags": [
     "solution"
    ]
   },
   "outputs": [],
   "source": []
  },
  {
   "cell_type": "markdown",
   "id": "d9e6d9fc",
   "metadata": {
    "editable": true,
    "slideshow": {
     "slide_type": "fragment"
    }
   },
   "source": [
    "Then, the optimization variables are added.\n",
    "Note, the parameter path associates the variable with the parameter of the corresponding column unit operation."
   ]
  },
  {
   "cell_type": "code",
   "execution_count": null,
   "id": "00782f3f",
   "metadata": {
    "editable": true,
    "slideshow": {
     "slide_type": ""
    },
    "tags": [
     "solution"
    ]
   },
   "outputs": [],
   "source": []
  },
  {
   "cell_type": "markdown",
   "id": "0d979fc3",
   "metadata": {
    "editable": true,
    "slideshow": {
     "slide_type": "slide"
    }
   },
   "source": [
    "Before the difference metrics, which we want to minimize, the `Process` needs to be simulated.\n",
    "For this purpose, register the `Cadet` simulator instance as an evaluator."
   ]
  },
  {
   "cell_type": "code",
   "execution_count": null,
   "id": "c1f285dd",
   "metadata": {
    "editable": true,
    "slideshow": {
     "slide_type": ""
    },
    "tags": [
     "solution"
    ]
   },
   "outputs": [],
   "source": []
  },
  {
   "cell_type": "markdown",
   "id": "223c7947",
   "metadata": {
    "editable": true,
    "slideshow": {
     "slide_type": "fragment"
    }
   },
   "source": [
    "Now, when adding the `Comparator` (which determines the difference metrics) as objective function, the simulator can be added to the `required` list.\n",
    "Note that the number of metrics needs to be passed as `n_objectives`."
   ]
  },
  {
   "cell_type": "code",
   "execution_count": null,
   "id": "248373eb",
   "metadata": {
    "editable": true,
    "slideshow": {
     "slide_type": ""
    },
    "tags": [
     "solution"
    ]
   },
   "outputs": [],
   "source": []
  },
  {
   "cell_type": "markdown",
   "id": "f2e60566",
   "metadata": {
    "editable": true,
    "slideshow": {
     "slide_type": "fragment"
    }
   },
   "source": [
    "To get some feedback during optimization, a callback function is added which plots the comparison with the experimental data and stores it in a separate directory."
   ]
  },
  {
   "cell_type": "code",
   "execution_count": null,
   "id": "84405997",
   "metadata": {
    "editable": true,
    "slideshow": {
     "slide_type": ""
    },
    "tags": [
     "solution"
    ]
   },
   "outputs": [],
   "source": []
  },
  {
   "cell_type": "markdown",
   "id": "da938e8c",
   "metadata": {
    "editable": true,
    "slideshow": {
     "slide_type": "slide"
    }
   },
   "source": [
    "## Optimizer\n",
    "\n",
    "A couple of optimizers are available in **CADET-Process**.\n",
    "Depending on the problem at hand, some optimizers might outperform others.\n",
    "Generally, `U_NSGA3`, a genetic algorithm, is a robust choice.\n",
    "While not necessarily the most efficient, it usually manages to handle complex problems with multiple dimensions, constraints, and objectives.\n",
    "Here, we limit the number of cores, the population size, as well as the maximum number of generations."
   ]
  },
  {
   "cell_type": "code",
   "execution_count": null,
   "id": "c97574cb",
   "metadata": {
    "editable": true,
    "slideshow": {
     "slide_type": ""
    },
    "tags": [
     "solution"
    ]
   },
   "outputs": [],
   "source": []
  },
  {
   "cell_type": "code",
   "execution_count": null,
   "id": "55ccd59a",
   "metadata": {
    "editable": true,
    "slideshow": {
     "slide_type": ""
    },
    "tags": [
     "solution"
    ]
   },
   "outputs": [],
   "source": []
  }
 ],
 "metadata": {
  "kernelspec": {
   "display_name": "Python 3 (ipykernel)",
   "language": "python",
   "name": "python3"
  }
 },
 "nbformat": 4,
 "nbformat_minor": 5
}
