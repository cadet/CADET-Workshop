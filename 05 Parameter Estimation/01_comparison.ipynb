{
 "cells": [
  {
   "cell_type": "markdown",
   "id": "8bd3112c",
   "metadata": {
    "editable": true,
    "slideshow": {
     "slide_type": ""
    }
   },
   "source": [
    "# Parameter Estimation\n",
    "One important aspect in modelling is parameter estimation.\n",
    "For this purpose, model parameters are varied until the simulated output matches some reference (usually experimental data).\n",
    "To quantify the difference between simulation and reference, **CADET-Process** provides a `comparison` module."
   ]
  },
  {
   "cell_type": "markdown",
   "id": "e653d98b",
   "metadata": {
    "slideshow": {
     "slide_type": "fragment"
    }
   },
   "source": [
    "Consider a simple tracer pulse injection onto a chromatographic column.\n",
    "The following (experimental) concentration profile is measured at the column outlet."
   ]
  },
  {
   "cell_type": "code",
   "execution_count": null,
   "id": "29703705",
   "metadata": {
    "editable": true,
    "slideshow": {
     "slide_type": ""
    }
   },
   "outputs": [],
   "source": [
    "import numpy as np\n",
    "data = np.loadtxt('./experimental_data/non_pore_penetrating_tracer.csv', delimiter=',')\n",
    "\n",
    "time_experiment = data[:, 0]\n",
    "dextran_experiment = data[:, 1]\n",
    "\n",
    "import matplotlib.pyplot as plt\n",
    "_ = plt.plot(time_experiment, dextran_experiment)"
   ]
  },
  {
   "cell_type": "markdown",
   "id": "3adae393",
   "metadata": {
    "slideshow": {
     "slide_type": "fragment"
    }
   },
   "source": [
    "The goal is to determine the bed porosity of the column, as well the axial dispersion.\n",
    "Other process parameters like the column geometry and particle sizes are assumed to be known."
   ]
  },
  {
   "cell_type": "markdown",
   "id": "b76f5ca8",
   "metadata": {
    "slideshow": {
     "slide_type": "slide"
    }
   },
   "source": [
    "## References\n",
    "To properly work with **CADET-Process**, the experimental data needs to be converted to an internal standard.\n",
    "The `reference` module provides different classes for different types of experiments.\n",
    "For in- and outgoing streams of unit operations, the `ReferenceIO` class must be used."
   ]
  },
  {
   "cell_type": "code",
   "execution_count": null,
   "id": "597059b2",
   "metadata": {
    "editable": true,
    "slideshow": {
     "slide_type": ""
    }
   },
   "outputs": [],
   "source": [
    "from CADETProcess.reference import ReferenceIO\n",
    "\n",
    "reference = ReferenceIO('dextran experiment', time_experiment, dextran_experiment)"
   ]
  },
  {
   "cell_type": "markdown",
   "id": "2a2594ab",
   "metadata": {
    "slideshow": {
     "slide_type": "fragment"
    }
   },
   "source": [
    "Similarly to the `SolutionIO` class, the `ReferenceIO` class also provides a plot method:"
   ]
  },
  {
   "cell_type": "code",
   "execution_count": null,
   "id": "bffba56b",
   "metadata": {},
   "outputs": [],
   "source": [
    "_ = reference.plot()"
   ]
  },
  {
   "cell_type": "markdown",
   "id": "9fb0118e",
   "metadata": {
    "slideshow": {
     "slide_type": "slide"
    }
   },
   "source": [
    "## Comparator\n",
    "\n",
    "The `Comparator` class comparing the simulation output with experimental data. It provides several methods for visualizing and analyzing the differences between the data sets. Users can choose from a range of metrics to quantify the differences between the two data sets, such as sum squared errors or shape comparison."
   ]
  },
  {
   "cell_type": "code",
   "execution_count": null,
   "id": "9e07fe0a",
   "metadata": {
    "editable": true,
    "slideshow": {
     "slide_type": ""
    },
    "tags": [
     "solution"
    ]
   },
   "outputs": [],
   "source": [
    "from CADETProcess.comparison import Comparator\n",
    "comparator = Comparator()\n",
    "\n",
    "comparator.add_reference(reference)"
   ]
  },
  {
   "cell_type": "markdown",
   "id": "e273dacd",
   "metadata": {
    "slideshow": {
     "slide_type": "fragment"
    }
   },
   "source": [
    "```{note}\n",
    "It's also possible to add multiple references, e.g. for triplicate experiments or for different sensors.\n",
    "```"
   ]
  },
  {
   "cell_type": "markdown",
   "id": "ddfc4889",
   "metadata": {
    "slideshow": {
     "slide_type": "slide"
    }
   },
   "source": [
    "## Difference Metrics\n",
    "There are many metrics which can be used to quantify the difference between the simulation and the reference.\n",
    "Most commonly, the sum squared error (SSE) is used."
   ]
  },
  {
   "cell_type": "markdown",
   "id": "3f393b13",
   "metadata": {
    "slideshow": {
     "slide_type": "fragment"
    }
   },
   "source": [
    "However, SSE is often not an ideal measurement for chromatography.\n",
    "Because of experimental non-idealities like pump delays and fluctuations in flow rate there is a tendency for the peaks to shift in time.\n",
    "This causes the optimizer to favour peak position over peak shape and can lead for example to an overestimation of axial dispersion.\n",
    "\n",
    "In contrast, the peak shape is dictated by the physics of the physico-chemical interactions while the position can shift slightly due to systematic errors like pump delays.\n",
    "Hence, a metric which prioritizes the shape of the peaks being accurate over the peak eluting exactly at the correct time is preferable.\n",
    "For this purpose, **CADET-Process** offers a `Shape` metric."
   ]
  },
  {
   "cell_type": "markdown",
   "id": "3fb14bc8",
   "metadata": {
    "jupyterlab-deck": {
     "layer": "fragment"
    }
   },
   "source": [
    "To add a difference metric, the following arguments need to be passed to the `add_difference_metric` method:\n",
    "- `difference_metric`: The type of the metric.\n",
    "- `reference`: The reference which should be used for the metric.\n",
    "- `solution_path`: The path to the corresponding solution in the simulation results."
   ]
  },
  {
   "cell_type": "code",
   "execution_count": null,
   "id": "0a36cecb",
   "metadata": {
    "editable": true,
    "slideshow": {
     "slide_type": ""
    },
    "tags": [
     "solution"
    ]
   },
   "outputs": [],
   "source": [
    "comparator.add_difference_metric('SSE', reference, 'column.outlet')"
   ]
  },
  {
   "cell_type": "markdown",
   "id": "cbfc4563",
   "metadata": {
    "slideshow": {
     "slide_type": "fragment"
    }
   },
   "source": [
    "Optionally, a start and end time can be specified to only evaluate the difference metric at that slice.\n",
    "This is particularly useful if system noise (e.g. injection peaks) should be ignored or if certain peaks correspond to certain components."
   ]
  },
  {
   "cell_type": "code",
   "execution_count": null,
   "id": "455c665a",
   "metadata": {
    "editable": true,
    "slideshow": {
     "slide_type": ""
    },
    "tags": [
     "solution"
    ]
   },
   "outputs": [],
   "source": [
    "comparator = Comparator()\n",
    "comparator.add_reference(reference)\n",
    "comparator.add_difference_metric(\n",
    "    'SSE', reference, 'column.outlet', start=3*60, end=6*60\n",
    ")"
   ]
  },
  {
   "cell_type": "markdown",
   "id": "d4c89980",
   "metadata": {
    "slideshow": {
     "slide_type": "slide"
    }
   },
   "source": [
    "## Reference Model\n",
    "\n",
    "Next to the experimental data, a reference model needs to be configured.\n",
    "It must include relevant details s.t. it is capable of accurately predicting the experimental system (e.g. tubing, valves etc.).\n",
    "For this example, the full process configuration can be found {ref}`here <dextran_pulse_example>`.\n",
    "\n",
    "As an initial guess, the bed porosity is set to $0.5$, and the axial dispersion to $1.0 \\cdot 10^{-7}$.\n",
    "After process simulation, the `evaluate` method is called with the simulation results."
   ]
  },
  {
   "cell_type": "code",
   "execution_count": null,
   "id": "d4eb872a",
   "metadata": {
    "editable": true,
    "slideshow": {
     "slide_type": ""
    },
    "tags": [
     "solution"
    ]
   },
   "outputs": [],
   "source": [
    "from CADETProcess.simulator import Cadet\n",
    "simulator = Cadet()\n",
    "\n",
    "from examples.characterize_chromatographic_system.column_transport_parameters import process\n",
    "process.flow_sheet.column.bed_porosity = 0.5\n",
    "process.flow_sheet.column.axial_dispersion = 1e-7\n",
    "\n",
    "simulation_results = simulator.simulate(process)\n",
    "\n",
    "metrics = comparator.evaluate(simulation_results)\n",
    "print(metrics)"
   ]
  },
  {
   "cell_type": "markdown",
   "id": "51fd7ce9",
   "metadata": {
    "slideshow": {
     "slide_type": "fragment"
    }
   },
   "source": [
    "The difference can also be visualized:"
   ]
  },
  {
   "cell_type": "code",
   "execution_count": null,
   "id": "7ece8068",
   "metadata": {
    "editable": true,
    "slideshow": {
     "slide_type": ""
    },
    "tags": [
     "solution"
    ]
   },
   "outputs": [],
   "source": [
    "_ = comparator.plot_comparison(simulation_results)"
   ]
  },
  {
   "cell_type": "markdown",
   "id": "bb470404",
   "metadata": {
    "slideshow": {
     "slide_type": "fragment"
    }
   },
   "source": [
    "The comparison shows that there is still a large discrepancy between simulation and experiment."
   ]
  },
  {
   "cell_type": "markdown",
   "id": "b2963800",
   "metadata": {
    "editable": true,
    "slideshow": {
     "slide_type": "slide"
    }
   },
   "source": [
    "## Optimization\n",
    "\n",
    "Instead of manually adjusting these parameters, an `OptimizationProblem` can be set up which automatically determines the parameter values.\n",
    "For this purpose, an `OptimimizationProblem` is defined and the process is added as an evaluation object."
   ]
  },
  {
   "cell_type": "code",
   "execution_count": null,
   "id": "ac84b98c",
   "metadata": {
    "editable": true,
    "slideshow": {
     "slide_type": ""
    },
    "tags": [
     "solution"
    ]
   },
   "outputs": [],
   "source": [
    "from CADETProcess.optimization import OptimizationProblem\n",
    "optimization_problem = OptimizationProblem('bed_porosity_axial_dispersion')\n",
    "\n",
    "optimization_problem.add_evaluation_object(process)"
   ]
  },
  {
   "cell_type": "markdown",
   "id": "b052b29e",
   "metadata": {
    "editable": true,
    "slideshow": {
     "slide_type": "fragment"
    }
   },
   "source": [
    "Then, the optimization variables are added.\n",
    "Note, the parameter path associates the variable with the parameter of the corresponding column unit operation."
   ]
  },
  {
   "cell_type": "code",
   "execution_count": null,
   "id": "049718dc",
   "metadata": {
    "editable": true,
    "slideshow": {
     "slide_type": ""
    },
    "tags": [
     "solution"
    ]
   },
   "outputs": [],
   "source": [
    "optimization_problem.add_variable(\n",
    "    name='bed_porosity', parameter_path='flow_sheet.column.bed_porosity',\n",
    "    lb=0.1, ub=0.5,\n",
    "    transform='auto'\n",
    ")\n",
    "\n",
    "optimization_problem.add_variable(\n",
    "    name='axial_dispersion', parameter_path='flow_sheet.column.axial_dispersion',\n",
    "    lb=1e-10, ub=1e-6,\n",
    "    transform='auto'\n",
    ")"
   ]
  },
  {
   "cell_type": "markdown",
   "id": "bf244645",
   "metadata": {
    "editable": true,
    "slideshow": {
     "slide_type": "slide"
    }
   },
   "source": [
    "Before the difference metrics, which we want to minimize, the `Process` needs to be simulated.\n",
    "For this purpose, register the `Cadet` simulator instance as an evaluator."
   ]
  },
  {
   "cell_type": "code",
   "execution_count": null,
   "id": "15505e4b",
   "metadata": {
    "editable": true,
    "slideshow": {
     "slide_type": ""
    },
    "tags": [
     "solution"
    ]
   },
   "outputs": [],
   "source": [
    "optimization_problem.add_evaluator(simulator)"
   ]
  },
  {
   "cell_type": "markdown",
   "id": "a3b91d13",
   "metadata": {
    "editable": true,
    "slideshow": {
     "slide_type": "fragment"
    }
   },
   "source": [
    "Now, when adding the `Comparator` (which determines the difference metrics) as objective function, the simulator can be added to the `required` list.\n",
    "Note that the number of metrics needs to be passed as `n_objectives`."
   ]
  },
  {
   "cell_type": "code",
   "execution_count": null,
   "id": "f65c226e",
   "metadata": {
    "editable": true,
    "slideshow": {
     "slide_type": ""
    },
    "tags": [
     "solution"
    ]
   },
   "outputs": [],
   "source": [
    "optimization_problem.add_objective(\n",
    "    comparator,\n",
    "    n_objectives=comparator.n_metrics,\n",
    "    requires=[simulator]\n",
    ")"
   ]
  },
  {
   "cell_type": "markdown",
   "id": "8652994b",
   "metadata": {
    "editable": true,
    "slideshow": {
     "slide_type": "fragment"
    }
   },
   "source": [
    "To get some feedback during optimization, a callback function is added which plots the comparison with the experimental data and stores it in a separate directory."
   ]
  },
  {
   "cell_type": "code",
   "execution_count": null,
   "id": "7ed49fca",
   "metadata": {
    "editable": true,
    "slideshow": {
     "slide_type": ""
    },
    "tags": [
     "solution"
    ]
   },
   "outputs": [],
   "source": [
    "def callback(simulation_results, individual, evaluation_object, callbacks_dir='./'):\n",
    "    comparator.plot_comparison(\n",
    "        simulation_results,\n",
    "        file_name=f'{callbacks_dir}/{individual.id}_{evaluation_object}_comparison.png',\n",
    "        show=False\n",
    "    )\n",
    "\n",
    "optimization_problem.add_callback(callback, requires=[simulator])"
   ]
  },
  {
   "cell_type": "markdown",
   "id": "00c8f494",
   "metadata": {
    "editable": true,
    "slideshow": {
     "slide_type": "slide"
    }
   },
   "source": [
    "## Optimizer\n",
    "\n",
    "A couple of optimizers are available in **CADET-Process**.\n",
    "Depending on the problem at hand, some optimizers might outperform others.\n",
    "Generally, `U_NSGA3`, a genetic algorithm, is a robust choice.\n",
    "While not necessarily the most efficient, it usually manages to handle complex problems with multiple dimensions, constraints, and objectives.\n",
    "Here, we limit the number of cores, the population size, as well as the maximum number of generations."
   ]
  },
  {
   "cell_type": "code",
   "execution_count": null,
   "id": "a4795bfe",
   "metadata": {
    "editable": true,
    "slideshow": {
     "slide_type": ""
    },
    "tags": [
     "solution"
    ]
   },
   "outputs": [],
   "source": [
    "from CADETProcess.optimization import U_NSGA3\n",
    "optimizer = U_NSGA3()\n",
    "optimizer.n_cores = 8\n",
    "optimizer.pop_size = 32\n",
    "optimizer.n_max_gen = 8"
   ]
  },
  {
   "cell_type": "code",
   "execution_count": null,
   "id": "7271ac6c",
   "metadata": {
    "editable": true,
    "slideshow": {
     "slide_type": ""
    },
    "tags": [
     "solution"
    ]
   },
   "outputs": [],
   "source": [
    "optimization_results = optimizer.optimize(\n",
    "    optimization_problem,\n",
    "    use_checkpoint=False\n",
    ")"
   ]
  }
 ],
 "metadata": {
  "kernelspec": {
   "display_name": "Python 3 (ipykernel)",
   "language": "python",
   "name": "python3"
  }
 },
 "nbformat": 4,
 "nbformat_minor": 5
}
