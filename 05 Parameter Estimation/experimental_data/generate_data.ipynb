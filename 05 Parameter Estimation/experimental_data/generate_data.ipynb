{
 "cells": [
  {
   "cell_type": "code",
   "execution_count": null,
   "id": "0af62a68",
   "metadata": {
    "editable": true,
    "slideshow": {
     "slide_type": ""
    }
   },
   "outputs": [],
   "source": [
    "from CADETProcess.processModel import ComponentSystem\n",
    "from CADETProcess.processModel import Inlet, Cstr, TubularReactor, Outlet\n",
    "from CADETProcess.processModel import FlowSheet\n",
    "from CADETProcess.processModel import Process\n",
    "\n",
    "# Some Variables\n",
    "Q_ml_min = 0.5  # ml/min\n",
    "Q_m3_s = Q_ml_min/(60*1e6)\n",
    "V_tracer = 50e-9  # m3\n",
    "\n",
    "# Component System\n",
    "component_system = ComponentSystem(['Acetone'])\n",
    "\n",
    "# Unit Operations\n",
    "acetone = Inlet(component_system, name='acetone')\n",
    "acetone.c = [131.75]\n",
    "\n",
    "water = Inlet(component_system, name='water')\n",
    "water.c = [0]\n",
    "\n",
    "inlet_valve = Cstr(component_system, name='inlet_valve')\n",
    "inlet_valve.V = 0.5e-6\n",
    "inlet_valve.c = [0]\n",
    "\n",
    "tubing = TubularReactor(component_system, name='tubing')\n",
    "tubing.length = 0.85\n",
    "tubing.diameter = 0.75e-3\n",
    "tubing.axial_dispersion = 2.5e-7\n",
    "tubing.c = [0]\n",
    "\n",
    "uv_detector = Cstr(component_system, name='uv_detector')\n",
    "uv_detector.V = 0.1e-6\n",
    "uv_detector.c = [0]\n",
    "\n",
    "cond_detector = Cstr(component_system, name='cond_detector')\n",
    "cond_detector.V = 0.2e-6\n",
    "cond_detector.c = [0]\n",
    "\n",
    "outlet = Outlet(component_system, name='outlet')\n",
    "\n",
    "# Flow Sheet\n",
    "fs = FlowSheet(component_system)\n",
    "fs.add_unit(acetone)\n",
    "fs.add_unit(water)\n",
    "fs.add_unit(inlet_valve)\n",
    "fs.add_unit(tubing)\n",
    "fs.add_unit(uv_detector)\n",
    "fs.add_unit(cond_detector)\n",
    "fs.add_unit(outlet)\n",
    "\n",
    "fs.add_connection(acetone, inlet_valve)\n",
    "fs.add_connection(water, inlet_valve)\n",
    "fs.add_connection(inlet_valve, tubing)\n",
    "fs.add_connection(tubing, uv_detector)\n",
    "fs.add_connection(uv_detector, cond_detector)\n",
    "fs.add_connection(cond_detector, outlet)\n",
    "\n",
    "# Process\n",
    "process = Process(fs, 'Acetone_Pulse_no_column')\n",
    "process.cycle_time = 500\n",
    "\n",
    "process.add_event('pulse_acetone_on', 'flow_sheet.acetone.flow_rate', Q_m3_s, 0)\n",
    "process.add_event('pulse_acetone_off', 'flow_sheet.acetone.flow_rate', 0, V_tracer/Q_m3_s)\n",
    "\n",
    "process.add_event('feed_water_on', 'flow_sheet.water.flow_rate', Q_m3_s, V_tracer/Q_m3_s)\n",
    "process.add_event('feed_water_off', 'flow_sheet.water.flow_rate', 0, process.cycle_time)"
   ]
  },
  {
   "cell_type": "code",
   "execution_count": null,
   "id": "44e1f0b7",
   "metadata": {},
   "outputs": [],
   "source": [
    "from CADETProcess.simulator import Cadet\n",
    "simulator = Cadet()\n",
    "\n",
    "simulation_results = simulator.simulate(process)"
   ]
  },
  {
   "cell_type": "code",
   "execution_count": null,
   "id": "96630010",
   "metadata": {},
   "outputs": [],
   "source": [
    "import numpy as np\n",
    "\n",
    "def add_noise(solution, noise_percentage=2.5):\n",
    "    solution = (solution + (np.random.random(solution.shape) - 0.5) * noise_percentage / 100 * solution.max(axis=0))\n",
    "    return solution"
   ]
  },
  {
   "cell_type": "code",
   "execution_count": null,
   "id": "73a917e6",
   "metadata": {},
   "outputs": [],
   "source": [
    "target = 'uv_detector'\n",
    "time = simulation_results.solution[target].outlet.time\n",
    "solution = simulation_results.solution[target].outlet.solution\n",
    "\n",
    "solution_noisy_1 = add_noise(solution)\n",
    "together_1 = np.hstack((time.reshape(-1, 1), solution_noisy_1))\n",
    "np.savetxt(f\"{target}_1.csv\", together_1, delimiter=\",\")\n",
    "\n",
    "solution_noisy_2 = add_noise(solution)\n",
    "together_2 = np.hstack((time.reshape(-1, 1), solution_noisy_2))\n",
    "np.savetxt(f\"{target}_2.csv\", together_2, delimiter=\",\")\n",
    "\n",
    "target = 'cond_detector'\n",
    "time = simulation_results.solution[target].outlet.time\n",
    "solution = simulation_results.solution[target].outlet.solution\n",
    "\n",
    "solution_noisy_1 = add_noise(solution)\n",
    "together_1 = np.hstack((time.reshape(-1, 1), solution_noisy_1))\n",
    "np.savetxt(f\"{target}_1.csv\", together_1, delimiter=\",\")\n",
    "\n",
    "solution_noisy_2 = add_noise(solution)\n",
    "together_2 = np.hstack((time.reshape(-1, 1), solution_noisy_2))\n",
    "np.savetxt(f\"{target}_2.csv\", together_2, delimiter=\",\")"
   ]
  }
 ],
 "metadata": {
  "jupytext": {
   "formats": "ipynb,md:myst"
  },
  "kernelspec": {
   "display_name": "Python 3 (ipykernel)",
   "language": "python",
   "name": "python3"
  }
 },
 "nbformat": 4,
 "nbformat_minor": 5
}
