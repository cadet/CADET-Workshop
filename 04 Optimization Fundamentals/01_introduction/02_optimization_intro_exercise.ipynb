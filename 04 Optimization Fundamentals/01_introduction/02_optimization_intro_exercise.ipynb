{
 "cells": [
  {
   "cell_type": "markdown",
   "id": "723ee64b",
   "metadata": {},
   "source": [
    "# Optimization - Exercise"
   ]
  },
  {
   "cell_type": "markdown",
   "id": "f9cfcc48",
   "metadata": {},
   "source": [
    "## Exercise 1: Setup simple optimization problem\n",
    "\n",
    "Solve the following optimization problem.\n",
    "\n",
    "$$\n",
    "f(x) = \\left(x - 2 \\right)^3 - 3 \\cdot \\left( x - 2 \\right) + 1 \\\\\n",
    "s.t. \\\\\n",
    "0.2 \\le x \\le 4.5\n",
    "$$\n",
    "\n",
    "Explore different optimizers, modify their options and start from different initial values."
   ]
  },
  {
   "cell_type": "code",
   "execution_count": null,
   "id": "98ac1cc0",
   "metadata": {
    "tags": [
     "solution"
    ]
   },
   "outputs": [],
   "source": []
  },
  {
   "cell_type": "code",
   "execution_count": null,
   "id": "954d2e8a",
   "metadata": {
    "tags": [
     "solution"
    ]
   },
   "outputs": [],
   "source": []
  },
  {
   "cell_type": "code",
   "execution_count": null,
   "id": "6b461ac5",
   "metadata": {
    "tags": [
     "solution"
    ]
   },
   "outputs": [],
   "source": []
  },
  {
   "cell_type": "code",
   "execution_count": null,
   "id": "927dc51d",
   "metadata": {},
   "outputs": [],
   "source": [
    "optimizer = TrustConstr()\n",
    "optimizer.n_max_gen = 10\n",
    "\n",
    "optimization_results = optimizer.optimize(optimization_problem, x0=0.5)"
   ]
  },
  {
   "cell_type": "code",
   "execution_count": null,
   "id": "e59121be",
   "metadata": {},
   "outputs": [],
   "source": [
    "optimizer.results.plot_objectives()"
   ]
  }
 ],
 "metadata": {
  "kernelspec": {
   "display_name": "Python 3 (ipykernel)",
   "language": "python",
   "name": "python3"
  }
 },
 "nbformat": 4,
 "nbformat_minor": 5
}
