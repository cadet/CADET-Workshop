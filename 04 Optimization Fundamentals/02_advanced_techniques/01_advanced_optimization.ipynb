{
 "cells": [
  {
   "cell_type": "markdown",
   "id": "097e8dea",
   "metadata": {
    "slideshow": {
     "slide_type": "slide"
    }
   },
   "source": [
    "# Advanced Optimization Techniques\n",
    "\n",
    "In this tutorial, we will look at some advanced techniques that can\n",
    "- improve convergence,\n",
    "- facilitate setting up complex optimization problems\n",
    "- provide usefull feedback during (long) optimization runs."
   ]
  },
  {
   "cell_type": "markdown",
   "id": "a647db18",
   "metadata": {
    "slideshow": {
     "slide_type": "slide"
    }
   },
   "source": [
    "## Parameter Normalization\n",
    "Most optimization algorithms struggle when optimization variables spread over multiple orders of magnitude.\n",
    "**CADET-Process** provides several transformation methods which can help to soften these challenges."
   ]
  },
  {
   "cell_type": "markdown",
   "id": "1d3a67a9",
   "metadata": {
    "slideshow": {
     "slide_type": "fragment"
    }
   },
   "source": [
    "```{figure} ./figures/transform.png\n",
    "```"
   ]
  },
  {
   "cell_type": "markdown",
   "id": "7c882d83",
   "metadata": {
    "slideshow": {
     "slide_type": "slide"
    }
   },
   "source": [
    "### Linear Normalization\n",
    "The linear normalization maps the variable space from the lower and upper bound to a range between $0$ and $1$ by applying the following transformation:\n",
    "\n",
    "$$\n",
    "x^\\prime = \\frac{x - x_{lb}}{x_{ub} - x_{lb}}\n",
    "$$"
   ]
  },
  {
   "cell_type": "code",
   "execution_count": null,
   "id": "f4371a41",
   "metadata": {
    "tags": [
     "solution"
    ]
   },
   "outputs": [],
   "source": [
    "from CADETProcess.optimization import OptimizationProblem\n",
    "\n",
    "optimization_problem = OptimizationProblem('transform_demo')\n",
    "optimization_problem.add_variable('var_lin', lb=-100, ub=100, transform='linear')"
   ]
  },
  {
   "cell_type": "markdown",
   "id": "88f17537",
   "metadata": {
    "slideshow": {
     "slide_type": "slide"
    }
   },
   "source": [
    "### Log Normalization\n",
    "The log normalization maps the variable space from the lower and upper bound to a range between $0$ and $1$ by applying the following transformation:\n",
    "\n",
    "$$\n",
    "x^\\prime = \\frac{log \\left( \\frac{x}{x_{lb}} \\right) }{log \\left( \\frac{x_{ub} }{x_{lb}} \\right) }\n",
    "$$"
   ]
  },
  {
   "cell_type": "code",
   "execution_count": null,
   "id": "45e20dc2",
   "metadata": {
    "tags": [
     "solution"
    ]
   },
   "outputs": [],
   "source": [
    "optimization_problem.add_variable('var_log', lb=-100, ub=100, transform='log')"
   ]
  },
  {
   "cell_type": "markdown",
   "id": "6fc4a091",
   "metadata": {
    "slideshow": {
     "slide_type": "slide"
    }
   },
   "source": [
    "### Auto Transform\n",
    "This transform will automatically switch between a linear and a log transform if the ratio of upper and lower bounds is larger than some value ($1000$ by default)."
   ]
  },
  {
   "cell_type": "code",
   "execution_count": null,
   "id": "321c326d",
   "metadata": {
    "tags": [
     "solution"
    ]
   },
   "outputs": [],
   "source": [
    "optimization_problem.add_variable('var_auto', lb=-100, ub=100, transform='auto')"
   ]
  },
  {
   "cell_type": "markdown",
   "id": "ccce1d9f",
   "metadata": {
    "slideshow": {
     "slide_type": "slide"
    }
   },
   "source": [
    "# Evaluation Toolchains\n",
    "\n",
    "In many situations, some pre- and postprocessing steps are required before the objective function can be evaluated."
   ]
  },
  {
   "cell_type": "markdown",
   "id": "9e8510dc",
   "metadata": {},
   "source": [
    "```{figure} ./figures/evaluation_example.png\n",
    "```"
   ]
  },
  {
   "cell_type": "markdown",
   "id": "4d27b9b5",
   "metadata": {
    "slideshow": {
     "slide_type": "slide"
    }
   },
   "source": [
    "## Evaluation Objects\n",
    "\n",
    "```{figure} ./figures/evaluation_steps.png\n",
    "```\n",
    "\n",
    "- `OptimizationVariables` usually refers to attributes of a `Process` model (e.g. model parameters / event times.\n",
    "- `EvaluationObject` objects manage the value of that optimization variable\n",
    "- `Evaluators` execute (intermediate) steps required for calculating the objective (e.g. simulation)"
   ]
  },
  {
   "cell_type": "markdown",
   "id": "f88ddeaa",
   "metadata": {
    "slideshow": {
     "slide_type": "slide"
    }
   },
   "source": [
    "```{figure} ./figures/evaluation_single_variable.png\n",
    ":width: 30%\n",
    "```\n",
    "\n",
    "\n",
    "To associate an `OptimizationVariable` with an `EvaluationObject`, it first needs to be added to the `OptimizationProblem`.\n",
    "For this purpose, consider a simple `Process` object from the [examples collection](https://cadet-process.readthedocs.io/en/stable/examples/batch_elution/process.html)."
   ]
  },
  {
   "cell_type": "code",
   "execution_count": null,
   "id": "499093be",
   "metadata": {
    "tags": [
     "solution"
    ]
   },
   "outputs": [],
   "source": [
    "from examples.batch_elution.process import process\n",
    "\n",
    "optimization_problem = OptimizationProblem('evaluator')\n",
    "\n",
    "optimization_problem.add_evaluation_object(process)"
   ]
  },
  {
   "cell_type": "markdown",
   "id": "77cb1c69",
   "metadata": {
    "slideshow": {
     "slide_type": "fragment"
    }
   },
   "source": [
    "Then add the variable. In addition, specify:\n",
    "\n",
    "- `parameter_path`: Path to the variable in the evaluation object\n",
    "- `evaluation_objects`: The evaluation object(s) for which the variable should be set."
   ]
  },
  {
   "cell_type": "code",
   "execution_count": null,
   "id": "f8c98e81",
   "metadata": {
    "tags": [
     "solution"
    ]
   },
   "outputs": [],
   "source": [
    "optimization_problem.add_variable('length', evaluation_objects=[process], parameter_path='flow_sheet.column.length', lb=0, ub=1)"
   ]
  },
  {
   "cell_type": "markdown",
   "id": "ca25820c",
   "metadata": {
    "slideshow": {
     "slide_type": "slide"
    }
   },
   "source": [
    "## Multiple Evaluation Objects\n",
    "\n",
    "```{figure} ./figures/evaluation_multiple_variables.png\n",
    ":width: 30%\n",
    "```"
   ]
  },
  {
   "cell_type": "code",
   "execution_count": null,
   "id": "ae0d5c61",
   "metadata": {
    "tags": [
     "solution"
    ]
   },
   "outputs": [],
   "source": [
    "optimization_problem = OptimizationProblem('two_eval_obj')\n",
    "\n",
    "import copy\n",
    "process_2 = copy.deepcopy(process)\n",
    "process_2.name = 'foo'\n",
    "\n",
    "optimization_problem.add_evaluation_object(process)\n",
    "optimization_problem.add_evaluation_object(process_2)\n",
    "\n",
    "optimization_problem.add_variable('flow_sheet.column.length', lb=0, ub=1)\n",
    "optimization_problem.add_variable('flow_sheet.column.diameter', lb=0, ub=1, evaluation_objects=process_2)"
   ]
  },
  {
   "cell_type": "markdown",
   "id": "7421a9e3",
   "metadata": {
    "slideshow": {
     "slide_type": "slide"
    }
   },
   "source": [
    "### Evaluators\n",
    "Any callable function can be added as `Evaluator`, assuming the first argument is the result of the previous step and it returns a single result object which is then processed by the next step.\n",
    "\n",
    "```{figure} ./figures/evaluation_steps.png\n",
    "```\n",
    "\n",
    "- Any callable function can be added as `Evaluator`.\n",
    "- Each `Evaluator` takes the previous result as input and returns a new (intermediate) result.\n",
    "- Intermediate results are automatically cached."
   ]
  },
  {
   "cell_type": "markdown",
   "id": "787873e1",
   "metadata": {
    "slideshow": {
     "slide_type": "slide"
    }
   },
   "source": [
    "## Evaluator Example\n",
    "\n",
    "In this example, two steps are required:\n",
    "- Process Simulation\n",
    "- Fractionation"
   ]
  },
  {
   "cell_type": "code",
   "execution_count": null,
   "id": "9e9c62fd",
   "metadata": {
    "slideshow": {
     "slide_type": "slide"
    },
    "tags": [
     "solution"
    ]
   },
   "outputs": [],
   "source": [
    "from CADETProcess.simulator import Cadet\n",
    "simulator = Cadet()\n",
    "\n",
    "optimization_problem.add_evaluator(simulator)\n",
    "\n",
    "from CADETProcess.fractionation import FractionationOptimizer\n",
    "frac_opt = FractionationOptimizer()\n",
    "\n",
    "optimization_problem.add_evaluator(\n",
    "    frac_opt,\n",
    "    kwargs={\n",
    "        'purity_required': [0.95, 0.95],\n",
    "        'ignore_failed': False,\n",
    "        'allow_empty_fractions': False,\n",
    "    }\n",
    ")"
   ]
  },
  {
   "cell_type": "markdown",
   "id": "53f5f2a2",
   "metadata": {
    "slideshow": {
     "slide_type": "slide"
    }
   },
   "source": [
    "## Adding Objectives\n",
    "\n",
    "Now, when adding objectives, specify which steps are required for each objective"
   ]
  },
  {
   "cell_type": "code",
   "execution_count": null,
   "id": "24278914",
   "metadata": {
    "tags": [
     "solution"
    ]
   },
   "outputs": [],
   "source": [
    "from CADETProcess.performance import Productivity, Recovery, Purity\n",
    "\n",
    "productivity = Productivity()\n",
    "optimization_problem.add_objective(\n",
    "    productivity,\n",
    "    n_objectives=2,\n",
    "    requires=[simulator, frac_opt]\n",
    ")\n",
    "\n",
    "recovery = Recovery()\n",
    "optimization_problem.add_objective(\n",
    "    recovery,\n",
    "    n_objectives=2,\n",
    "    requires=[simulator, frac_opt]\n",
    ")\n",
    "\n",
    "purity = Purity()\n",
    "optimization_problem.add_nonlinear_constraint(\n",
    "    purity,\n",
    "    n_nonlinear_constraints=2,\n",
    "    requires=[simulator, frac_opt],\n",
    "    bounds=[0.95, 0.95]\n",
    ")"
   ]
  },
  {
   "cell_type": "markdown",
   "id": "f0226c31",
   "metadata": {
    "slideshow": {
     "slide_type": "slide"
    }
   },
   "source": [
    "## Evaluate Toolchain\n",
    "\n",
    "To check the toolchain, simply call `evaluate_objectives`"
   ]
  },
  {
   "cell_type": "code",
   "execution_count": null,
   "id": "e171269b",
   "metadata": {
    "tags": [
     "solution"
    ]
   },
   "outputs": [],
   "source": [
    "optimization_problem.evaluate_objectives([0.5, 0.01])"
   ]
  },
  {
   "cell_type": "code",
   "execution_count": null,
   "id": "48639456",
   "metadata": {},
   "outputs": [],
   "source": [
    "optimization_problem.objective_labels"
   ]
  },
  {
   "cell_type": "markdown",
   "id": "fcddd0b4",
   "metadata": {
    "slideshow": {
     "slide_type": "slide"
    }
   },
   "source": [
    "## Callbacks\n",
    "A `callback` function is a user function that is called periodically by the optimizer in order to allow the user to query the state of the optimization.\n",
    "For example, a simple user callback function might be used to plot results.\n",
    "The function is called after each iteration for all best individuals at that state.\n",
    "\n",
    "```{figure} ./figures/callbacks_evaluation.png\n",
    "```"
   ]
  },
  {
   "cell_type": "markdown",
   "id": "8c4c9752",
   "metadata": {
    "slideshow": {
     "slide_type": "slide"
    }
   },
   "source": [
    "The callback signature may include any of the following arguments:\n",
    "- `results`: obj\n",
    "\n",
    "    x or final result of evaluation toolchain.\n",
    "- `individual`: {class}`Individual`, optional\n",
    "\n",
    "    Information about current step of optimzer.\n",
    "- `evaluation_object`: obj, optional\n",
    "\n",
    "    Current evaluation object.\n",
    "- `callbacks_dir`: Path, optional\n",
    "\n",
    "    Path to store results."
   ]
  },
  {
   "cell_type": "code",
   "execution_count": null,
   "id": "2232c477",
   "metadata": {
    "editable": true,
    "slideshow": {
     "slide_type": ""
    }
   },
   "outputs": [],
   "source": [
    "def callback(fractionation, individual, evaluation_object, callbacks_dir):\n",
    "    fractionation.plot_fraction_signal(\n",
    "        file_name=f'{callbacks_dir}/{individual.id}_{evaluation_object}_fractionation.png',\n",
    "        show=False\n",
    "    )"
   ]
  },
  {
   "cell_type": "markdown",
   "id": "b70fcafa",
   "metadata": {
    "slideshow": {
     "slide_type": "fragment"
    }
   },
   "source": [
    "To add the function to the `OptimizationProblem`, use the `add_callback` method.\n",
    "Analogous to objectives,"
   ]
  },
  {
   "cell_type": "code",
   "execution_count": null,
   "id": "f686028e",
   "metadata": {
    "tags": [
     "solution"
    ]
   },
   "outputs": [],
   "source": [
    "optimization_problem.add_callback(\n",
    "    callback, requires=[simulator, frac_opt]\n",
    ")"
   ]
  }
 ],
 "metadata": {
  "kernelspec": {
   "display_name": "Python 3 (ipykernel)",
   "language": "python",
   "name": "python3"
  }
 },
 "nbformat": 4,
 "nbformat_minor": 5
}
