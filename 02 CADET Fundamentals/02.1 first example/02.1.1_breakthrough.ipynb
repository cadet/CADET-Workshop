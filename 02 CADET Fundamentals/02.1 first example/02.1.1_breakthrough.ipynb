{
 "cells": [
  {
   "cell_type": "markdown",
   "id": "d4d0b966",
   "metadata": {
    "editable": true,
    "slideshow": {
     "slide_type": "slide"
    }
   },
   "source": [
    "With object oriented programming done:"
   ]
  },
  {
   "cell_type": "markdown",
   "id": "8a5c8bdc",
   "metadata": {
    "editable": true,
    "slideshow": {
     "slide_type": ""
    }
   },
   "source": [
    "# First example - Tracer breakthrough"
   ]
  },
  {
   "cell_type": "markdown",
   "id": "33906bce",
   "metadata": {
    "editable": true,
    "slideshow": {
     "slide_type": "fragment"
    }
   },
   "source": [
    "In this lesson, we will:\n",
    "- Create and connect our first systems of unit operations.\n",
    "- Run CADET and analyze the results."
   ]
  },
  {
   "cell_type": "markdown",
   "id": "dc1fa61e",
   "metadata": {
    "editable": true,
    "slideshow": {
     "slide_type": "slide"
    }
   },
   "source": [
    "## Example 1: Our target flow sheet.\n",
    "\n",
    "In a first example, we will look at a simple system with just three unit operations: an [Inlet](https://cadet-process.readthedocs.io/en/latest/reference/generated/CADETProcess.processModel.Inlet.html), a Column (modeled as an [LRM](https://cadet-process.readthedocs.io/en/latest/reference/generated/CADETProcess.processModel.LumpedRateModelWithoutPores.html)), and an [Outlet](https://cadet-process.readthedocs.io/en/latest/reference/generated/CADETProcess.processModel.Outlet.html).\n",
    "\n",
    "```{figure} ./resources/flow_sheet_PFR.png\n",
    ":width: 60%\n",
    "```\n",
    "\n",
    "We will load the column with a non-binding tracer molecule (such as e.g. Dextran or Micromer particles) and inspect the shape and timing of the breakthrough curve."
   ]
  },
  {
   "cell_type": "markdown",
   "id": "3cdb206e",
   "metadata": {
    "editable": true,
    "slideshow": {
     "slide_type": "slide"
    }
   },
   "source": [
    "## 1. Setting up the model\n",
    "\n",
    "The common denominator of everything we model (unit operations, flows, events, etc.) are the components that we model. So let us first create a `ComponentSystem` to manage and keep track of our components."
   ]
  },
  {
   "cell_type": "markdown",
   "id": "dc46e662",
   "metadata": {
    "editable": true,
    "slideshow": {
     "slide_type": "slide"
    }
   },
   "source": [
    "#### Component System\n",
    "\n",
    "- `ComponentSystem` ensure that all parts of the process have the same number of components.\n",
    "- Components can be named which automatically adds legends to the plot methods.\n",
    "\n",
    "For advanced use, see [here](https://cadet-process.readthedocs.io/en/latest/reference/process_model/component_system.html)."
   ]
  },
  {
   "cell_type": "code",
   "execution_count": null,
   "id": "a4be28e3",
   "metadata": {
    "editable": true,
    "slideshow": {
     "slide_type": ""
    },
    "tags": [
     "solution"
    ]
   },
   "outputs": [],
   "source": []
  },
  {
   "cell_type": "markdown",
   "id": "13ae75e9",
   "metadata": {
    "editable": true,
    "jp-MarkdownHeadingCollapsed": true,
    "slideshow": {
     "slide_type": "slide"
    }
   },
   "source": [
    "## Unit Operations\n",
    "\n",
    "For an overview of all models in CADET-Process, see [here](https://cadet-process.readthedocs.io/en/latest/reference/process_model/unit_operation_models.html).\n",
    "\n",
    "Unit operations require:\n",
    "- the `ComponentSystem`\n",
    "- as a unique name.\n",
    "\n",
    "Note that the name string passed in the constructor is later used to reference the unit in the flow sheet for setting `Events` and `OptimizationVariables`."
   ]
  },
  {
   "cell_type": "markdown",
   "id": "9ae7219b",
   "metadata": {
    "editable": true,
    "slideshow": {
     "slide_type": "slide"
    }
   },
   "source": [
    "## Inlet\n",
    "\n",
    "In CADET, the `Inlet` pseudo unit operation serves as source for the system and is used to create arbitary concentration profiles as boundary conditions (see also [here](https://cadet-process.readthedocs.io/en/latest/reference/generated/CADETProcess.processModel.Inlet.html)).\n",
    "\n",
    "- Concentration profiles are described using a third degree piecewise polynomial for each component.\n",
    "- Flow rate can be expressed as a third degree piecewise polynomial.\n",
    "\n",
    "Here, the flow rate is constant, we can directly set the parameter on the object.\n",
    "\n",
    "Note that we have to convert all units to SI units.\n",
    "\n",
    "\n",
    "```{note}\n",
    "Generally, CADET can be used with any consistent system of units.\n",
    "However, we strongly recommend converting everything to the SI system.\n",
    "```"
   ]
  },
  {
   "cell_type": "code",
   "execution_count": null,
   "id": "a94fd0dd",
   "metadata": {
    "editable": true,
    "slideshow": {
     "slide_type": ""
    },
    "tags": [
     "solution"
    ]
   },
   "outputs": [],
   "source": []
  },
  {
   "cell_type": "markdown",
   "id": "a2e476a9",
   "metadata": {
    "editable": true,
    "slideshow": {
     "slide_type": "fragment"
    }
   },
   "source": [
    "Note that every unit operation model has different model parameters.\n",
    "To display all parameters, simply print the `parameters` attribute."
   ]
  },
  {
   "cell_type": "code",
   "execution_count": null,
   "id": "cb451bef",
   "metadata": {
    "editable": true,
    "slideshow": {
     "slide_type": ""
    },
    "tags": [
     "solution"
    ]
   },
   "outputs": [],
   "source": []
  },
  {
   "cell_type": "markdown",
   "id": "6d421d29",
   "metadata": {
    "editable": true,
    "slideshow": {
     "slide_type": "slide"
    }
   },
   "source": [
    "## Outlet\n",
    "The `Outlet` is another pseudo unit operation that serves as sink for the system (see also [here](https://cadet.github.io/master/modelling/unit_operations/outlet))."
   ]
  },
  {
   "cell_type": "code",
   "execution_count": null,
   "id": "d320fa0c",
   "metadata": {
    "editable": true,
    "slideshow": {
     "slide_type": ""
    },
    "tags": [
     "solution"
    ]
   },
   "outputs": [],
   "source": []
  },
  {
   "cell_type": "markdown",
   "id": "9a87ce1b",
   "metadata": {
    "editable": true,
    "slideshow": {
     "slide_type": "fragment"
    }
   },
   "source": [
    "Note that the `Outlet` unit does not have any model parameters."
   ]
  },
  {
   "cell_type": "code",
   "execution_count": null,
   "id": "1a3b209e",
   "metadata": {
    "editable": true,
    "slideshow": {
     "slide_type": ""
    },
    "tags": [
     "solution"
    ]
   },
   "outputs": [],
   "source": []
  },
  {
   "cell_type": "markdown",
   "id": "415bfd96",
   "metadata": {
    "editable": true,
    "slideshow": {
     "slide_type": "slide"
    }
   },
   "source": [
    "## Column: Lumped Rate Model without Pores\n",
    "\n",
    "In this example, we will use the `LumpedRateModelWithoutPores`. For the model equations see [here](https://cadet.github.io/master/modelling/unit_operations/lumped_rate_model_without_pores.html) and the parameters [here](https://cadet.github.io/master/interface/unit_operations/lumped_rate_model_without_pores.html).\n",
    "\n",
    "Assume the following parameters:\n",
    "\n",
    "\n",
    "| Parameter        | Value | Unit          |\n",
    "| ---------------- | ----- | ------------- |\n",
    "| Length           | 0.1   | $m$           |\n",
    "| Diameter         | 0.2   | $m$           |\n",
    "| Porosity         | 0.4   | -             |\n",
    "| Axial Dispersion | 1e-7  | $m^2 s^{-1}$  |"
   ]
  },
  {
   "cell_type": "code",
   "execution_count": null,
   "id": "1999e642",
   "metadata": {
    "editable": true,
    "slideshow": {
     "slide_type": ""
    }
   },
   "outputs": [],
   "source": [
    "from CADETProcess.processModel import LumpedRateModelWithoutPores\n",
    "\n",
    "column = LumpedRateModelWithoutPores(component_system, \"column\")\n",
    "column.required_parameters\n",
    "column.total_porosity = 0.4\n",
    "column.diameter = 0.2\n",
    "column.length = 0.1\n",
    "column.axial_dispersion = 1e-7"
   ]
  },
  {
   "cell_type": "markdown",
   "id": "c7a7ffa1",
   "metadata": {
    "editable": true,
    "slideshow": {
     "slide_type": "slide"
    }
   },
   "source": [
    "## Flow Sheet Connectivity\n",
    "\n",
    "```{figure} ./resources/flow_sheet_PFR.png\n",
    ":width: 60%\n",
    "```\n",
    "\n",
    "The `FlowSheet` stores the connectivity between different unit operations.\n",
    "\n",
    "For more information, see also [here](https://cadet-process.readthedocs.io/en/latest/reference/process_model/flow_sheet.html)."
   ]
  },
  {
   "cell_type": "code",
   "execution_count": null,
   "id": "386b85d6",
   "metadata": {
    "editable": true,
    "slideshow": {
     "slide_type": ""
    },
    "tags": [
     "solution"
    ]
   },
   "outputs": [],
   "source": []
  },
  {
   "cell_type": "markdown",
   "id": "e1610969",
   "metadata": {
    "editable": true,
    "slideshow": {
     "slide_type": "slide"
    }
   },
   "source": [
    "## The Process\n",
    "\n",
    "The Process class handles all time-dependent configurations. In this case, we just need to set the simulation time to 2000 seconds."
   ]
  },
  {
   "cell_type": "code",
   "execution_count": null,
   "id": "89cc4a1d",
   "metadata": {
    "editable": true,
    "slideshow": {
     "slide_type": ""
    },
    "tags": [
     "solution"
    ]
   },
   "outputs": [],
   "source": []
  },
  {
   "cell_type": "markdown",
   "id": "796b15aa",
   "metadata": {
    "editable": true,
    "slideshow": {
     "slide_type": "slide"
    }
   },
   "source": [
    "## 3. Setting up the simulator and running the simulation\n",
    "\n",
    "To simulate the process, a process simulator needs to be configured.\n",
    "If no path is specified, CADET-Process will try to autodetect CADET."
   ]
  },
  {
   "cell_type": "code",
   "execution_count": null,
   "id": "b9de5b6d",
   "metadata": {
    "editable": true,
    "slideshow": {
     "slide_type": ""
    },
    "tags": [
     "solution"
    ]
   },
   "outputs": [],
   "source": []
  },
  {
   "cell_type": "markdown",
   "id": "f592bf4b",
   "metadata": {
    "editable": true,
    "slideshow": {
     "slide_type": "fragment"
    }
   },
   "source": [
    "If a specific version of CADET is to be used, add the install path to the constructor:\n",
    "\n",
    "```\n",
    "process_simulator = Cadet(install_path='/path/to/cadet/executable')\n",
    "```\n",
    "\n",
    "To check that everything works correctly, you can call the check_cadet method:"
   ]
  },
  {
   "cell_type": "code",
   "execution_count": null,
   "id": "72c0f8ab",
   "metadata": {
    "editable": true,
    "slideshow": {
     "slide_type": ""
    },
    "tags": [
     "solution"
    ]
   },
   "outputs": [],
   "source": []
  },
  {
   "cell_type": "markdown",
   "id": "0dfc418e",
   "metadata": {
    "editable": true,
    "slideshow": {
     "slide_type": "fragment"
    }
   },
   "source": [
    "Now, run the simulation:"
   ]
  },
  {
   "cell_type": "code",
   "execution_count": null,
   "id": "2ccf1541",
   "metadata": {
    "editable": true,
    "slideshow": {
     "slide_type": ""
    },
    "tags": [
     "solution"
    ]
   },
   "outputs": [],
   "source": []
  },
  {
   "cell_type": "code",
   "execution_count": null,
   "id": "f98060d4",
   "metadata": {},
   "outputs": [],
   "source": [
    "simulation_results.solution.outlet.outlet.plot()"
   ]
  },
  {
   "cell_type": "code",
   "execution_count": null,
   "id": "1fe592f7",
   "metadata": {},
   "outputs": [],
   "source": []
  },
  {
   "cell_type": "code",
   "execution_count": null,
   "id": "ba6b480f",
   "metadata": {},
   "outputs": [],
   "source": []
  },
  {
   "cell_type": "code",
   "execution_count": null,
   "id": "a3aa9faf",
   "metadata": {},
   "outputs": [],
   "source": []
  },
  {
   "cell_type": "markdown",
   "id": "58c71e2d",
   "metadata": {
    "editable": true,
    "slideshow": {
     "slide_type": "slide"
    }
   },
   "source": [
    "## 4. Plotting the results\n",
    "\n",
    "The simulation_results object contains the solution for the inlet and outlet of every unit operation also provide plot methods."
   ]
  },
  {
   "cell_type": "code",
   "execution_count": null,
   "id": "80118396",
   "metadata": {
    "editable": true,
    "slideshow": {
     "slide_type": ""
    },
    "tags": [
     "solution"
    ]
   },
   "outputs": [],
   "source": []
  },
  {
   "cell_type": "code",
   "execution_count": null,
   "id": "3e89f3ec",
   "metadata": {
    "editable": true,
    "slideshow": {
     "slide_type": ""
    }
   },
   "outputs": [],
   "source": []
  },
  {
   "cell_type": "markdown",
   "id": "6d5e696f",
   "metadata": {
    "editable": true,
    "slideshow": {
     "slide_type": "slide"
    }
   },
   "source": [
    "## Visualization\n",
    "\n",
    "Additionally to the solution at the inlet and outlet of a unit operation, we can also take a look inside the column to see the peak move.\n",
    "\n",
    "For this purpose, set the flag in the unit's `SolutionRecorder`.\n",
    "Then, the `SimulationResults` will also contain an entry for the bulk.\n",
    "\n",
    "**Note:** Since this solution is two-dimensinal (space and time), the solution can be plotted at a given position (`plot_at_location`) or a given time (`plot_at_time`)."
   ]
  },
  {
   "cell_type": "code",
   "execution_count": null,
   "id": "0525975e",
   "metadata": {
    "editable": true,
    "slideshow": {
     "slide_type": ""
    },
    "tags": [
     "solution"
    ]
   },
   "outputs": [],
   "source": []
  },
  {
   "cell_type": "code",
   "execution_count": null,
   "id": "1936f33c",
   "metadata": {
    "editable": true,
    "slideshow": {
     "slide_type": ""
    },
    "tags": [
     "solution"
    ]
   },
   "outputs": [],
   "source": []
  },
  {
   "cell_type": "code",
   "execution_count": null,
   "id": "1f2c2c89",
   "metadata": {
    "editable": true,
    "slideshow": {
     "slide_type": ""
    }
   },
   "outputs": [],
   "source": [
    "%matplotlib ipympl\n",
    "from ipywidgets import interact, interactive\n",
    "import ipywidgets as widgets\n",
    "import matplotlib.pyplot as plt\n",
    "\n",
    "fig, ax = simulation_results.solution.column.bulk.plot_at_time(0)\n",
    "ax.set_ylim(0, 1)\n",
    "plt.tight_layout()\n",
    "\n",
    "# Visualization\n",
    "def graph_column(time=0):\n",
    "    ax.clear()\n",
    "    simulation_results.solution.column.bulk.plot_at_time(time, ax=ax)\n",
    "    ax.set_ylim(0, 1)\n",
    "\n",
    "style = {'description_width': 'initial'}\n",
    "interact(\n",
    "    graph_column,\n",
    "    time=widgets.IntSlider(\n",
    "        min=0, max=process.cycle_time, step=10, layout={'width': '800px'}, style=style, description='Time'\n",
    "    )\n",
    ")"
   ]
  },
  {
   "cell_type": "code",
   "execution_count": null,
   "id": "e0f5f0a7",
   "metadata": {
    "editable": true,
    "slideshow": {
     "slide_type": ""
    }
   },
   "outputs": [],
   "source": []
  },
  {
   "cell_type": "code",
   "execution_count": null,
   "id": "b41718b6",
   "metadata": {
    "editable": true,
    "slideshow": {
     "slide_type": ""
    }
   },
   "outputs": [],
   "source": []
  }
 ],
 "metadata": {
  "jupytext": {
   "formats": "ipynb,md:myst"
  },
  "kernelspec": {
   "display_name": "Python 3 (ipykernel)",
   "language": "python",
   "name": "python3"
  }
 },
 "nbformat": 4,
 "nbformat_minor": 5
}
