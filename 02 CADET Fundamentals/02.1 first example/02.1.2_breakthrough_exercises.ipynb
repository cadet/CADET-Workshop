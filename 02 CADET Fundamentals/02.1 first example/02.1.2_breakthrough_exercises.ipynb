{
 "cells": [
  {
   "cell_type": "markdown",
   "id": "8980279c",
   "metadata": {
    "editable": true,
    "slideshow": {
     "slide_type": "slide"
    }
   },
   "source": [
    "# First steps - Exercise"
   ]
  },
  {
   "cell_type": "markdown",
   "id": "5e991fae",
   "metadata": {
    "editable": true,
    "slideshow": {
     "slide_type": ""
    }
   },
   "source": [
    "Explore the system we set up before. See what happens as you increase or decrease certain parameters, such as the flow rate or the column dimensions."
   ]
  },
  {
   "cell_type": "code",
   "execution_count": null,
   "id": "2cfb7b7c",
   "metadata": {
    "editable": true,
    "slideshow": {
     "slide_type": ""
    },
    "tags": [
     "solution"
    ]
   },
   "outputs": [],
   "source": [
    "from CADETProcess.processModel import ComponentSystem\n",
    "\n",
    "component_system = ComponentSystem(1)\n",
    "\n",
    "from CADETProcess.processModel import Inlet\n",
    "\n",
    "inlet = Inlet(component_system, \"inlet\")\n",
    "inlet.c = 1  # mol / m^3\n",
    "inlet.flow_rate = 1e-7\n",
    "\n",
    "from CADETProcess.processModel import Outlet\n",
    "outlet = Outlet(component_system, \"outlet\")\n",
    "\n",
    "from CADETProcess.processModel import LumpedRateModelWithoutPores\n",
    "\n",
    "column = LumpedRateModelWithoutPores(component_system, \"column\")\n",
    "column.total_porosity = 0.4\n",
    "column.diameter = 0.2\n",
    "column.length = 0.1\n",
    "column.axial_dispersion = 1e-7\n",
    "\n",
    "from CADETProcess.processModel import FlowSheet\n",
    "\n",
    "flow_sheet = FlowSheet(component_system, \"flow_sheet\")\n",
    "\n",
    "flow_sheet.add_unit(inlet)\n",
    "flow_sheet.add_unit(outlet)\n",
    "flow_sheet.add_unit(column)\n",
    "\n",
    "flow_sheet.add_connection(inlet, column)\n",
    "flow_sheet.add_connection(column, outlet)\n",
    "\n",
    "from CADETProcess.processModel import Process\n",
    "process = Process(flow_sheet, \"process\")\n",
    "process.cycle_time = 20000\n",
    "\n",
    "from CADETProcess.simulator import Cadet\n",
    "\n",
    "simulator = Cadet()\n",
    "\n",
    "simulation_results = simulator.simulate(process)\n",
    "\n",
    "simulation_results.solution.outlet.outlet.plot()"
   ]
  },
  {
   "cell_type": "markdown",
   "id": "4ce385f1",
   "metadata": {
    "editable": true,
    "slideshow": {
     "slide_type": ""
    }
   },
   "source": [
    "Try setting up a system with two columns connected in series."
   ]
  },
  {
   "cell_type": "code",
   "execution_count": null,
   "id": "eb7aef96",
   "metadata": {
    "editable": true,
    "slideshow": {
     "slide_type": ""
    }
   },
   "outputs": [],
   "source": [
    "from CADETProcess.processModel import ComponentSystem\n",
    "\n",
    "component_system = ComponentSystem(1)\n",
    "\n",
    "from CADETProcess.processModel import Inlet\n",
    "\n",
    "inlet = Inlet(component_system, \"inlet\")\n",
    "inlet.c = 1  # mol / m^3\n",
    "inlet.flow_rate = 1e-7\n",
    "\n",
    "from CADETProcess.processModel import Outlet\n",
    "outlet = Outlet(component_system, \"outlet\")\n",
    "\n",
    "from CADETProcess.processModel import LumpedRateModelWithoutPores\n",
    "\n",
    "column = LumpedRateModelWithoutPores(component_system, \"column\")\n",
    "column.total_porosity = 0.4\n",
    "column.diameter = 0.2\n",
    "column.length = 0.1\n",
    "column.axial_dispersion = 1e-7\n",
    "\n",
    "\n",
    "column2 = LumpedRateModelWithoutPores(component_system, \"column2\")\n",
    "column2.total_porosity = 0.4\n",
    "column2.diameter = 0.2\n",
    "column2.length = 0.1\n",
    "column2.axial_dispersion = 1e-7\n",
    "\n",
    "from CADETProcess.processModel import FlowSheet\n",
    "\n",
    "flow_sheet = FlowSheet(component_system, \"flow_sheet\")\n",
    "\n",
    "flow_sheet.add_unit(inlet)\n",
    "flow_sheet.add_unit(outlet)\n",
    "flow_sheet.add_unit(column)\n",
    "flow_sheet.add_unit(column2)\n",
    "\n",
    "flow_sheet.add_connection(inlet, column)\n",
    "flow_sheet.add_connection(column, column2)\n",
    "flow_sheet.add_connection(column2, outlet)\n",
    "\n",
    "from CADETProcess.processModel import Process\n",
    "process = Process(flow_sheet, \"process\")\n",
    "process.cycle_time = 20000\n",
    "\n",
    "from CADETProcess.simulator import Cadet\n",
    "\n",
    "simulator = Cadet()\n",
    "\n",
    "simulation_results = simulator.simulate(process)\n",
    "\n",
    "simulation_results.solution.outlet.outlet.plot()"
   ]
  },
  {
   "cell_type": "code",
   "execution_count": null,
   "id": "54d97eba",
   "metadata": {},
   "outputs": [],
   "source": []
  }
 ],
 "metadata": {
  "jupytext": {
   "formats": "ipynb,md:myst"
  },
  "kernelspec": {
   "display_name": "Python 3 (ipykernel)",
   "language": "python",
   "name": "python3"
  }
 },
 "nbformat": 4,
 "nbformat_minor": 5
}
