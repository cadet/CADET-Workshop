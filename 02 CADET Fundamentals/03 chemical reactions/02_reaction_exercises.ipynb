{
 "cells": [
  {
   "cell_type": "markdown",
   "id": "076572fa",
   "metadata": {},
   "source": [
    "# Lesson 3: Exercises\n",
    "\n",
    "\n",
    "## Exercise 1: Equilibrium reaction with intermediate state\n",
    "\n",
    "We will consider again consider a batch reaction in a `CSTR` but this time, we will also account for an intermediate state:\n",
    "\n",
    "$\\require{mhchem}$\n",
    "$$\\ce{A <=>[k_{AB}][k_{BA}] B <=>[k_{BC}][k_{CB}] C}$$\n",
    "\n",
    "***Task:*** Implement the reaction and plot the results. Assume the following values for the rate constants:\n",
    "- $k_{AB} = 0.080~s^{-1}$\n",
    "- $k_{BA} = 0.0~s^{-1}$\n",
    "- $k_{BC} = 0.060~s^{-1}$\n",
    "- $k_{CB} = 0.0~s^{-1}$"
   ]
  },
  {
   "cell_type": "code",
   "execution_count": null,
   "id": "af420af6",
   "metadata": {
    "tags": [
     "solution"
    ]
   },
   "outputs": [],
   "source": [
    "from CADETProcess.processModel import ComponentSystem\n",
    "component_system = ComponentSystem(['A', 'B', 'C'])"
   ]
  },
  {
   "cell_type": "code",
   "execution_count": null,
   "id": "d2c091db",
   "metadata": {
    "tags": [
     "solution"
    ]
   },
   "outputs": [],
   "source": [
    "from CADETProcess.processModel import MassActionLaw\n",
    "reaction_system = MassActionLaw(component_system)\n",
    "reaction_system.add_reaction(\n",
    "    indices=[0,1],\n",
    "    coefficients=[-1, 1],\n",
    "    k_fwd=0.080,\n",
    "    k_bwd=0.0\n",
    ")\n",
    "reaction_system.add_reaction(\n",
    "    indices=[1,2],\n",
    "    coefficients=[-1, 1],\n",
    "    k_fwd=0.06,\n",
    "    k_bwd=0.0\n",
    ")"
   ]
  },
  {
   "cell_type": "code",
   "execution_count": null,
   "id": "c262b753",
   "metadata": {
    "tags": [
     "solution"
    ]
   },
   "outputs": [],
   "source": [
    "from CADETProcess.processModel import Cstr\n",
    "reactor = Cstr(component_system, 'reactor')\n",
    "reactor.V = 1e-6\n",
    "reactor.bulk_reaction_model = reaction_system\n",
    "reactor.c = [1.0, 0.0, 0.0]"
   ]
  },
  {
   "cell_type": "code",
   "execution_count": null,
   "id": "8b7c3728",
   "metadata": {
    "tags": [
     "solution"
    ]
   },
   "outputs": [],
   "source": [
    "from CADETProcess.processModel import FlowSheet\n",
    "flow_sheet = FlowSheet(component_system)\n",
    "flow_sheet.add_unit(reactor)\n",
    "\n",
    "from CADETProcess.processModel import Process\n",
    "process = Process(flow_sheet, 'reaction_demo')\n",
    "process.cycle_time = 100"
   ]
  },
  {
   "cell_type": "code",
   "execution_count": null,
   "id": "0be19d4b",
   "metadata": {
    "tags": [
     "solution"
    ]
   },
   "outputs": [],
   "source": [
    "from CADETProcess.simulator import Cadet\n",
    "simulator = Cadet()\n",
    "sim_results = simulator.run(process)\n",
    "_ = sim_results.solution.reactor.outlet.plot()"
   ]
  },
  {
   "cell_type": "markdown",
   "id": "6713b83e",
   "metadata": {
    "slideshow": {
     "slide_type": "slide"
    }
   },
   "source": [
    "## Exercise 2: Equilibrium reaction with intermediate state in tubular reactor\n",
    "***Task:*** Implement the reaction in a tubular reactor and plot the results at the outlet, as well as over the length of the column for the last timestep.\n",
    "\n",
    "Consider again the reaction parameters from Exercise 1.\n",
    "For the `TubularReactor` use the following parameters:\n",
    "- length: 1 m\n",
    "- diameter: 10 cm\n",
    "- flow rate: 0.1 m³/s\n",
    "\n",
    "\n",
    "\n",
    "\n",
    "***Hint:*** To plot the bulk solution, make sure that you set the `write_solution_bulk` flag in the `TubularReactor`."
   ]
  },
  {
   "cell_type": "code",
   "execution_count": null,
   "id": "d792c29f",
   "metadata": {
    "tags": [
     "solution"
    ]
   },
   "outputs": [],
   "source": [
    "from CADETProcess.processModel import ComponentSystem\n",
    "\n",
    "component_system = ComponentSystem(['A', 'B','C'])"
   ]
  },
  {
   "cell_type": "code",
   "execution_count": null,
   "id": "1579030b",
   "metadata": {
    "tags": [
     "solution"
    ]
   },
   "outputs": [],
   "source": [
    "from CADETProcess.processModel import MassActionLaw\n",
    "\n",
    "reaction_system = MassActionLaw(component_system)\n",
    "reaction_system.add_reaction(\n",
    "    indices=[0, 1],\n",
    "    coefficients=[-1, 1],\n",
    "    k_fwd=0.08,\n",
    "    k_bwd=0.0\n",
    ")\n",
    "reaction_system.add_reaction(\n",
    "    indices=[1, 2],\n",
    "    coefficients=[-1, 1],\n",
    "    k_fwd=0.060,\n",
    "    k_bwd=0.0\n",
    ")"
   ]
  },
  {
   "cell_type": "code",
   "execution_count": null,
   "id": "a050756a",
   "metadata": {
    "tags": [
     "solution"
    ]
   },
   "outputs": [],
   "source": [
    "from CADETProcess.processModel import Inlet, TubularReactor, Outlet\n",
    "\n",
    "inlet = Inlet(component_system, name='inlet')\n",
    "inlet.c = [10, 0, 0]\n",
    "inlet.flow_rate = 1e-4\n",
    "\n",
    "outlet = Outlet(component_system, name= 'outlet')\n",
    "\n",
    "reactor = TubularReactor(component_system, 'reactor')\n",
    "reactor.length = 1\n",
    "reactor.diameter = 0.1\n",
    "reactor.bulk_reaction_model = reaction_system\n",
    "reactor.c = [0.0, 0.0, 0.0]\n",
    "reactor.axial_dispersion = 1e-7\n",
    "reactor.solution_recorder.write_solution_bulk = True"
   ]
  },
  {
   "cell_type": "code",
   "execution_count": null,
   "id": "f6398c54",
   "metadata": {
    "tags": [
     "solution"
    ]
   },
   "outputs": [],
   "source": [
    "from CADETProcess.processModel import FlowSheet\n",
    "\n",
    "flow_sheet = FlowSheet(component_system)\n",
    "flow_sheet.add_unit(reactor)\n",
    "flow_sheet.add_unit(inlet)\n",
    "flow_sheet.add_unit(outlet)\n",
    "flow_sheet.add_connection(inlet, reactor)\n",
    "flow_sheet.add_connection(reactor, outlet)\n",
    "\n",
    "from CADETProcess.processModel import Process\n",
    "\n",
    "process = Process(flow_sheet, 'reaction_demo')\n",
    "process.cycle_time = 100"
   ]
  },
  {
   "cell_type": "code",
   "execution_count": null,
   "id": "a4d29786",
   "metadata": {
    "tags": [
     "solution"
    ]
   },
   "outputs": [],
   "source": [
    "from CADETProcess.simulator import Cadet\n",
    "\n",
    "simulator = Cadet()\n",
    "sim_results = simulator.simulate(process)\n",
    "_ = sim_results.solution.reactor.bulk.plot_at_time(100)"
   ]
  },
  {
   "cell_type": "markdown",
   "id": "04400921",
   "metadata": {
    "slideshow": {
     "slide_type": "slide"
    }
   },
   "source": [
    "## Bonus Exercise\n",
    "\n",
    "Try implementing other reaction systems such as:\n",
    "\n",
    "$\\require{mhchem}$\n",
    "$$\\ce{A + B ->[k_{1}] C}$$\n",
    "$$\\ce{2 A + B ->[k_{1}] C}$$\n",
    "$$\\ce{A + B <=>[k_{1}][k_{-1}] C ->[k_{2}] D}$$\n",
    "$$\\ce{A + B ->[k_{1}] C} \\quad \\text{and as a parallel reaction} \\quad \\ce{A + C ->[k_{2}] D}$$"
   ]
  },
  {
   "cell_type": "code",
   "execution_count": null,
   "id": "a2736c0d",
   "metadata": {
    "tags": [
     "solution"
    ]
   },
   "outputs": [],
   "source": []
  }
 ],
 "metadata": {
  "jupytext": {
   "formats": "ipynb,md:myst"
  },
  "kernelspec": {
   "display_name": "Python 3 (ipykernel)",
   "language": "python",
   "name": "python3"
  }
 },
 "nbformat": 4,
 "nbformat_minor": 5
}
