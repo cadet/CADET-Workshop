{
 "cells": [
  {
   "cell_type": "markdown",
   "id": "51b89e2c",
   "metadata": {},
   "source": [
    "# Lesson 3: Exercises\n",
    "\n",
    "\n",
    "## Exercise 1: Equilibrium reaction with intermediate state\n",
    "\n",
    "We will consider again consider a batch reaction in a `CSTR` but this time, we will also account for an intermediate state:\n",
    "\n",
    "$\\require{mhchem}$\n",
    "$$\\ce{A <=>[k_{AB}][k_{BA}] B <=>[k_{BC}][k_{CB}] C}$$\n",
    "\n",
    "***Task:*** Implement the reaction and plot the results. Assume the following values for the rate constants:\n",
    "- $k_{AB} = 0.080~s^{-1}$\n",
    "- $k_{BA} = 0.0~s^{-1}$\n",
    "- $k_{BC} = 0.060~s^{-1}$\n",
    "- $k_{CB} = 0.0~s^{-1}$"
   ]
  },
  {
   "cell_type": "code",
   "execution_count": null,
   "id": "47328b6c",
   "metadata": {
    "tags": [
     "solution"
    ]
   },
   "outputs": [],
   "source": []
  },
  {
   "cell_type": "code",
   "execution_count": null,
   "id": "33e4f605",
   "metadata": {
    "tags": [
     "solution"
    ]
   },
   "outputs": [],
   "source": []
  },
  {
   "cell_type": "code",
   "execution_count": null,
   "id": "a25b8ef6",
   "metadata": {
    "tags": [
     "solution"
    ]
   },
   "outputs": [],
   "source": []
  },
  {
   "cell_type": "code",
   "execution_count": null,
   "id": "1763f1a4",
   "metadata": {
    "tags": [
     "solution"
    ]
   },
   "outputs": [],
   "source": []
  },
  {
   "cell_type": "code",
   "execution_count": null,
   "id": "f79d068a",
   "metadata": {
    "tags": [
     "solution"
    ]
   },
   "outputs": [],
   "source": []
  },
  {
   "cell_type": "markdown",
   "id": "464b3c57",
   "metadata": {
    "slideshow": {
     "slide_type": "slide"
    }
   },
   "source": [
    "## Exercise 2: Equilibrium reaction with intermediate state in tubular reactor\n",
    "***Task:*** Implement the reaction in a tubular reactor and plot the results at the outlet, as well as over the length of the column for the last timestep.\n",
    "\n",
    "Consider again the reaction parameters from Exercise 1.\n",
    "For the `TubularReactor` use the following parameters:\n",
    "- length: 1 m\n",
    "- diameter: 10 cm\n",
    "- flow rate: 0.1 m³/s\n",
    "\n",
    "\n",
    "\n",
    "\n",
    "***Hint:*** To plot the bulk solution, make sure that you set the `write_solution_bulk` flag in the `TubularReactor`."
   ]
  },
  {
   "cell_type": "code",
   "execution_count": null,
   "id": "ea493b12",
   "metadata": {
    "tags": [
     "solution"
    ]
   },
   "outputs": [],
   "source": []
  },
  {
   "cell_type": "code",
   "execution_count": null,
   "id": "0cb68a31",
   "metadata": {
    "tags": [
     "solution"
    ]
   },
   "outputs": [],
   "source": []
  },
  {
   "cell_type": "code",
   "execution_count": null,
   "id": "d141aea3",
   "metadata": {
    "tags": [
     "solution"
    ]
   },
   "outputs": [],
   "source": []
  },
  {
   "cell_type": "code",
   "execution_count": null,
   "id": "4ce8f881",
   "metadata": {
    "tags": [
     "solution"
    ]
   },
   "outputs": [],
   "source": []
  },
  {
   "cell_type": "code",
   "execution_count": null,
   "id": "341624e5",
   "metadata": {
    "tags": [
     "solution"
    ]
   },
   "outputs": [],
   "source": []
  },
  {
   "cell_type": "markdown",
   "id": "a92d84aa",
   "metadata": {
    "slideshow": {
     "slide_type": "slide"
    }
   },
   "source": [
    "## Bonus Exercise\n",
    "\n",
    "Try implementing other reaction systems such as:\n",
    "\n",
    "$\\require{mhchem}$\n",
    "$$\\ce{A + B ->[k_{1}] C}$$\n",
    "$$\\ce{2 A + B ->[k_{1}] C}$$\n",
    "$$\\ce{A + B <=>[k_{1}][k_{-1}] C ->[k_{2}] D}$$\n",
    "$$\\ce{A + B ->[k_{1}] C} \\quad \\text{and as a parallel reaction} \\quad \\ce{A + C ->[k_{2}] D}$$"
   ]
  },
  {
   "cell_type": "code",
   "execution_count": null,
   "id": "517feb5e",
   "metadata": {
    "tags": [
     "solution"
    ]
   },
   "outputs": [],
   "source": []
  }
 ],
 "metadata": {
  "jupytext": {
   "formats": "ipynb,md:myst"
  },
  "kernelspec": {
   "display_name": "Python 3 (ipykernel)",
   "language": "python",
   "name": "python3"
  }
 },
 "nbformat": 4,
 "nbformat_minor": 5
}
