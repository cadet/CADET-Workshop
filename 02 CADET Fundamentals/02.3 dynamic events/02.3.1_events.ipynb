{
 "cells": [
  {
   "cell_type": "markdown",
   "id": "ab4bf9cb",
   "metadata": {
    "editable": true,
    "slideshow": {
     "slide_type": "slide"
    }
   },
   "source": [
    "# Dynamic Events in CADET-Process\n",
    "\n",
    "Dynamic changes of model parameters or flow sheet connections are configure in `Process` class.\n",
    "\n",
    "For more information, see also [here](https://cadet-process.readthedocs.io/en/latest/user_guide/process_model/process.html)."
   ]
  },
  {
   "cell_type": "markdown",
   "id": "dafc5dcb",
   "metadata": {
    "editable": true,
    "slideshow": {
     "slide_type": "fragment"
    }
   },
   "source": [
    "First, let's re-create the example from the last lesson. The parameters were:\n",
    "```\n",
    "inlet.flow_rate = 1e-6\n",
    "inlet.c = 1\n",
    "column.total_porosity = 0.4\n",
    "column.length = 0.1  # m\n",
    "column.diameter = 0.2  # m\n",
    "column.axial_dispersion = 1e-7  # m^2 s^-1\n",
    "process.cycle_time = 2000  # s\n",
    "```"
   ]
  },
  {
   "cell_type": "code",
   "execution_count": null,
   "id": "a73926b0",
   "metadata": {
    "editable": true,
    "slideshow": {
     "slide_type": ""
    },
    "tags": [
     "solution"
    ]
   },
   "outputs": [],
   "source": [
    "from CADETProcess.processModel import ComponentSystem\n",
    "\n",
    "component_system = ComponentSystem(['A', 'B'])\n",
    "\n",
    "from CADETProcess.processModel import Langmuir\n",
    "\n",
    "binding_model = Langmuir(component_system, name='linear')\n",
    "binding_model.is_kinetic = False\n",
    "binding_model.adsorption_rate = [2, 1]\n",
    "binding_model.desorption_rate = [1, 1]\n",
    "binding_model.capacity = [1, 1]\n",
    "\n",
    "from CADETProcess.processModel import Inlet, Outlet, LumpedRateModelWithoutPores\n",
    "\n",
    "column = LumpedRateModelWithoutPores(component_system, name=\"reactor\")\n",
    "column.binding_model = binding_model\n",
    "\n",
    "column.length = 0.014\n",
    "column.total_porosity = 0.4\n",
    "column.diameter = 0.01\n",
    "column.axial_dispersion = 1e-7\n",
    "\n",
    "inlet = Inlet(component_system, name='inlet')\n",
    "inlet.c = [1.0, 1.0]\n",
    "inlet.flow_rate = 1.67e-8\n",
    "\n",
    "outlet = Outlet(component_system, name= 'outlet')\n",
    "\n",
    "\n",
    "from CADETProcess.processModel import FlowSheet\n",
    "\n",
    "flow_sheet = FlowSheet(component_system)\n",
    "\n",
    "flow_sheet.add_unit(column)\n",
    "flow_sheet.add_unit(inlet)\n",
    "flow_sheet.add_unit(outlet)\n",
    "\n",
    "flow_sheet.add_connection(inlet,column)\n",
    "flow_sheet.add_connection(column,outlet)\n",
    "\n",
    "from CADETProcess.processModel import Process\n",
    "\n",
    "process = Process(flow_sheet, 'process')\n",
    "process.cycle_time = 100\n",
    "\n",
    "from CADETProcess.simulator import Cadet\n",
    "simulator = Cadet()\n",
    "simulator.time_resolution = 1\n",
    "\n",
    "sim_results = simulator.run(process)\n",
    "_ = sim_results.solution.reactor.outlet.plot()"
   ]
  },
  {
   "cell_type": "markdown",
   "id": "103adb55",
   "metadata": {
    "editable": true,
    "slideshow": {
     "slide_type": "slide"
    }
   },
   "source": [
    "Rarely do we want to simulate static processes. All events, such as pump changes, injections, valve changes etc. need to be configured in the `Process` class.\n",
    "\n",
    "To add an event that changes the value of a parameter, use the `add_event` method which requires the following arguments:\n",
    "- `name`: Name of the event.\n",
    "- `parameter_path`: Path of the parameter that is changed in dot notation. E.g. the flow rate of the eluent unit is the parameter `flow_rate` of the `eluent` unit in the `flow_sheet`. Hence, the path is `flow_sheet.eluent.flow_rate`. As previously mentioned, the name of the unit operation is used to reference it, not the variable.\n",
    "- `state`: Value of the attribute that is changed at Event execution.\n",
    "- `time`: Time at which the event is executed.\n",
    "\n",
    "To display all time dependent parameters of an object, use the `section_dependent_parameters` attribute."
   ]
  },
  {
   "cell_type": "code",
   "execution_count": null,
   "id": "3f87d002",
   "metadata": {
    "editable": true,
    "slideshow": {
     "slide_type": ""
    },
    "tags": [
     "solution"
    ]
   },
   "outputs": [],
   "source": [
    "# process.add_event(\"load_start\", \"flow_sheet.inlet.c\", 1, time=0, indices=(0, 1))\n",
    "# process.add_event(\"load_stop\", \"flow_sheet.inlet.c\", 0, time=10)"
   ]
  },
  {
   "cell_type": "markdown",
   "id": "41d5eece",
   "metadata": {
    "editable": true,
    "slideshow": {
     "slide_type": "fragment"
    }
   },
   "source": [
    "Note that also flow sheet connectivity can be added as events. More on that later."
   ]
  },
  {
   "cell_type": "code",
   "execution_count": null,
   "id": "aec819f4",
   "metadata": {
    "editable": true,
    "slideshow": {
     "slide_type": ""
    },
    "tags": [
     "solution"
    ]
   },
   "outputs": [],
   "source": [
    "# process.add_event(\"load_start\", \"flow_sheet.inlet.c\", [0, 1, 0, 0], time=0, indices=(0,))"
   ]
  },
  {
   "cell_type": "markdown",
   "id": "c1029510",
   "metadata": {
    "editable": true,
    "slideshow": {
     "slide_type": "fragment"
    }
   },
   "source": [
    "Now, add an event to start loading the column with 1 mM of our component when we start the simulation and an event to wash the column with an eluent with 0 mM of our component after 60 seconds."
   ]
  },
  {
   "cell_type": "code",
   "execution_count": null,
   "id": "f78c136a",
   "metadata": {
    "editable": true,
    "slideshow": {
     "slide_type": ""
    },
    "tags": [
     "solution"
    ]
   },
   "outputs": [],
   "source": [
    "inlet.c = [0, 1]"
   ]
  },
  {
   "cell_type": "markdown",
   "id": "a6eeabc2",
   "metadata": {
    "editable": true,
    "slideshow": {
     "slide_type": "slide"
    }
   },
   "source": [
    "All events can are stored in the events attribute. To visualize the trajectory of the parameter state over the entire cycle, the Process provides a `plot_events()` method."
   ]
  },
  {
   "cell_type": "code",
   "execution_count": null,
   "id": "a6dc3151",
   "metadata": {
    "editable": true,
    "slideshow": {
     "slide_type": ""
    },
    "tags": [
     "solution"
    ]
   },
   "outputs": [],
   "source": [
    "_ = process.plot_events(x_axis_in_minutes=True)"
   ]
  },
  {
   "cell_type": "markdown",
   "id": "e80ee364",
   "metadata": {
    "editable": true,
    "slideshow": {
     "slide_type": "fragment"
    }
   },
   "source": [
    "Now create a simulator and simulate and plot the process."
   ]
  },
  {
   "cell_type": "code",
   "execution_count": null,
   "id": "ab1fafee",
   "metadata": {
    "editable": true,
    "slideshow": {
     "slide_type": ""
    },
    "tags": [
     "solution"
    ]
   },
   "outputs": [],
   "source": [
    "sim_results = simulator.simulate(process)\n",
    "sim_results.solution.outlet.outlet.plot()"
   ]
  },
  {
   "cell_type": "code",
   "execution_count": null,
   "id": "519200ec",
   "metadata": {
    "editable": true,
    "slideshow": {
     "slide_type": ""
    },
    "tags": [
     "solution"
    ]
   },
   "outputs": [],
   "source": []
  },
  {
   "cell_type": "markdown",
   "id": "95302c5a",
   "metadata": {
    "editable": true,
    "slideshow": {
     "slide_type": "slide"
    }
   },
   "source": [
    "We are not limited to constant concentrations. We can set piecewise cubic polynomials for:\n",
    "- Concentration profiles (for each component) and\n",
    "- Flow rate\n",
    "\n",
    "Here's an overview of piecewise functions and how they approximate a sine wave.\n",
    "```{figure} ./resources/piecewise.png\n",
    ":width: 50%\n",
    ":align: left\n",
    "\n",
    "source: https://bayesiancomputationbook.com/_images/piecewise.png\n",
    "```"
   ]
  },
  {
   "cell_type": "markdown",
   "id": "cdb2e63f",
   "metadata": {
    "editable": true,
    "slideshow": {
     "slide_type": "fragment"
    }
   },
   "source": [
    "So let's set a gradient inlet that starts at 50 mM and increases linearly to 1000 mM over 60 minutes (3600 s). First, we need a new `Process` instance."
   ]
  },
  {
   "cell_type": "code",
   "execution_count": null,
   "id": "060f6da8",
   "metadata": {
    "editable": true,
    "slideshow": {
     "slide_type": ""
    },
    "tags": [
     "solution"
    ]
   },
   "outputs": [],
   "source": [
    "slope = (1000 - 50) / 3600\n",
    "\n",
    "process.add_event(\"gradient_start\", \"flow_sheet.inlet.c\", [50, slope], time=0, indices=[(0, 0), (0, 1)])\n",
    "# process.add_event(\"load_stop\", \"flow_sheet.inlet.c\", 0, time=10)"
   ]
  },
  {
   "cell_type": "code",
   "execution_count": null,
   "id": "7982bb9a",
   "metadata": {
    "editable": true,
    "slideshow": {
     "slide_type": ""
    },
    "tags": [
     "solution"
    ]
   },
   "outputs": [],
   "source": [
    "process.cycle_time = 3600\n",
    "process.plot_events()"
   ]
  },
  {
   "cell_type": "markdown",
   "id": "0ad267bf",
   "metadata": {
    "editable": true,
    "slideshow": {
     "slide_type": "fragment"
    }
   },
   "source": [
    "We can also add event dependencies. These set the time of events depending on the time of other events.\n",
    "\n",
    "So we could set the gradient to start 100 seconds after a loading phase has started."
   ]
  },
  {
   "cell_type": "code",
   "execution_count": null,
   "id": "5ce842f1",
   "metadata": {
    "editable": true,
    "slideshow": {
     "slide_type": ""
    },
    "tags": [
     "solution"
    ]
   },
   "outputs": [],
   "source": [
    "process = Process(flow_sheet, \"proces\")\n",
    "process.cycle_time = 3600\n",
    "\n",
    "process.add_event(\"load\", \"flow_sheet.inlet.c\", [[1000, 0, 0, 0], [0, 0, 0, 0]], time=100)\n",
    "process.add_event(\"begin_gradient\", \"flow_sheet.inlet.c\", [[50, slope, 0, 0], [0, 0, 0, 0]])\n",
    "\n",
    "process.add_event_dependency(\"begin_gradient\", [\"load\"], factors=None, transforms=[lambda x: x+100])\n",
    "\n",
    "process.plot_events()"
   ]
  },
  {
   "cell_type": "markdown",
   "id": "5599a1db",
   "metadata": {
    "editable": true,
    "slideshow": {
     "slide_type": "fragment"
    }
   },
   "source": [
    "Lastly, we can add durations to the process to use them in event dependencies:"
   ]
  },
  {
   "cell_type": "code",
   "execution_count": null,
   "id": "1df05b5d",
   "metadata": {
    "editable": true,
    "slideshow": {
     "slide_type": ""
    },
    "tags": [
     "solution"
    ]
   },
   "outputs": [],
   "source": [
    "process.add_duration(\"length_gradient\", time=100)\n",
    "process.add_event(\"end_gradient\", \"flow_sheet.inlet.c\", [[1000, 0, 0, 0], [0, 0, 0, 0]], time=100)\n",
    "process.add_event_dependency(\"end_gradient\", [\"begin_gradient\", \"length_gradient\"], factors=None, transforms=[lambda x: x+100, lambda x:x])"
   ]
  },
  {
   "cell_type": "code",
   "execution_count": null,
   "id": "5ba5d5d9",
   "metadata": {
    "editable": true,
    "slideshow": {
     "slide_type": ""
    },
    "tags": [
     "solution"
    ]
   },
   "outputs": [],
   "source": [
    "process.plot_events()"
   ]
  },
  {
   "cell_type": "code",
   "execution_count": null,
   "id": "a12fe180",
   "metadata": {},
   "outputs": [],
   "source": []
  }
 ],
 "metadata": {
  "jupytext": {
   "formats": "ipynb,md:myst"
  },
  "kernelspec": {
   "display_name": "Python 3 (ipykernel)",
   "language": "python",
   "name": "python3"
  }
 },
 "nbformat": 4,
 "nbformat_minor": 5
}
