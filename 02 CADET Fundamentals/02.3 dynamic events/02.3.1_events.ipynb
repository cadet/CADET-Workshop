{
 "cells": [
  {
   "cell_type": "markdown",
   "id": "3869a596",
   "metadata": {
    "editable": true,
    "slideshow": {
     "slide_type": "slide"
    }
   },
   "source": [
    "# Dynamic Events in CADET-Process\n",
    "\n",
    "Dynamic changes of model parameters or flow sheet connections are configure in `Process` class.\n",
    "\n",
    "For more information, see also [here](https://cadet-process.readthedocs.io/en/latest/user_guide/process_model/process.html)."
   ]
  },
  {
   "cell_type": "markdown",
   "id": "58cf9ffa",
   "metadata": {
    "editable": true,
    "slideshow": {
     "slide_type": "fragment"
    }
   },
   "source": [
    "First, let's re-create the example from the last lesson. The parameters were:\n",
    "```\n",
    "inlet.flow_rate = 1e-6\n",
    "inlet.c = 1\n",
    "column.total_porosity = 0.4\n",
    "column.length = 0.1  # m\n",
    "column.diameter = 0.2  # m\n",
    "column.axial_dispersion = 1e-7  # m^2 s^-1\n",
    "process.cycle_time = 2000  # s\n",
    "```"
   ]
  },
  {
   "cell_type": "code",
   "execution_count": null,
   "id": "f27c5249",
   "metadata": {
    "editable": true,
    "slideshow": {
     "slide_type": ""
    },
    "tags": [
     "solution"
    ]
   },
   "outputs": [],
   "source": []
  },
  {
   "cell_type": "markdown",
   "id": "27ba04a0",
   "metadata": {
    "editable": true,
    "slideshow": {
     "slide_type": "slide"
    }
   },
   "source": [
    "Rarely do we want to simulate static processes. All events, such as pump changes, injections, valve changes etc. need to be configured in the `Process` class.\n",
    "\n",
    "To add an event that changes the value of a parameter, use the `add_event` method which requires the following arguments:\n",
    "- `name`: Name of the event.\n",
    "- `parameter_path`: Path of the parameter that is changed in dot notation. E.g. the flow rate of the eluent unit is the parameter `flow_rate` of the `eluent` unit in the `flow_sheet`. Hence, the path is `flow_sheet.eluent.flow_rate`. As previously mentioned, the name of the unit operation is used to reference it, not the variable.\n",
    "- `state`: Value of the attribute that is changed at Event execution.\n",
    "- `time`: Time at which the event is executed.\n",
    "\n",
    "To display all time dependent parameters of an object, use the `section_dependent_parameters` attribute."
   ]
  },
  {
   "cell_type": "code",
   "execution_count": null,
   "id": "1d6f197c",
   "metadata": {
    "editable": true,
    "slideshow": {
     "slide_type": ""
    },
    "tags": [
     "solution"
    ]
   },
   "outputs": [],
   "source": []
  },
  {
   "cell_type": "markdown",
   "id": "b38d9257",
   "metadata": {
    "editable": true,
    "slideshow": {
     "slide_type": "fragment"
    }
   },
   "source": [
    "Note that also flow sheet connectivity can be added as events. More on that later."
   ]
  },
  {
   "cell_type": "code",
   "execution_count": null,
   "id": "86c5cafb",
   "metadata": {
    "editable": true,
    "slideshow": {
     "slide_type": ""
    },
    "tags": [
     "solution"
    ]
   },
   "outputs": [],
   "source": []
  },
  {
   "cell_type": "markdown",
   "id": "27de0cc4",
   "metadata": {
    "editable": true,
    "slideshow": {
     "slide_type": "fragment"
    }
   },
   "source": [
    "Now, add an event to start loading the column with 1 mM of our component when we start the simulation and an event to wash the column with an eluent with 0 mM of our component after 60 seconds."
   ]
  },
  {
   "cell_type": "code",
   "execution_count": null,
   "id": "c11bf060",
   "metadata": {
    "editable": true,
    "slideshow": {
     "slide_type": ""
    },
    "tags": [
     "solution"
    ]
   },
   "outputs": [],
   "source": []
  },
  {
   "cell_type": "markdown",
   "id": "582862ff",
   "metadata": {
    "editable": true,
    "slideshow": {
     "slide_type": "slide"
    }
   },
   "source": [
    "All events can are stored in the events attribute. To visualize the trajectory of the parameter state over the entire cycle, the Process provides a `plot_events()` method."
   ]
  },
  {
   "cell_type": "code",
   "execution_count": null,
   "id": "43ef0bcb",
   "metadata": {
    "editable": true,
    "slideshow": {
     "slide_type": ""
    },
    "tags": [
     "solution"
    ]
   },
   "outputs": [],
   "source": []
  },
  {
   "cell_type": "markdown",
   "id": "778c2aeb",
   "metadata": {
    "editable": true,
    "slideshow": {
     "slide_type": "fragment"
    }
   },
   "source": [
    "Now create a simulator and simulate and plot the process."
   ]
  },
  {
   "cell_type": "code",
   "execution_count": null,
   "id": "31f5b23d",
   "metadata": {
    "editable": true,
    "slideshow": {
     "slide_type": ""
    },
    "tags": [
     "solution"
    ]
   },
   "outputs": [],
   "source": []
  },
  {
   "cell_type": "code",
   "execution_count": null,
   "id": "f62f680c",
   "metadata": {
    "editable": true,
    "slideshow": {
     "slide_type": ""
    },
    "tags": [
     "solution"
    ]
   },
   "outputs": [],
   "source": []
  },
  {
   "cell_type": "markdown",
   "id": "464c171a",
   "metadata": {
    "editable": true,
    "slideshow": {
     "slide_type": "slide"
    }
   },
   "source": [
    "We are not limited to constant concentrations. We can set piecewise cubic polynomials for:\n",
    "- Concentration profiles (for each component) and\n",
    "- Flow rate\n",
    "\n",
    "Here's an overview of piecewise functions and how they approximate a sine wave.\n",
    "```{figure} ./resources/piecewise.png\n",
    ":width: 50%\n",
    ":align: left\n",
    "\n",
    "source: https://bayesiancomputationbook.com/_images/piecewise.png\n",
    "```"
   ]
  },
  {
   "cell_type": "markdown",
   "id": "9feac88b",
   "metadata": {
    "editable": true,
    "slideshow": {
     "slide_type": "fragment"
    }
   },
   "source": [
    "So let's set a gradient inlet that starts at 50 mM and increases linearly to 1000 mM over 60 minutes (3600 s). First, we need a new `Process` instance."
   ]
  },
  {
   "cell_type": "code",
   "execution_count": null,
   "id": "1a4f1c12",
   "metadata": {
    "editable": true,
    "slideshow": {
     "slide_type": ""
    },
    "tags": [
     "solution"
    ]
   },
   "outputs": [],
   "source": []
  },
  {
   "cell_type": "code",
   "execution_count": null,
   "id": "e7b0c018",
   "metadata": {
    "editable": true,
    "slideshow": {
     "slide_type": ""
    },
    "tags": [
     "solution"
    ]
   },
   "outputs": [],
   "source": []
  },
  {
   "cell_type": "markdown",
   "id": "0e25f211",
   "metadata": {
    "editable": true,
    "slideshow": {
     "slide_type": "fragment"
    }
   },
   "source": [
    "We can also add event dependencies. These set the time of events depending on the time of other events.\n",
    "\n",
    "So we could set the gradient to start 100 seconds after a loading phase has started."
   ]
  },
  {
   "cell_type": "code",
   "execution_count": null,
   "id": "c21c2318",
   "metadata": {
    "editable": true,
    "slideshow": {
     "slide_type": ""
    },
    "tags": [
     "solution"
    ]
   },
   "outputs": [],
   "source": []
  },
  {
   "cell_type": "markdown",
   "id": "46a18c69",
   "metadata": {
    "editable": true,
    "slideshow": {
     "slide_type": "fragment"
    }
   },
   "source": [
    "Lastly, we can add durations to the process to use them in event dependencies:"
   ]
  },
  {
   "cell_type": "code",
   "execution_count": null,
   "id": "5487c325",
   "metadata": {
    "editable": true,
    "slideshow": {
     "slide_type": ""
    },
    "tags": [
     "solution"
    ]
   },
   "outputs": [],
   "source": []
  },
  {
   "cell_type": "code",
   "execution_count": null,
   "id": "751151a0",
   "metadata": {
    "editable": true,
    "slideshow": {
     "slide_type": ""
    },
    "tags": [
     "solution"
    ]
   },
   "outputs": [],
   "source": []
  }
 ],
 "metadata": {
  "jupytext": {
   "formats": "ipynb,md:myst"
  },
  "kernelspec": {
   "display_name": "Python 3 (ipykernel)",
   "language": "python",
   "name": "python3"
  }
 },
 "nbformat": 4,
 "nbformat_minor": 5
}
