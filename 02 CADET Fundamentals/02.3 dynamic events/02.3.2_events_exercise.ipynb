{
 "cells": [
  {
   "cell_type": "code",
   "execution_count": null,
   "id": "3e02d135",
   "metadata": {
    "editable": true,
    "slideshow": {
     "slide_type": ""
    },
    "tags": [
     "solution"
    ]
   },
   "outputs": [],
   "source": []
  },
  {
   "cell_type": "markdown",
   "id": "d1ef60f4",
   "metadata": {},
   "source": [
    "# Dynamic Events - Exercises\n",
    "\n",
    "## Exercise 1: Load - Wash - Elute\n",
    "\n",
    "Extend the SMA model from the previous exercise and divide it into sections:\n",
    "- __a load section__: during which the column is loaded with 1 mol of Protein while being held at 50 mM salt concentration\n",
    "- __a wash section__: during which the column is washed with 50 mM salt buffer for 3 column volumes to allow non-binding protein to elute\n",
    "- __an elute section__: during which the column is brought to 1000 mM salt buffer to elute the bound proteins."
   ]
  },
  {
   "cell_type": "code",
   "execution_count": null,
   "id": "475c351e",
   "metadata": {},
   "outputs": [],
   "source": [
    "# add load\n",
    "total_protein = 0.001  # mol\n",
    "load_duration = 10  # sec\n",
    "protein_concentration = 1.0\n",
    "\n",
    "process.add_event(\n",
    "    name=\"load\",\n",
    "    parameter_path=\"flow_sheet.inlet.c\",\n",
    "    state=[\n",
    "        [50, 0, 0, 0],\n",
    "        [protein_concentration, 0, 0, 0],\n",
    "        [protein_concentration, 0, 0, 0],\n",
    "        [protein_concentration, 0, 0, 0]\n",
    "    ],\n",
    "    time=0\n",
    ")\n",
    "# add wash\n",
    "process.add_event(\n",
    "    name=\"wash\",\n",
    "    parameter_path=\"flow_sheet.inlet.c\",\n",
    "    state=[\n",
    "        [50, 0, 0, 0],\n",
    "        [0, 0, 0, 0],\n",
    "        [0, 0, 0, 0],\n",
    "        [0, 0, 0, 0]\n",
    "    ],\n",
    "    time=10\n",
    ")\n",
    "\n",
    "start_concentration = 50\n",
    "end_concentration = 1000\n",
    "gradient_duration\n",
    "\n",
    "slope = (end_concentration - start_concentration) / gradient_duration\n",
    "\n",
    "# add gradient\n",
    "process.add_event(\n",
    "    name=\"gradient_start\",\n",
    "    parameter_path=\"flow_sheet.inlet.c\",\n",
    "    state=[\n",
    "        [50, slope, 0, 0],\n",
    "        [0, 0, 0, 0],\n",
    "        [0, 0, 0, 0],\n",
    "        [0, 0, 0, 0]\n",
    "    ],\n",
    "    time=90\n",
    ")\n",
    "\n",
    "# stop gradient\n",
    "process.add_event(\n",
    "    name=\"gradient_end\",\n",
    "    parameter_path=\"flow_sheet.inlet.c\",\n",
    "    state=[\n",
    "        [1000, 0, 0, 0],\n",
    "        [0, 0, 0, 0],\n",
    "        [0, 0, 0, 0],\n",
    "        [0, 0, 0, 0]\n",
    "    ],\n",
    "    time=90 + gradient_duration\n",
    ")\n",
    "\n",
    "from CADETProcess.simulator import Cadet\n",
    "simulator = Cadet()\n",
    "simulation_results = simulator.simulate(process)\n",
    "simulation_results.solution.outlet.outlet.plot()"
   ]
  },
  {
   "cell_type": "code",
   "execution_count": null,
   "id": "1a3e6f49",
   "metadata": {
    "editable": true,
    "slideshow": {
     "slide_type": ""
    }
   },
   "outputs": [],
   "source": [
    "from CADETProcess.plotting import SecondaryAxis\n",
    "\n",
    "sec = SecondaryAxis()\n",
    "sec.components = ['Salt']\n",
    "sec.y_label = '$c_{salt}$'\n",
    "\n",
    "_ = simulation_results.solution.outlet.outlet.plot(secondary_axis=sec, x_axis_in_minutes=False)"
   ]
  },
  {
   "cell_type": "code",
   "execution_count": null,
   "id": "8e964ef8",
   "metadata": {
    "tags": [
     "solution"
    ]
   },
   "outputs": [],
   "source": []
  },
  {
   "cell_type": "code",
   "execution_count": null,
   "id": "1f77f6ed",
   "metadata": {},
   "outputs": [],
   "source": []
  }
 ],
 "metadata": {
  "jupytext": {
   "formats": "ipynb,md:myst"
  },
  "kernelspec": {
   "display_name": "Python 3 (ipykernel)",
   "language": "python",
   "name": "python3"
  }
 },
 "nbformat": 4,
 "nbformat_minor": 5
}
