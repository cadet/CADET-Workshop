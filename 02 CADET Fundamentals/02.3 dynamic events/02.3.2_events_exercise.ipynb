{
 "cells": [
  {
   "cell_type": "code",
   "execution_count": null,
   "id": "3c481a95",
   "metadata": {
    "editable": true,
    "slideshow": {
     "slide_type": ""
    },
    "tags": [
     "solution"
    ]
   },
   "outputs": [],
   "source": [
    "from CADETProcess.processModel import Inlet, Outlet, ComponentSystem, LumpedRateModelWithoutPores, StericMassAction\n",
    "\n",
    "component_system = ComponentSystem([\"Salt\", \"ProteinA\", \"ProteinB\", \"ProteinC\"])\n",
    "\n",
    "inlet = Inlet(component_system, \"inlet\")\n",
    "inlet.flow_rate = 1 / 60 / 1000 / 1000\n",
    "\n",
    "outlet = Outlet(component_system, \"outlet\")\n",
    "\n",
    "column = LumpedRateModelWithoutPores(component_system, \"column\")\n",
    "\n",
    "column.total_porosity = 0.4\n",
    "column.axial_dispersion = 1e-6\n",
    "column.length = 0.014\n",
    "column.diameter = 0.01\n",
    "column.c = [50, 0, 0, 0]\n",
    "\n",
    "binding = StericMassAction(component_system, \"binding\")\n",
    "binding.is_kinetic = True\n",
    "binding.adsorption_rate = [0, 1e-5, 1e-1, 1e-3]\n",
    "binding.desorption_rate = [0, 1, 1, 1]\n",
    "binding.characteristic_charge = [0, 5, 1, 7]\n",
    "binding.steric_factor = [0, 1, 1, 1]\n",
    "binding.capacity = 1200\n",
    "\n",
    "column.binding_model = binding\n",
    "\n",
    "column.q = [50, 0, 0, 0]\n",
    "\n",
    "from CADETProcess.processModel import FlowSheet, Process\n",
    "\n",
    "flow_sheet = FlowSheet(component_system, \"flow_sheet\")\n",
    "\n",
    "flow_sheet.add_unit(inlet)\n",
    "flow_sheet.add_unit(column)\n",
    "flow_sheet.add_unit(outlet)\n",
    "\n",
    "flow_sheet.add_connection(inlet, column)\n",
    "flow_sheet.add_connection(column, outlet)\n",
    "\n",
    "process = Process(flow_sheet, \"process\")\n",
    "\n",
    "gradient_column_volumes = 15\n",
    "gradient_duration = gradient_column_volumes * column.volume / inlet.flow_rate[0]\n",
    "\n",
    "process.cycle_time = 90 + gradient_duration + 90"
   ]
  },
  {
   "cell_type": "markdown",
   "id": "43243c5f",
   "metadata": {},
   "source": [
    "# Dynamic Events - Exercises\n",
    "\n",
    "## Exercise 1: Load - Wash - Elute\n",
    "\n",
    "Extend the SMA model from the previous exercise and divide it into sections:\n",
    "- __a load section__: during which the column is loaded with 1 mol of Protein while being held at 50 mM salt concentration\n",
    "- __a wash section__: during which the column is washed with 50 mM salt buffer for 3 column volumes to allow non-binding protein to elute\n",
    "- __an elute section__: during which the column is brought to 1000 mM salt buffer to elute the bound proteins."
   ]
  },
  {
   "cell_type": "code",
   "execution_count": null,
   "id": "ac6db8c1",
   "metadata": {},
   "outputs": [],
   "source": [
    "# add load\n",
    "total_protein = 0.001  # mol\n",
    "load_duration = 10  # sec\n",
    "protein_concentration = 1.0\n",
    "\n",
    "process.add_event(\n",
    "    name=\"load\",\n",
    "    parameter_path=\"flow_sheet.inlet.c\",\n",
    "    state=[\n",
    "        [50, 0, 0, 0],\n",
    "        [protein_concentration, 0, 0, 0],\n",
    "        [protein_concentration, 0, 0, 0],\n",
    "        [protein_concentration, 0, 0, 0]\n",
    "    ],\n",
    "    time=0\n",
    ")\n",
    "# add wash\n",
    "process.add_event(\n",
    "    name=\"wash\",\n",
    "    parameter_path=\"flow_sheet.inlet.c\",\n",
    "    state=[\n",
    "        [50, 0, 0, 0],\n",
    "        [0, 0, 0, 0],\n",
    "        [0, 0, 0, 0],\n",
    "        [0, 0, 0, 0]\n",
    "    ],\n",
    "    time=10\n",
    ")\n",
    "\n",
    "start_concentration = 50\n",
    "end_concentration = 1000\n",
    "gradient_duration\n",
    "\n",
    "slope = (end_concentration - start_concentration) / gradient_duration\n",
    "\n",
    "# add gradient\n",
    "process.add_event(\n",
    "    name=\"gradient_start\",\n",
    "    parameter_path=\"flow_sheet.inlet.c\",\n",
    "    state=[\n",
    "        [50, slope, 0, 0],\n",
    "        [0, 0, 0, 0],\n",
    "        [0, 0, 0, 0],\n",
    "        [0, 0, 0, 0]\n",
    "    ],\n",
    "    time=90\n",
    ")\n",
    "\n",
    "# stop gradient\n",
    "process.add_event(\n",
    "    name=\"gradient_end\",\n",
    "    parameter_path=\"flow_sheet.inlet.c\",\n",
    "    state=[\n",
    "        [1000, 0, 0, 0],\n",
    "        [0, 0, 0, 0],\n",
    "        [0, 0, 0, 0],\n",
    "        [0, 0, 0, 0]\n",
    "    ],\n",
    "    time=90 + gradient_duration\n",
    ")\n",
    "\n",
    "from CADETProcess.simulator import Cadet\n",
    "simulator = Cadet()\n",
    "simulation_results = simulator.simulate(process)\n",
    "simulation_results.solution.outlet.outlet.plot()"
   ]
  },
  {
   "cell_type": "code",
   "execution_count": null,
   "id": "85da8b68",
   "metadata": {
    "editable": true,
    "slideshow": {
     "slide_type": ""
    }
   },
   "outputs": [],
   "source": [
    "from CADETProcess.plotting import SecondaryAxis\n",
    "\n",
    "sec = SecondaryAxis()\n",
    "sec.components = ['Salt']\n",
    "sec.y_label = '$c_{salt}$'\n",
    "\n",
    "_ = simulation_results.solution.outlet.outlet.plot(secondary_axis=sec, x_axis_in_minutes=False)"
   ]
  },
  {
   "cell_type": "code",
   "execution_count": null,
   "id": "c3edcda9",
   "metadata": {
    "tags": [
     "solution"
    ]
   },
   "outputs": [],
   "source": []
  },
  {
   "cell_type": "code",
   "execution_count": null,
   "id": "e1aa3837",
   "metadata": {},
   "outputs": [],
   "source": []
  }
 ],
 "metadata": {
  "jupytext": {
   "formats": "ipynb,md:myst"
  },
  "kernelspec": {
   "display_name": "Python 3 (ipykernel)",
   "language": "python",
   "name": "python3"
  }
 },
 "nbformat": 4,
 "nbformat_minor": 5
}
