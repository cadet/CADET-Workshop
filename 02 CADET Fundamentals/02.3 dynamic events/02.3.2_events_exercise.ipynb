{
 "cells": [
  {
   "cell_type": "markdown",
   "id": "aea91fda",
   "metadata": {
    "editable": true,
    "slideshow": {
     "slide_type": ""
    }
   },
   "source": [
    "# Dynamic Events - Exercises"
   ]
  },
  {
   "cell_type": "markdown",
   "id": "789ef7da",
   "metadata": {
    "editable": true,
    "slideshow": {
     "slide_type": ""
    }
   },
   "source": [
    "## Exercise 1: Load - Wash - Elute\n",
    "\n",
    "Extend the SMA model from the previous exercise and divide it into sections:\n",
    "- __a load section__: during which the column is loaded with 1 mol of Protein while being held at 50 mM salt concentration\n",
    "- __a wash section__: during which the column is washed with 50 mM salt buffer for 3 column volumes to allow non-binding protein to elute\n",
    "- __an elute section__: during which the column is brought to 1000 mM salt buffer to elute the bound proteins.\n"
   ]
  },
  {
   "cell_type": "code",
   "execution_count": null,
   "id": "7b64400f",
   "metadata": {
    "editable": true,
    "slideshow": {
     "slide_type": ""
    },
    "tags": [
     "solution"
    ]
   },
   "outputs": [],
   "source": []
  },
  {
   "cell_type": "code",
   "execution_count": null,
   "id": "dc0d79fa",
   "metadata": {
    "editable": true,
    "slideshow": {
     "slide_type": ""
    }
   },
   "outputs": [],
   "source": [
    "from CADETProcess.plotting import SecondaryAxis\n",
    "\n",
    "sec = SecondaryAxis()\n",
    "sec.components = ['Salt']\n",
    "sec.y_label = '$c_{salt}$'\n",
    "\n",
    "_ = sim_results.solution.outlet.outlet.plot(secondary_axis=sec, x_axis_in_minutes=False)"
   ]
  },
  {
   "cell_type": "code",
   "execution_count": null,
   "id": "174124bd",
   "metadata": {
    "tags": [
     "solution"
    ]
   },
   "outputs": [],
   "source": []
  }
 ],
 "metadata": {
  "jupytext": {
   "formats": "ipynb,md:myst"
  },
  "kernelspec": {
   "display_name": "Python 3 (ipykernel)",
   "language": "python",
   "name": "python3"
  },
  "language_info": {
   "codemirror_mode": {
    "name": "ipython",
    "version": 3
   },
   "file_extension": ".py",
   "mimetype": "text/x-python",
   "name": "python",
   "nbconvert_exporter": "python",
   "pygments_lexer": "ipython3",
   "version": "3.11.10"
  }
 },
 "nbformat": 4,
 "nbformat_minor": 5
}
