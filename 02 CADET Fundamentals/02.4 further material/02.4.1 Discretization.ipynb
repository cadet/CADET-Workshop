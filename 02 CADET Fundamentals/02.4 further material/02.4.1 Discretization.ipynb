{
 "cells": [
  {
   "cell_type": "code",
   "execution_count": null,
   "id": "3eac705a",
   "metadata": {
    "editable": true,
    "slideshow": {
     "slide_type": ""
    }
   },
   "outputs": [],
   "source": []
  },
  {
   "cell_type": "markdown",
   "id": "7728e262",
   "metadata": {
    "editable": true,
    "slideshow": {
     "slide_type": "slide"
    }
   },
   "source": [
    "## Discretization\n",
    "\n",
    "In case of the column, there are several options for adapting the spatial discretization of the PDE model.\n",
    "However, the two most important ones are the number of grid cells in the column (axial direction) and the particles.\n",
    "Since the lumped rate model without pores does not have particles, we only need to specify axial cells `n_col`.\n",
    "The default is $100$ which should work for most scenarios.\n",
    "\n",
    "\n",
    "```{note}\n",
    "CADET-Core by default uses a finite volume scheme for the spatial discretization.\n",
    "However, we have with Version 5.0 implemented a new method, the *Discontinuous Galerkin* method which can increase speed substantially.\n",
    "```"
   ]
  },
  {
   "cell_type": "code",
   "execution_count": null,
   "id": "8aac577f",
   "metadata": {
    "editable": true,
    "slideshow": {
     "slide_type": ""
    },
    "tags": [
     "solution"
    ]
   },
   "outputs": [],
   "source": [
    "from CADETProcess.processModel import ComponentSystem, Inlet, Outlet\n",
    "from CADETProcess.processModel import LumpedRateModelWithoutPores, FlowSheet, Process\n",
    "\n",
    "component_system = ComponentSystem(1)\n",
    "\n",
    "inlet = Inlet(component_system, 'inlet')\n",
    "inlet.flow_rate = 1e-6\n",
    "inlet.c = 1\n",
    "\n",
    "outlet = Outlet(component_system, 'outlet')\n",
    "outlet = Outlet(component_system, \"outlet\")\n",
    "\n",
    "column = LumpedRateModelWithoutPores(component_system, \"column\")\n",
    "column.total_porosity = 0.4\n",
    "column.length = 0.1  # m\n",
    "column.diameter = 0.2  # m\n",
    "column.axial_dispersion = 1e-9  # m^2 s^-1\n",
    "\n",
    "flow_sheet = FlowSheet(component_system)\n",
    "flow_sheet.add_unit(inlet)\n",
    "flow_sheet.add_unit(outlet)\n",
    "flow_sheet.add_unit(column)\n",
    "flow_sheet.add_connection(inlet, column)\n",
    "flow_sheet.add_connection(column, outlet)\n",
    "\n",
    "process = Process(flow_sheet, 'process')\n",
    "process.cycle_time = 2000  # s"
   ]
  },
  {
   "cell_type": "code",
   "execution_count": null,
   "id": "21327013",
   "metadata": {
    "editable": true,
    "slideshow": {
     "slide_type": ""
    },
    "tags": [
     "solution"
    ]
   },
   "outputs": [],
   "source": [
    "event = process.add_event('start load', 'flow_sheet.inlet.c', 1, 0)\n",
    "print(event)\n",
    "process.add_event('start wash', 'flow_sheet.inlet.c', 0, 60)"
   ]
  },
  {
   "cell_type": "code",
   "execution_count": null,
   "id": "0c9cd23d",
   "metadata": {
    "editable": true,
    "slideshow": {
     "slide_type": ""
    }
   },
   "outputs": [],
   "source": [
    "from CADETProcess.simulator import Cadet\n",
    "simulator = Cadet()\n",
    "\n",
    "simulation_results = simulator.simulate(process)"
   ]
  },
  {
   "cell_type": "code",
   "execution_count": null,
   "id": "a8872e8e",
   "metadata": {
    "tags": [
     "solution"
    ]
   },
   "outputs": [],
   "source": [
    "column.discretization"
   ]
  },
  {
   "cell_type": "markdown",
   "id": "648454a1",
   "metadata": {
    "editable": true,
    "slideshow": {
     "slide_type": "slide"
    }
   },
   "source": [
    "### High discretization"
   ]
  },
  {
   "cell_type": "code",
   "execution_count": null,
   "id": "9bc6bf9a",
   "metadata": {
    "tags": [
     "solution"
    ]
   },
   "outputs": [],
   "source": [
    "column.discretization.ncol = 2000\n",
    "simulation_results = simulator.simulate(process)\n",
    "simulation_results.solution.outlet.outlet.plot()"
   ]
  },
  {
   "cell_type": "markdown",
   "id": "7b54efe2",
   "metadata": {
    "slideshow": {
     "slide_type": "slide"
    }
   },
   "source": [
    "### Low discretization"
   ]
  },
  {
   "cell_type": "code",
   "execution_count": null,
   "id": "7b240f06",
   "metadata": {
    "tags": [
     "solution"
    ]
   },
   "outputs": [],
   "source": [
    "column.discretization.ncol = 20\n",
    "simulation_results = simulator.simulate(process)\n",
    "simulation_results.solution.outlet.outlet.plot()"
   ]
  },
  {
   "cell_type": "code",
   "execution_count": null,
   "id": "f61cf641",
   "metadata": {},
   "outputs": [],
   "source": []
  },
  {
   "cell_type": "markdown",
   "id": "caa58fd3",
   "metadata": {
    "editable": true,
    "jp-MarkdownHeadingCollapsed": true,
    "slideshow": {
     "slide_type": "slide"
    }
   },
   "source": [
    "## Visualization\n",
    "\n",
    "Additionally to the solution at the inlet and outlet of a unit operation, we can also take a look inside the column to see the peak move.\n",
    "\n",
    "For this purpose, set the flag in the unit's `SolutionRecorder`.\n",
    "Then, the `SimulationResults` will also contain an entry for the bulk.\n",
    "\n",
    "**Note:** Since this solution is two-dimensinal (space and time), the solution can be plotted at a given position (`plot_at_location`) or a given time (`plot_at_time`)."
   ]
  },
  {
   "cell_type": "code",
   "execution_count": null,
   "id": "fbc0ed16",
   "metadata": {
    "tags": [
     "solution"
    ]
   },
   "outputs": [],
   "source": [
    "column.discretization.ncol = 100\n",
    "column.solution_recorder.write_solution_bulk = True\n",
    "\n",
    "simulation_results = simulator.simulate(process)"
   ]
  },
  {
   "cell_type": "code",
   "execution_count": null,
   "id": "b26b68e0",
   "metadata": {
    "tags": [
     "solution"
    ]
   },
   "outputs": [],
   "source": [
    "simulation_results.solution.column.bulk.plot_at_position(0.05)\n",
    "simulation_results.solution.column.bulk.plot_at_time(80)"
   ]
  },
  {
   "cell_type": "code",
   "execution_count": null,
   "id": "a9d6abca",
   "metadata": {
    "editable": true,
    "slideshow": {
     "slide_type": ""
    },
    "tags": [
     "solution"
    ]
   },
   "outputs": [],
   "source": [
    "%matplotlib ipympl\n",
    "from ipywidgets import interact, interactive\n",
    "import ipywidgets as widgets\n",
    "import matplotlib.pyplot as plt\n",
    "\n",
    "\n",
    "fig, ax = simulation_results.solution.column.bulk.plot_at_time(0)\n",
    "ax.set_ylim(0, 1)\n",
    "plt.tight_layout()\n",
    "\n",
    "# Visualization\n",
    "def graph_column(time=0):\n",
    "    ax.clear()\n",
    "    simulation_results.solution.column.bulk.plot_at_time(time, ax=ax)\n",
    "    ax.set_ylim(0, 1)\n",
    "\n",
    "style = {'description_width': 'initial'}\n",
    "interact(\n",
    "    graph_column,\n",
    "    time=widgets.IntSlider(\n",
    "        min=0, max=process.cycle_time, step=10, layout={'width': '800px'}, style=style, description='Time'\n",
    "    )\n",
    ")"
   ]
  }
 ],
 "metadata": {
  "jupytext": {
   "formats": "ipynb,md:myst"
  },
  "kernelspec": {
   "display_name": "Python 3 (ipykernel)",
   "language": "python",
   "name": "python3"
  }
 },
 "nbformat": 4,
 "nbformat_minor": 5
}
