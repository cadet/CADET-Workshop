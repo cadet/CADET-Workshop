{
 "cells": [
  {
   "cell_type": "code",
   "execution_count": null,
   "id": "8b1c9235",
   "metadata": {
    "editable": true,
    "slideshow": {
     "slide_type": ""
    }
   },
   "outputs": [],
   "source": []
  },
  {
   "cell_type": "markdown",
   "id": "f84533aa",
   "metadata": {
    "editable": true,
    "slideshow": {
     "slide_type": "slide"
    }
   },
   "source": [
    "## Discretization\n",
    "\n",
    "In case of the column, there are several options for adapting the spatial discretization of the PDE model.\n",
    "However, the two most important ones are the number of grid cells in the column (axial direction) and the particles.\n",
    "Since the lumped rate model without pores does not have particles, we only need to specify axial cells `n_col`.\n",
    "The default is $100$ which should work for most scenarios.\n",
    "\n",
    "\n",
    "```{note}\n",
    "CADET-Core by default uses a finite volume scheme for the spatial discretization.\n",
    "However, we have with Version 5.0 implemented a new method, the *Discontinuous Galerkin* method which can increase speed substantially.\n",
    "```"
   ]
  },
  {
   "cell_type": "code",
   "execution_count": null,
   "id": "77830b3b",
   "metadata": {
    "editable": true,
    "slideshow": {
     "slide_type": ""
    },
    "tags": [
     "solution"
    ]
   },
   "outputs": [],
   "source": []
  },
  {
   "cell_type": "code",
   "execution_count": null,
   "id": "9e13e18c",
   "metadata": {
    "editable": true,
    "slideshow": {
     "slide_type": ""
    },
    "tags": [
     "solution"
    ]
   },
   "outputs": [],
   "source": []
  },
  {
   "cell_type": "code",
   "execution_count": null,
   "id": "9b358801",
   "metadata": {
    "editable": true,
    "slideshow": {
     "slide_type": ""
    }
   },
   "outputs": [],
   "source": [
    "from CADETProcess.simulator import Cadet\n",
    "simulator = Cadet()\n",
    "\n",
    "simulation_results = simulator.simulate(process)"
   ]
  },
  {
   "cell_type": "code",
   "execution_count": null,
   "id": "0cf08533",
   "metadata": {
    "tags": [
     "solution"
    ]
   },
   "outputs": [],
   "source": []
  },
  {
   "cell_type": "markdown",
   "id": "503a6118",
   "metadata": {
    "editable": true,
    "slideshow": {
     "slide_type": "slide"
    }
   },
   "source": [
    "### High discretization"
   ]
  },
  {
   "cell_type": "code",
   "execution_count": null,
   "id": "8f95cf0d",
   "metadata": {
    "tags": [
     "solution"
    ]
   },
   "outputs": [],
   "source": []
  },
  {
   "cell_type": "markdown",
   "id": "442c9cd4",
   "metadata": {
    "slideshow": {
     "slide_type": "slide"
    }
   },
   "source": [
    "### Low discretization"
   ]
  },
  {
   "cell_type": "code",
   "execution_count": null,
   "id": "390ff76e",
   "metadata": {
    "tags": [
     "solution"
    ]
   },
   "outputs": [],
   "source": []
  },
  {
   "cell_type": "code",
   "execution_count": null,
   "id": "ab8c81eb",
   "metadata": {},
   "outputs": [],
   "source": []
  },
  {
   "cell_type": "markdown",
   "id": "adc86442",
   "metadata": {
    "editable": true,
    "jp-MarkdownHeadingCollapsed": true,
    "slideshow": {
     "slide_type": "slide"
    }
   },
   "source": [
    "## Visualization\n",
    "\n",
    "Additionally to the solution at the inlet and outlet of a unit operation, we can also take a look inside the column to see the peak move.\n",
    "\n",
    "For this purpose, set the flag in the unit's `SolutionRecorder`.\n",
    "Then, the `SimulationResults` will also contain an entry for the bulk.\n",
    "\n",
    "**Note:** Since this solution is two-dimensinal (space and time), the solution can be plotted at a given position (`plot_at_location`) or a given time (`plot_at_time`)."
   ]
  },
  {
   "cell_type": "code",
   "execution_count": null,
   "id": "d99c9ab9",
   "metadata": {
    "tags": [
     "solution"
    ]
   },
   "outputs": [],
   "source": []
  },
  {
   "cell_type": "code",
   "execution_count": null,
   "id": "9a0699f2",
   "metadata": {
    "tags": [
     "solution"
    ]
   },
   "outputs": [],
   "source": []
  },
  {
   "cell_type": "code",
   "execution_count": null,
   "id": "92170f92",
   "metadata": {
    "editable": true,
    "slideshow": {
     "slide_type": ""
    },
    "tags": [
     "solution"
    ]
   },
   "outputs": [],
   "source": []
  }
 ],
 "metadata": {
  "jupytext": {
   "formats": "ipynb,md:myst"
  },
  "kernelspec": {
   "display_name": "Python 3 (ipykernel)",
   "language": "python",
   "name": "python3"
  }
 },
 "nbformat": 4,
 "nbformat_minor": 5
}
