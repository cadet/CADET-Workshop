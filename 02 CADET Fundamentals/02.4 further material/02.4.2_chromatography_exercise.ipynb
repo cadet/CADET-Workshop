{
 "cells": [
  {
   "cell_type": "markdown",
   "id": "ac6227cf",
   "metadata": {
    "editable": true,
    "slideshow": {
     "slide_type": ""
    }
   },
   "source": [
    "# Chromatographic Processes - Exercise"
   ]
  },
  {
   "cell_type": "markdown",
   "id": "9ce3ed0c",
   "metadata": {
    "editable": true,
    "slideshow": {
     "slide_type": ""
    }
   },
   "source": [
    "## Exercise 1: Set up the non-binding experiment from the lab book"
   ]
  },
  {
   "cell_type": "code",
   "execution_count": null,
   "id": "5487b365",
   "metadata": {
    "editable": true,
    "slideshow": {
     "slide_type": ""
    },
    "tags": [
     "solution"
    ]
   },
   "outputs": [],
   "source": []
  },
  {
   "cell_type": "markdown",
   "id": "fb3643a5",
   "metadata": {
    "editable": true,
    "slideshow": {
     "slide_type": "slide"
    }
   },
   "source": [
    "## Exercise 2: Set up the Bind and Elute experiment from the lab book"
   ]
  },
  {
   "cell_type": "code",
   "execution_count": null,
   "id": "e5090dab",
   "metadata": {
    "editable": true,
    "slideshow": {
     "slide_type": ""
    },
    "tags": [
     "solution"
    ]
   },
   "outputs": [],
   "source": []
  },
  {
   "cell_type": "code",
   "execution_count": null,
   "id": "2000fa8b",
   "metadata": {},
   "outputs": [],
   "source": [
    "# Process\n",
    "process = Process(flow_sheet, 'batch elution')\n",
    "\n",
    "process.cycle_time = 60 * 60\n",
    "\n",
    "c_salt_load = 50\n",
    "c_load = [c_salt_load, 1, 1, 1]\n",
    "\n",
    "process.add_event('load', 'flow_sheet.inlet.c', c_load, 0)\n",
    "\n",
    "simulator = Cadet()\n",
    "simulator.time_resolution = 2\n",
    "\n",
    "\n",
    "simulation_results = simulator.simulate(process)\n",
    "print(simulation_results.time_elapsed)\n",
    "\n",
    "from CADETProcess.plotting import SecondaryAxis\n",
    "\n",
    "sec = SecondaryAxis()\n",
    "sec.components = ['Salt']\n",
    "sec.y_label = '$c_{salt}$'\n",
    "\n",
    "simulation_results.solution.outlet.outlet.plot(secondary_axis=sec)\n",
    "import matplotlib.pyplot as plt\n",
    "\n",
    "plt.tight_layout()"
   ]
  },
  {
   "cell_type": "code",
   "execution_count": null,
   "id": "dc69cbac",
   "metadata": {},
   "outputs": [],
   "source": []
  }
 ],
 "metadata": {
  "jupytext": {
   "formats": "ipynb,md:myst"
  },
  "kernelspec": {
   "display_name": "Python 3 (ipykernel)",
   "language": "python",
   "name": "python3"
  }
 },
 "nbformat": 4,
 "nbformat_minor": 5
}
