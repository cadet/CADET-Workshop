{
 "cells": [
  {
   "cell_type": "markdown",
   "id": "24026759",
   "metadata": {
    "editable": true,
    "slideshow": {
     "slide_type": ""
    }
   },
   "source": [
    "# Chromatographic Processes - Exercise"
   ]
  },
  {
   "cell_type": "markdown",
   "id": "e4fa8617",
   "metadata": {
    "editable": true,
    "slideshow": {
     "slide_type": ""
    }
   },
   "source": [
    "## Exercise 1: Set up the non-binding experiment from the lab book"
   ]
  },
  {
   "cell_type": "code",
   "execution_count": null,
   "id": "46861611",
   "metadata": {
    "editable": true,
    "slideshow": {
     "slide_type": ""
    },
    "tags": [
     "solution"
    ]
   },
   "outputs": [],
   "source": []
  },
  {
   "cell_type": "markdown",
   "id": "8d3b3a4a",
   "metadata": {
    "editable": true,
    "slideshow": {
     "slide_type": "slide"
    }
   },
   "source": [
    "## Exercise 2: Set up the Bind and Elute experiment from the lab book"
   ]
  },
  {
   "cell_type": "code",
   "execution_count": null,
   "id": "8a243ead",
   "metadata": {
    "editable": true,
    "slideshow": {
     "slide_type": ""
    },
    "tags": [
     "solution"
    ]
   },
   "outputs": [],
   "source": []
  }
 ],
 "metadata": {
  "jupytext": {
   "formats": "ipynb,md:myst"
  },
  "kernelspec": {
   "display_name": "Python 3 (ipykernel)",
   "language": "python",
   "name": "python3"
  }
 },
 "nbformat": 4,
 "nbformat_minor": 5
}
