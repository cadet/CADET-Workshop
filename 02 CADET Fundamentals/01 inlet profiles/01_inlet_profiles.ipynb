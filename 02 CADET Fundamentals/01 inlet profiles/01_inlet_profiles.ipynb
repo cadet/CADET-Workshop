{
 "cells": [
  {
   "cell_type": "markdown",
   "id": "5d7fe0f3",
   "metadata": {
    "slideshow": {
     "slide_type": "slide"
    }
   },
   "source": [
    "# Inlet Profiles\n",
    "\n",
    "Chromatographic systems always require some kind of convective flow through the column."
   ]
  },
  {
   "cell_type": "markdown",
   "id": "b13cca0e",
   "metadata": {
    "slideshow": {
     "slide_type": "fragment"
    }
   },
   "source": [
    "In this lesson, we will:\n",
    "- Create and connect our first systems of unit operations.\n",
    "- Define inlet profiles using piecewise cubic polynomials.\n",
    "- Run CADET and analyze the results."
   ]
  },
  {
   "cell_type": "markdown",
   "id": "e8d2f308",
   "metadata": {
    "slideshow": {
     "slide_type": "slide"
    }
   },
   "source": [
    "## Example 1: Flow from `Inlet` to `Outlet`\n",
    "\n",
    "In a first example, we will look at a simple system with just two unit operations, an [Inlet](https://cadet-process.readthedocs.io/en/latest/reference/generated/CADETProcess.processModel.Inlet.html), and an [Outlet](https://cadet-process.readthedocs.io/en/latest/reference/generated/CADETProcess.processModel.Outlet.html).\n",
    "\n",
    "```{figure} ./resources/IO.png\n",
    ":width: 30%\n",
    "```\n",
    "\n",
    "We will introduce flow from the `Inlet` to the `Outlet` with a constant flow rate of $Q = 1~mL \\cdot s^{-1}$.\n",
    "In the first section, the concentration is $1.0~mM$, and after $1~min$, it is changed to $0.0~mM$.\n",
    "\n",
    "```{figure} ./resources/step.png\n",
    ":width: 30%\n",
    "```"
   ]
  },
  {
   "cell_type": "markdown",
   "id": "db0793f7",
   "metadata": {
    "slideshow": {
     "slide_type": "slide"
    }
   },
   "source": [
    "## 1. Setting up the model\n",
    "\n",
    "Before we start with specifying the system, we define some local auxiliary variables.\n",
    "Note that we have to convert all units to SI units.\n",
    "\n",
    "\n",
    "```{note}\n",
    "Generally, CADET can be used with any consistent system of units.\n",
    "However, we strongly recommend converting everything to the SI system.\n",
    "```"
   ]
  },
  {
   "cell_type": "markdown",
   "id": "ca340912",
   "metadata": {
    "slideshow": {
     "slide_type": "slide"
    }
   },
   "source": [
    "#### Component System\n",
    "\n",
    "- `ComponentSystem` ensure that all parts of the process have the same number of components.\n",
    "- Components can be named which automatically adds legends to the plot methods.\n",
    "\n",
    "For advanced use, see [here](https://cadet-process.readthedocs.io/en/latest/reference/process_model/component_system.html)."
   ]
  },
  {
   "cell_type": "code",
   "execution_count": null,
   "id": "ef8b1587",
   "metadata": {
    "tags": [
     "solution"
    ]
   },
   "outputs": [],
   "source": []
  },
  {
   "cell_type": "markdown",
   "id": "6ce1347e",
   "metadata": {
    "slideshow": {
     "slide_type": "slide"
    }
   },
   "source": [
    "## Unit Operations\n",
    "\n",
    "For an overview of all models in CADET-Process, see [here](https://cadet-process.readthedocs.io/en/latest/reference/process_model/unit_operation_models.html).\n",
    "\n",
    "Unit operations require:\n",
    "- the `ComponentSystem`\n",
    "- as a unique name.\n",
    "\n",
    "Note that the name string passed in the constructor is later used to reference the unit in the flow sheet for setting `Events` and `OptimizationVariables`."
   ]
  },
  {
   "cell_type": "markdown",
   "id": "246736f4",
   "metadata": {
    "slideshow": {
     "slide_type": "fragment"
    }
   },
   "source": [
    "## Inlet\n",
    "\n",
    "In CADET, the `Inlet` pseudo unit operation serves as source for the system and is used to create arbitary concentration profiles as boundary conditions (see also [here](https://cadet-process.readthedocs.io/en/latest/reference/generated/CADETProcess.processModel.Inlet.html)).\n",
    "\n",
    "- Concentration profiles are described using a third degree piecewise polynomial for each component.\n",
    "- Flow rate can be expressed as a third degree piecewise polynomial.\n",
    "\n",
    "Here, the flow rate is constant, we can directly set the parameter on the object."
   ]
  },
  {
   "cell_type": "code",
   "execution_count": null,
   "id": "e33d91ad",
   "metadata": {
    "tags": [
     "solution"
    ]
   },
   "outputs": [],
   "source": []
  },
  {
   "cell_type": "markdown",
   "id": "b3d8215e",
   "metadata": {
    "slideshow": {
     "slide_type": "fragment"
    }
   },
   "source": [
    "Note that every unit operation model has different model parameters.\n",
    "To display all parameters, simply print the `parameters` attribute."
   ]
  },
  {
   "cell_type": "code",
   "execution_count": null,
   "id": "2a3f97ca",
   "metadata": {
    "tags": [
     "solution"
    ]
   },
   "outputs": [],
   "source": []
  },
  {
   "cell_type": "markdown",
   "id": "1b1564c2",
   "metadata": {
    "slideshow": {
     "slide_type": "fragment"
    }
   },
   "source": [
    "## Outlet\n",
    "The `Outlet` is another pseudo unit operation that serves as sink for the system (see also [here](https://cadet.github.io/master/modelling/unit_operations/outlet))."
   ]
  },
  {
   "cell_type": "code",
   "execution_count": null,
   "id": "e1a39e4b",
   "metadata": {
    "tags": [
     "solution"
    ]
   },
   "outputs": [],
   "source": []
  },
  {
   "cell_type": "markdown",
   "id": "0b1b36a7",
   "metadata": {
    "slideshow": {
     "slide_type": "fragment"
    }
   },
   "source": [
    "Note that the `Outlet` unit does not have any model parameters."
   ]
  },
  {
   "cell_type": "code",
   "execution_count": null,
   "id": "a9c235be",
   "metadata": {
    "tags": [
     "solution"
    ]
   },
   "outputs": [],
   "source": []
  },
  {
   "cell_type": "markdown",
   "id": "93eb3c6f",
   "metadata": {
    "slideshow": {
     "slide_type": "slide"
    }
   },
   "source": [
    "## Flow Sheet Connectivity\n",
    "\n",
    "The `FlowSheet` stores the connectivity between different unit operations.\n",
    "\n",
    "For more information, see also [here](https://cadet-process.readthedocs.io/en/latest/reference/process_model/flow_sheet.html)."
   ]
  },
  {
   "cell_type": "code",
   "execution_count": null,
   "id": "c12388fb",
   "metadata": {
    "tags": [
     "solution"
    ]
   },
   "outputs": [],
   "source": []
  },
  {
   "cell_type": "markdown",
   "id": "c3fa1be8",
   "metadata": {
    "slideshow": {
     "slide_type": "slide"
    }
   },
   "source": [
    "## Dynamic Events in Process\n",
    "\n",
    "Dynamic changes of model parameters or flow sheet connections are configure in `Process` class.\n",
    "\n",
    "For more information, see also [here](https://cadet-process.readthedocs.io/en/latest/user_guide/process_model/process.html)."
   ]
  },
  {
   "cell_type": "code",
   "execution_count": null,
   "id": "d8307c7c",
   "metadata": {
    "tags": [
     "solution"
    ]
   },
   "outputs": [],
   "source": []
  },
  {
   "cell_type": "markdown",
   "id": "3acaf7c9",
   "metadata": {
    "slideshow": {
     "slide_type": "skip"
    }
   },
   "source": [
    "To add an event that changes the value of a parameter, use the `add_event` method which requires the following arguments:\n",
    "- `name`: Name of the event.\n",
    "- `parameter_path`: Path of the parameter that is changed in dot notation. E.g. the flow rate of the eluent unit is the parameter `flow_rate` of the `eluent` unit in the `flow_sheet`. Hence, the path is `flow_sheet.eluent.flow_rate`. As previously mentioned, the name of the unit operation is used to reference it, not the variable.\n",
    "- `state`: Value of the attribute that is changed at Event execution.\n",
    "- `time`: Time at which the event is executed.\n",
    "\n",
    "To display all time dependent parameters of an object, use the `section_dependent_parameters` attribute."
   ]
  },
  {
   "cell_type": "code",
   "execution_count": null,
   "id": "b3abfc89",
   "metadata": {
    "tags": [
     "solution"
    ]
   },
   "outputs": [],
   "source": []
  },
  {
   "cell_type": "markdown",
   "id": "b9c108ff",
   "metadata": {
    "slideshow": {
     "slide_type": "fragment"
    }
   },
   "source": [
    "Note that also flow sheet connectivity can be added as events. More on that later."
   ]
  },
  {
   "cell_type": "code",
   "execution_count": null,
   "id": "6524483c",
   "metadata": {
    "tags": [
     "solution"
    ]
   },
   "outputs": [],
   "source": []
  },
  {
   "cell_type": "code",
   "execution_count": null,
   "id": "99638de0",
   "metadata": {
    "tags": [
     "solution"
    ]
   },
   "outputs": [],
   "source": []
  },
  {
   "cell_type": "markdown",
   "id": "a01dbf44",
   "metadata": {
    "slideshow": {
     "slide_type": "fragment"
    }
   },
   "source": [
    "All events can are stored in the events attribute. To visualize the trajectory of the parameter state over the entire cycle, the Process provides a `plot_events()` method."
   ]
  },
  {
   "cell_type": "code",
   "execution_count": null,
   "id": "0dfbd8af",
   "metadata": {
    "tags": [
     "solution"
    ]
   },
   "outputs": [],
   "source": []
  },
  {
   "cell_type": "markdown",
   "id": "ef560221",
   "metadata": {
    "slideshow": {
     "slide_type": "slide"
    }
   },
   "source": [
    "## 3. Setting up the simulator and running the simulation\n",
    "\n",
    "To simulate the process, a process simulator needs to be configured.\n",
    "If no path is specified, CADET-Process will try to autodetect CADET."
   ]
  },
  {
   "cell_type": "code",
   "execution_count": null,
   "id": "ec14ed30",
   "metadata": {
    "tags": [
     "solution"
    ]
   },
   "outputs": [],
   "source": []
  },
  {
   "cell_type": "markdown",
   "id": "dadd3ddf",
   "metadata": {
    "slideshow": {
     "slide_type": "fragment"
    }
   },
   "source": [
    "If a specific version of CADET is to be used, add the install path to the constructor:\n",
    "\n",
    "```\n",
    "process_simulator = Cadet(install_path='/path/to/cadet/executable')\n",
    "```\n",
    "\n",
    "To check that everything works correctly, you can call the check_cadet method:"
   ]
  },
  {
   "cell_type": "code",
   "execution_count": null,
   "id": "40860172",
   "metadata": {
    "tags": [
     "solution"
    ]
   },
   "outputs": [],
   "source": []
  },
  {
   "cell_type": "markdown",
   "id": "086212e4",
   "metadata": {
    "slideshow": {
     "slide_type": "fragment"
    }
   },
   "source": [
    "Now, run the simulation:"
   ]
  },
  {
   "cell_type": "code",
   "execution_count": null,
   "id": "486d186e",
   "metadata": {
    "tags": [
     "solution"
    ]
   },
   "outputs": [],
   "source": []
  },
  {
   "cell_type": "markdown",
   "id": "5fb84f8e",
   "metadata": {
    "slideshow": {
     "slide_type": "slide"
    }
   },
   "source": [
    "## 4. Plotting the results\n",
    "\n",
    "The simulation_results object contains the solution for the inlet and outlet of every unit operation also provide plot methods."
   ]
  },
  {
   "cell_type": "code",
   "execution_count": null,
   "id": "a711e222",
   "metadata": {
    "tags": [
     "solution"
    ]
   },
   "outputs": [],
   "source": []
  }
 ],
 "metadata": {
  "jupytext": {
   "formats": "ipynb,md:myst"
  },
  "kernelspec": {
   "display_name": "Python 3 (ipykernel)",
   "language": "python",
   "name": "python3"
  }
 },
 "nbformat": 4,
 "nbformat_minor": 5
}
