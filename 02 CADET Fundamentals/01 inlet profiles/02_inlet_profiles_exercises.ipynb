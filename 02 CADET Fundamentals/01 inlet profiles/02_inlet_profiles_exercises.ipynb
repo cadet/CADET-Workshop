{
 "cells": [
  {
   "cell_type": "markdown",
   "id": "a0f3bcb3",
   "metadata": {
    "slideshow": {
     "slide_type": "slide"
    },
    "user_expressions": []
   },
   "source": [
    "# Inlet Profiles - Exercise"
   ]
  },
  {
   "cell_type": "markdown",
   "id": "d8c79a7a",
   "metadata": {
    "user_expressions": []
   },
   "source": [
    "## Exercise 1\n",
    "\n",
    "Create the following flow profile:\n",
    "\n",
    "```{figure} ./resources/2_comp.png\n",
    ":width: 50%\n",
    ":align: center\n",
    "```\n",
    "Assume a flow rate of $Q = 1\\cdot mL\\cdot min^{-1}$\n",
    "\n",
    "***Hint:*** We need to specify a second component for the template function and then pass a list of to the concentration parameter."
   ]
  },
  {
   "cell_type": "code",
   "execution_count": null,
   "id": "37314959",
   "metadata": {
    "tags": [
     "solution"
    ]
   },
   "outputs": [],
   "source": [
    "from CADETProcess.processModel import ComponentSystem\n",
    "\n",
    "component_system = ComponentSystem(2)\n",
    "\n",
    "from CADETProcess.processModel import Inlet\n",
    "inlet = Inlet(component_system, 'inlet')\n",
    "inlet.flow_rate = 1e-6/60\n",
    "\n",
    "from CADETProcess.processModel import Outlet\n",
    "outlet = Outlet(component_system, 'outlet')\n",
    "\n",
    "from CADETProcess.processModel import FlowSheet\n",
    "flow_sheet = FlowSheet(component_system)\n",
    "\n",
    "flow_sheet.add_unit(inlet)\n",
    "flow_sheet.add_unit(outlet)\n",
    "\n",
    "flow_sheet.add_connection(inlet, outlet)\n",
    "\n",
    "from CADETProcess.processModel import Process\n",
    "process = Process(flow_sheet, 'flow_exercise_1')\n",
    "process.cycle_time = 120\n",
    "\n",
    "process.add_event('load', 'flow_sheet.inlet.c', [0.5, 0])\n",
    "process.add_event('wash', 'flow_sheet.inlet.c', [1, 2], 60)\n",
    "\n",
    "from CADETProcess.simulator import Cadet\n",
    "simulator = Cadet()\n",
    "\n",
    "simulation_results = simulator.simulate(process)\n",
    "\n",
    "_ = simulation_results.solution.outlet.inlet.plot()"
   ]
  },
  {
   "cell_type": "markdown",
   "id": "00eeda57",
   "metadata": {
    "slideshow": {
     "slide_type": "slide"
    },
    "user_expressions": []
   },
   "source": [
    "## Exercise 2\n",
    "\n",
    "Create the following inlet profile:\n",
    "\n",
    "```{figure} ./resources/gradient.png\n",
    ":width: 50%\n",
    ":align: center\n",
    "```\n",
    "\n",
    "Assume a flow rate of $Q = 1\\cdot mL\\cdot min^{-1}$\n",
    "\n",
    "***Hint:*** We need three `Events` and for linear gradients, the concentration for each component needs to be passed as a list of cubic polynomial coefficients."
   ]
  },
  {
   "cell_type": "code",
   "execution_count": null,
   "id": "dc01fd69",
   "metadata": {
    "tags": [
     "solution"
    ]
   },
   "outputs": [],
   "source": [
    "from CADETProcess.processModel import ComponentSystem\n",
    "\n",
    "component_system = ComponentSystem(1)\n",
    "\n",
    "from CADETProcess.processModel import Inlet\n",
    "inlet = Inlet(component_system, 'inlet')\n",
    "inlet.flow_rate = 1e-6/60\n",
    "\n",
    "from CADETProcess.processModel import Outlet\n",
    "outlet = Outlet(component_system, 'outlet')\n",
    "\n",
    "from CADETProcess.processModel import FlowSheet\n",
    "flow_sheet = FlowSheet(component_system)\n",
    "\n",
    "flow_sheet.add_unit(inlet)\n",
    "flow_sheet.add_unit(outlet)\n",
    "\n",
    "flow_sheet.add_connection(inlet, outlet)\n",
    "\n",
    "from CADETProcess.processModel import Process\n",
    "process = Process(flow_sheet, 'flow_exercise_2')\n",
    "process.cycle_time = 180\n",
    "\n",
    "process.add_event('load', 'flow_sheet.inlet.c', [[0,1/60]], 0)\n",
    "process.add_event('wash', 'flow_sheet.inlet.c', [[1]], 60)\n",
    "process.add_event('elute', 'flow_sheet.inlet.c', [[1,-1/60]], 120)\n",
    "\n",
    "from CADETProcess.simulator import Cadet\n",
    "simulator = Cadet()\n",
    "\n",
    "simulation_results = simulator.simulate(process)\n",
    "\n",
    "_ = simulation_results.solution.outlet.inlet.plot()"
   ]
  },
  {
   "cell_type": "markdown",
   "id": "75c5c766",
   "metadata": {
    "slideshow": {
     "slide_type": "slide"
    },
    "user_expressions": []
   },
   "source": [
    "## Bonus Exercise: Changing the system connectivity\n",
    "\n",
    "Instead of creating inlet profiles by modifying the concentration profile of a single `Inlet` unit operation, the same effect can also be achieved by assuming multiple `Inlets`, each with a constant concentration and changing the flow rates of the system.\n",
    "\n",
    "***Task:*** Creating a system with a second `Inlet` and recreate the previous examples."
   ]
  },
  {
   "cell_type": "markdown",
   "id": "c7c47213",
   "metadata": {
    "user_expressions": []
   },
   "source": [
    "### Example 1"
   ]
  },
  {
   "cell_type": "code",
   "execution_count": null,
   "id": "7f52a843",
   "metadata": {
    "tags": [
     "solution"
    ]
   },
   "outputs": [],
   "source": [
    "from CADETProcess.processModel import ComponentSystem\n",
    "\n",
    "component_system = ComponentSystem(2)\n",
    "\n",
    "from CADETProcess.processModel import Inlet\n",
    "\n",
    "inlet_1 = Inlet(component_system, 'inlet_1')\n",
    "inlet_1.c = [0.5, 0]\n",
    "\n",
    "inlet_2 = Inlet(component_system, 'inlet_2')\n",
    "inlet_2.c = [1, 2]\n",
    "\n",
    "from CADETProcess.processModel import Outlet\n",
    "outlet = Outlet(component_system, 'outlet')\n",
    "\n",
    "from CADETProcess.processModel import FlowSheet\n",
    "flow_sheet = FlowSheet(component_system)\n",
    "\n",
    "flow_sheet.add_unit(inlet_1)\n",
    "flow_sheet.add_unit(inlet_2)\n",
    "flow_sheet.add_unit(outlet)\n",
    "\n",
    "flow_sheet.add_connection(inlet_1, outlet)\n",
    "flow_sheet.add_connection(inlet_2, outlet)\n",
    "\n",
    "from CADETProcess.processModel import Process\n",
    "process = Process(flow_sheet, 'flow_exercise_1_dyn_flow')\n",
    "process.cycle_time = 180\n",
    "\n",
    "process.add_event('inlet_1_on', 'flow_sheet.inlet_1.flow_rate', 1e-6/60, 0)\n",
    "process.add_event('inlet_2_off', 'flow_sheet.inlet_2.flow_rate', 0, 0)\n",
    "process.add_event('inlet_1_off', 'flow_sheet.inlet_1.flow_rate', 0, 60)\n",
    "process.add_event('inlet_2_on', 'flow_sheet.inlet_2.flow_rate', 1e-6/60, 60)\n",
    "\n",
    "from CADETProcess.simulator import Cadet\n",
    "simulator = Cadet()\n",
    "\n",
    "simulation_results = simulator.simulate(process)\n",
    "\n",
    "# _ = simulation_results.solution.inlet_1.outlet.plot()\n",
    "# _ = simulation_results.solution.inlet_2.outlet.plot()\n",
    "_ = simulation_results.solution.outlet.inlet.plot()"
   ]
  },
  {
   "cell_type": "markdown",
   "id": "972c5615",
   "metadata": {
    "slideshow": {
     "slide_type": "slide"
    },
    "user_expressions": []
   },
   "source": [
    "### Example 2"
   ]
  },
  {
   "cell_type": "code",
   "execution_count": null,
   "id": "43d98562",
   "metadata": {
    "tags": [
     "solution"
    ]
   },
   "outputs": [],
   "source": [
    "from CADETProcess.processModel import ComponentSystem\n",
    "\n",
    "component_system = ComponentSystem(1)\n",
    "\n",
    "from CADETProcess.processModel import Inlet\n",
    "\n",
    "inlet_1 = Inlet(component_system, 'inlet_1')\n",
    "inlet_1.c = [1]\n",
    "\n",
    "inlet_2 = Inlet(component_system, 'inlet_2')\n",
    "inlet_2.c = [0]\n",
    "\n",
    "from CADETProcess.processModel import Outlet\n",
    "outlet = Outlet(component_system, 'outlet')\n",
    "\n",
    "from CADETProcess.processModel import FlowSheet\n",
    "flow_sheet = FlowSheet(component_system)\n",
    "\n",
    "flow_sheet.add_unit(inlet_1)\n",
    "flow_sheet.add_unit(inlet_2)\n",
    "flow_sheet.add_unit(outlet)\n",
    "\n",
    "flow_sheet.add_connection(inlet_1, outlet)\n",
    "flow_sheet.add_connection(inlet_2, outlet)\n",
    "\n",
    "from CADETProcess.processModel import Process\n",
    "process = Process(flow_sheet, 'flow_exercise_2_dyn_flow')\n",
    "process.cycle_time = 180\n",
    "\n",
    "Q = 1e-6/60\n",
    "process.add_event('first_grad_1', 'flow_sheet.inlet_1.flow_rate', [0, Q/60], 0)\n",
    "process.add_event('first_grad_2', 'flow_sheet.inlet_2.flow_rate', [Q, -Q/60], 0)\n",
    "\n",
    "process.add_event('start_plateau_1', 'flow_sheet.inlet_1.flow_rate', Q, 60)\n",
    "process.add_event('start_plateau_2', 'flow_sheet.inlet_2.flow_rate', 0, 60)\n",
    "\n",
    "process.add_event('second_grad_1', 'flow_sheet.inlet_1.flow_rate', [Q, -Q/60], 120)\n",
    "process.add_event('second_grad_2', 'flow_sheet.inlet_2.flow_rate', [0, Q/60], 120)\n",
    "\n",
    "\n",
    "from CADETProcess.simulator import Cadet\n",
    "simulator = Cadet()\n",
    "\n",
    "simulation_results = simulator.simulate(process)\n",
    "\n",
    "_ = simulation_results.solution.outlet.inlet.plot()"
   ]
  }
 ],
 "metadata": {
  "kernelspec": {
   "display_name": "Python 3 (ipykernel)",
   "language": "python",
   "name": "python3"
  }
 },
 "nbformat": 4,
 "nbformat_minor": 5
}
