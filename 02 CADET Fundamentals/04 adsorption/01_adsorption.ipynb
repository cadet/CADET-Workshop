{
 "cells": [
  {
   "cell_type": "markdown",
   "id": "ccfd0622",
   "metadata": {},
   "source": [
    "# Adsorption models\n",
    "\n",
    "At the core of chromatographic processes are interactions between the components we want to separate and a stationary\n",
    "phase.\n",
    "\n",
    "These components can be: atoms, ions or molecules of a gas, liquid or dissolved solids."
   ]
  },
  {
   "cell_type": "markdown",
   "id": "bc021f5f",
   "metadata": {
    "slideshow": {
     "slide_type": "slide"
    }
   },
   "source": [
    "## Isotherms\n",
    "\n",
    "These interactions can often be described in terms of an isotherm:\n",
    "\n",
    "```{note}\n",
    "\n",
    "**Isotherm:**\n",
    "An equation that describes how much of a component is __bound__ to the stationary phase or __solved__ in the mobile phase.\n",
    "\n",
    "Valid for a constant _temperature_ (iso - _therm_).\n",
    "\n",
    "```"
   ]
  },
  {
   "cell_type": "markdown",
   "id": "f0724550",
   "metadata": {
    "slideshow": {
     "slide_type": "fragment"
    }
   },
   "source": [
    "```{figure} ./resources/isotherm.png\n",
    ":width: 50%\n",
    ":align: center\n",
    "```"
   ]
  },
  {
   "cell_type": "markdown",
   "id": "2ee7bf70",
   "metadata": {
    "slideshow": {
     "slide_type": "slide"
    }
   },
   "source": [
    "In CADET, many different models for adsorption are implemented.\n",
    "All of the models can be modelled kinetically or in rapid equilibrium.\n",
    "Moreover, many of them include features such as competitive effects, multi state binding, or a mobile phase modifier."
   ]
  },
  {
   "cell_type": "markdown",
   "id": "6d2c46af",
   "metadata": {
    "slideshow": {
     "slide_type": "fragment"
    }
   },
   "source": [
    "```{figure} ./resources/isotherm_models.png\n",
    ":width: 100%\n",
    ":align: center\n",
    "```"
   ]
  },
  {
   "cell_type": "markdown",
   "id": "95db0ba7",
   "metadata": {
    "slideshow": {
     "slide_type": "fragment"
    }
   },
   "source": [
    "**In this lesson,** we will:\n",
    "\n",
    "- Learn about different adsorption models.\n",
    "- Associate adsorption models with different unit operations."
   ]
  },
  {
   "cell_type": "markdown",
   "id": "18e0ea11",
   "metadata": {
    "slideshow": {
     "slide_type": "slide"
    }
   },
   "source": [
    "## Example 1: Linear model\n",
    "\n",
    "The simplest model for adsorption is the [linear model](https://cadet.github.io/master/modelling/binding/linear.html).\n",
    "\n",
    "Analogously to Henry's law, it describes a linear correlation between the solved concentration and the bound\n",
    "concentration of the component."
   ]
  },
  {
   "cell_type": "markdown",
   "id": "d3917f46",
   "metadata": {
    "slideshow": {
     "slide_type": "fragment"
    }
   },
   "source": [
    "Let us consider a shaking flask experiment in a `CSTR` (without ingoing or outgoing streams).\n",
    "In it, we add some porous material s.t.\n",
    "\n",
    "- the overal porosity is $0.5$.\n",
    "- the volume is $1~L$\n",
    "\n",
    "Then, we add a solution of a component with a concentration of $1~mol \\cdot L^{-1}$.\n",
    "\n",
    "Let us first create a `ComponentSystem` and a `Linear` `BindingModel`."
   ]
  },
  {
   "cell_type": "code",
   "execution_count": null,
   "id": "4b5d4400",
   "metadata": {
    "tags": [
     "solution"
    ]
   },
   "outputs": [],
   "source": []
  },
  {
   "cell_type": "code",
   "execution_count": null,
   "id": "231e5e78",
   "metadata": {
    "tags": [
     "solution"
    ]
   },
   "outputs": [],
   "source": []
  },
  {
   "cell_type": "markdown",
   "id": "29de3088",
   "metadata": {
    "slideshow": {
     "slide_type": "slide"
    }
   },
   "source": [
    "Now create the UnitOperation `Cstr` with a porosity of 0.5 and a volume of 1 L."
   ]
  },
  {
   "cell_type": "code",
   "execution_count": null,
   "id": "9c948ec1",
   "metadata": {
    "tags": [
     "solution"
    ]
   },
   "outputs": [],
   "source": []
  },
  {
   "cell_type": "markdown",
   "id": "21deeb85",
   "metadata": {
    "slideshow": {
     "slide_type": "fragment"
    }
   },
   "source": [
    "Let's also initialize our `Cstr` with a component concentration of $1~mol \\cdot L^{-1}$."
   ]
  },
  {
   "cell_type": "code",
   "execution_count": null,
   "id": "e7a36ca4",
   "metadata": {
    "tags": [
     "solution"
    ]
   },
   "outputs": [],
   "source": []
  },
  {
   "cell_type": "markdown",
   "id": "911f9b65",
   "metadata": {
    "slideshow": {
     "slide_type": "fragment"
    }
   },
   "source": [
    "We care about the concentration of our component in the solid and bulk liquid phase, so let's tell the reactor to write\n",
    "down those concentrations."
   ]
  },
  {
   "cell_type": "code",
   "execution_count": null,
   "id": "d791cc15",
   "metadata": {
    "tags": [
     "solution"
    ]
   },
   "outputs": [],
   "source": []
  },
  {
   "cell_type": "markdown",
   "id": "fe5191ca",
   "metadata": {
    "slideshow": {
     "slide_type": "slide"
    }
   },
   "source": [
    "Now, create a `FlowSheet` and a `Process` and a `simulator`"
   ]
  },
  {
   "cell_type": "code",
   "execution_count": null,
   "id": "599a8dff",
   "metadata": {
    "tags": [
     "solution"
    ]
   },
   "outputs": [],
   "source": []
  },
  {
   "cell_type": "code",
   "execution_count": null,
   "id": "29d53c6e",
   "metadata": {
    "tags": [
     "solution"
    ]
   },
   "outputs": [],
   "source": []
  },
  {
   "cell_type": "code",
   "execution_count": null,
   "id": "e880a8aa",
   "metadata": {
    "tags": [
     "solution"
    ]
   },
   "outputs": [],
   "source": []
  },
  {
   "cell_type": "markdown",
   "id": "f1bd58e4",
   "metadata": {
    "slideshow": {
     "slide_type": "slide"
    }
   },
   "source": [
    "### A note on resolution\n",
    "\n",
    "As can be seen in the figure abore, the time resolution is not sufficiently high.\n",
    "By default, CADET-Process stores 1 sample per second.\n",
    "To increase the resolution, set the `time_resolution` parameter of the `Simulator`."
   ]
  },
  {
   "cell_type": "code",
   "execution_count": null,
   "id": "ecbd983d",
   "metadata": {
    "tags": [
     "solution"
    ]
   },
   "outputs": [],
   "source": []
  },
  {
   "cell_type": "markdown",
   "id": "ac750c6e",
   "metadata": {
    "slideshow": {
     "slide_type": "fragment"
    }
   },
   "source": [
    "Now, the solution looks much smoother."
   ]
  },
  {
   "cell_type": "code",
   "execution_count": null,
   "id": "10c5d95c",
   "metadata": {
    "tags": [
     "solution"
    ]
   },
   "outputs": [],
   "source": []
  },
  {
   "cell_type": "markdown",
   "id": "1f6463ab",
   "metadata": {
    "slideshow": {
     "slide_type": "slide"
    }
   },
   "source": [
    "## Example 2: Linear adsorption model with linear concentration gradient\n",
    "\n",
    "To plot the solid phase concentration as a function of the bulk concentration, we can introduce a linear concentration\n",
    "gradient to the `CSTR` that has an initial concentration of $0~mM$."
   ]
  },
  {
   "cell_type": "code",
   "execution_count": null,
   "id": "4078d851",
   "metadata": {
    "tags": [
     "solution"
    ]
   },
   "outputs": [],
   "source": []
  },
  {
   "cell_type": "code",
   "execution_count": null,
   "id": "66b465d1",
   "metadata": {
    "tags": [
     "solution"
    ]
   },
   "outputs": [],
   "source": []
  },
  {
   "cell_type": "code",
   "execution_count": null,
   "id": "737dc003",
   "metadata": {
    "tags": [
     "solution"
    ]
   },
   "outputs": [],
   "source": []
  },
  {
   "cell_type": "code",
   "execution_count": null,
   "id": "8979821d",
   "metadata": {
    "tags": [
     "solution"
    ]
   },
   "outputs": [],
   "source": []
  },
  {
   "cell_type": "code",
   "execution_count": null,
   "id": "1f99065a",
   "metadata": {
    "tags": [
     "solution"
    ]
   },
   "outputs": [],
   "source": []
  },
  {
   "cell_type": "code",
   "execution_count": null,
   "id": "3b0157ff",
   "metadata": {
    "tags": [
     "solution"
    ]
   },
   "outputs": [],
   "source": []
  },
  {
   "cell_type": "code",
   "execution_count": null,
   "id": "c828ceec",
   "metadata": {
    "tags": [
     "solution"
    ]
   },
   "outputs": [],
   "source": []
  },
  {
   "cell_type": "markdown",
   "id": "0362440b",
   "metadata": {
    "slideshow": {
     "slide_type": "slide"
    }
   },
   "source": [
    "## Example 3: Multi component Langmuir model\n",
    "\n",
    "Usually, the linear isotherm can only be assumed for very low solute concentrations.\n",
    "At higher, higher concentrations the limited number of available binding sites on the surface of the adsorbent also\n",
    "needs to be considered which\n",
    "the [Langmuir equation](https://cadet.github.io/master/modelling/binding/multi_component_langmuir.html) takes into\n",
    "account.\n",
    "\n",
    "$$q = q_{sat} \\cdot \\frac{b \\cdot c}{1 + b \\cdot c} = \\frac{a \\cdot c}{1 + b \\cdot c}$$\n",
    "\n",
    "***with:***\n",
    "\n",
    "- $q_{Sat}$ = saturation loading\n",
    "- $b$ = equilibrium factor"
   ]
  },
  {
   "cell_type": "markdown",
   "id": "d83f55d0",
   "metadata": {
    "slideshow": {
     "slide_type": "fragment"
    }
   },
   "source": [
    "***Assumptions:***\n",
    "\n",
    "- All of the adsorption sites are equivalent, and each site can only accommodate one molecule\n",
    "- The surface is energetically homogeneous\n",
    "- Adsorbed molecules do not interact\n",
    "- There are no phase transitions\n",
    "- At the maximum adsorption, only a monolayer is formed\n",
    "\n",
    "For this example, we will introduce a concentration step to the `CSTR`.\n",
    "We consider two components, both with an inital concentration of $0~mM$, but with different binding strengths."
   ]
  },
  {
   "cell_type": "markdown",
   "id": "1fa21a41",
   "metadata": {
    "slideshow": {
     "slide_type": "slide"
    }
   },
   "source": [
    "To start: create a `ComponentSystem`"
   ]
  },
  {
   "cell_type": "code",
   "execution_count": null,
   "id": "344bc961",
   "metadata": {
    "tags": [
     "solution"
    ]
   },
   "outputs": [],
   "source": []
  },
  {
   "cell_type": "code",
   "execution_count": null,
   "id": "ace01bd3",
   "metadata": {
    "tags": [
     "solution"
    ]
   },
   "outputs": [],
   "source": []
  },
  {
   "cell_type": "markdown",
   "id": "925334a8",
   "metadata": {
    "slideshow": {
     "slide_type": "fragment"
    }
   },
   "source": [
    "Set up the `processModel`"
   ]
  },
  {
   "cell_type": "code",
   "execution_count": null,
   "id": "9e22ff60",
   "metadata": {
    "tags": [
     "solution"
    ]
   },
   "outputs": [],
   "source": []
  },
  {
   "cell_type": "markdown",
   "id": "8cfb5fd9",
   "metadata": {
    "slideshow": {
     "slide_type": "fragment"
    }
   },
   "source": [
    "Set up the `FlowSheet`"
   ]
  },
  {
   "cell_type": "code",
   "execution_count": null,
   "id": "61f5b67a",
   "metadata": {
    "tags": [
     "solution"
    ]
   },
   "outputs": [],
   "source": []
  },
  {
   "cell_type": "markdown",
   "id": "d3ac3546",
   "metadata": {
    "slideshow": {
     "slide_type": "fragment"
    }
   },
   "source": [
    "Create a `Process`"
   ]
  },
  {
   "cell_type": "code",
   "execution_count": null,
   "id": "3fc56172",
   "metadata": {
    "tags": [
     "solution"
    ]
   },
   "outputs": [],
   "source": []
  },
  {
   "cell_type": "markdown",
   "id": "d1e2c65c",
   "metadata": {
    "slideshow": {
     "slide_type": "fragment"
    }
   },
   "source": [
    "Create a `Simulator` and simulate"
   ]
  },
  {
   "cell_type": "code",
   "execution_count": null,
   "id": "91821e6c",
   "metadata": {
    "tags": [
     "solution"
    ]
   },
   "outputs": [],
   "source": []
  },
  {
   "cell_type": "markdown",
   "id": "41f1c029",
   "metadata": {
    "slideshow": {
     "slide_type": "fragment"
    }
   },
   "source": [
    "Plot the solutions"
   ]
  },
  {
   "cell_type": "code",
   "execution_count": null,
   "id": "867d479f",
   "metadata": {
    "tags": [
     "solution"
    ]
   },
   "outputs": [],
   "source": []
  }
 ],
 "metadata": {
  "jupytext": {
   "formats": "ipynb,md:myst"
  },
  "kernelspec": {
   "display_name": "Python 3 (ipykernel)",
   "language": "python",
   "name": "python3"
  }
 },
 "nbformat": 4,
 "nbformat_minor": 5
}
