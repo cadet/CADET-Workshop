{
 "cells": [
  {
   "cell_type": "markdown",
   "id": "520db4a4",
   "metadata": {
    "slideshow": {
     "slide_type": "slide"
    }
   },
   "source": [
    "# Adsorption Models - Exercise"
   ]
  },
  {
   "cell_type": "code",
   "execution_count": null,
   "id": "91268942",
   "metadata": {
    "tags": [
     "solution"
    ]
   },
   "outputs": [],
   "source": []
  },
  {
   "cell_type": "markdown",
   "id": "fec0f075",
   "metadata": {
    "slideshow": {
     "slide_type": "slide"
    }
   },
   "source": [
    "## Exercise 1: Breakthrough curve in a Column\n",
    "\n",
    "In this example, consider a column with a `Linear` isotherm with $k_{eq, 1} = 2$, and $k_{eq, 2} = 1$.\n",
    "We want to record the breakthrough curve and for this purpose, a concentration step with $c_{feed} = [1.0, 1.0]~g \\cdot L^{-1} $is introduced at $t = 0$.\n",
    "\n",
    "***Task:*** Implement the configuration for the adsorption isotherm and pass it to the `create_column_template()` function. You also need to provide the number of can also provide\n",
    "\n",
    "Try experimenting with:\n",
    "- The binding strength.\n",
    "- The number of components.\n",
    "- Modify how many components bind.\n",
    "- Compare kinetic binding with rapid equilibrium."
   ]
  },
  {
   "cell_type": "code",
   "execution_count": null,
   "id": "9c86c191",
   "metadata": {
    "tags": [
     "solution"
    ]
   },
   "outputs": [],
   "source": []
  },
  {
   "cell_type": "markdown",
   "id": "33cf5f57",
   "metadata": {
    "slideshow": {
     "slide_type": "slide"
    }
   },
   "source": [
    "## Exercise 2: Langmuir Model in Column\n",
    "\n",
    "Let us consider the same experiment as in the first example, but this time with `Langmuir` adsorption model.\n",
    "\n",
    "with $k_{eq, i} = [2, 1]$, and $q_{max, i} = [10, 10]$.\n",
    "We again introduce a step with $c_{feed} = [1.0, 1.0]~g \\cdot L^{-1} $is introduced at $t = 0$ and the breakthrough curve is recorded.\n",
    "\n",
    "Try experimenting with:\n",
    "- The binding strenth.\n",
    "- The number of components.\n",
    "- Modify how many components bind.\n",
    "- Compare kinetic binding with rapid equilibrium."
   ]
  },
  {
   "cell_type": "code",
   "execution_count": null,
   "id": "494f2ee4",
   "metadata": {
    "tags": [
     "solution"
    ]
   },
   "outputs": [],
   "source": []
  },
  {
   "cell_type": "markdown",
   "id": "a8296586",
   "metadata": {
    "slideshow": {
     "slide_type": "slide"
    }
   },
   "source": [
    "## Bonus Exercise\n",
    "\n",
    "There are many other models implemented in `CADET`.\n",
    "Some binding models can account for multiple binding states, others allow for mobile phase modulators.\n",
    "Moreover, binding models can use external functions for modifying the values of the parameters during the simulation.\n",
    "This could be used to model other effects like temperature that have an influence on the binding strength.\n",
    "\n",
    "Try implementing some of the more advanced isotherms and features."
   ]
  },
  {
   "cell_type": "code",
   "execution_count": null,
   "id": "b96e6756",
   "metadata": {
    "tags": [
     "solution"
    ]
   },
   "outputs": [],
   "source": []
  }
 ],
 "metadata": {
  "jupytext": {
   "formats": "ipynb,md:myst"
  },
  "kernelspec": {
   "display_name": "Python 3 (ipykernel)",
   "language": "python",
   "name": "python3"
  }
 },
 "nbformat": 4,
 "nbformat_minor": 5
}
