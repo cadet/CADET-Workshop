{
 "cells": [
  {
   "cell_type": "markdown",
   "id": "ecea0a1a",
   "metadata": {
    "slideshow": {
     "slide_type": "slide"
    }
   },
   "source": [
    "# Adsorption Models - Exercise"
   ]
  },
  {
   "cell_type": "code",
   "execution_count": null,
   "id": "28d8a540",
   "metadata": {
    "tags": [
     "solution"
    ]
   },
   "outputs": [],
   "source": [
    "from CADETProcess.processModel import ComponentSystem\n",
    "\n",
    "component_system = ComponentSystem(['A'])\n",
    "\n",
    "from CADETProcess.processModel import Langmuir\n",
    "\n",
    "binding_model = Langmuir(component_system, name='langmuir')\n",
    "binding_model.is_kinetic = True\n",
    "binding_model.adsorption_rate = [3]\n",
    "binding_model.desorption_rate = [1]\n",
    "binding_model.capacity = [1]\n",
    "\n",
    "from CADETProcess.processModel import Inlet, Outlet, Cstr\n",
    "\n",
    "reactor = Cstr(component_system, name='reactor')\n",
    "reactor.porosity = 0.5\n",
    "reactor.binding_model = binding_model\n",
    "reactor.V = 1e-3\n",
    "\n",
    "inlet = Inlet(component_system, name='inlet')\n",
    "inlet.c = [[0,1,0,0]]\n",
    "inlet.flow_rate = 1e-3\n",
    "\n",
    "outlet = Outlet(component_system, name= 'outlet')\n",
    "\n",
    "\n",
    "from CADETProcess.processModel import FlowSheet\n",
    "\n",
    "flow_sheet = FlowSheet(component_system)\n",
    "\n",
    "flow_sheet.add_unit(reactor)\n",
    "flow_sheet.add_unit(inlet)\n",
    "flow_sheet.add_unit(outlet)\n",
    "\n",
    "flow_sheet.add_connection(inlet,reactor)\n",
    "flow_sheet.add_connection(reactor,outlet)\n",
    "\n",
    "from CADETProcess.processModel import Process\n",
    "\n",
    "process = Process(flow_sheet, 'process')\n",
    "process.cycle_time = 10\n",
    "\n",
    "from CADETProcess.simulator import Cadet\n",
    "simulator = Cadet()\n",
    "sim_results = simulator.run(process)\n",
    "_ = sim_results.solution.reactor.outlet.plot()"
   ]
  },
  {
   "cell_type": "markdown",
   "id": "d084f616",
   "metadata": {
    "slideshow": {
     "slide_type": "slide"
    }
   },
   "source": [
    "## Exercise 1: Breakthrough curve in a Column\n",
    "\n",
    "In this example, consider a column with a `Linear` isotherm with $k_{eq, 1} = 2$, and $k_{eq, 2} = 1$.\n",
    "We want to record the breakthrough curve and for this purpose, a concentration step with $c_{feed} = [1.0, 1.0]~g \\cdot L^{-1} $is introduced at $t = 0$.\n",
    "\n",
    "***Task:*** Implement the configuration for the adsorption isotherm and pass it to the `create_column_template()` function. You also need to provide the number of can also provide\n",
    "\n",
    "Try experimenting with:\n",
    "- The binding strength.\n",
    "- The number of components.\n",
    "- Modify how many components bind.\n",
    "- Compare kinetic binding with rapid equilibrium."
   ]
  },
  {
   "cell_type": "code",
   "execution_count": null,
   "id": "ad3d04e0",
   "metadata": {
    "tags": [
     "solution"
    ]
   },
   "outputs": [],
   "source": [
    "from CADETProcess.processModel import ComponentSystem\n",
    "\n",
    "component_system = ComponentSystem(['A', 'B'])\n",
    "\n",
    "from CADETProcess.processModel import Linear\n",
    "\n",
    "binding_model = Linear(component_system, name='linear')\n",
    "binding_model.is_kinetic = False\n",
    "binding_model.adsorption_rate = [2, 1]\n",
    "binding_model.desorption_rate = [1, 1]\n",
    "\n",
    "\n",
    "from CADETProcess.processModel import Inlet, Outlet, Cstr\n",
    "\n",
    "reactor = Cstr(component_system, name='reactor')\n",
    "reactor.porosity = 0.5\n",
    "reactor.binding_model = binding_model\n",
    "reactor.V = 1e-3\n",
    "\n",
    "inlet = Inlet(component_system, name='inlet')\n",
    "inlet.c = [1.0, 1.0]\n",
    "inlet.flow_rate = 1e-3\n",
    "\n",
    "outlet = Outlet(component_system, name= 'outlet')\n",
    "\n",
    "\n",
    "from CADETProcess.processModel import FlowSheet\n",
    "\n",
    "flow_sheet = FlowSheet(component_system)\n",
    "\n",
    "flow_sheet.add_unit(reactor)\n",
    "flow_sheet.add_unit(inlet)\n",
    "flow_sheet.add_unit(outlet)\n",
    "\n",
    "flow_sheet.add_connection(inlet,reactor)\n",
    "flow_sheet.add_connection(reactor,outlet)\n",
    "\n",
    "from CADETProcess.processModel import Process\n",
    "\n",
    "process = Process(flow_sheet, 'process')\n",
    "process.cycle_time = 10\n",
    "\n",
    "from CADETProcess.simulator import Cadet\n",
    "simulator = Cadet()\n",
    "simulator.time_resolution = 0.1\n",
    "\n",
    "sim_results = simulator.run(process)\n",
    "_ = sim_results.solution.reactor.outlet.plot()"
   ]
  },
  {
   "cell_type": "markdown",
   "id": "36a09044",
   "metadata": {
    "slideshow": {
     "slide_type": "slide"
    }
   },
   "source": [
    "## Exercise 2: Langmuir Model in Column\n",
    "\n",
    "Let us consider the same experiment as in the first example, but this time with `Langmuir` adsorption model.\n",
    "\n",
    "with $k_{eq, i} = [2, 1]$, and $q_{max, i} = [10, 10]$.\n",
    "We again introduce a step with $c_{feed} = [1.0, 1.0]~g \\cdot L^{-1} $is introduced at $t = 0$ and the breakthrough curve is recorded.\n",
    "\n",
    "Try experimenting with:\n",
    "- The binding strenth.\n",
    "- The number of components.\n",
    "- Modify how many components bind.\n",
    "- Compare kinetic binding with rapid equilibrium."
   ]
  },
  {
   "cell_type": "code",
   "execution_count": null,
   "id": "b6f0db1b",
   "metadata": {
    "tags": [
     "solution"
    ]
   },
   "outputs": [],
   "source": [
    "from CADETProcess.processModel import ComponentSystem\n",
    "\n",
    "component_system = ComponentSystem(['A', 'B'])\n",
    "\n",
    "from CADETProcess.processModel import Langmuir\n",
    "\n",
    "binding_model = Langmuir(component_system, name='langmuir')\n",
    "binding_model.is_kinetic = True\n",
    "binding_model.adsorption_rate = [2,1]\n",
    "binding_model.desorption_rate = [1,1]\n",
    "binding_model.capacity = [10,10]\n",
    "\n",
    "\n",
    "from CADETProcess.processModel import Inlet, Outlet, LumpedRateModelWithoutPores\n",
    "\n",
    "reactor = LumpedRateModelWithoutPores(component_system, name='reactor')\n",
    "reactor.length = 0.5\n",
    "reactor.diameter = 0.1784\n",
    "reactor.total_porosity = 0.5\n",
    "reactor.binding_model = binding_model\n",
    "reactor.axial_dispersion = 1e-7\n",
    "\n",
    "inlet = Inlet(component_system, name='inlet')\n",
    "inlet.c = [1.0, 1.0]\n",
    "inlet.flow_rate = 1e-3\n",
    "\n",
    "outlet = Outlet(component_system, name= 'outlet')\n",
    "\n",
    "\n",
    "from CADETProcess.processModel import FlowSheet\n",
    "\n",
    "flow_sheet = FlowSheet(component_system)\n",
    "\n",
    "flow_sheet.add_unit(reactor)\n",
    "flow_sheet.add_unit(inlet)\n",
    "flow_sheet.add_unit(outlet)\n",
    "\n",
    "flow_sheet.add_connection(inlet,reactor)\n",
    "flow_sheet.add_connection(reactor,outlet)\n",
    "\n",
    "from CADETProcess.processModel import Process\n",
    "\n",
    "process = Process(flow_sheet, 'process')\n",
    "process.cycle_time = 100\n",
    "\n",
    "from CADETProcess.simulator import Cadet\n",
    "simulator = Cadet()\n",
    "sim_results = simulator.run(process)\n",
    "_ = sim_results.solution.reactor.outlet.plot()"
   ]
  },
  {
   "cell_type": "markdown",
   "id": "2685ee1e",
   "metadata": {
    "slideshow": {
     "slide_type": "slide"
    }
   },
   "source": [
    "## Bonus Exercise\n",
    "\n",
    "There are many other models implemented in `CADET`.\n",
    "Some binding models can account for multiple binding states, others allow for mobile phase modulators.\n",
    "Moreover, binding models can use external functions for modifying the values of the parameters during the simulation.\n",
    "This could be used to model other effects like temperature that have an influence on the binding strength.\n",
    "\n",
    "Try implementing some of the more advanced isotherms and features."
   ]
  },
  {
   "cell_type": "code",
   "execution_count": null,
   "id": "55823d43",
   "metadata": {
    "tags": [
     "solution"
    ]
   },
   "outputs": [],
   "source": []
  }
 ],
 "metadata": {
  "jupytext": {
   "formats": "ipynb,md:myst"
  },
  "kernelspec": {
   "display_name": "Python 3 (ipykernel)",
   "language": "python",
   "name": "python3"
  }
 },
 "nbformat": 4,
 "nbformat_minor": 5
}
