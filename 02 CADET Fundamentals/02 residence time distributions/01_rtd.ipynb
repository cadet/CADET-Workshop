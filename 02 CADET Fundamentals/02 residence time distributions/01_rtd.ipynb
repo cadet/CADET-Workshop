{
 "cells": [
  {
   "cell_type": "markdown",
   "id": "7809368a",
   "metadata": {},
   "source": [
    "# Residence time distributions\n",
    "\n",
    "Basic residence time theory treats a system with an input and an output. The residence time of a small particle is the time between entering and leaving the system.\n",
    "\n",
    "```{figure} ./resources/system.png\n",
    ":width: 50%\n",
    ":align: center\n",
    "```"
   ]
  },
  {
   "cell_type": "markdown",
   "id": "32e64b10",
   "metadata": {
    "slideshow": {
     "slide_type": "fragment"
    }
   },
   "source": [
    "The residence time distribution can be described with the function $E(t)$ which has the properties of a probability distribution:\n",
    "$$E(t) \\ge 0~\\text{and}~\\int_0^\\infty E(t)~dt = 1$$"
   ]
  },
  {
   "cell_type": "markdown",
   "id": "c821c2b7",
   "metadata": {
    "slideshow": {
     "slide_type": "slide"
    }
   },
   "source": [
    "Residence time distributions are measured by introducing a non-reactive tracer into the system at the inlet:\n",
    "1. Change input concentration according to a known function (e.g. Dirac $\\delta$-function or step function)\n",
    "2. Measure output concentration\n",
    "3. Transform output concentration in residence time distribution curve $E(t)$"
   ]
  },
  {
   "cell_type": "markdown",
   "id": "6a5821d6",
   "metadata": {
    "slideshow": {
     "slide_type": "fragment"
    }
   },
   "source": [
    "For some simple systems (e.g. CSTR and Plug flow reactor model) analytic solutions exist and we can compare them with the simulations of CADET."
   ]
  },
  {
   "cell_type": "markdown",
   "id": "1f70d402",
   "metadata": {},
   "source": [
    "**In this lesson, we will:**\n",
    "- Learn about system responses.\n",
    "- Setup our first 'real' unit operation models.\n",
    "- Analyze the solution and take a look 'inside' a column."
   ]
  },
  {
   "cell_type": "markdown",
   "id": "a4ecc411",
   "metadata": {
    "slideshow": {
     "slide_type": "slide"
    }
   },
   "source": [
    "## Example 1: Continuous stirred-tank reactor\n",
    "\n",
    "In an ideal continuous stirred-tank reactor (CSTR), the flow at the inlet is completely and instantly mixed into the bulk of the reactor. The reactor and the outlet fluid have identical, homogeneous compositions at all times. The residence time distribution is exponential:\n",
    "\n",
    "$$E(t) = \\frac{1}{\\tau} \\cdot e^{-\\frac{t}{\\tau}}$$\n",
    "\n",
    "with\n",
    "\n",
    "$$\\tau = \\frac{V}{Q}$$"
   ]
  },
  {
   "cell_type": "markdown",
   "id": "e96bdef8",
   "metadata": {
    "slideshow": {
     "slide_type": "fragment"
    }
   },
   "source": [
    "```{note}\n",
    "In reality, it is impossible to obtain such rapid mixing, especially on industrial scales where reactor vessels may range between 1 and thousands of cubic meters, and hence the RTD of a real reactor will deviate from the ideal exponential decay.\n",
    "```"
   ]
  },
  {
   "cell_type": "markdown",
   "id": "6dd71ca1",
   "metadata": {
    "slideshow": {
     "slide_type": "slide"
    }
   },
   "source": [
    "To model this system, the following flow sheet is assumed:\n",
    "\n",
    "```{figure} ./resources/RTD_CSTR.png\n",
    ":width: 50%\n",
    ":align: center\n",
    "```"
   ]
  },
  {
   "cell_type": "markdown",
   "id": "a2bb917e",
   "metadata": {
    "slideshow": {
     "slide_type": "slide"
    }
   },
   "source": [
    "### CSTR model\n",
    "\n",
    "The `CSTR` [model](https://cadet.github.io/master/modelling/unit_operations/cstr.html#cstr-model) in CADET requires the following [parameters](https://cadet.github.io/master/interface/unit_operations/cstr.html#cstr-config):\n",
    "- Initial volume\n",
    "- Initial concentration\n",
    "\n",
    "In later examples, we will also associate [adsorption models](https://cadet.github.io/master/modelling/binding/index.html) and [chemical reactions](https://cadet.github.io/master/modelling/reactions.html) with the `CSTR` unit operation.\n",
    "For this example, however, we will only consider convective flow.\n",
    "Also, we assume that the flow rate is constant over time."
   ]
  },
  {
   "cell_type": "markdown",
   "id": "525f3769",
   "metadata": {
    "slideshow": {
     "slide_type": "slide"
    }
   },
   "source": [
    "Assume the following parameters:\n",
    "\n",
    "\n",
    "| Parameter           | Value | Unit | Attribute |\n",
    "| ------------------- | ----- | ---- | --------- |\n",
    "| Volume              | 1     | L    | `V`       |\n",
    "| Mean Residence Time | 1     | min  | -         |\n",
    "\n",
    "\n",
    "**Note:** Since the `CSTR` has a variable volume, the flow rate also needs to be set."
   ]
  },
  {
   "cell_type": "code",
   "execution_count": null,
   "id": "5c3a933c",
   "metadata": {
    "tags": [
     "solution"
    ]
   },
   "outputs": [],
   "source": []
  },
  {
   "cell_type": "markdown",
   "id": "b627b560",
   "metadata": {
    "slideshow": {
     "slide_type": "slide"
    }
   },
   "source": [
    "### Pulse experiment CSTR\n",
    "\n",
    "This method requires the introduction of a very small volume of concentrated tracer at the inlet of a CSTR, such that it approaches the Dirac $\\delta$-function.\n",
    "By definition, the integral of this function is equal to one.\n",
    "Although an infinitely short injection cannot be produced, it can be made much smaller than the mean residence time of the vessel.\n",
    "\n",
    "```{figure} ./resources/system_dirac.png\n",
    ":width: 50%\n",
    ":align: center\n",
    "```"
   ]
  },
  {
   "cell_type": "code",
   "execution_count": null,
   "id": "e426e73e",
   "metadata": {
    "tags": [
     "solution"
    ]
   },
   "outputs": [],
   "source": []
  },
  {
   "cell_type": "markdown",
   "id": "a12d5f56",
   "metadata": {
    "slideshow": {
     "slide_type": "slide"
    },
    "user_expressions": []
   },
   "source": [
    "### Simulate Process"
   ]
  },
  {
   "cell_type": "code",
   "execution_count": null,
   "id": "ffd6a10d",
   "metadata": {
    "tags": [
     "solution"
    ]
   },
   "outputs": [],
   "source": []
  },
  {
   "cell_type": "markdown",
   "id": "99745bd1",
   "metadata": {
    "slideshow": {
     "slide_type": "slide"
    },
    "user_expressions": []
   },
   "source": [
    "## Example 2: Plug flow reactor\n",
    "\n",
    "In an ideal plug flow reactor the fluid elements that enter at the same time continue to move at the same rate and leave together.\n",
    "Therefore, fluid entering at time $t$ will exit at time $t + \\tau$, where $\\tau$ is the residence time.\n",
    "The fraction leaving is a step function, going from $0$ to $1$ at time $\\tau$.\n",
    "The distribution function is therefore a Dirac delta function at $\\tau$.\n",
    "\n",
    "```{figure} ./resources/RTD_PFR.png\n",
    ":width: 50%\n",
    ":align: center\n",
    "\n",
    "```\n",
    "\n",
    "$$E(t) = \\delta (t - \\tau)$$\n",
    "\n",
    "\n",
    "The RTD of a real reactor deviates from that of an ideal reactor, depending on the hydrodynamics (e.g. the axial dispersion) within the vessel."
   ]
  },
  {
   "cell_type": "markdown",
   "id": "7e238e62",
   "metadata": {
    "slideshow": {
     "slide_type": "slide"
    }
   },
   "source": [
    "### PFR model\n",
    "\n",
    "Although in CADET there is no explicit implementation of the PFR model, we can still model this reactor if we use any of the column models and set the porosity to 1 and the axial dispersion to 0.\n",
    "\n",
    "In this example, we will use the `LumpedRateModelWithoutPores`. For the model equations see [here](https://cadet.github.io/master/modelling/unit_operations/lumped_rate_model_without_pores.html) and the parameters [here](https://cadet.github.io/master/interface/unit_operations/lumped_rate_model_without_pores.html)."
   ]
  },
  {
   "cell_type": "markdown",
   "id": "74c8cb58",
   "metadata": {
    "slideshow": {
     "slide_type": "fragment"
    }
   },
   "source": [
    "Assume the following parameters:\n",
    "\n",
    "\n",
    "| Parameter                  | Value | Unit | Attribute            |\n",
    "| -------------------------- | ----- | ---- | -------------------- |\n",
    "| Reactor Length             | 1     | L    | `V`                  |\n",
    "| Reactor Cross Section Area | 0.1   | m²   | `cross_section_area` |\n",
    "| Mean Residence Time        | 1     | min  | -                    |"
   ]
  },
  {
   "cell_type": "code",
   "execution_count": null,
   "id": "97884181",
   "metadata": {
    "tags": [
     "solution"
    ]
   },
   "outputs": [],
   "source": []
  },
  {
   "cell_type": "code",
   "execution_count": null,
   "id": "c99a9100",
   "metadata": {
    "tags": [
     "solution"
    ]
   },
   "outputs": [],
   "source": []
  },
  {
   "cell_type": "markdown",
   "id": "0e1c6279",
   "metadata": {
    "slideshow": {
     "slide_type": "slide"
    },
    "user_expressions": []
   },
   "source": [
    "### Simulate Process"
   ]
  },
  {
   "cell_type": "code",
   "execution_count": null,
   "id": "ff3d2910",
   "metadata": {
    "tags": [
     "solution"
    ]
   },
   "outputs": [],
   "source": []
  },
  {
   "cell_type": "markdown",
   "id": "6d1a0ae4",
   "metadata": {
    "slideshow": {
     "slide_type": "fragment"
    }
   },
   "source": [
    "```{warning}\n",
    "Because of numerical dispersion, solvers like CADET are not suited to simulate stiff systems like the one presented.\n",
    "To get a more acurate solution, the number of axial cells needs to be increased (a lot) which also increases simulation time (a lot).\n",
    "Since usually there is some (physical) dispersion in real systems anyway, mostly this is not a problem because it will smoothen the profiles anyway.\n",
    "The example just serves to show the limitations of CADET and that while it may not be very accurate in this case, the value of the mean residence time is still where we would expect it.\n",
    "```"
   ]
  },
  {
   "cell_type": "markdown",
   "id": "9a24f8d9",
   "metadata": {
    "slideshow": {
     "slide_type": "slide"
    }
   },
   "source": [
    "### Discretization\n",
    "\n",
    "In case of the column, there are several options for adapting the spatial discretization of the PDE model.\n",
    "However, the two most important ones are the number of grid cells in the column (axial direction) and the particles.\n",
    "Since the lumped rate model without pores does not have particles, we only need to specify axial cells `n_col`.\n",
    "The default is $100$ which should work for most scenarios.\n",
    "\n",
    "\n",
    "```{note}\n",
    "CADET currently uses a finite volume scheme for the spatial discretization.\n",
    "However, we are in the process of implementing a new method, the *Discontinuous Galerkin* method which will increase speed substantially.\n",
    "```"
   ]
  },
  {
   "cell_type": "code",
   "execution_count": null,
   "id": "9987b230",
   "metadata": {
    "tags": [
     "solution"
    ]
   },
   "outputs": [],
   "source": []
  },
  {
   "cell_type": "markdown",
   "id": "bd673082",
   "metadata": {
    "slideshow": {
     "slide_type": "slide"
    }
   },
   "source": [
    "### High discretization"
   ]
  },
  {
   "cell_type": "code",
   "execution_count": null,
   "id": "36f0916e",
   "metadata": {
    "tags": [
     "solution"
    ]
   },
   "outputs": [],
   "source": []
  },
  {
   "cell_type": "markdown",
   "id": "9bf3054d",
   "metadata": {
    "slideshow": {
     "slide_type": "slide"
    },
    "user_expressions": []
   },
   "source": [
    "### Low discretization"
   ]
  },
  {
   "cell_type": "code",
   "execution_count": null,
   "id": "571e9f02",
   "metadata": {
    "tags": [
     "solution"
    ]
   },
   "outputs": [],
   "source": []
  },
  {
   "cell_type": "markdown",
   "id": "68d8b184",
   "metadata": {
    "slideshow": {
     "slide_type": "slide"
    }
   },
   "source": [
    "### Visualization\n",
    "\n",
    "Additionally to the solution at the inlet and outlet of a unit operation, we can also take a look inside the column to see the peak move.\n",
    "\n",
    "For this purpose, set the flag in the unit's `SolutionRecorder`.\n",
    "Then, the `SimulationResults` will also contain an entry for the bulk.\n",
    "\n",
    "**Note:** Since this solution is two-dimensinal (space and time), the solution can be plotted at a given position (`plot_at_location`) or a given time (`plot_at_time`)."
   ]
  },
  {
   "cell_type": "code",
   "execution_count": null,
   "id": "7f4d07cc",
   "metadata": {
    "tags": [
     "solution"
    ]
   },
   "outputs": [],
   "source": []
  },
  {
   "cell_type": "code",
   "execution_count": null,
   "id": "c6254e4b",
   "metadata": {
    "tags": [
     "solution"
    ]
   },
   "outputs": [],
   "source": []
  },
  {
   "cell_type": "code",
   "execution_count": null,
   "id": "7975a02c",
   "metadata": {
    "tags": [
     "solution"
    ]
   },
   "outputs": [],
   "source": []
  }
 ],
 "metadata": {
  "jupytext": {
   "formats": "ipynb,md:myst"
  },
  "kernelspec": {
   "display_name": "Python 3 (ipykernel)",
   "language": "python",
   "name": "python3"
  }
 },
 "nbformat": 4,
 "nbformat_minor": 5
}
