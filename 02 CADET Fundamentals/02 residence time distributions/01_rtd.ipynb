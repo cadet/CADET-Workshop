{
 "cells": [
  {
   "cell_type": "markdown",
   "id": "b955ce77",
   "metadata": {},
   "source": [
    "# Residence time distributions\n",
    "\n",
    "Basic residence time theory treats a system with an input and an output. The residence time of a small particle is the time between entering and leaving the system.\n",
    "\n",
    "```{figure} ./resources/system.png\n",
    ":width: 50%\n",
    ":align: center\n",
    "```"
   ]
  },
  {
   "cell_type": "markdown",
   "id": "bb844601",
   "metadata": {
    "slideshow": {
     "slide_type": "fragment"
    }
   },
   "source": [
    "The residence time distribution can be described with the function $E(t)$ which has the properties of a probability distribution:\n",
    "$$E(t) \\ge 0~\\text{and}~\\int_0^\\infty E(t)~dt = 1$$"
   ]
  },
  {
   "cell_type": "markdown",
   "id": "29198511",
   "metadata": {
    "slideshow": {
     "slide_type": "slide"
    }
   },
   "source": [
    "Residence time distributions are measured by introducing a non-reactive tracer into the system at the inlet:\n",
    "1. Change input concentration according to a known function (e.g. Dirac $\\delta$-function or step function)\n",
    "2. Measure output concentration\n",
    "3. Transform output concentration in residence time distribution curve $E(t)$"
   ]
  },
  {
   "cell_type": "markdown",
   "id": "19b77cb2",
   "metadata": {
    "slideshow": {
     "slide_type": "fragment"
    }
   },
   "source": [
    "For some simple systems (e.g. CSTR and Plug flow reactor model) analytic solutions exist and we can compare them with the simulations of CADET."
   ]
  },
  {
   "cell_type": "markdown",
   "id": "a4b379c3",
   "metadata": {},
   "source": [
    "**In this lesson, we will:**\n",
    "- Learn about system responses.\n",
    "- Setup our first 'real' unit operation models.\n",
    "- Analyze the solution and take a look 'inside' a column."
   ]
  },
  {
   "cell_type": "markdown",
   "id": "af6cbfa4",
   "metadata": {
    "slideshow": {
     "slide_type": "slide"
    }
   },
   "source": [
    "## Example 1: Continuous stirred-tank reactor\n",
    "\n",
    "In an ideal continuous stirred-tank reactor (CSTR), the flow at the inlet is completely and instantly mixed into the bulk of the reactor. The reactor and the outlet fluid have identical, homogeneous compositions at all times. The residence time distribution is exponential:\n",
    "\n",
    "$$E(t) = \\frac{1}{\\tau} \\cdot e^{-\\frac{t}{\\tau}}$$\n",
    "\n",
    "with\n",
    "\n",
    "$$\\tau = \\frac{V}{Q}$$"
   ]
  },
  {
   "cell_type": "markdown",
   "id": "215b097b",
   "metadata": {
    "slideshow": {
     "slide_type": "fragment"
    }
   },
   "source": [
    "```{note}\n",
    "In reality, it is impossible to obtain such rapid mixing, especially on industrial scales where reactor vessels may range between 1 and thousands of cubic meters, and hence the RTD of a real reactor will deviate from the ideal exponential decay.\n",
    "```"
   ]
  },
  {
   "cell_type": "markdown",
   "id": "f1775187",
   "metadata": {
    "slideshow": {
     "slide_type": "slide"
    }
   },
   "source": [
    "To model this system, the following flow sheet is assumed:\n",
    "\n",
    "```{figure} ./resources/RTD_CSTR.png\n",
    ":width: 50%\n",
    ":align: center\n",
    "```"
   ]
  },
  {
   "cell_type": "markdown",
   "id": "48d9aab7",
   "metadata": {
    "slideshow": {
     "slide_type": "slide"
    }
   },
   "source": [
    "### CSTR model\n",
    "\n",
    "The `CSTR` [model](https://cadet.github.io/master/modelling/unit_operations/cstr.html#cstr-model) in CADET requires the following [parameters](https://cadet.github.io/master/interface/unit_operations/cstr.html#cstr-config):\n",
    "- Initial volume\n",
    "- Initial concentration\n",
    "\n",
    "In later examples, we will also associate [adsorption models](https://cadet.github.io/master/modelling/binding/index.html) and [chemical reactions](https://cadet.github.io/master/modelling/reactions.html) with the `CSTR` unit operation.\n",
    "For this example, however, we will only consider convective flow.\n",
    "Also, we assume that the flow rate is constant over time."
   ]
  },
  {
   "cell_type": "markdown",
   "id": "22428acc",
   "metadata": {
    "slideshow": {
     "slide_type": "slide"
    }
   },
   "source": [
    "Assume the following parameters:\n",
    "\n",
    "\n",
    "| Parameter           | Value | Unit | Attribute |\n",
    "| ------------------- | ----- | ---- | --------- |\n",
    "| Volume              | 1     | L    | `V`       |\n",
    "| Mean Residence Time | 1     | min  | -         |\n",
    "\n",
    "\n",
    "**Note:** Since the `CSTR` has a variable volume, the flow rate also needs to be set."
   ]
  },
  {
   "cell_type": "code",
   "execution_count": null,
   "id": "56b84b09",
   "metadata": {
    "tags": [
     "solution"
    ]
   },
   "outputs": [],
   "source": [
    "from CADETProcess.processModel import ComponentSystem\n",
    "\n",
    "component_system = ComponentSystem(1)\n",
    "\n",
    "tau = 60\n",
    "V = 1e-3\n",
    "Q = V/tau\n",
    "\n",
    "# Unit Operations\n",
    "from CADETProcess.processModel import Inlet, Cstr, Outlet\n",
    "\n",
    "## Inlet\n",
    "# We assume constant flow. Concentrations will later be modified using events.\n",
    "inlet = Inlet(component_system, 'inlet')\n",
    "inlet.flow_rate = Q\n",
    "\n",
    "cstr = Cstr(component_system, 'cstr')\n",
    "cstr.c = [0]\n",
    "cstr.V = V\n",
    "cstr.flow_rate = Q\n",
    "\n",
    "outlet = Outlet(component_system, 'outlet')\n",
    "\n",
    "# Flow Sheet\n",
    "from CADETProcess.processModel import FlowSheet\n",
    "\n",
    "flow_sheet = FlowSheet(component_system)\n",
    "\n",
    "flow_sheet.add_unit(inlet)\n",
    "flow_sheet.add_unit(cstr)\n",
    "flow_sheet.add_unit(outlet)\n",
    "\n",
    "flow_sheet.add_connection(inlet, cstr)\n",
    "flow_sheet.add_connection(cstr, outlet)"
   ]
  },
  {
   "cell_type": "markdown",
   "id": "c549fe62",
   "metadata": {
    "slideshow": {
     "slide_type": "slide"
    }
   },
   "source": [
    "### Pulse experiment CSTR\n",
    "\n",
    "This method requires the introduction of a very small volume of concentrated tracer at the inlet of a CSTR, such that it approaches the Dirac $\\delta$-function.\n",
    "By definition, the integral of this function is equal to one.\n",
    "Although an infinitely short injection cannot be produced, it can be made much smaller than the mean residence time of the vessel.\n",
    "\n",
    "```{figure} ./resources/system_dirac.png\n",
    ":width: 50%\n",
    ":align: center\n",
    "```"
   ]
  },
  {
   "cell_type": "code",
   "execution_count": null,
   "id": "a95a1073",
   "metadata": {
    "tags": [
     "solution"
    ]
   },
   "outputs": [],
   "source": [
    "step_size = 1e-3\n",
    "\n",
    "from CADETProcess.processModel import Process\n",
    "process = Process(flow_sheet, 'rtd_cstr')\n",
    "process.cycle_time = 10 * tau\n",
    "\n",
    "process.add_event('start peak', 'flow_sheet.inlet.c', 1/step_size, 0)\n",
    "process.add_event('end peak', 'flow_sheet.inlet.c', 0, step_size)"
   ]
  },
  {
   "cell_type": "markdown",
   "id": "50d86741",
   "metadata": {
    "slideshow": {
     "slide_type": "slide"
    },
    "user_expressions": []
   },
   "source": [
    "### Simulate Process"
   ]
  },
  {
   "cell_type": "code",
   "execution_count": null,
   "id": "0f5dda60",
   "metadata": {
    "tags": [
     "solution"
    ]
   },
   "outputs": [],
   "source": [
    "from CADETProcess.simulator import Cadet\n",
    "\n",
    "simulator = Cadet()\n",
    "\n",
    "simulation_results = simulator.simulate(process)\n",
    "simulation_results.solution.cstr.inlet.plot()\n",
    "simulation_results.solution.cstr.outlet.plot()"
   ]
  },
  {
   "cell_type": "markdown",
   "id": "fce4fec5",
   "metadata": {
    "slideshow": {
     "slide_type": "slide"
    },
    "user_expressions": []
   },
   "source": [
    "## Example 2: Plug flow reactor\n",
    "\n",
    "In an ideal plug flow reactor the fluid elements that enter at the same time continue to move at the same rate and leave together.\n",
    "Therefore, fluid entering at time $t$ will exit at time $t + \\tau$, where $\\tau$ is the residence time.\n",
    "The fraction leaving is a step function, going from $0$ to $1$ at time $\\tau$.\n",
    "The distribution function is therefore a Dirac delta function at $\\tau$.\n",
    "\n",
    "```{figure} ./resources/RTD_PFR.png\n",
    ":width: 50%\n",
    ":align: center\n",
    "\n",
    "```\n",
    "\n",
    "$$E(t) = \\delta (t - \\tau)$$\n",
    "\n",
    "\n",
    "The RTD of a real reactor deviates from that of an ideal reactor, depending on the hydrodynamics (e.g. the axial dispersion) within the vessel."
   ]
  },
  {
   "cell_type": "markdown",
   "id": "bde0c4e9",
   "metadata": {
    "slideshow": {
     "slide_type": "slide"
    }
   },
   "source": [
    "### PFR model\n",
    "\n",
    "Although in CADET there is no explicit implementation of the PFR model, we can still model this reactor if we use any of the column models and set the porosity to 1 and the axial dispersion to 0.\n",
    "\n",
    "In this example, we will use the `LumpedRateModelWithoutPores`. For the model equations see [here](https://cadet.github.io/master/modelling/unit_operations/lumped_rate_model_without_pores.html) and the parameters [here](https://cadet.github.io/master/interface/unit_operations/lumped_rate_model_without_pores.html)."
   ]
  },
  {
   "cell_type": "markdown",
   "id": "56cb0620",
   "metadata": {
    "slideshow": {
     "slide_type": "fragment"
    }
   },
   "source": [
    "Assume the following parameters:\n",
    "\n",
    "\n",
    "| Parameter                  | Value | Unit | Attribute            |\n",
    "| -------------------------- | ----- | ---- | -------------------- |\n",
    "| Reactor Length             | 1     | L    | `V`                  |\n",
    "| Reactor Cross Section Area | 0.1   | m²   | `cross_section_area` |\n",
    "| Mean Residence Time        | 1     | min  | -                    |"
   ]
  },
  {
   "cell_type": "code",
   "execution_count": null,
   "id": "f1dc3744",
   "metadata": {
    "tags": [
     "solution"
    ]
   },
   "outputs": [],
   "source": [
    "from CADETProcess.processModel import ComponentSystem\n",
    "\n",
    "component_system = ComponentSystem(1)\n",
    "\n",
    "tau = 60\n",
    "length = 1\n",
    "cross_section_area = 0.1\n",
    "V = cross_section_area * length\n",
    "Q = V/tau\n",
    "\n",
    "# Unit Operations\n",
    "from CADETProcess.processModel import Inlet, TubularReactor, Outlet\n",
    "\n",
    "## Inlet\n",
    "# We assume constant flow. Concentrations will later be modified using events.\n",
    "inlet = Inlet(component_system, 'inlet')\n",
    "inlet.flow_rate = V/tau\n",
    "\n",
    "pfr = TubularReactor(component_system, 'pfr')\n",
    "pfr.length = 1\n",
    "pfr.cross_section_area = cross_section_area\n",
    "\n",
    "pfr.axial_dispersion = 0\n",
    "\n",
    "outlet = Outlet(component_system, 'outlet')\n",
    "\n",
    "# Flow Sheet\n",
    "from CADETProcess.processModel import FlowSheet\n",
    "\n",
    "flow_sheet = FlowSheet(component_system)\n",
    "\n",
    "flow_sheet.add_unit(inlet)\n",
    "flow_sheet.add_unit(pfr)\n",
    "flow_sheet.add_unit(outlet)\n",
    "\n",
    "flow_sheet.add_connection(inlet, pfr)\n",
    "flow_sheet.add_connection(pfr, outlet)"
   ]
  },
  {
   "cell_type": "code",
   "execution_count": null,
   "id": "423ae8ce",
   "metadata": {
    "tags": [
     "solution"
    ]
   },
   "outputs": [],
   "source": [
    "step_size = 1e-3\n",
    "\n",
    "from CADETProcess.processModel import Process\n",
    "process = Process(flow_sheet, 'rtd_pfr')\n",
    "process.cycle_time = 2 * tau\n",
    "\n",
    "process.add_event('start peak', 'flow_sheet.inlet.c', 1/step_size, 0)\n",
    "process.add_event('end peak', 'flow_sheet.inlet.c', 0, step_size)"
   ]
  },
  {
   "cell_type": "markdown",
   "id": "93fcd473",
   "metadata": {
    "slideshow": {
     "slide_type": "slide"
    },
    "user_expressions": []
   },
   "source": [
    "### Simulate Process"
   ]
  },
  {
   "cell_type": "code",
   "execution_count": null,
   "id": "a15455cd",
   "metadata": {
    "tags": [
     "solution"
    ]
   },
   "outputs": [],
   "source": [
    "from CADETProcess.simulator import Cadet\n",
    "\n",
    "simulator = Cadet()\n",
    "\n",
    "simulation_results = simulator.simulate(process)\n",
    "simulation_results.solution.pfr.inlet.plot()\n",
    "simulation_results.solution.pfr.outlet.plot()"
   ]
  },
  {
   "cell_type": "markdown",
   "id": "3b114a37",
   "metadata": {
    "slideshow": {
     "slide_type": "fragment"
    }
   },
   "source": [
    "```{warning}\n",
    "Because of numerical dispersion, solvers like CADET are not suited to simulate stiff systems like the one presented.\n",
    "To get a more acurate solution, the number of axial cells needs to be increased (a lot) which also increases simulation time (a lot).\n",
    "Since usually there is some (physical) dispersion in real systems anyway, mostly this is not a problem because it will smoothen the profiles anyway.\n",
    "The example just serves to show the limitations of CADET and that while it may not be very accurate in this case, the value of the mean residence time is still where we would expect it.\n",
    "```"
   ]
  },
  {
   "cell_type": "markdown",
   "id": "5cc15744",
   "metadata": {
    "slideshow": {
     "slide_type": "slide"
    }
   },
   "source": [
    "### Discretization\n",
    "\n",
    "In case of the column, there are several options for adapting the spatial discretization of the PDE model.\n",
    "However, the two most important ones are the number of grid cells in the column (axial direction) and the particles.\n",
    "Since the lumped rate model without pores does not have particles, we only need to specify axial cells `n_col`.\n",
    "The default is $100$ which should work for most scenarios.\n",
    "\n",
    "\n",
    "```{note}\n",
    "CADET currently uses a finite volume scheme for the spatial discretization.\n",
    "However, we are in the process of implementing a new method, the *Discontinuous Galerkin* method which will increase speed substantially.\n",
    "```"
   ]
  },
  {
   "cell_type": "code",
   "execution_count": null,
   "id": "966396cb",
   "metadata": {
    "tags": [
     "solution"
    ]
   },
   "outputs": [],
   "source": [
    "pfr.discretization"
   ]
  },
  {
   "cell_type": "markdown",
   "id": "509c3bff",
   "metadata": {
    "slideshow": {
     "slide_type": "slide"
    }
   },
   "source": [
    "### High discretization"
   ]
  },
  {
   "cell_type": "code",
   "execution_count": null,
   "id": "07f187e4",
   "metadata": {
    "tags": [
     "solution"
    ]
   },
   "outputs": [],
   "source": [
    "pfr.discretization.ncol = 2000\n",
    "simulation_results = simulator.simulate(process)\n",
    "simulation_results.solution.pfr.outlet.plot()"
   ]
  },
  {
   "cell_type": "markdown",
   "id": "fb7908cb",
   "metadata": {
    "slideshow": {
     "slide_type": "slide"
    },
    "user_expressions": []
   },
   "source": [
    "### Low discretization"
   ]
  },
  {
   "cell_type": "code",
   "execution_count": null,
   "id": "c98673dd",
   "metadata": {
    "tags": [
     "solution"
    ]
   },
   "outputs": [],
   "source": [
    "pfr.discretization.ncol = 20\n",
    "simulation_results = simulator.simulate(process)\n",
    "simulation_results.solution.pfr.outlet.plot()"
   ]
  },
  {
   "cell_type": "markdown",
   "id": "164af52d",
   "metadata": {
    "slideshow": {
     "slide_type": "slide"
    }
   },
   "source": [
    "### Visualization\n",
    "\n",
    "Additionally to the solution at the inlet and outlet of a unit operation, we can also take a look inside the column to see the peak move.\n",
    "\n",
    "For this purpose, set the flag in the unit's `SolutionRecorder`.\n",
    "Then, the `SimulationResults` will also contain an entry for the bulk.\n",
    "\n",
    "**Note:** Since this solution is two-dimensinal (space and time), the solution can be plotted at a given position (`plot_at_location`) or a given time (`plot_at_time`)."
   ]
  },
  {
   "cell_type": "code",
   "execution_count": null,
   "id": "c248ec0c",
   "metadata": {
    "tags": [
     "solution"
    ]
   },
   "outputs": [],
   "source": [
    "pfr.solution_recorder.write_solution_bulk = True\n",
    "\n",
    "simulation_results = simulator.simulate(process)"
   ]
  },
  {
   "cell_type": "code",
   "execution_count": null,
   "id": "707519ae",
   "metadata": {
    "tags": [
     "solution"
    ]
   },
   "outputs": [],
   "source": [
    "simulation_results.solution.pfr.bulk.plot_at_position(0.5)\n",
    "simulation_results.solution.pfr.bulk.plot_at_time(0.01)"
   ]
  },
  {
   "cell_type": "code",
   "execution_count": null,
   "id": "08528c9e",
   "metadata": {
    "tags": [
     "solution"
    ]
   },
   "outputs": [],
   "source": [
    "from ipywidgets import interact, interactive\n",
    "import ipywidgets as widgets\n",
    "\n",
    "Visualization\n",
    "def graph_column(time=0):\n",
    "    fig, ax = simulation_results.solution.pfr.bulk.plot_at_time(time)\n",
    "    ax.set_ylim(0,0.1)\n",
    "\n",
    "style = {'description_width': 'initial'}\n",
    "interact(\n",
    "    graph_column,\n",
    "    time=widgets.IntSlider(\n",
    "        min=0, max=process.cycle_time, step=10, layout={'width': '800px'}, style=style, description='Time'\n",
    "    )\n",
    ")"
   ]
  }
 ],
 "metadata": {
  "jupytext": {
   "formats": "ipynb,md:myst"
  },
  "kernelspec": {
   "display_name": "Python 3 (ipykernel)",
   "language": "python",
   "name": "python3"
  }
 },
 "nbformat": 4,
 "nbformat_minor": 5
}
