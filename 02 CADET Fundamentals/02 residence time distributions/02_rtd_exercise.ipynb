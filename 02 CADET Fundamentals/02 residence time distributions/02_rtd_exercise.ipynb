{
 "cells": [
  {
   "cell_type": "markdown",
   "id": "462bb5ef",
   "metadata": {},
   "source": [
    "# Residence Time Distribution - Exercises"
   ]
  },
  {
   "cell_type": "markdown",
   "id": "df244906",
   "metadata": {},
   "source": [
    "## Exercise 1: Step function in CSTR\n",
    "\n",
    "Analyze how the concentration profile of a `CSTR` reacts to a step function:\n",
    "```{figure} ./resources/step.png\n",
    ":width: 50%\n",
    ":align: center\n",
    "```\n",
    "\n",
    "```{figure} ./resources/RTD_CSTR.png\n",
    ":width: 50%\n",
    ":align: center\n",
    "```\n",
    "\n",
    "\n",
    "\n",
    "***Hint:*** Always check the input arguments of our model template functions."
   ]
  },
  {
   "cell_type": "code",
   "execution_count": null,
   "id": "a0f81881",
   "metadata": {
    "tags": [
     "solution"
    ]
   },
   "outputs": [],
   "source": [
    "from CADETProcess.processModel import ComponentSystem\n",
    "\n",
    "component_system = ComponentSystem(1)\n",
    "\n",
    "tau = 60\n",
    "V = 1e-3\n",
    "Q = V/tau\n",
    "\n",
    "# Unit Operations\n",
    "from CADETProcess.processModel import Inlet, Cstr, Outlet\n",
    "\n",
    "## Inlet\n",
    "# We assume constant flow and constant inlet concentrations.\n",
    "inlet = Inlet(component_system, 'inlet')\n",
    "inlet.c = [1]\n",
    "inlet.flow_rate = Q\n",
    "\n",
    "cstr = Cstr(component_system, 'cstr')\n",
    "cstr.c = [0]\n",
    "cstr.V = V\n",
    "cstr.flow_rate = Q\n",
    "\n",
    "outlet = Outlet(component_system, 'outlet')\n",
    "\n",
    "# Flow Sheet\n",
    "from CADETProcess.processModel import FlowSheet\n",
    "\n",
    "flow_sheet = FlowSheet(component_system)\n",
    "\n",
    "flow_sheet.add_unit(inlet)\n",
    "flow_sheet.add_unit(cstr)\n",
    "flow_sheet.add_unit(outlet)\n",
    "\n",
    "flow_sheet.add_connection(inlet, cstr)\n",
    "flow_sheet.add_connection(cstr, outlet)"
   ]
  },
  {
   "cell_type": "code",
   "execution_count": null,
   "id": "6d72a680",
   "metadata": {
    "tags": [
     "solution"
    ]
   },
   "outputs": [],
   "source": [
    "from CADETProcess.processModel import Process\n",
    "process = Process(flow_sheet, 'rtd_cstr')\n",
    "process.cycle_time = 10 * tau"
   ]
  },
  {
   "cell_type": "code",
   "execution_count": null,
   "id": "e48b3d85",
   "metadata": {
    "tags": [
     "solution"
    ]
   },
   "outputs": [],
   "source": [
    "from CADETProcess.simulator import Cadet\n",
    "\n",
    "simulator = Cadet()\n",
    "\n",
    "simulation_results = simulator.simulate(process)\n",
    "simulation_results.solution.cstr.inlet.plot()\n",
    "simulation_results.solution.cstr.outlet.plot()"
   ]
  },
  {
   "cell_type": "markdown",
   "id": "ae9d99da",
   "metadata": {
    "slideshow": {
     "slide_type": "slide"
    }
   },
   "source": [
    "## Exercise 2: Step function in Tubular reactor\n",
    "\n",
    "**Task:** Also analyze the system behaviour of a Tubular reactor for different input profiles (see Exercise 1)."
   ]
  },
  {
   "cell_type": "code",
   "execution_count": null,
   "id": "90502847",
   "metadata": {
    "tags": [
     "solution"
    ]
   },
   "outputs": [],
   "source": [
    "from CADETProcess.processModel import ComponentSystem\n",
    "\n",
    "component_system = ComponentSystem(1)\n",
    "\n",
    "tau = 60\n",
    "V = 1e-3\n",
    "Q = V/tau\n",
    "\n",
    "# Unit Operations\n",
    "from CADETProcess.processModel import Inlet, TubularReactor, Outlet\n",
    "\n",
    "## Inlet\n",
    "# We assume constant flow and constant inlet concentrations.\n",
    "inlet = Inlet(component_system, 'inlet')\n",
    "inlet.c = [1]\n",
    "inlet.flow_rate = Q\n",
    "\n",
    "pfr = TubularReactor(component_system, 'pfr')\n",
    "pfr.length = 1\n",
    "pfr.diameter = 0.1\n",
    "pfr.axial_dispersion = 0\n",
    "\n",
    "outlet = Outlet(component_system, 'outlet')\n",
    "\n",
    "# Flow Sheet\n",
    "from CADETProcess.processModel import FlowSheet\n",
    "\n",
    "flow_sheet = FlowSheet(component_system)\n",
    "\n",
    "flow_sheet.add_unit(inlet)\n",
    "flow_sheet.add_unit(pfr)\n",
    "flow_sheet.add_unit(outlet)\n",
    "\n",
    "flow_sheet.add_connection(inlet, pfr)\n",
    "flow_sheet.add_connection(pfr, outlet)"
   ]
  },
  {
   "cell_type": "code",
   "execution_count": null,
   "id": "b99c0bbe",
   "metadata": {
    "tags": [
     "solution"
    ]
   },
   "outputs": [],
   "source": [
    "from CADETProcess.processModel import Process\n",
    "process = Process(flow_sheet, 'rtd_pfr')\n",
    "process.cycle_time = 10 * tau"
   ]
  },
  {
   "cell_type": "code",
   "execution_count": null,
   "id": "f0af7337",
   "metadata": {
    "tags": [
     "solution"
    ]
   },
   "outputs": [],
   "source": [
    "from CADETProcess.simulator import Cadet\n",
    "\n",
    "simulator = Cadet()\n",
    "\n",
    "simulation_results = simulator.simulate(process)\n",
    "simulation_results.solution.pfr.inlet.plot()\n",
    "simulation_results.solution.pfr.outlet.plot()"
   ]
  },
  {
   "cell_type": "markdown",
   "id": "5c807ea3",
   "metadata": {
    "slideshow": {
     "slide_type": "slide"
    }
   },
   "source": [
    "## Bonus Exercise\n",
    "Many systems can be modelled by a chain of unit operations.\n",
    "\n",
    "```{figure} ./resources/system_chain.png\n",
    ":width: 50%\n",
    ":align: center\n",
    "```\n",
    "Try connecting combining both the CSTR with a Tubular reactor and analyze the behavior."
   ]
  },
  {
   "cell_type": "code",
   "execution_count": null,
   "id": "b32492da",
   "metadata": {
    "tags": [
     "solution"
    ]
   },
   "outputs": [],
   "source": []
  }
 ],
 "metadata": {
  "jupytext": {
   "formats": "ipynb,md:myst"
  },
  "kernelspec": {
   "display_name": "Python 3 (ipykernel)",
   "language": "python",
   "name": "python3"
  }
 },
 "nbformat": 4,
 "nbformat_minor": 5
}
