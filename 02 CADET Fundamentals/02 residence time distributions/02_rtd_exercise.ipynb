{
 "cells": [
  {
   "cell_type": "markdown",
   "id": "0a6f15e9",
   "metadata": {},
   "source": [
    "# Residence Time Distribution - Exercises"
   ]
  },
  {
   "cell_type": "markdown",
   "id": "29999058",
   "metadata": {},
   "source": [
    "## Exercise 1: Step function in CSTR\n",
    "\n",
    "Analyze how the concentration profile of a `CSTR` reacts to a step function:\n",
    "```{figure} ./resources/step.png\n",
    ":width: 50%\n",
    ":align: center\n",
    "```\n",
    "\n",
    "```{figure} ./resources/RTD_CSTR.png\n",
    ":width: 50%\n",
    ":align: center\n",
    "```\n",
    "\n",
    "\n",
    "\n",
    "***Hint:*** Always check the input arguments of our model template functions."
   ]
  },
  {
   "cell_type": "code",
   "execution_count": null,
   "id": "84dd4e48",
   "metadata": {
    "tags": [
     "solution"
    ]
   },
   "outputs": [],
   "source": []
  },
  {
   "cell_type": "code",
   "execution_count": null,
   "id": "a05a6bd0",
   "metadata": {
    "tags": [
     "solution"
    ]
   },
   "outputs": [],
   "source": []
  },
  {
   "cell_type": "code",
   "execution_count": null,
   "id": "89a2a155",
   "metadata": {
    "tags": [
     "solution"
    ]
   },
   "outputs": [],
   "source": []
  },
  {
   "cell_type": "markdown",
   "id": "c859e2e8",
   "metadata": {
    "slideshow": {
     "slide_type": "slide"
    }
   },
   "source": [
    "## Exercise 2: Step function in Tubular reactor\n",
    "\n",
    "**Task:** Also analyze the system behaviour of a Tubular reactor for different input profiles (see Exercise 1)."
   ]
  },
  {
   "cell_type": "code",
   "execution_count": null,
   "id": "7e6b4a4d",
   "metadata": {
    "tags": [
     "solution"
    ]
   },
   "outputs": [],
   "source": []
  },
  {
   "cell_type": "code",
   "execution_count": null,
   "id": "3cbb638b",
   "metadata": {
    "tags": [
     "solution"
    ]
   },
   "outputs": [],
   "source": []
  },
  {
   "cell_type": "code",
   "execution_count": null,
   "id": "6e965f6d",
   "metadata": {
    "tags": [
     "solution"
    ]
   },
   "outputs": [],
   "source": []
  },
  {
   "cell_type": "markdown",
   "id": "0cc4ebd6",
   "metadata": {
    "slideshow": {
     "slide_type": "slide"
    }
   },
   "source": [
    "## Bonus Exercise\n",
    "Many systems can be modelled by a chain of unit operations.\n",
    "\n",
    "```{figure} ./resources/system_chain.png\n",
    ":width: 50%\n",
    ":align: center\n",
    "```\n",
    "Try connecting combining both the CSTR with a Tubular reactor and analyze the behavior."
   ]
  },
  {
   "cell_type": "code",
   "execution_count": null,
   "id": "ce97c441",
   "metadata": {
    "tags": [
     "solution"
    ]
   },
   "outputs": [],
   "source": []
  }
 ],
 "metadata": {
  "jupytext": {
   "formats": "ipynb,md:myst"
  },
  "kernelspec": {
   "display_name": "Python 3 (ipykernel)",
   "language": "python",
   "name": "python3"
  }
 },
 "nbformat": 4,
 "nbformat_minor": 5
}
