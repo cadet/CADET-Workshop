{
 "cells": [
  {
   "cell_type": "markdown",
   "id": "e2c9f618",
   "metadata": {},
   "source": [
    "# Residence Time Distribution - Exercises"
   ]
  },
  {
   "cell_type": "markdown",
   "id": "ca1341f2",
   "metadata": {},
   "source": [
    "## Exercise 1: Step function in CSTR\n",
    "\n",
    "Analyze how the concentration profile of a `CSTR` reacts to a step function:\n",
    "```{figure} ./resources/step.png\n",
    ":width: 50%\n",
    ":align: center\n",
    "```\n",
    "\n",
    "```{figure} ./resources/RTD_CSTR.png\n",
    ":width: 50%\n",
    ":align: center\n",
    "```\n",
    "\n",
    "\n",
    "\n",
    "***Hint:*** Always check the input arguments of our model template functions."
   ]
  },
  {
   "cell_type": "code",
   "execution_count": null,
   "id": "75a6d5ea",
   "metadata": {
    "tags": [
     "solution"
    ]
   },
   "outputs": [],
   "source": []
  },
  {
   "cell_type": "code",
   "execution_count": null,
   "id": "908fcbe9",
   "metadata": {
    "tags": [
     "solution"
    ]
   },
   "outputs": [],
   "source": []
  },
  {
   "cell_type": "code",
   "execution_count": null,
   "id": "139ae673",
   "metadata": {
    "tags": [
     "solution"
    ]
   },
   "outputs": [],
   "source": []
  },
  {
   "cell_type": "markdown",
   "id": "8212a6c8",
   "metadata": {
    "slideshow": {
     "slide_type": "slide"
    }
   },
   "source": [
    "## Exercise 2: Step function in Tubular reactor\n",
    "\n",
    "**Task:** Also analyze the system behaviour of a Tubular reactor for different input profiles (see Exercise 1)."
   ]
  },
  {
   "cell_type": "code",
   "execution_count": null,
   "id": "9f549146",
   "metadata": {
    "tags": [
     "solution"
    ]
   },
   "outputs": [],
   "source": []
  },
  {
   "cell_type": "code",
   "execution_count": null,
   "id": "74642ec4",
   "metadata": {
    "tags": [
     "solution"
    ]
   },
   "outputs": [],
   "source": []
  },
  {
   "cell_type": "code",
   "execution_count": null,
   "id": "95ceace8",
   "metadata": {
    "tags": [
     "solution"
    ]
   },
   "outputs": [],
   "source": []
  },
  {
   "cell_type": "markdown",
   "id": "e319ad9c",
   "metadata": {
    "slideshow": {
     "slide_type": "slide"
    }
   },
   "source": [
    "## Bonus Exercise\n",
    "Many systems can be modelled by a chain of unit operations.\n",
    "\n",
    "```{figure} ./resources/system_chain.png\n",
    ":width: 50%\n",
    ":align: center\n",
    "```\n",
    "Try connecting combining both the CSTR with a Tubular reactor and analyze the behavior."
   ]
  },
  {
   "cell_type": "code",
   "execution_count": null,
   "id": "7ed5ad03",
   "metadata": {
    "tags": [
     "solution"
    ]
   },
   "outputs": [],
   "source": []
  }
 ],
 "metadata": {
  "jupytext": {
   "formats": "ipynb,md:myst"
  },
  "kernelspec": {
   "display_name": "Python 3 (ipykernel)",
   "language": "python",
   "name": "python3"
  }
 },
 "nbformat": 4,
 "nbformat_minor": 5
}
