{
 "cells": [
  {
   "cell_type": "markdown",
   "id": "17dac4af",
   "metadata": {
    "editable": true,
    "slideshow": {
     "slide_type": "slide"
    }
   },
   "source": [
    "# Unit operation models\n",
    "\n",
    "| Transport Model                 | Column Dispersion | Column porosity | Particle Porosity | Film Diffusion | Pore/Surface Diffusion |\n",
    "| ------------------------------- | ----------------- | --------------- | ----------------- | -------------- | ---------------------- |\n",
    "| (CSTR)                          |                   |                 |                   |                |                        |\n",
    "| Plug flow reactor               | x                 |                 |                   |                |                        |\n",
    "| Lumped Rate model without pores | x                 | x               |                   |                |                        |\n",
    "| Lumped Rate model with pores    | x                 | x               | x                 | x              |                        |\n",
    "| General Rate model              | x                 | x               | x                 | x              | x                      |"
   ]
  },
  {
   "cell_type": "markdown",
   "id": "8b14d2fa",
   "metadata": {
    "editable": true,
    "slideshow": {
     "slide_type": "slide"
    }
   },
   "source": [
    "# Adsorption models\n",
    "\n",
    "At the core of chromatographic processes are interactions between the components we want to separate and a stationary\n",
    "phase.\n",
    "\n",
    "These components can be: atoms, ions or molecules of a gas, liquid or dissolved solids."
   ]
  },
  {
   "cell_type": "markdown",
   "id": "20211b96",
   "metadata": {
    "editable": true,
    "slideshow": {
     "slide_type": "slide"
    }
   },
   "source": [
    "## Isotherms\n",
    "\n",
    "These interactions can often be described in terms of an isotherm:\n",
    "\n",
    "```{note}\n",
    "\n",
    "**Isotherm:**\n",
    "An equation that describes how much of a component is __bound__ to the stationary phase or __solved__ in the mobile phase.\n",
    "\n",
    "Valid for a constant _temperature_ (iso - _therm_).\n",
    "\n",
    "```"
   ]
  },
  {
   "cell_type": "markdown",
   "id": "4befa13e",
   "metadata": {
    "editable": true,
    "slideshow": {
     "slide_type": "fragment"
    }
   },
   "source": [
    "```{figure} ./resources/isotherm.png\n",
    ":width: 50%\n",
    ":align: center\n",
    "```"
   ]
  },
  {
   "cell_type": "markdown",
   "id": "e74dea44",
   "metadata": {
    "editable": true,
    "slideshow": {
     "slide_type": "slide"
    }
   },
   "source": [
    "In CADET, many different models for adsorption are implemented.\n",
    "All of the models can be modelled kinetically or in rapid equilibrium.\n",
    "Moreover, many of them include features such as competitive effects, multi state binding, or a mobile phase modifier."
   ]
  },
  {
   "cell_type": "markdown",
   "id": "a69d6134",
   "metadata": {
    "editable": true,
    "slideshow": {
     "slide_type": "fragment"
    }
   },
   "source": [
    "```{figure} ./resources/isotherm_models.png\n",
    ":width: 100%\n",
    ":align: center\n",
    "```"
   ]
  },
  {
   "cell_type": "markdown",
   "id": "fca726a4",
   "metadata": {
    "editable": true,
    "slideshow": {
     "slide_type": "fragment"
    }
   },
   "source": [
    "**In this lesson,** we will:\n",
    "\n",
    "- Learn about different adsorption models.\n",
    "- Associate adsorption models with different unit operations."
   ]
  },
  {
   "cell_type": "markdown",
   "id": "c998dc10",
   "metadata": {
    "editable": true,
    "slideshow": {
     "slide_type": "slide"
    }
   },
   "source": [
    "## Example 1: Linear model\n",
    "\n",
    "The simplest model for adsorption is the [linear model](https://cadet.github.io/master/modelling/binding/linear.html).\n",
    "\n",
    "Analogously to Henry's law, it describes a linear correlation between the solved concentration and the bound\n",
    "concentration of the component."
   ]
  },
  {
   "cell_type": "markdown",
   "id": "a301332d",
   "metadata": {
    "editable": true,
    "slideshow": {
     "slide_type": "fragment"
    }
   },
   "source": [
    "Let us consider a shaking flask experiment in a `CSTR` (without ingoing or outgoing streams).\n",
    "In it, we add some porous material s.t.\n",
    "\n",
    "- the overal porosity is $0.5$.\n",
    "- the volume is $1~L$\n",
    "\n",
    "Then, we add a solution of a component with a concentration of $1~mol \\cdot L^{-1}$.\n",
    "\n",
    "Let us first create a `ComponentSystem` and a `Linear` `BindingModel`."
   ]
  },
  {
   "cell_type": "code",
   "execution_count": null,
   "id": "0302f8e4",
   "metadata": {
    "editable": true,
    "slideshow": {
     "slide_type": ""
    },
    "tags": [
     "solution"
    ]
   },
   "outputs": [],
   "source": []
  },
  {
   "cell_type": "code",
   "execution_count": null,
   "id": "0458db63",
   "metadata": {},
   "outputs": [],
   "source": [
    "from CADETProcess.processModel import Inlet, Outlet\n",
    "\n",
    "inlet = Inlet(component_system, \"inlet\")\n",
    "inlet.flow_rate = 0\n",
    "\n",
    "outlet = Outlet(component_system, \"outlet\")"
   ]
  },
  {
   "cell_type": "code",
   "execution_count": null,
   "id": "2f952fe4",
   "metadata": {
    "editable": true,
    "slideshow": {
     "slide_type": ""
    },
    "tags": [
     "solution"
    ]
   },
   "outputs": [],
   "source": []
  },
  {
   "cell_type": "markdown",
   "id": "5b76b27c",
   "metadata": {
    "editable": true,
    "slideshow": {
     "slide_type": "fragment"
    }
   },
   "source": [
    "We care about the concentration of our component in the solid and bulk liquid phase, so let's tell the reactor to write\n",
    "down those concentrations."
   ]
  },
  {
   "cell_type": "code",
   "execution_count": null,
   "id": "71d559e3",
   "metadata": {
    "editable": true,
    "slideshow": {
     "slide_type": ""
    },
    "tags": [
     "solution"
    ]
   },
   "outputs": [],
   "source": []
  },
  {
   "cell_type": "markdown",
   "id": "5d86a0e1",
   "metadata": {
    "editable": true,
    "slideshow": {
     "slide_type": "slide"
    }
   },
   "source": [
    "Now, create a `FlowSheet` and a `Process` and a `simulator`"
   ]
  },
  {
   "cell_type": "code",
   "execution_count": null,
   "id": "77d91410",
   "metadata": {
    "editable": true,
    "slideshow": {
     "slide_type": ""
    },
    "tags": [
     "solution"
    ]
   },
   "outputs": [],
   "source": []
  },
  {
   "cell_type": "code",
   "execution_count": null,
   "id": "b67fff2d",
   "metadata": {
    "editable": true,
    "slideshow": {
     "slide_type": ""
    },
    "tags": [
     "solution"
    ]
   },
   "outputs": [],
   "source": []
  },
  {
   "cell_type": "code",
   "execution_count": null,
   "id": "017b88cd",
   "metadata": {},
   "outputs": [],
   "source": [
    "simulation_results.solution"
   ]
  },
  {
   "cell_type": "code",
   "execution_count": null,
   "id": "f4ed804a",
   "metadata": {
    "editable": true,
    "slideshow": {
     "slide_type": ""
    },
    "tags": [
     "solution"
    ]
   },
   "outputs": [],
   "source": []
  },
  {
   "cell_type": "markdown",
   "id": "afa5a565",
   "metadata": {
    "editable": true,
    "slideshow": {
     "slide_type": "slide"
    }
   },
   "source": [
    "### A note on resolution\n",
    "\n",
    "As can be seen in the figure abore, the time resolution is not sufficiently high.\n",
    "By default, CADET-Process stores 1 sample per second.\n",
    "To increase the resolution, set the `time_resolution` parameter of the `Simulator`."
   ]
  },
  {
   "cell_type": "code",
   "execution_count": null,
   "id": "127bd163",
   "metadata": {
    "editable": true,
    "slideshow": {
     "slide_type": ""
    },
    "tags": [
     "solution"
    ]
   },
   "outputs": [],
   "source": []
  },
  {
   "cell_type": "markdown",
   "id": "db7b046e",
   "metadata": {
    "editable": true,
    "slideshow": {
     "slide_type": "fragment"
    }
   },
   "source": [
    "Now, the solution looks much smoother."
   ]
  },
  {
   "cell_type": "code",
   "execution_count": null,
   "id": "f98268dc",
   "metadata": {
    "editable": true,
    "slideshow": {
     "slide_type": ""
    },
    "tags": [
     "solution"
    ]
   },
   "outputs": [],
   "source": []
  },
  {
   "cell_type": "markdown",
   "id": "f0467e7d",
   "metadata": {
    "editable": true,
    "slideshow": {
     "slide_type": "slide"
    }
   },
   "source": [
    "## Example 2: Linear adsorption model with linear concentration gradient\n",
    "\n",
    "To plot the solid phase concentration as a function of the bulk concentration, we can introduce a linear concentration\n",
    "gradient to the `LumpedRateModelWithoutPores` that has an initial concentration of $0~mM$."
   ]
  },
  {
   "cell_type": "code",
   "execution_count": null,
   "id": "31cc4ffa",
   "metadata": {
    "editable": true,
    "slideshow": {
     "slide_type": ""
    },
    "tags": [
     "solution"
    ]
   },
   "outputs": [],
   "source": []
  },
  {
   "cell_type": "code",
   "execution_count": null,
   "id": "a2f244f2",
   "metadata": {
    "editable": true,
    "slideshow": {
     "slide_type": ""
    },
    "tags": [
     "solution"
    ]
   },
   "outputs": [],
   "source": []
  },
  {
   "cell_type": "code",
   "execution_count": null,
   "id": "084efb4e",
   "metadata": {
    "editable": true,
    "slideshow": {
     "slide_type": ""
    },
    "tags": [
     "solution"
    ]
   },
   "outputs": [],
   "source": []
  },
  {
   "cell_type": "code",
   "execution_count": null,
   "id": "fa6c2e1a",
   "metadata": {
    "editable": true,
    "slideshow": {
     "slide_type": ""
    },
    "tags": [
     "solution"
    ]
   },
   "outputs": [],
   "source": []
  },
  {
   "cell_type": "code",
   "execution_count": null,
   "id": "6638e77b",
   "metadata": {
    "editable": true,
    "slideshow": {
     "slide_type": ""
    },
    "tags": [
     "solution"
    ]
   },
   "outputs": [],
   "source": []
  },
  {
   "cell_type": "code",
   "execution_count": null,
   "id": "73aa10a9",
   "metadata": {
    "editable": true,
    "slideshow": {
     "slide_type": ""
    },
    "tags": [
     "solution"
    ]
   },
   "outputs": [],
   "source": []
  },
  {
   "cell_type": "markdown",
   "id": "db6f8355",
   "metadata": {
    "editable": true,
    "slideshow": {
     "slide_type": "slide"
    }
   },
   "source": [
    "We can now reproduce the \"isotherm\" plot from earlier (c_solid over c_bulk):"
   ]
  },
  {
   "cell_type": "code",
   "execution_count": null,
   "id": "0db10c29",
   "metadata": {
    "editable": true,
    "slideshow": {
     "slide_type": ""
    },
    "tags": [
     "solution"
    ]
   },
   "outputs": [],
   "source": []
  },
  {
   "cell_type": "markdown",
   "id": "89eeb518",
   "metadata": {
    "editable": true,
    "slideshow": {
     "slide_type": "slide"
    }
   },
   "source": [
    "## Example 3: Multi component Langmuir model\n",
    "\n",
    "Usually, the linear isotherm can only be assumed for very low solute concentrations.\n",
    "At higher, higher concentrations the limited number of available binding sites on the surface of the adsorbent also\n",
    "needs to be considered which\n",
    "the [Langmuir equation](https://cadet.github.io/master/modelling/binding/multi_component_langmuir.html) takes into\n",
    "account.\n",
    "\n",
    "$$q = q_{sat} \\cdot \\frac{b \\cdot c}{1 + b \\cdot c}$$\n",
    "\n",
    "***with:***\n",
    "\n",
    "- $q_{Sat}$ = saturation loading\n",
    "- $b$ = equilibrium factor"
   ]
  },
  {
   "cell_type": "markdown",
   "id": "389ba310",
   "metadata": {
    "editable": true,
    "slideshow": {
     "slide_type": "fragment"
    }
   },
   "source": [
    "***Assumptions:***\n",
    "\n",
    "- All of the adsorption sites are equivalent, and each site can only accommodate one molecule\n",
    "- The surface is energetically homogeneous\n",
    "- Adsorbed molecules do not interact\n",
    "- There are no phase transitions\n",
    "- At the maximum adsorption, only a monolayer is formed\n",
    "\n",
    "For this example, we will again use a oncentration gradient on the `LumpedRateModelWithoutPores`.\n",
    "We consider two components, both with an inital concentration of $0~mM$, but with different binding strengths:\n",
    "```\n",
    "adsorption_rate = [10,5]\n",
    "desorption_rate = [1,1]\n",
    "```"
   ]
  },
  {
   "cell_type": "markdown",
   "id": "f0bca4fe",
   "metadata": {
    "slideshow": {
     "slide_type": "slide"
    }
   },
   "source": [
    "To start: create a `ComponentSystem`"
   ]
  },
  {
   "cell_type": "code",
   "execution_count": null,
   "id": "df512974",
   "metadata": {},
   "outputs": [],
   "source": [
    "from CADETProcess.processModel import ComponentSystem, Inlet, Outlet, LumpedRateModelWithoutPores, Langmuir\n",
    "component_system = ComponentSystem(2)"
   ]
  },
  {
   "cell_type": "code",
   "execution_count": null,
   "id": "82636af0",
   "metadata": {
    "editable": true,
    "slideshow": {
     "slide_type": ""
    },
    "tags": [
     "solution"
    ]
   },
   "outputs": [],
   "source": []
  },
  {
   "cell_type": "markdown",
   "id": "fe0a8e6e",
   "metadata": {
    "slideshow": {
     "slide_type": "fragment"
    }
   },
   "source": [
    "Set up the `processModel`"
   ]
  },
  {
   "cell_type": "code",
   "execution_count": null,
   "id": "00d87704",
   "metadata": {
    "editable": true,
    "slideshow": {
     "slide_type": ""
    },
    "tags": [
     "solution"
    ]
   },
   "outputs": [],
   "source": []
  },
  {
   "cell_type": "markdown",
   "id": "62271c85",
   "metadata": {
    "slideshow": {
     "slide_type": "fragment"
    }
   },
   "source": [
    "Set up the `FlowSheet`"
   ]
  },
  {
   "cell_type": "code",
   "execution_count": null,
   "id": "6b588bc8",
   "metadata": {
    "tags": [
     "solution"
    ]
   },
   "outputs": [],
   "source": []
  },
  {
   "cell_type": "markdown",
   "id": "5f5901a3",
   "metadata": {
    "editable": true,
    "slideshow": {
     "slide_type": "fragment"
    }
   },
   "source": [
    "We can again plot the solutions as the isotherm plot:"
   ]
  },
  {
   "cell_type": "code",
   "execution_count": null,
   "id": "29dda8fd",
   "metadata": {
    "tags": [
     "solution"
    ]
   },
   "outputs": [],
   "source": []
  },
  {
   "cell_type": "markdown",
   "id": "627b8d95",
   "metadata": {
    "editable": true,
    "slideshow": {
     "slide_type": "slide"
    }
   },
   "source": [
    "## Details on the Steric Mass Action law binding\n",
    "\n",
    "The [Steric Mass Action model](https://cadet.github.io/master/modelling/binding/steric_mass_action.html#steric-mass-action-model) takes charges of the molecules into account and is, thus, often used in ion-exchange chromatography.\n",
    "Each component has a characteristic charge $\\nu$ that determines the number of available binding sites $\\Lambda$ (ionic capacity) used up by a molecule.\n",
    "Due to the molecule’s shape, some additional binding sites (steric shielding factor $\\sigma$) may be shielded from other molecules and are not available for binding.\n",
    "\n",
    "![image.png](attachment:87f8dbef-ecb4-4753-a596-5908d66d2cdd.png)"
   ]
  },
  {
   "cell_type": "markdown",
   "id": "6f27fed2",
   "metadata": {
    "editable": true,
    "slideshow": {
     "slide_type": "fragment"
    }
   },
   "source": [
    "The model is given by this eqution:\n",
    "\n",
    "$$\\frac{\\mathrm{d} q_i}{\\mathrm{d} t} = k_{a,i} c_{p,i}\\bar{q}_0^{\\nu_i} - k_{d,i} q_i c_{p,0}^{\\nu_i}$$\n",
    "\n",
    "where $c_{p,0}$ denotes the mobile phase salt concentration, and"
   ]
  },
  {
   "cell_type": "markdown",
   "id": "6db0b578",
   "metadata": {
    "editable": true,
    "slideshow": {
     "slide_type": "fragment"
    }
   },
   "source": [
    "$$\\bar{q}_0 = \\Lambda - \\sum_{j=1}^{N_{\\text{comp}} - 1} \\left( \\nu_j + \\sigma_j \\right) q_j$$\n",
    "\n",
    "is the number of available binding sites."
   ]
  },
  {
   "cell_type": "markdown",
   "id": "046d97ed",
   "metadata": {
    "editable": true,
    "slideshow": {
     "slide_type": "slide"
    }
   },
   "source": [
    "Using the parameter transformation\n",
    "\n",
    "$$k_{a,i} = \\tilde{k}_{a,i} q_{\\text{ref}}^{-\\nu_i}$$\n",
    "\n",
    "$$k_{d,i} = \\tilde{k}_{d,i} c_{\\text{ref}}^{-\\nu_i}$$"
   ]
  },
  {
   "cell_type": "markdown",
   "id": "efced519",
   "metadata": {
    "editable": true,
    "slideshow": {
     "slide_type": "fragment"
    }
   },
   "source": [
    "we obtain the modified model equation:\n",
    "\n",
    "$$\\frac{\\mathrm{d} q_i}{\\mathrm{d} t} = \\tilde{k}_{a,i} c_{p,i} \\left(\\frac{\\bar{q}_0}{q_{\\text{ref}}}\\right)^{\\nu_i} - \\tilde{k}_{d,i} q_i \\left(\\frac{c_{p,0}}{c_{\\text{ref}}}\\right)^{\\nu_i}$$"
   ]
  },
  {
   "cell_type": "markdown",
   "id": "eaecb409",
   "metadata": {
    "editable": true,
    "slideshow": {
     "slide_type": "fragment"
    }
   },
   "source": [
    "This transformation serves as a (partial) nondimensionalization of the adsorption and desorption rates."
   ]
  },
  {
   "cell_type": "markdown",
   "id": "a42047bf",
   "metadata": {
    "editable": true,
    "slideshow": {
     "slide_type": "fragment"
    }
   },
   "source": [
    "The basic goal is to have $\\left(\\frac{\\bar{q}_0}{q_{\\text{ref}}}\\right) \\leq 1$ and $\\left(\\frac{c_{p,0}}{c_{\\text{ref}}}\\right) \\leq 1$\n",
    "\n",
    "Recommended choices for $c_{\\text{ref}}$ are the average or maximum inlet concentration of the mobile phase modifier $c_0$, and for $q_{\\text{ref}}$ the ionic capacity $\\Lambda$.\n",
    "Note that setting the reference concentrations to ${1.0}$ each results in the original binding model."
   ]
  },
  {
   "cell_type": "markdown",
   "id": "b205994f",
   "metadata": {
    "editable": true,
    "slideshow": {
     "slide_type": "fragment"
    }
   },
   "source": [
    "```{note}\n",
    "From a practical perspective, modern resins have a very high capacity and large proteins can can have a very high charactistic charge.\n",
    "If the concentration is not normalized, the system is often numerically unstable.\n",
    "It may run slowly or not at all.\n",
    "```"
   ]
  }
 ],
 "metadata": {
  "jupytext": {
   "formats": "ipynb,md:myst"
  },
  "kernelspec": {
   "display_name": "Python 3 (ipykernel)",
   "language": "python",
   "name": "python3"
  }
 },
 "nbformat": 4,
 "nbformat_minor": 5
}
