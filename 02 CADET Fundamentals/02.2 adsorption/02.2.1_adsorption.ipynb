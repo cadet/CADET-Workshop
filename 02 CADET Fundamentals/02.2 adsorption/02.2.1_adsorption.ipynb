{
 "cells": [
  {
   "cell_type": "markdown",
   "id": "d819fe5a",
   "metadata": {
    "editable": true,
    "slideshow": {
     "slide_type": "slide"
    }
   },
   "source": [
    "# Unit operation models\n",
    "\n",
    "| Transport Model                 | Column Dispersion | Column porosity | Particle Porosity | Film Diffusion | Pore/Surface Diffusion |\n",
    "| ------------------------------- | ----------------- | --------------- | ----------------- | -------------- | ---------------------- |\n",
    "| (CSTR)                          |                   |                 |                   |                |                        |\n",
    "| Plug flow reactor               | x                 |                 |                   |                |                        |\n",
    "| Lumped Rate model without pores | x                 | x               |                   |                |                        |\n",
    "| Lumped Rate model with pores    | x                 | x               | x                 | x              |                        |\n",
    "| General Rate model              | x                 | x               | x                 | x              | x                      |"
   ]
  },
  {
   "cell_type": "markdown",
   "id": "3f383890",
   "metadata": {
    "editable": true,
    "slideshow": {
     "slide_type": "slide"
    }
   },
   "source": [
    "# Adsorption models\n",
    "\n",
    "At the core of chromatographic processes are interactions between the components we want to separate and a stationary\n",
    "phase.\n",
    "\n",
    "These components can be: atoms, ions or molecules of a gas, liquid or dissolved solids."
   ]
  },
  {
   "cell_type": "markdown",
   "id": "d7a3d0ef",
   "metadata": {
    "editable": true,
    "slideshow": {
     "slide_type": "slide"
    }
   },
   "source": [
    "## Isotherms\n",
    "\n",
    "These interactions can often be described in terms of an isotherm:\n",
    "\n",
    "```{note}\n",
    "\n",
    "**Isotherm:**\n",
    "An equation that describes how much of a component is __bound__ to the stationary phase or __solved__ in the mobile phase.\n",
    "\n",
    "Valid for a constant _temperature_ (iso - _therm_).\n",
    "\n",
    "```"
   ]
  },
  {
   "cell_type": "markdown",
   "id": "1daebb5c",
   "metadata": {
    "editable": true,
    "slideshow": {
     "slide_type": "fragment"
    }
   },
   "source": [
    "```{figure} ./resources/isotherm.png\n",
    ":width: 50%\n",
    ":align: center\n",
    "```"
   ]
  },
  {
   "cell_type": "markdown",
   "id": "42f58d52",
   "metadata": {
    "editable": true,
    "slideshow": {
     "slide_type": "slide"
    }
   },
   "source": [
    "In CADET, many different models for adsorption are implemented.\n",
    "All of the models can be modelled kinetically or in rapid equilibrium.\n",
    "Moreover, many of them include features such as competitive effects, multi state binding, or a mobile phase modifier."
   ]
  },
  {
   "cell_type": "markdown",
   "id": "52a33926",
   "metadata": {
    "editable": true,
    "slideshow": {
     "slide_type": "fragment"
    }
   },
   "source": [
    "```{figure} ./resources/isotherm_models.png\n",
    ":width: 100%\n",
    ":align: center\n",
    "```"
   ]
  },
  {
   "cell_type": "markdown",
   "id": "1354a869",
   "metadata": {
    "editable": true,
    "slideshow": {
     "slide_type": "fragment"
    }
   },
   "source": [
    "**In this lesson,** we will:\n",
    "\n",
    "- Learn about different adsorption models.\n",
    "- Associate adsorption models with different unit operations."
   ]
  },
  {
   "cell_type": "markdown",
   "id": "77d01527",
   "metadata": {
    "editable": true,
    "slideshow": {
     "slide_type": "slide"
    }
   },
   "source": [
    "## Example 1: Linear model\n",
    "\n",
    "The simplest model for adsorption is the [linear model](https://cadet.github.io/master/modelling/binding/linear.html).\n",
    "\n",
    "Analogously to Henry's law, it describes a linear correlation between the solved concentration and the bound\n",
    "concentration of the component."
   ]
  },
  {
   "cell_type": "markdown",
   "id": "47dc9f7f",
   "metadata": {
    "editable": true,
    "slideshow": {
     "slide_type": "fragment"
    }
   },
   "source": [
    "Let us consider a shaking flask experiment in a `CSTR` (without ingoing or outgoing streams).\n",
    "In it, we add some porous material s.t.\n",
    "\n",
    "- the overal porosity is $0.5$.\n",
    "- the volume is $1~L$\n",
    "\n",
    "Then, we add a solution of a component with a concentration of $1~mol \\cdot L^{-1}$.\n",
    "\n",
    "Let us first create a `ComponentSystem` and a `Linear` `BindingModel`."
   ]
  },
  {
   "cell_type": "code",
   "execution_count": null,
   "id": "7b0a9c0e",
   "metadata": {
    "editable": true,
    "slideshow": {
     "slide_type": ""
    },
    "tags": [
     "solution"
    ]
   },
   "outputs": [],
   "source": [
    "from CADETProcess.processModel import ComponentSystem, LumpedRateModelWithoutPores, Linear\n",
    "\n",
    "component_system = ComponentSystem(1)\n",
    "column = LumpedRateModelWithoutPores(component_system, \"column\")\n",
    "column.required_parameters\n",
    "column.total_porosity = 0.5\n",
    "column.length = 0.1\n",
    "column.diameter = 0.1\n",
    "column.axial_dispersion = 1e-20\n",
    "\n",
    "linear = Linear(component_system)\n",
    "linear.parameters\n",
    "linear.adsorption_rate = 2\n",
    "linear.desorption_rate = 1\n",
    "\n",
    "column.binding_model = linear"
   ]
  },
  {
   "cell_type": "code",
   "execution_count": null,
   "id": "d86b1a7b",
   "metadata": {},
   "outputs": [],
   "source": [
    "from CADETProcess.processModel import Inlet, Outlet\n",
    "\n",
    "inlet = Inlet(component_system, \"inlet\")\n",
    "inlet.flow_rate = 0\n",
    "\n",
    "outlet = Outlet(component_system, \"outlet\")"
   ]
  },
  {
   "cell_type": "code",
   "execution_count": null,
   "id": "355f38b9",
   "metadata": {
    "editable": true,
    "slideshow": {
     "slide_type": ""
    },
    "tags": [
     "solution"
    ]
   },
   "outputs": [],
   "source": [
    "column.c = 1"
   ]
  },
  {
   "cell_type": "markdown",
   "id": "f1a554ce",
   "metadata": {
    "editable": true,
    "slideshow": {
     "slide_type": "fragment"
    }
   },
   "source": [
    "We care about the concentration of our component in the solid and bulk liquid phase, so let's tell the reactor to write\n",
    "down those concentrations."
   ]
  },
  {
   "cell_type": "code",
   "execution_count": null,
   "id": "d4dad1ff",
   "metadata": {
    "editable": true,
    "slideshow": {
     "slide_type": ""
    },
    "tags": [
     "solution"
    ]
   },
   "outputs": [],
   "source": [
    "column.solution_recorder.write_solution_bulk = True\n",
    "column.solution_recorder.write_solution_solid = True"
   ]
  },
  {
   "cell_type": "markdown",
   "id": "ee753edc",
   "metadata": {
    "editable": true,
    "slideshow": {
     "slide_type": "slide"
    }
   },
   "source": [
    "Now, create a `FlowSheet` and a `Process` and a `simulator`"
   ]
  },
  {
   "cell_type": "code",
   "execution_count": null,
   "id": "d31d14af",
   "metadata": {
    "editable": true,
    "slideshow": {
     "slide_type": ""
    },
    "tags": [
     "solution"
    ]
   },
   "outputs": [],
   "source": [
    "column.solution_recorder.write_solution_bulk = True\n",
    "column.solution_recorder.write_solution_solid = True\n",
    "\n",
    "from CADETProcess.processModel import FlowSheet, Process\n",
    "from CADETProcess.simulator import Cadet\n",
    "\n",
    "flow_sheet = FlowSheet(component_system, \"flow_sheet\")\n",
    "flow_sheet.add_unit(column)\n",
    "flow_sheet.add_unit(inlet)\n",
    "flow_sheet.add_unit(outlet)\n",
    "flow_sheet.add_connection(inlet, column)\n",
    "flow_sheet.add_connection(column, outlet)\n",
    "\n",
    "process = Process(flow_sheet, \"process\")\n",
    "process.cycle_time = 3"
   ]
  },
  {
   "cell_type": "code",
   "execution_count": null,
   "id": "5aee85b5",
   "metadata": {
    "editable": true,
    "slideshow": {
     "slide_type": ""
    },
    "tags": [
     "solution"
    ]
   },
   "outputs": [],
   "source": [
    "simulator = Cadet()\n",
    "simulation_results = simulator.simulate(process)"
   ]
  },
  {
   "cell_type": "code",
   "execution_count": null,
   "id": "b8abba9c",
   "metadata": {},
   "outputs": [],
   "source": [
    "simulation_results.solution"
   ]
  },
  {
   "cell_type": "code",
   "execution_count": null,
   "id": "d6681cf0",
   "metadata": {
    "editable": true,
    "slideshow": {
     "slide_type": ""
    },
    "tags": [
     "solution"
    ]
   },
   "outputs": [],
   "source": [
    "simulation_results.solution.column.bulk.plot_at_position(0.001)\n",
    "simulation_results.solution.column.solid.plot_at_position(0.001)"
   ]
  },
  {
   "cell_type": "markdown",
   "id": "78043e2a",
   "metadata": {
    "editable": true,
    "slideshow": {
     "slide_type": "slide"
    }
   },
   "source": [
    "### A note on resolution\n",
    "\n",
    "As can be seen in the figure abore, the time resolution is not sufficiently high.\n",
    "By default, CADET-Process stores 1 sample per second.\n",
    "To increase the resolution, set the `time_resolution` parameter of the `Simulator`."
   ]
  },
  {
   "cell_type": "code",
   "execution_count": null,
   "id": "59943f56",
   "metadata": {
    "editable": true,
    "slideshow": {
     "slide_type": ""
    },
    "tags": [
     "solution"
    ]
   },
   "outputs": [],
   "source": [
    "simulator.time_resolution = 0.1"
   ]
  },
  {
   "cell_type": "markdown",
   "id": "2ca01f73",
   "metadata": {
    "editable": true,
    "slideshow": {
     "slide_type": "fragment"
    }
   },
   "source": [
    "Now, the solution looks much smoother."
   ]
  },
  {
   "cell_type": "code",
   "execution_count": null,
   "id": "611df9e0",
   "metadata": {
    "editable": true,
    "slideshow": {
     "slide_type": ""
    },
    "tags": [
     "solution"
    ]
   },
   "outputs": [],
   "source": [
    "simulation_results = simulator.simulate(process)\n",
    "\n",
    "simulation_results.solution.column.bulk.plot_at_position(0.001)\n",
    "simulation_results.solution.column.solid.plot_at_position(0.001)"
   ]
  },
  {
   "cell_type": "markdown",
   "id": "fbe3846a",
   "metadata": {
    "editable": true,
    "slideshow": {
     "slide_type": "slide"
    }
   },
   "source": [
    "## Example 2: Linear adsorption model with linear concentration gradient\n",
    "\n",
    "To plot the solid phase concentration as a function of the bulk concentration, we can introduce a linear concentration\n",
    "gradient to the `LumpedRateModelWithoutPores` that has an initial concentration of $0~mM$."
   ]
  },
  {
   "cell_type": "code",
   "execution_count": null,
   "id": "3cdbfee3",
   "metadata": {
    "editable": true,
    "slideshow": {
     "slide_type": ""
    },
    "tags": [
     "solution"
    ]
   },
   "outputs": [],
   "source": [
    "from CADETProcess.processModel import ComponentSystem\n",
    "\n",
    "component_system = ComponentSystem(2)"
   ]
  },
  {
   "cell_type": "code",
   "execution_count": null,
   "id": "40507c11",
   "metadata": {
    "editable": true,
    "slideshow": {
     "slide_type": ""
    },
    "tags": [
     "solution"
    ]
   },
   "outputs": [],
   "source": [
    "from CADETProcess.processModel import Linear\n",
    "\n",
    "binding_model = Linear(component_system, name='linear')\n",
    "binding_model.is_kinetic = False\n",
    "binding_model.adsorption_rate = [0.5, 2]\n",
    "binding_model.desorption_rate = [1, 1]"
   ]
  },
  {
   "cell_type": "code",
   "execution_count": null,
   "id": "b3ceb9fa",
   "metadata": {
    "editable": true,
    "slideshow": {
     "slide_type": ""
    },
    "tags": [
     "solution"
    ]
   },
   "outputs": [],
   "source": [
    "from CADETProcess.processModel import Inlet, Cstr, Outlet\n",
    "\n",
    "inlet = Inlet(component_system, name='inlet')\n",
    "inlet.c = [[0, 1e-1, 0, 0], [0, 1e-1, 0, 0]]\n",
    "inlet.flow_rate = 1e-3\n",
    "\n",
    "outlet = Outlet(component_system, name=\"outlet\")\n",
    "\n",
    "reactor = LumpedRateModelWithoutPores(component_system, name=\"reactor\")\n",
    "reactor.binding_model = binding_model\n",
    "\n",
    "reactor.c = [0., 0.]\n",
    "reactor.q = [0, 0]\n",
    "reactor.total_porosity = 0.5\n",
    "reactor.length = 1e-1\n",
    "reactor.diameter = 1e-2\n",
    "reactor.axial_dispersion = 1e-20\n",
    "\n",
    "reactor.solution_recorder.write_solution_bulk = True\n",
    "reactor.solution_recorder.write_solution_solid = True"
   ]
  },
  {
   "cell_type": "code",
   "execution_count": null,
   "id": "d3513e43",
   "metadata": {
    "editable": true,
    "slideshow": {
     "slide_type": ""
    },
    "tags": [
     "solution"
    ]
   },
   "outputs": [],
   "source": [
    "from CADETProcess.processModel import FlowSheet\n",
    "\n",
    "flow_sheet = FlowSheet(component_system)\n",
    "\n",
    "flow_sheet.add_unit(reactor)\n",
    "flow_sheet.add_unit(inlet)\n",
    "flow_sheet.add_unit(outlet)\n",
    "\n",
    "flow_sheet.add_connection(inlet, reactor)\n",
    "flow_sheet.add_connection(reactor, outlet)"
   ]
  },
  {
   "cell_type": "code",
   "execution_count": null,
   "id": "65dc4431",
   "metadata": {
    "editable": true,
    "slideshow": {
     "slide_type": ""
    },
    "tags": [
     "solution"
    ]
   },
   "outputs": [],
   "source": [
    "from CADETProcess.processModel import Process\n",
    "\n",
    "process = Process(flow_sheet, 'process')\n",
    "process.cycle_time = 10"
   ]
  },
  {
   "cell_type": "code",
   "execution_count": null,
   "id": "51c496e2",
   "metadata": {
    "editable": true,
    "slideshow": {
     "slide_type": ""
    },
    "tags": [
     "solution"
    ]
   },
   "outputs": [],
   "source": [
    "from CADETProcess.simulator import Cadet\n",
    "\n",
    "simulator = Cadet()\n",
    "simulator.timeout=5\n",
    "sim_results = simulator.simulate(process, )\n",
    "\n",
    "_ = sim_results.solution.reactor.bulk.plot_at_position(0.05)\n",
    "_ = sim_results.solution.reactor.solid.plot_at_position(0.05)"
   ]
  },
  {
   "cell_type": "markdown",
   "id": "4b6dfb98",
   "metadata": {
    "editable": true,
    "slideshow": {
     "slide_type": "slide"
    }
   },
   "source": [
    "We can now reproduce the \"isotherm\" plot from earlier (c_solid over c_bulk):"
   ]
  },
  {
   "cell_type": "code",
   "execution_count": null,
   "id": "aecb1db8",
   "metadata": {
    "editable": true,
    "slideshow": {
     "slide_type": ""
    },
    "tags": [
     "solution"
    ]
   },
   "outputs": [],
   "source": [
    "solution_bulk = sim_results.solution.reactor.bulk.solution\n",
    "solution_solid = sim_results.solution.reactor.solid.solution\n",
    "\n",
    "import matplotlib.pyplot as plt\n",
    "fig, ax = plt.subplots()\n",
    "ax.plot(solution_bulk[:, 0, :], solution_solid[:, 0, :])\n",
    "ax.set_title('Isotherm')\n",
    "ax.set_xlabel('$c_{bulk}$')\n",
    "ax.set_ylabel('$c_{solid}$')"
   ]
  },
  {
   "cell_type": "markdown",
   "id": "f5ac5407",
   "metadata": {
    "editable": true,
    "slideshow": {
     "slide_type": "slide"
    }
   },
   "source": [
    "## Example 3: Multi component Langmuir model\n",
    "\n",
    "Usually, the linear isotherm can only be assumed for very low solute concentrations.\n",
    "At higher, higher concentrations the limited number of available binding sites on the surface of the adsorbent also\n",
    "needs to be considered which\n",
    "the [Langmuir equation](https://cadet.github.io/master/modelling/binding/multi_component_langmuir.html) takes into\n",
    "account.\n",
    "\n",
    "$$q = q_{sat} \\cdot \\frac{b \\cdot c}{1 + b \\cdot c}$$\n",
    "\n",
    "***with:***\n",
    "\n",
    "- $q_{Sat}$ = saturation loading\n",
    "- $b$ = equilibrium factor"
   ]
  },
  {
   "cell_type": "markdown",
   "id": "627e4cb5",
   "metadata": {
    "editable": true,
    "slideshow": {
     "slide_type": "fragment"
    }
   },
   "source": [
    "***Assumptions:***\n",
    "\n",
    "- All of the adsorption sites are equivalent, and each site can only accommodate one molecule\n",
    "- The surface is energetically homogeneous\n",
    "- Adsorbed molecules do not interact\n",
    "- There are no phase transitions\n",
    "- At the maximum adsorption, only a monolayer is formed\n",
    "\n",
    "For this example, we will again use a oncentration gradient on the `LumpedRateModelWithoutPores`.\n",
    "We consider two components, both with an inital concentration of $0~mM$, but with different binding strengths:\n",
    "```\n",
    "adsorption_rate = [10,5]\n",
    "desorption_rate = [1,1]\n",
    "```"
   ]
  },
  {
   "cell_type": "markdown",
   "id": "f6e1b460",
   "metadata": {
    "slideshow": {
     "slide_type": "slide"
    }
   },
   "source": [
    "To start: create a `ComponentSystem`"
   ]
  },
  {
   "cell_type": "code",
   "execution_count": null,
   "id": "f60a116d",
   "metadata": {},
   "outputs": [],
   "source": [
    "from CADETProcess.processModel import ComponentSystem, Inlet, Outlet, LumpedRateModelWithoutPores, Langmuir\n",
    "component_system = ComponentSystem(2)"
   ]
  },
  {
   "cell_type": "code",
   "execution_count": null,
   "id": "2e9b2092",
   "metadata": {
    "editable": true,
    "slideshow": {
     "slide_type": ""
    },
    "tags": [
     "solution"
    ]
   },
   "outputs": [],
   "source": [
    "from CADETProcess.processModel import Langmuir\n",
    "\n",
    "inlet = Inlet(component_system, \"inlet\")\n",
    "inlet.flow_rate = 1e-6\n",
    "inlet.c = [[0, 0.01, 0, 0], [0, 0.01, 0, 0]]"
   ]
  },
  {
   "cell_type": "markdown",
   "id": "ae10da2d",
   "metadata": {
    "slideshow": {
     "slide_type": "fragment"
    }
   },
   "source": [
    "Set up the `processModel`"
   ]
  },
  {
   "cell_type": "code",
   "execution_count": null,
   "id": "a4c10365",
   "metadata": {
    "editable": true,
    "slideshow": {
     "slide_type": ""
    },
    "tags": [
     "solution"
    ]
   },
   "outputs": [],
   "source": [
    "from CADETProcess.processModel import Inlet, Outlet, Cstr\n",
    "\n",
    "binding_model = Langmuir(component_system, name='langmuir')\n",
    "binding_model.is_kinetic = False\n",
    "binding_model.adsorption_rate = [10,5]\n",
    "binding_model.desorption_rate = [1,1]\n",
    "binding_model.capacity = [1,1]\n",
    "\n",
    "reactor = LumpedRateModelWithoutPores(component_system, name=\"reactor\")\n",
    "reactor.binding_model = binding_model\n",
    "\n",
    "reactor.total_porosity = 0.5\n",
    "reactor.length = 1e-1\n",
    "reactor.diameter = 1e-2\n",
    "reactor.axial_dispersion = 1e-20\n",
    "\n",
    "reactor.c = [0., 0.]\n",
    "reactor.q = [0, 0]\n",
    "\n",
    "reactor.solution_recorder.write_solution_bulk = True\n",
    "reactor.solution_recorder.write_solution_solid = True"
   ]
  },
  {
   "cell_type": "markdown",
   "id": "c20b20cc",
   "metadata": {
    "slideshow": {
     "slide_type": "fragment"
    }
   },
   "source": [
    "Set up the `FlowSheet`"
   ]
  },
  {
   "cell_type": "code",
   "execution_count": null,
   "id": "efc74492",
   "metadata": {
    "tags": [
     "solution"
    ]
   },
   "outputs": [],
   "source": [
    "from CADETProcess.processModel import FlowSheet\n",
    "\n",
    "outlet = Outlet(component_system, \"outlet\")\n",
    "\n",
    "column = LumpedRateModelWithoutPores(component_system, \"column\")#\n",
    "column.total_porosity = 0.5\n",
    "column.length = 0.1\n",
    "column.diameter = 0.1\n",
    "column.axial_dispersion = 1e-20\n",
    "\n",
    "binding = Langmuir(component_system, \"binding\")\n",
    "binding.adsorption_rate = [10, 5]\n",
    "binding.desorption_rate = [1, 1]\n",
    "binding.capacity = [1, 1]\n",
    "\n",
    "column.binding_model = binding\n",
    "\n",
    "column.solution_recorder.write_solution_bulk = True\n",
    "column.solution_recorder.write_solution_solid = True\n",
    "\n",
    "from CADETProcess.processModel import FlowSheet, Process\n",
    "from CADETProcess.simulator import Cadet\n",
    "\n",
    "flow_sheet = FlowSheet(component_system, \"flow_sheet\")\n",
    "flow_sheet.add_unit(column)\n",
    "flow_sheet.add_unit(inlet)\n",
    "flow_sheet.add_unit(outlet)\n",
    "flow_sheet.add_connection(inlet, column)\n",
    "flow_sheet.add_connection(column, outlet)\n",
    "\n",
    "process = Process(flow_sheet, \"process\")\n",
    "process.cycle_time = 1000\n",
    "\n",
    "simulator = Cadet()\n",
    "simulation_results = simulator.simulate(process)\n",
    "simulation_results.solution.outlet.outlet.plot()"
   ]
  },
  {
   "cell_type": "markdown",
   "id": "64d7c7d3",
   "metadata": {
    "editable": true,
    "slideshow": {
     "slide_type": "fragment"
    }
   },
   "source": [
    "We can again plot the solutions as the isotherm plot:"
   ]
  },
  {
   "cell_type": "code",
   "execution_count": null,
   "id": "1fe2c77c",
   "metadata": {
    "tags": [
     "solution"
    ]
   },
   "outputs": [],
   "source": [
    "solid = simulation_results.solution.column.solid.solution\n",
    "bulk = simulation_results.solution.column.bulk.solution\n",
    "\n",
    "solid_slice = solid[0:1001, 0, 0:2]\n",
    "bulk_slice = bulk[0:1001, 0, 0:2]\n",
    "\n",
    "import matplotlib.pyplot as plt\n",
    "\n",
    "plt.plot(bulk_slice, solid_slice)"
   ]
  },
  {
   "cell_type": "markdown",
   "id": "ba98b476",
   "metadata": {
    "editable": true,
    "slideshow": {
     "slide_type": "slide"
    }
   },
   "source": [
    "## Details on the Steric Mass Action law binding\n",
    "\n",
    "The [Steric Mass Action model](https://cadet.github.io/master/modelling/binding/steric_mass_action.html#steric-mass-action-model) takes charges of the molecules into account and is, thus, often used in ion-exchange chromatography.\n",
    "Each component has a characteristic charge $\\nu$ that determines the number of available binding sites $\\Lambda$ (ionic capacity) used up by a molecule.\n",
    "Due to the molecule’s shape, some additional binding sites (steric shielding factor $\\sigma$) may be shielded from other molecules and are not available for binding.\n",
    "\n",
    "![image.png](attachment:87f8dbef-ecb4-4753-a596-5908d66d2cdd.png)"
   ]
  },
  {
   "cell_type": "markdown",
   "id": "dac1c4fb",
   "metadata": {
    "editable": true,
    "slideshow": {
     "slide_type": "fragment"
    }
   },
   "source": [
    "The model is given by this eqution:\n",
    "\n",
    "$$\\frac{\\mathrm{d} q_i}{\\mathrm{d} t} = k_{a,i} c_{p,i}\\bar{q}_0^{\\nu_i} - k_{d,i} q_i c_{p,0}^{\\nu_i}$$\n",
    "\n",
    "where $c_{p,0}$ denotes the mobile phase salt concentration, and"
   ]
  },
  {
   "cell_type": "markdown",
   "id": "419254f0",
   "metadata": {
    "editable": true,
    "slideshow": {
     "slide_type": "fragment"
    }
   },
   "source": [
    "$$\\bar{q}_0 = \\Lambda - \\sum_{j=1}^{N_{\\text{comp}} - 1} \\left( \\nu_j + \\sigma_j \\right) q_j$$\n",
    "\n",
    "is the number of available binding sites."
   ]
  },
  {
   "cell_type": "markdown",
   "id": "4fb9b06c",
   "metadata": {
    "editable": true,
    "slideshow": {
     "slide_type": "slide"
    }
   },
   "source": [
    "Using the parameter transformation\n",
    "\n",
    "$$k_{a,i} = \\tilde{k}_{a,i} q_{\\text{ref}}^{-\\nu_i}$$\n",
    "\n",
    "$$k_{d,i} = \\tilde{k}_{d,i} c_{\\text{ref}}^{-\\nu_i}$$"
   ]
  },
  {
   "cell_type": "markdown",
   "id": "8c09654c",
   "metadata": {
    "editable": true,
    "slideshow": {
     "slide_type": "fragment"
    }
   },
   "source": [
    "we obtain the modified model equation:\n",
    "\n",
    "$$\\frac{\\mathrm{d} q_i}{\\mathrm{d} t} = \\tilde{k}_{a,i} c_{p,i} \\left(\\frac{\\bar{q}_0}{q_{\\text{ref}}}\\right)^{\\nu_i} - \\tilde{k}_{d,i} q_i \\left(\\frac{c_{p,0}}{c_{\\text{ref}}}\\right)^{\\nu_i}$$"
   ]
  },
  {
   "cell_type": "markdown",
   "id": "ebaa1f58",
   "metadata": {
    "editable": true,
    "slideshow": {
     "slide_type": "fragment"
    }
   },
   "source": [
    "This transformation serves as a (partial) nondimensionalization of the adsorption and desorption rates."
   ]
  },
  {
   "cell_type": "markdown",
   "id": "c7ea188b",
   "metadata": {
    "editable": true,
    "slideshow": {
     "slide_type": "fragment"
    }
   },
   "source": [
    "The basic goal is to have $\\left(\\frac{\\bar{q}_0}{q_{\\text{ref}}}\\right) \\leq 1$ and $\\left(\\frac{c_{p,0}}{c_{\\text{ref}}}\\right) \\leq 1$\n",
    "\n",
    "Recommended choices for $c_{\\text{ref}}$ are the average or maximum inlet concentration of the mobile phase modifier $c_0$, and for $q_{\\text{ref}}$ the ionic capacity $\\Lambda$.\n",
    "Note that setting the reference concentrations to ${1.0}$ each results in the original binding model."
   ]
  },
  {
   "cell_type": "markdown",
   "id": "4428f386",
   "metadata": {
    "editable": true,
    "slideshow": {
     "slide_type": "fragment"
    }
   },
   "source": [
    "```{note}\n",
    "From a practical perspective, modern resins have a very high capacity and large proteins can can have a very high charactistic charge.\n",
    "If the concentration is not normalized, the system is often numerically unstable.\n",
    "It may run slowly or not at all.\n",
    "```"
   ]
  }
 ],
 "metadata": {
  "jupytext": {
   "formats": "ipynb,md:myst"
  },
  "kernelspec": {
   "display_name": "Python 3 (ipykernel)",
   "language": "python",
   "name": "python3"
  }
 },
 "nbformat": 4,
 "nbformat_minor": 5
}
