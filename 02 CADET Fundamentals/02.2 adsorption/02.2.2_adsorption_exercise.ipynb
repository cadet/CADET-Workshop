{
 "cells": [
  {
   "cell_type": "markdown",
   "id": "90321de5",
   "metadata": {
    "editable": true,
    "slideshow": {
     "slide_type": "slide"
    }
   },
   "source": [
    "# Adsorption Models - Exercise"
   ]
  },
  {
   "cell_type": "markdown",
   "id": "19d62c35",
   "metadata": {
    "editable": true,
    "slideshow": {
     "slide_type": "slide"
    }
   },
   "source": [
    "## Exercise 1: Breakthrough curve in a Column\n",
    "\n",
    "Let us start working towards the task given by our colleagues. Try to set up your column dimensions to match the data from the lab book.\n",
    "\n",
    "Two parameters are missing (we will fit them later). Take these placeholder values for now:\n",
    "\n",
    "```\n",
    "total_porosity = 0.4\n",
    "axial_dispersion = 1e-6\n",
    "```\n",
    "\n",
    "\n",
    "We will stay in a simplified binding model for now by using the `Langmuir` binding model with two components with $k_{eq, i} = [2, 1]$, and $q_{max, i} = [1, 1]$.\n",
    "\n",
    "Load the column with $c_{feed} = [1.0, 1.0]~mmol \\cdot L^{-1} $ and a flow rate of $1 ~ml \\cdot min^{-1}$ for $100~s$.\n",
    "\n",
    "Try experimenting with:\n",
    "- The time resolution.\n",
    "- The binding strenth.\n",
    "- The number of components.\n",
    "- Modify how many components bind.\n",
    "- Compare kinetic binding with rapid equilibrium."
   ]
  },
  {
   "cell_type": "code",
   "execution_count": null,
   "id": "7fcce3e9",
   "metadata": {
    "editable": true,
    "slideshow": {
     "slide_type": ""
    },
    "tags": [
     "solution"
    ]
   },
   "outputs": [],
   "source": [
    "from CADETProcess.processModel import ComponentSystem\n",
    "\n",
    "component_system = ComponentSystem(['A', 'B'])\n",
    "\n",
    "from CADETProcess.processModel import Langmuir\n",
    "\n",
    "binding_model = Langmuir(component_system, name='linear')\n",
    "binding_model.is_kinetic = False\n",
    "binding_model.adsorption_rate = [2, 1]\n",
    "binding_model.desorption_rate = [1, 1]\n",
    "binding_model.capacity = [1, 1]\n",
    "\n",
    "from CADETProcess.processModel import Inlet, Outlet, LumpedRateModelWithoutPores\n",
    "\n",
    "column = LumpedRateModelWithoutPores(component_system, name=\"reactor\")\n",
    "column.binding_model = binding_model\n",
    "\n",
    "column.length = 0.014\n",
    "column.total_porosity = 0.4\n",
    "column.diameter = 0.01\n",
    "column.axial_dispersion = 1e-7\n",
    "\n",
    "inlet = Inlet(component_system, name='inlet')\n",
    "inlet.c = [1.0, 1.0]\n",
    "inlet.flow_rate = 1.67e-8\n",
    "\n",
    "outlet = Outlet(component_system, name= 'outlet')\n",
    "\n",
    "\n",
    "from CADETProcess.processModel import FlowSheet\n",
    "\n",
    "flow_sheet = FlowSheet(component_system)\n",
    "\n",
    "flow_sheet.add_unit(column)\n",
    "flow_sheet.add_unit(inlet)\n",
    "flow_sheet.add_unit(outlet)\n",
    "\n",
    "flow_sheet.add_connection(inlet,column)\n",
    "flow_sheet.add_connection(column,outlet)\n",
    "\n",
    "from CADETProcess.processModel import Process\n",
    "\n",
    "process = Process(flow_sheet, 'process')\n",
    "process.cycle_time = 100\n",
    "\n",
    "from CADETProcess.simulator import Cadet\n",
    "simulator = Cadet()\n",
    "simulator.time_resolution = 1\n",
    "\n",
    "sim_results = simulator.run(process)\n",
    "_ = sim_results.solution.reactor.outlet.plot()"
   ]
  },
  {
   "cell_type": "markdown",
   "id": "d433dc3d",
   "metadata": {
    "editable": true,
    "slideshow": {
     "slide_type": "slide"
    }
   },
   "source": [
    "## Exercise 2: SMA Model in Column\n",
    "\n",
    "Now get closer to the experiment performed by your colleague by using the `StericMassAction` adsorption model. Note, that the `StericMassAction` requires the first component to be a binding salt component.\n",
    "\n",
    "For the binding model use these placeholder parameters:\n",
    "```\n",
    "is_kinetic = True\n",
    "adsorption_rate = [0, 1e-5, 1e-1, 1e-3]\n",
    "desorption_rate = [0, 1, 1, 1]\n",
    "characteristic_charge = [0, 5, 1, 7]\n",
    "steric_factor = [0, 1, 1, 1]\n",
    "```\n",
    "we will fit their true values later. You can find the capacity in the lab book.\n",
    "\n",
    "Use a feed concentration of $c_{feed} = [50.0, 1.0, 1.0, 1.0]~mol \\cdot m^{-3} $.\n",
    "\n",
    "Try experimenting with:\n",
    "- The binding strenth.\n",
    "- The number of components.\n",
    "- Modify how many components bind.\n",
    "- Compare kinetic binding with rapid equilibrium."
   ]
  },
  {
   "cell_type": "code",
   "execution_count": null,
   "id": "22e3672c",
   "metadata": {
    "editable": true,
    "slideshow": {
     "slide_type": ""
    },
    "tags": [
     "solution"
    ]
   },
   "outputs": [],
   "source": [
    "from CADETProcess.processModel import ComponentSystem\n",
    "\n",
    "component_system = ComponentSystem([\"Salt\", 'A', 'B', \"C\"])\n",
    "\n",
    "from CADETProcess.processModel import StericMassAction\n",
    "\n",
    "binding_model = StericMassAction(component_system, name='langmuir')\n",
    "binding_model.is_kinetic = True\n",
    "binding_model.adsorption_rate = [0, 1e-5, 1e-1, 1e-3]\n",
    "binding_model.desorption_rate = [0, 1, 1, 1]\n",
    "binding_model.characteristic_charge = [0, 5, 1, 7]\n",
    "binding_model.steric_factor = [0, 1, 1, 1]\n",
    "binding_model.capacity = 1200\n",
    "print(binding_model.required_parameters)\n",
    "\n",
    "from CADETProcess.processModel import Inlet, Outlet, LumpedRateModelWithoutPores\n",
    "\n",
    "column = LumpedRateModelWithoutPores(component_system, name='column')\n",
    "column.length = 0.014\n",
    "column.total_porosity = 0.4\n",
    "column.diameter = 0.01\n",
    "column.axial_dispersion = 1e-7\n",
    "\n",
    "column.binding_model = binding_model\n",
    "\n",
    "column.c=[50, 0, 0, 0]\n",
    "column.q=[50, 0, 0, 0]\n",
    "\n",
    "inlet = Inlet(component_system, name='inlet')\n",
    "inlet.c = [50., 1, 1, 1]\n",
    "inlet.flow_rate = 1.67e-8\n",
    "\n",
    "outlet = Outlet(component_system, name='outlet')\n",
    "\n",
    "from CADETProcess.processModel import FlowSheet\n",
    "\n",
    "flow_sheet = FlowSheet(component_system)\n",
    "\n",
    "flow_sheet.add_unit(column)\n",
    "flow_sheet.add_unit(inlet)\n",
    "flow_sheet.add_unit(outlet)\n",
    "\n",
    "flow_sheet.add_connection(inlet,column)\n",
    "flow_sheet.add_connection(column,outlet)\n",
    "\n",
    "from CADETProcess.processModel import Process\n",
    "\n",
    "process = Process(flow_sheet, 'process')\n",
    "process.cycle_time = 1000\n",
    "\n",
    "from CADETProcess.simulator import Cadet\n",
    "simulator = Cadet()\n",
    "sim_results = simulator.run(process)"
   ]
  },
  {
   "cell_type": "code",
   "execution_count": null,
   "id": "8333e15c",
   "metadata": {
    "editable": true,
    "slideshow": {
     "slide_type": ""
    }
   },
   "outputs": [],
   "source": [
    "from CADETProcess.plotting import SecondaryAxis\n",
    "\n",
    "sec = SecondaryAxis()\n",
    "sec.components = ['Salt']\n",
    "sec.y_label = '$c_{salt}$'\n",
    "\n",
    "_ = sim_results.solution.outlet.outlet.plot(secondary_axis=sec)"
   ]
  },
  {
   "cell_type": "markdown",
   "id": "0b838d12",
   "metadata": {
    "editable": true,
    "slideshow": {
     "slide_type": "slide"
    }
   },
   "source": [
    "## Bonus Exercise\n",
    "\n",
    "There are many other models implemented in `CADET`.\n",
    "Some binding models can account for multiple binding states, others allow for mobile phase modulators.\n",
    "Moreover, binding models can use external functions for modifying the values of the parameters during the simulation.\n",
    "This could be used to model other effects like temperature that have an influence on the binding strength.\n",
    "\n",
    "Try implementing some of the more advanced isotherms and features."
   ]
  },
  {
   "cell_type": "code",
   "execution_count": null,
   "id": "f59e3ff9",
   "metadata": {
    "tags": [
     "solution"
    ]
   },
   "outputs": [],
   "source": []
  }
 ],
 "metadata": {
  "jupytext": {
   "formats": "ipynb,md:myst"
  },
  "kernelspec": {
   "display_name": "Python 3 (ipykernel)",
   "language": "python",
   "name": "python3"
  }
 },
 "nbformat": 4,
 "nbformat_minor": 5
}
