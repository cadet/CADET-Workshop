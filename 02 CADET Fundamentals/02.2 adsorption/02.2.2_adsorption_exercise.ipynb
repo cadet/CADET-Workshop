{
 "cells": [
  {
   "cell_type": "markdown",
   "id": "18c72080",
   "metadata": {
    "editable": true,
    "slideshow": {
     "slide_type": "slide"
    }
   },
   "source": [
    "# Adsorption Models - Exercise"
   ]
  },
  {
   "cell_type": "markdown",
   "id": "232c954d",
   "metadata": {
    "editable": true,
    "slideshow": {
     "slide_type": "slide"
    }
   },
   "source": [
    "## Exercise 1: Breakthrough curve in a Column\n",
    "\n",
    "Let us start working towards the task given by our colleagues. Try to set up your column dimensions to match the data from the lab book.\n",
    "\n",
    "Two parameters are missing (we will fit them later). Take these placeholder values for now:\n",
    "\n",
    "```\n",
    "total_porosity = 0.4\n",
    "axial_dispersion = 1e-6\n",
    "```\n",
    "\n",
    "\n",
    "We will stay in a simplified binding model for now by using the `Langmuir` binding model with two components with $k_{eq, i} = [2, 1]$, and $q_{max, i} = [1, 1]$.\n",
    "\n",
    "Load the column with $c_{feed} = [1.0, 1.0]~mmol \\cdot L^{-1} $ and a flow rate of $1 ~ml \\cdot min^{-1}$ for $100~s$.\n",
    "\n",
    "Try experimenting with:\n",
    "- The time resolution.\n",
    "- The binding strenth.\n",
    "- The number of components.\n",
    "- Modify how many components bind.\n",
    "- Compare kinetic binding with rapid equilibrium."
   ]
  },
  {
   "cell_type": "code",
   "execution_count": null,
   "id": "4f084fa8",
   "metadata": {
    "editable": true,
    "slideshow": {
     "slide_type": ""
    },
    "tags": [
     "solution"
    ]
   },
   "outputs": [],
   "source": []
  },
  {
   "cell_type": "markdown",
   "id": "eee5069f",
   "metadata": {
    "editable": true,
    "slideshow": {
     "slide_type": "slide"
    }
   },
   "source": [
    "## Exercise 2: SMA Model in Column\n",
    "\n",
    "Now get closer to the experiment performed by your colleague by using the `StericMassAction` adsorption model. Note, that the `StericMassAction` requires the first component to be a binding salt component.\n",
    "\n",
    "For the binding model use these placeholder parameters:\n",
    "```\n",
    "is_kinetic = True\n",
    "adsorption_rate = [0, 1e-5, 1e-1, 1e-3]\n",
    "desorption_rate = [0, 1, 1, 1]\n",
    "characteristic_charge = [0, 5, 1, 7]\n",
    "steric_factor = [0, 1, 1, 1]\n",
    "```\n",
    "we will fit their true values later. You can find the capacity in the lab book.\n",
    "\n",
    "Use a feed concentration of $c_{feed} = [50.0, 1.0, 1.0, 1.0]~mol \\cdot m^{-3} $.\n",
    "\n",
    "Try experimenting with:\n",
    "- The binding strenth.\n",
    "- The number of components.\n",
    "- Modify how many components bind.\n",
    "- Compare kinetic binding with rapid equilibrium."
   ]
  },
  {
   "cell_type": "code",
   "execution_count": null,
   "id": "d04b908e",
   "metadata": {
    "editable": true,
    "slideshow": {
     "slide_type": ""
    },
    "tags": [
     "solution"
    ]
   },
   "outputs": [],
   "source": []
  },
  {
   "cell_type": "code",
   "execution_count": null,
   "id": "e7bc0b13",
   "metadata": {
    "editable": true,
    "slideshow": {
     "slide_type": ""
    }
   },
   "outputs": [],
   "source": [
    "from CADETProcess.plotting import SecondaryAxis\n",
    "\n",
    "sec = SecondaryAxis()\n",
    "sec.components = ['Salt']\n",
    "sec.y_label = '$c_{salt}$'\n",
    "\n",
    "_ = sim_results.solution.outlet.outlet.plot(secondary_axis=sec)"
   ]
  },
  {
   "cell_type": "markdown",
   "id": "8d963b8d",
   "metadata": {
    "editable": true,
    "slideshow": {
     "slide_type": "slide"
    }
   },
   "source": [
    "## Bonus Exercise\n",
    "\n",
    "There are many other models implemented in `CADET`.\n",
    "Some binding models can account for multiple binding states, others allow for mobile phase modulators.\n",
    "Moreover, binding models can use external functions for modifying the values of the parameters during the simulation.\n",
    "This could be used to model other effects like temperature that have an influence on the binding strength.\n",
    "\n",
    "Try implementing some of the more advanced isotherms and features."
   ]
  },
  {
   "cell_type": "code",
   "execution_count": null,
   "id": "a619fafc",
   "metadata": {
    "tags": [
     "solution"
    ]
   },
   "outputs": [],
   "source": []
  }
 ],
 "metadata": {
  "jupytext": {
   "formats": "ipynb,md:myst"
  },
  "kernelspec": {
   "display_name": "Python 3 (ipykernel)",
   "language": "python",
   "name": "python3"
  }
 },
 "nbformat": 4,
 "nbformat_minor": 5
}
