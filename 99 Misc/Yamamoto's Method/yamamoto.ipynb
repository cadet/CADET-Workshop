{
 "cells": [
  {
   "cell_type": "markdown",
   "id": "5778193e",
   "metadata": {
    "slideshow": {
     "slide_type": "slide"
    },
    "user_expressions": []
   },
   "source": [
    "# Yamamoto's Method\n",
    "\n",
    "Yamamoto's method is a semi-empirical method used for estimating the characteristic charge and equilibrium constant in the stoichiometric displacement model or in the linear region of the steric mass-action model.\n",
    "\n",
    "To determine the parameters, the salt concentration at which a peak elutes $I_R$ for various gradient slopes is plotted over the normalized gradient slope.\n",
    "\n",
    "$log(GH) = (\\nu+1) \\cdot log(I_R) - log(K_{eq} \\cdot \\lambda^\\nu \\cdot (\\nu+1))$\n",
    "\n",
    "The values for $GH$ and $c_{s,peak}$ are retrieved from the linear gradient experiments and the values for $\\nu$ and $K_{eq}$ are fitted to the data.\n",
    "The value of the characteristic charge and the equilibration constant can be used further to predict retention times."
   ]
  },
  {
   "cell_type": "markdown",
   "id": "94ee11eb",
   "metadata": {
    "slideshow": {
     "slide_type": "slide"
    }
   },
   "source": [
    "## Load Experimental Data\n",
    "First, the experimental data needs to be read.\n",
    "For this purpose, a `GradientExperiment` class is provided which takes the following arguments:\n",
    "- time\n",
    "- salt concentration\n",
    "- protein concentration (multiple proteins are supported)\n",
    "- gradient volume\n",
    "\n",
    "For the Yamamoto method, at least two experiments are needed for the parameter estiamtion (linear regression).\n",
    "However a third experiment is adviced for validation purposes.\n",
    "\n",
    "For this tutorial, four experiments are used with two different protein sample.\n",
    "The data can be found in `./experiments/single_protein`."
   ]
  },
  {
   "cell_type": "markdown",
   "id": "15b7a273",
   "metadata": {
    "slideshow": {
     "slide_type": "slide"
    }
   },
   "source": [
    "### Note on Experiments\n",
    "\n",
    "It is important to consider the dead volume between the UV sensor and the conductivity sensor in the experimental system.\n",
    "If this is not accounted for, the time offset will lead to inacurate results.\n",
    "\n",
    "In practice, two tracer experiments are required.\n",
    "One tracer experiment will produce a signal at the UV sensor, followed by another tracer detected by the conductivity sensor.\n",
    "For example, Acetone could be used for the UV and NaCl for the conductivity measurement.\n",
    "By subtracting the retention time of the system from the time of salt pulse, the time offset between the two sensors can be determined.\n",
    "\n",
    "```{figure} ./resources/acetone_no_column.png\n",
    "```\n",
    "\n",
    "```{figure} ./resources/salt_no_column.png\n",
    "```"
   ]
  },
  {
   "cell_type": "code",
   "execution_count": null,
   "id": "a166d992",
   "metadata": {
    "tags": [
     "solution"
    ]
   },
   "outputs": [],
   "source": [
    "import numpy as np\n",
    "from CADETProcess.tools.yamamoto import GradientExperiment\n",
    "def create_experiment(file_name, gradient_volume):\n",
    "    \"\"\"CSV should have format of [time, salt, protein].\"\"\"\n",
    "\n",
    "    data = np.loadtxt(file_name, delimiter=',')\n",
    "\n",
    "    time = data[:, 0]\n",
    "    c_salt = data[:, 1]\n",
    "    c_protein = data[:, 2:]\n",
    "\n",
    "    return GradientExperiment(time, c_salt, c_protein, gradient_volume)\n",
    "\n",
    "\n",
    "experiment_1 = create_experiment('./experiments/single_protein/18.8mL.csv', 18.8e-6)\n",
    "experiment_2 = create_experiment('./experiments/single_protein/37.6mL.csv', 37.6e-6)\n",
    "experiment_3 = create_experiment('./experiments/single_protein/56.4mL.csv', 56.4e-6)\n",
    "experiment_4 = create_experiment('./experiments/single_protein/75.2mL.csv', 75.2e-6)\n",
    "\n",
    "experiments = [experiment_1, experiment_2, experiment_3, experiment_4]"
   ]
  },
  {
   "cell_type": "markdown",
   "id": "d5f84711",
   "metadata": {
    "slideshow": {
     "slide_type": "slide"
    }
   },
   "source": [
    "To visualize the experiments, a plot method is provided."
   ]
  },
  {
   "cell_type": "code",
   "execution_count": null,
   "id": "e291e577",
   "metadata": {},
   "outputs": [],
   "source": [
    "experiment_1.plot()"
   ]
  },
  {
   "cell_type": "markdown",
   "id": "900be0fe",
   "metadata": {
    "slideshow": {
     "slide_type": "slide"
    }
   },
   "source": [
    "The experiments can also be plotted together."
   ]
  },
  {
   "cell_type": "code",
   "execution_count": null,
   "id": "d03e73c6",
   "metadata": {},
   "outputs": [],
   "source": [
    "from CADETProcess.tools.yamamoto import plot_experiments\n",
    "\n",
    "plot_experiments(experiments)"
   ]
  },
  {
   "cell_type": "markdown",
   "id": "19e07491",
   "metadata": {
    "slideshow": {
     "slide_type": "slide"
    }
   },
   "source": [
    "## Configure System\n",
    "\n",
    "To run Yamamoto's method, initialize a `ComponentSystem`, a column (any model will work), and a `StericMassAction` binding model.\n",
    "\n",
    "For the binding model, only the `capacity` is required.\n",
    "\n",
    "Consider the following parameters:\n",
    "- length: $0.1~m$\n",
    "- diameter: $7.7~mm$\n",
    "- bed porosity: $0.36$\n",
    "- particle radius: $34 \\cdot 10^{-6}~m$\n",
    "- particle porosity: $0.85$"
   ]
  },
  {
   "cell_type": "code",
   "execution_count": null,
   "id": "b3b03cb1",
   "metadata": {},
   "outputs": [],
   "source": [
    "from CADETProcess.processModel import ComponentSystem\n",
    "component_system = ComponentSystem(['Salt', 'A'])\n",
    "\n",
    "from CADETProcess.processModel import StericMassAction\n",
    "binding_model = StericMassAction(component_system)\n",
    "binding_model.adsorption_rate = [1, 1]\n",
    "binding_model.desorption_rate = [1, 1]\n",
    "binding_model.capacity = 4.7 * 175"
   ]
  },
  {
   "cell_type": "code",
   "execution_count": null,
   "id": "e9ca4f6e",
   "metadata": {
    "tags": [
     "solution"
    ]
   },
   "outputs": [],
   "source": [
    "from CADETProcess.processModel import LumpedRateModelWithPores\n",
    "column = LumpedRateModelWithPores(component_system, 'column')\n",
    "column.binding_model = binding_model\n",
    "column.length = 0.1\n",
    "column.diameter = 0.0077\n",
    "column.bed_porosity = 0.36\n",
    "column.particle_radius = 34e-6\n",
    "column.particle_porosity = 0.85\n",
    "\n",
    "column.axial_dispersion = 1.5e-6\n",
    "column.film_diffusion = [2e-6, 5e-7]"
   ]
  },
  {
   "cell_type": "markdown",
   "id": "713eba40",
   "metadata": {
    "slideshow": {
     "slide_type": "slide"
    }
   },
   "source": [
    "## Fit Parameters\n",
    "\n",
    "To fit the parameters, pass the experiments and the column to the `fit_parameters` method which returns a `YamamotoResults` object.\n",
    "This contains the results and provides a plot method to visualize the results."
   ]
  },
  {
   "cell_type": "code",
   "execution_count": null,
   "id": "95c3b57d",
   "metadata": {
    "tags": [
     "solution"
    ]
   },
   "outputs": [],
   "source": [
    "from CADETProcess.tools.yamamoto import fit_parameters\n",
    "yamamoto_results = fit_parameters(experiments, column)\n",
    "\n",
    "print(yamamoto_results.characteristic_charge)\n",
    "print(yamamoto_results.k_eq)\n",
    "\n",
    "yamamoto_results.plot()"
   ]
  },
  {
   "cell_type": "markdown",
   "id": "d38bc1d1",
   "metadata": {
    "user_expressions": []
   },
   "source": [
    "## Bonus: Compare with simulation"
   ]
  },
  {
   "cell_type": "code",
   "execution_count": null,
   "id": "26e079bf",
   "metadata": {},
   "outputs": [],
   "source": []
  },
  {
   "cell_type": "markdown",
   "id": "571ccedb",
   "metadata": {
    "user_expressions": []
   },
   "source": [
    "Besides the visualization of the fitted parameter from the experiments, there is also the option to use the characteristic charge $\\nu$ and equilibrium constant $K_{eq}$ in a load wash elution simulation with the steric mass action isotherm. The structure of the model is quite simple as depicted in the figure below. The inlet will be used to modify the concentration in the column. The column is modelled with a general rate model.\n",
    "\n",
    "![image.png](attachment:329c1a6b-6642-4726-bd59-592ff48c1831.png)"
   ]
  },
  {
   "cell_type": "code",
   "execution_count": null,
   "id": "85ff90ba",
   "metadata": {},
   "outputs": [],
   "source": []
  }
 ],
 "metadata": {
  "kernelspec": {
   "display_name": "Python 3 (ipykernel)",
   "language": "python",
   "name": "python3"
  }
 },
 "nbformat": 4,
 "nbformat_minor": 5
}
