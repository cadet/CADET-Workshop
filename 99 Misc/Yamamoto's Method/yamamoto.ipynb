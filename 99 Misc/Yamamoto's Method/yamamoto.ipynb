{
 "cells": [
  {
   "cell_type": "markdown",
   "id": "23b26668",
   "metadata": {
    "slideshow": {
     "slide_type": "slide"
    },
    "user_expressions": []
   },
   "source": [
    "# Yamamoto's Method\n",
    "\n",
    "Yamamoto's method is a semi-empirical method used for estimating the characteristic charge and equilibrium constant in the stoichiometric displacement model or in the linear region of the steric mass-action model.\n",
    "\n",
    "To determine the parameters, the salt concentration at which a peak elutes $I_R$ for various gradient slopes is plotted over the normalized gradient slope.\n",
    "\n",
    "$log(GH) = (\\nu+1) \\cdot log(I_R) - log(K_{eq} \\cdot \\lambda^\\nu \\cdot (\\nu+1))$\n",
    "\n",
    "The values for $GH$ and $c_{s,peak}$ are retrieved from the linear gradient experiments and the values for $\\nu$ and $K_{eq}$ are fitted to the data.\n",
    "The value of the characteristic charge and the equilibration constant can be used further to predict retention times."
   ]
  },
  {
   "cell_type": "markdown",
   "id": "43ff3a36",
   "metadata": {
    "slideshow": {
     "slide_type": "slide"
    }
   },
   "source": [
    "## Load Experimental Data\n",
    "First, the experimental data needs to be read.\n",
    "For this purpose, a `GradientExperiment` class is provided which takes the following arguments:\n",
    "- time\n",
    "- salt concentration\n",
    "- protein concentration (multiple proteins are supported)\n",
    "- gradient volume\n",
    "\n",
    "For the Yamamoto method, at least two experiments are needed for the parameter estiamtion (linear regression).\n",
    "However a third experiment is adviced for validation purposes.\n",
    "\n",
    "For this tutorial, four experiments are used with two different protein sample.\n",
    "The data can be found in `./experiments/single_protein`."
   ]
  },
  {
   "cell_type": "markdown",
   "id": "9097a75e",
   "metadata": {
    "slideshow": {
     "slide_type": "slide"
    }
   },
   "source": [
    "### Note on Experiments\n",
    "\n",
    "It is important to consider the dead volume between the UV sensor and the conductivity sensor in the experimental system.\n",
    "If this is not accounted for, the time offset will lead to inacurate results.\n",
    "\n",
    "In practice, two tracer experiments are required.\n",
    "One tracer experiment will produce a signal at the UV sensor, followed by another tracer detected by the conductivity sensor.\n",
    "For example, Acetone could be used for the UV and NaCl for the conductivity measurement.\n",
    "By subtracting the retention time of the system from the time of salt pulse, the time offset between the two sensors can be determined.\n",
    "\n",
    "```{figure} ./resources/acetone_no_column.png\n",
    "```\n",
    "\n",
    "```{figure} ./resources/salt_no_column.png\n",
    "```"
   ]
  },
  {
   "cell_type": "code",
   "execution_count": null,
   "id": "d41b5c09",
   "metadata": {
    "tags": [
     "solution"
    ]
   },
   "outputs": [],
   "source": []
  },
  {
   "cell_type": "markdown",
   "id": "cfda6611",
   "metadata": {
    "slideshow": {
     "slide_type": "slide"
    }
   },
   "source": [
    "To visualize the experiments, a plot method is provided."
   ]
  },
  {
   "cell_type": "code",
   "execution_count": null,
   "id": "d4548078",
   "metadata": {},
   "outputs": [],
   "source": [
    "experiment_1.plot()"
   ]
  },
  {
   "cell_type": "markdown",
   "id": "2a17f17c",
   "metadata": {
    "slideshow": {
     "slide_type": "slide"
    }
   },
   "source": [
    "The experiments can also be plotted together."
   ]
  },
  {
   "cell_type": "code",
   "execution_count": null,
   "id": "eda78ec1",
   "metadata": {},
   "outputs": [],
   "source": [
    "from CADETProcess.tools.yamamoto import plot_experiments\n",
    "\n",
    "plot_experiments(experiments)"
   ]
  },
  {
   "cell_type": "markdown",
   "id": "1c6bd137",
   "metadata": {
    "slideshow": {
     "slide_type": "slide"
    }
   },
   "source": [
    "## Configure System\n",
    "\n",
    "To run Yamamoto's method, initialize a `ComponentSystem`, a column (any model will work), and a `StericMassAction` binding model.\n",
    "\n",
    "For the binding model, only the `capacity` is required.\n",
    "\n",
    "Consider the following parameters:\n",
    "- length: $0.1~m$\n",
    "- diameter: $7.7~mm$\n",
    "- bed porosity: $0.36$\n",
    "- particle radius: $34 \\cdot 10^{-6}~m$\n",
    "- particle porosity: $0.85$"
   ]
  },
  {
   "cell_type": "code",
   "execution_count": null,
   "id": "8cbd6992",
   "metadata": {},
   "outputs": [],
   "source": [
    "from CADETProcess.processModel import ComponentSystem\n",
    "component_system = ComponentSystem(['Salt', 'A'])\n",
    "\n",
    "from CADETProcess.processModel import StericMassAction\n",
    "binding_model = StericMassAction(component_system)\n",
    "binding_model.adsorption_rate = [1, 1]\n",
    "binding_model.desorption_rate = [1, 1]\n",
    "binding_model.capacity = 4.7 * 175"
   ]
  },
  {
   "cell_type": "code",
   "execution_count": null,
   "id": "11a0baa9",
   "metadata": {
    "tags": [
     "solution"
    ]
   },
   "outputs": [],
   "source": []
  },
  {
   "cell_type": "markdown",
   "id": "fca07e2e",
   "metadata": {
    "slideshow": {
     "slide_type": "slide"
    }
   },
   "source": [
    "## Fit Parameters\n",
    "\n",
    "To fit the parameters, pass the experiments and the column to the `fit_parameters` method which returns a `YamamotoResults` object.\n",
    "This contains the results and provides a plot method to visualize the results."
   ]
  },
  {
   "cell_type": "code",
   "execution_count": null,
   "id": "87db988b",
   "metadata": {
    "tags": [
     "solution"
    ]
   },
   "outputs": [],
   "source": []
  },
  {
   "cell_type": "markdown",
   "id": "ff7408e5",
   "metadata": {
    "user_expressions": []
   },
   "source": [
    "## Bonus: Compare with simulation"
   ]
  },
  {
   "cell_type": "code",
   "execution_count": null,
   "id": "c97faf42",
   "metadata": {},
   "outputs": [],
   "source": []
  },
  {
   "cell_type": "markdown",
   "id": "ab3720c1",
   "metadata": {
    "user_expressions": []
   },
   "source": [
    "Besides the visualization of the fitted parameter from the experiments, there is also the option to use the characteristic charge $\\nu$ and equilibrium constant $K_{eq}$ in a load wash elution simulation with the steric mass action isotherm. The structure of the model is quite simple as depicted in the figure below. The inlet will be used to modify the concentration in the column. The column is modelled with a general rate model.\n",
    "\n",
    "![image.png](attachment:329c1a6b-6642-4726-bd59-592ff48c1831.png)"
   ]
  },
  {
   "cell_type": "code",
   "execution_count": null,
   "id": "c33ac66a",
   "metadata": {},
   "outputs": [],
   "source": []
  }
 ],
 "metadata": {
  "kernelspec": {
   "display_name": "Python 3 (ipykernel)",
   "language": "python",
   "name": "python3"
  }
 },
 "nbformat": 4,
 "nbformat_minor": 5
}
