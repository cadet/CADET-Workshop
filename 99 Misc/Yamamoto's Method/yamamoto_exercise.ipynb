{
 "cells": [
  {
   "cell_type": "markdown",
   "id": "c74bc38f",
   "metadata": {},
   "source": [
    "## Exercise Yamamoto Method\n",
    "\n",
    "In this exercise the Yamamoto method will be applied and used as model parameter for the linear region of the steric mass action isotherm."
   ]
  },
  {
   "cell_type": "markdown",
   "id": "7b2d22e8",
   "metadata": {},
   "source": [
    "Import the data given in `./experiments/three_proteins` using the following helper function.\n",
    "Then, visualize the data."
   ]
  },
  {
   "cell_type": "code",
   "execution_count": null,
   "id": "9ef7fb1e",
   "metadata": {
    "tags": [
     "solution"
    ]
   },
   "outputs": [],
   "source": []
  },
  {
   "cell_type": "code",
   "execution_count": null,
   "id": "eb38e0dd",
   "metadata": {
    "tags": [
     "solution"
    ]
   },
   "outputs": [],
   "source": []
  },
  {
   "cell_type": "code",
   "execution_count": null,
   "id": "84cb0732",
   "metadata": {
    "tags": [
     "solution"
    ]
   },
   "outputs": [],
   "source": []
  },
  {
   "cell_type": "markdown",
   "id": "5d1dd022",
   "metadata": {},
   "source": [
    "Define the parameters given in the table below as variables.\n",
    "\n",
    "Consider the following parameters:\n",
    "- length: $0.1~m$\n",
    "- diameter: $7.7~mm$\n",
    "- bed porosity: $0.36$\n",
    "- particle radius: $34 \\cdot 10^{-6}~m$\n",
    "- particle porosity: $0.85$"
   ]
  },
  {
   "cell_type": "code",
   "execution_count": null,
   "id": "c87c1e1c",
   "metadata": {
    "tags": [
     "solution"
    ]
   },
   "outputs": [],
   "source": []
  },
  {
   "cell_type": "code",
   "execution_count": null,
   "id": "192d2bb9",
   "metadata": {
    "tags": [
     "solution"
    ]
   },
   "outputs": [],
   "source": []
  },
  {
   "cell_type": "markdown",
   "id": "7021b543",
   "metadata": {},
   "source": [
    "Apply the Yamamoto method and save the return of the method in a variable. Print the characteristic charge and the equilibrium constant for all proteins in the system."
   ]
  },
  {
   "cell_type": "code",
   "execution_count": null,
   "id": "03e41c93",
   "metadata": {
    "tags": [
     "solution"
    ]
   },
   "outputs": [],
   "source": []
  },
  {
   "cell_type": "markdown",
   "id": "fe6b5f57",
   "metadata": {},
   "source": [
    "Visualize the results of the parameter estimation and check if the results are a good estimate of the experiments."
   ]
  },
  {
   "cell_type": "code",
   "execution_count": null,
   "id": "1b7e4108",
   "metadata": {
    "tags": [
     "solution"
    ]
   },
   "outputs": [],
   "source": []
  },
  {
   "cell_type": "markdown",
   "id": "8e2aa067",
   "metadata": {},
   "source": [
    "It can be recognized that at least one experiment is not in a good alignment with the found parameter.\n",
    "Check the output of the parameter estimation and decide which experiment to neglect in the estimation."
   ]
  },
  {
   "cell_type": "code",
   "execution_count": null,
   "id": "dd54def5",
   "metadata": {
    "tags": [
     "solution"
    ]
   },
   "outputs": [],
   "source": []
  },
  {
   "cell_type": "markdown",
   "id": "71892352",
   "metadata": {},
   "source": [
    "Viewing the data, the third entry related to the third experiment does not fit into the ascending sequence for the peak salt concentration. Remove the third experiment from the parameter estimation and redo the estimation. Also, visualize the results."
   ]
  },
  {
   "cell_type": "code",
   "execution_count": null,
   "id": "8e103fe0",
   "metadata": {
    "tags": [
     "solution"
    ]
   },
   "outputs": [],
   "source": []
  },
  {
   "cell_type": "code",
   "execution_count": null,
   "id": "e1647dad",
   "metadata": {
    "tags": [
     "solution"
    ]
   },
   "outputs": [],
   "source": []
  },
  {
   "cell_type": "markdown",
   "id": "c41cb7fb",
   "metadata": {},
   "source": [
    "# Bonus Task\n",
    "\n",
    "Try to build a simple model which reproduces the experimental results.\n",
    "The model should consist of an `Inlet`, the column model and an `Outlet`.\n",
    "Use the values specified in the tables above.\n",
    "\n",
    "Keep in mind the following steps for creating a model:\n",
    "1. Specify missing UnitOperations\n",
    "1. Construct the flow sheet\n",
    "1. Construct the process\n",
    "1. Simulation and plotting\n",
    "1. Comparison to experiment"
   ]
  },
  {
   "cell_type": "markdown",
   "id": "7b5da98b",
   "metadata": {},
   "source": [
    "### 1. Specify missing UnitOperations"
   ]
  },
  {
   "cell_type": "code",
   "execution_count": null,
   "id": "899a8281",
   "metadata": {},
   "outputs": [],
   "source": [
    "from CADETProcess.processModel import Inlet, Outlet\n",
    "\n",
    "inlet = Inlet(component_system, name='inlet')\n",
    "inlet.flow_rate = 8.33e-09\n",
    "\n",
    "outlet = Outlet(component_system, name='outlet')"
   ]
  },
  {
   "cell_type": "markdown",
   "id": "b375766f",
   "metadata": {},
   "source": [
    "### 2. Construct the flow sheet"
   ]
  },
  {
   "cell_type": "code",
   "execution_count": null,
   "id": "41326846",
   "metadata": {},
   "outputs": [],
   "source": [
    "from CADETProcess.processModel import FlowSheet\n",
    "\n",
    "flow_sheet = FlowSheet(component_system)\n",
    "flow_sheet.add_unit(inlet)\n",
    "flow_sheet.add_unit(column)\n",
    "flow_sheet.add_unit(outlet)\n",
    "\n",
    "flow_sheet.add_connection(inlet, column)\n",
    "flow_sheet.add_connection(column, outlet)"
   ]
  },
  {
   "cell_type": "markdown",
   "id": "37b3f239",
   "metadata": {},
   "source": [
    "### 3. Construct the process"
   ]
  },
  {
   "cell_type": "code",
   "execution_count": null,
   "id": "992dca65",
   "metadata": {},
   "outputs": [],
   "source": [
    "from CADETProcess.processModel import Process\n",
    "\n",
    "flow_rate = 8.33e-09\n",
    "sample_volume = 50e-9\n",
    "wash_volume = 15e-6\n",
    "gradient_volume =18.8e-6\n",
    "strip_volume = 10e-6\n",
    "\n",
    "wash_start = sample_volume/flow_rate\n",
    "gradient_start = sample_volume/flow_rate + wash_volume/flow_rate\n",
    "strip_start = sample_volume/flow_rate + wash_volume/flow_rate + gradient_volume/flow_rate\n",
    "t_cycle = sample_volume/flow_rate + wash_volume/flow_rate + gradient_volume/flow_rate + strip_volume/flow_rate\n",
    "\n",
    "slope = ((experiment_1.c_salt_end-experiment_1.c_salt_start)/(gradient_volume/flow_rate))\n",
    "\n",
    "process = Process(flow_sheet, 'LWE_Lysozyme_18_8mL')\n",
    "process.cycle_time = t_cycle\n",
    "\n",
    "process.add_event('load', 'flow_sheet.inlet.c', [experiment_1.c_salt_start, 0.2, 0.24, 0.16], 0)\n",
    "process.add_event('wash', 'flow_sheet.inlet.c', [experiment_1.c_salt_start, 0, 0, 0], wash_start)\n",
    "process.add_event(\n",
    "    'grad_start',\n",
    "    'flow_sheet.inlet.c',\n",
    "    [[experiment_1.c_salt_start, slope], [0, 0], [0, 0], [0, 0]],\n",
    "    gradient_start\n",
    ")\n",
    "process.add_event('strip','flow_sheet.inlet.c', [experiment_1.c_salt_end, 0, 0, 0], strip_start)"
   ]
  },
  {
   "cell_type": "markdown",
   "id": "1ae4a9f0",
   "metadata": {},
   "source": [
    "### 7. Simulation and plotting"
   ]
  },
  {
   "cell_type": "code",
   "execution_count": null,
   "id": "6ecafe04",
   "metadata": {},
   "outputs": [],
   "source": [
    "from CADETProcess.simulator import Cadet\n",
    "\n",
    "simulator = Cadet()\n",
    "sim_res = simulator.simulate (process)\n",
    "\n",
    "from CADETProcess.plotting import SecondaryAxis\n",
    "sec = SecondaryAxis()\n",
    "sec.components = [\"Salt\"]\n",
    "sec.y_label = '$c_{Salt}$'\n",
    "_ = sim_res.solution.column.outlet.plot(secondary_axis=sec)"
   ]
  },
  {
   "cell_type": "markdown",
   "id": "0a6b5565",
   "metadata": {},
   "source": [
    "### 8. Comparison to experiment"
   ]
  },
  {
   "cell_type": "code",
   "execution_count": null,
   "id": "8dd0850d",
   "metadata": {},
   "outputs": [],
   "source": [
    "from CADETProcess.comparison import Comparator, ReferenceIO\n",
    "\n",
    "comparator = Comparator()\n",
    "for i_p in range(experiment_1.n_proteins):\n",
    "    Ref_name = 'Protein_'+str(i_p)\n",
    "    comparator.add_reference(ReferenceIO(\n",
    "        Ref_name, experiment_1.time, experiment_1.c_protein[:,i_p]\n",
    "        )\n",
    "    )\n",
    "    comparator.add_difference_metric(\n",
    "        'SSE', ReferenceIO(Ref_name, experiment_1.time, experiment_1.c_protein[:, i_p]),\n",
    "        'outlet.outlet', components=component_system.labels[i_p+1]\n",
    "    )\n",
    "\n",
    "comparator.plot_comparison(sim_res, plot_individual=True)"
   ]
  }
 ],
 "metadata": {
  "kernelspec": {
   "display_name": "Python 3 (ipykernel)",
   "language": "python",
   "name": "python3"
  }
 },
 "nbformat": 4,
 "nbformat_minor": 5
}
