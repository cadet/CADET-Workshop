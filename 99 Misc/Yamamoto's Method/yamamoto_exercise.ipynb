{
 "cells": [
  {
   "cell_type": "markdown",
   "id": "8d655c0c",
   "metadata": {},
   "source": [
    "## Exercise Yamamoto Method\n",
    "\n",
    "In this exercise the Yamamoto method will be applied and used as model parameter for the linear region of the steric mass action isotherm."
   ]
  },
  {
   "cell_type": "markdown",
   "id": "b3143b56",
   "metadata": {},
   "source": [
    "Import the data given in `./experiments/three_proteins` using the following helper function.\n",
    "Then, visualize the data."
   ]
  },
  {
   "cell_type": "code",
   "execution_count": null,
   "id": "45b01091",
   "metadata": {
    "tags": [
     "solution"
    ]
   },
   "outputs": [],
   "source": [
    "import numpy as np\n",
    "from CADETProcess.tools.yamamoto import GradientExperiment\n",
    "def create_experiment(file_name, gradient_volume):\n",
    "    \"\"\"CSV should have format of [time, salt, protein].\"\"\"\n",
    "\n",
    "    data = np.loadtxt(file_name, delimiter=',')\n",
    "\n",
    "    time = data[:, 0]\n",
    "    c_salt = data[:, 1]\n",
    "    c_protein = data[:, 2:]\n",
    "\n",
    "    return GradientExperiment(time, c_salt, c_protein, gradient_volume)"
   ]
  },
  {
   "cell_type": "code",
   "execution_count": null,
   "id": "f7bdac1d",
   "metadata": {
    "tags": [
     "solution"
    ]
   },
   "outputs": [],
   "source": [
    "experiment_1 = create_experiment('./experiments/three_proteins/18.8mL.csv', 18.8e-6)\n",
    "experiment_2 = create_experiment('./experiments/three_proteins/37.6mL.csv', 37.6e-6)\n",
    "experiment_3 = create_experiment('./experiments/three_proteins/56.4mL.csv', 56.4e-6)\n",
    "experiment_4 = create_experiment('./experiments/three_proteins/75.2mL.csv', 75.2e-6)\n",
    "\n",
    "experiments = [experiment_1, experiment_2, experiment_3, experiment_4]"
   ]
  },
  {
   "cell_type": "code",
   "execution_count": null,
   "id": "5915ad8e",
   "metadata": {
    "tags": [
     "solution"
    ]
   },
   "outputs": [],
   "source": [
    "from CADETProcess.tools.yamamoto import plot_experiments\n",
    "\n",
    "for experiment in experiments:\n",
    "    experiment.plot()"
   ]
  },
  {
   "cell_type": "markdown",
   "id": "59cc0bbc",
   "metadata": {},
   "source": [
    "Define the parameters given in the table below as variables.\n",
    "\n",
    "Consider the following parameters:\n",
    "- length: $0.1~m$\n",
    "- diameter: $7.7~mm$\n",
    "- bed porosity: $0.36$\n",
    "- particle radius: $34 \\cdot 10^{-6}~m$\n",
    "- particle porosity: $0.85$"
   ]
  },
  {
   "cell_type": "code",
   "execution_count": null,
   "id": "b95f39bc",
   "metadata": {
    "tags": [
     "solution"
    ]
   },
   "outputs": [],
   "source": [
    "from CADETProcess.processModel import ComponentSystem\n",
    "component_system = ComponentSystem(['Salt', 'A', 'B', 'C'])\n",
    "\n",
    "from CADETProcess.processModel import StericMassAction\n",
    "binding_model = StericMassAction(component_system)\n",
    "binding_model.adsorption_rate = [1, 1, 1, 1]\n",
    "binding_model.desorption_rate = [1, 1, 1, 1]\n",
    "binding_model.capacity = 822.5\n",
    "binding_model.steric_factor = [0, 0, 0, 0]"
   ]
  },
  {
   "cell_type": "code",
   "execution_count": null,
   "id": "6389dc69",
   "metadata": {
    "tags": [
     "solution"
    ]
   },
   "outputs": [],
   "source": [
    "from CADETProcess.processModel import LumpedRateModelWithPores\n",
    "column = LumpedRateModelWithPores(component_system, 'column')\n",
    "column.binding_model = binding_model\n",
    "column.length = 0.1\n",
    "column.diameter = 0.0077\n",
    "column.bed_porosity = 0.36\n",
    "column.particle_radius = 34e-6\n",
    "column.particle_porosity = 0.85\n",
    "\n",
    "column.axial_dispersion = 1.5e-6\n",
    "column.film_diffusion = [2e-6, 5e-7, 5e-7, 5e-7]"
   ]
  },
  {
   "cell_type": "markdown",
   "id": "97bc03e5",
   "metadata": {},
   "source": [
    "Apply the Yamamoto method and save the return of the method in a variable. Print the characteristic charge and the equilibrium constant for all proteins in the system."
   ]
  },
  {
   "cell_type": "code",
   "execution_count": null,
   "id": "fd10538e",
   "metadata": {
    "tags": [
     "solution"
    ]
   },
   "outputs": [],
   "source": [
    "from CADETProcess.tools.yamamoto import fit_parameters\n",
    "yamamoto_results = fit_parameters(experiments, column)\n",
    "\n",
    "print(yamamoto_results.characteristic_charge)\n",
    "print(yamamoto_results.k_eq)"
   ]
  },
  {
   "cell_type": "markdown",
   "id": "739ebbd6",
   "metadata": {},
   "source": [
    "Visualize the results of the parameter estimation and check if the results are a good estimate of the experiments."
   ]
  },
  {
   "cell_type": "code",
   "execution_count": null,
   "id": "858377c1",
   "metadata": {
    "tags": [
     "solution"
    ]
   },
   "outputs": [],
   "source": [
    "yamamoto_results.plot()"
   ]
  },
  {
   "cell_type": "markdown",
   "id": "9025c23b",
   "metadata": {},
   "source": [
    "It can be recognized that at least one experiment is not in a good alignment with the found parameter.\n",
    "Check the output of the parameter estimation and decide which experiment to neglect in the estimation."
   ]
  },
  {
   "cell_type": "code",
   "execution_count": null,
   "id": "93a74646",
   "metadata": {
    "tags": [
     "solution"
    ]
   },
   "outputs": [],
   "source": [
    "print(f'logarithm of peak salt concentration for Protein 1: {yamamoto_results.log_c_salt_at_max_M[:, 0]}')\n",
    "print(f'logarithm of peak salt concentration for Protein 2: {yamamoto_results.log_c_salt_at_max_M[:, 1]}')\n",
    "print(f'logarithm of peak salt concentration for Protein 3: {yamamoto_results.log_c_salt_at_max_M[:, 2]}')\n",
    "print(f'equilibrium constant: {yamamoto_results.k_eq}')"
   ]
  },
  {
   "cell_type": "markdown",
   "id": "6ac79108",
   "metadata": {},
   "source": [
    "Viewing the data, the third entry related to the third experiment does not fit into the ascending sequence for the peak salt concentration. Remove the third experiment from the parameter estimation and redo the estimation. Also, visualize the results."
   ]
  },
  {
   "cell_type": "code",
   "execution_count": null,
   "id": "a510cc5c",
   "metadata": {
    "tags": [
     "solution"
    ]
   },
   "outputs": [],
   "source": [
    "experiments_adapted = [experiment_1, experiment_2, experiment_4]\n",
    "yamamoto_results_adapted = fit_parameters(experiments_adapted, column)\n",
    "\n",
    "print(yamamoto_results_adapted.characteristic_charge)\n",
    "print(yamamoto_results_adapted.k_eq)"
   ]
  },
  {
   "cell_type": "code",
   "execution_count": null,
   "id": "3715bc6f",
   "metadata": {
    "tags": [
     "solution"
    ]
   },
   "outputs": [],
   "source": [
    "yamamoto_results_adapted.plot()"
   ]
  },
  {
   "cell_type": "markdown",
   "id": "bf164468",
   "metadata": {},
   "source": [
    "# Bonus Task\n",
    "\n",
    "Try to build a simple model which reproduces the experimental results.\n",
    "The model should consist of an `Inlet`, the column model and an `Outlet`.\n",
    "Use the values specified in the tables above.\n",
    "\n",
    "Keep in mind the following steps for creating a model:\n",
    "1. Specify missing UnitOperations\n",
    "1. Construct the flow sheet\n",
    "1. Construct the process\n",
    "1. Simulation and plotting\n",
    "1. Comparison to experiment"
   ]
  },
  {
   "cell_type": "markdown",
   "id": "e93ffadd",
   "metadata": {},
   "source": [
    "### 1. Specify missing UnitOperations"
   ]
  },
  {
   "cell_type": "code",
   "execution_count": null,
   "id": "b147be2a",
   "metadata": {},
   "outputs": [],
   "source": [
    "from CADETProcess.processModel import Inlet, Outlet\n",
    "\n",
    "inlet = Inlet(component_system, name='inlet')\n",
    "inlet.flow_rate = 8.33e-09\n",
    "\n",
    "outlet = Outlet(component_system, name='outlet')"
   ]
  },
  {
   "cell_type": "markdown",
   "id": "74eddfd3",
   "metadata": {},
   "source": [
    "### 2. Construct the flow sheet"
   ]
  },
  {
   "cell_type": "code",
   "execution_count": null,
   "id": "2fff2fc3",
   "metadata": {},
   "outputs": [],
   "source": [
    "from CADETProcess.processModel import FlowSheet\n",
    "\n",
    "flow_sheet = FlowSheet(component_system)\n",
    "flow_sheet.add_unit(inlet)\n",
    "flow_sheet.add_unit(column)\n",
    "flow_sheet.add_unit(outlet)\n",
    "\n",
    "flow_sheet.add_connection(inlet, column)\n",
    "flow_sheet.add_connection(column, outlet)"
   ]
  },
  {
   "cell_type": "markdown",
   "id": "20e1cfcf",
   "metadata": {},
   "source": [
    "### 3. Construct the process"
   ]
  },
  {
   "cell_type": "code",
   "execution_count": null,
   "id": "1f4c6143",
   "metadata": {},
   "outputs": [],
   "source": [
    "from CADETProcess.processModel import Process\n",
    "\n",
    "flow_rate = 8.33e-09\n",
    "sample_volume = 50e-9\n",
    "wash_volume = 15e-6\n",
    "gradient_volume =18.8e-6\n",
    "strip_volume = 10e-6\n",
    "\n",
    "wash_start = sample_volume/flow_rate\n",
    "gradient_start = sample_volume/flow_rate + wash_volume/flow_rate\n",
    "strip_start = sample_volume/flow_rate + wash_volume/flow_rate + gradient_volume/flow_rate\n",
    "t_cycle = sample_volume/flow_rate + wash_volume/flow_rate + gradient_volume/flow_rate + strip_volume/flow_rate\n",
    "\n",
    "slope = ((experiment_1.c_salt_end-experiment_1.c_salt_start)/(gradient_volume/flow_rate))\n",
    "\n",
    "process = Process(flow_sheet, 'LWE_Lysozyme_18_8mL')\n",
    "process.cycle_time = t_cycle\n",
    "\n",
    "process.add_event('load', 'flow_sheet.inlet.c', [experiment_1.c_salt_start, 0.2, 0.24, 0.16], 0)\n",
    "process.add_event('wash', 'flow_sheet.inlet.c', [experiment_1.c_salt_start, 0, 0, 0], wash_start)\n",
    "process.add_event(\n",
    "    'grad_start',\n",
    "    'flow_sheet.inlet.c',\n",
    "    [[experiment_1.c_salt_start, slope], [0, 0], [0, 0], [0, 0]],\n",
    "    gradient_start\n",
    ")\n",
    "process.add_event('strip','flow_sheet.inlet.c', [experiment_1.c_salt_end, 0, 0, 0], strip_start)"
   ]
  },
  {
   "cell_type": "markdown",
   "id": "973f57f6",
   "metadata": {},
   "source": [
    "### 7. Simulation and plotting"
   ]
  },
  {
   "cell_type": "code",
   "execution_count": null,
   "id": "a31d7a26",
   "metadata": {},
   "outputs": [],
   "source": [
    "from CADETProcess.simulator import Cadet\n",
    "\n",
    "simulator = Cadet()\n",
    "sim_res = simulator.simulate (process)\n",
    "\n",
    "from CADETProcess.plotting import SecondaryAxis\n",
    "sec = SecondaryAxis()\n",
    "sec.components = [\"Salt\"]\n",
    "sec.y_label = '$c_{Salt}$'\n",
    "_ = sim_res.solution.column.outlet.plot(secondary_axis=sec)"
   ]
  },
  {
   "cell_type": "markdown",
   "id": "7ffdd0ba",
   "metadata": {},
   "source": [
    "### 8. Comparison to experiment"
   ]
  },
  {
   "cell_type": "code",
   "execution_count": null,
   "id": "1fdf7870",
   "metadata": {},
   "outputs": [],
   "source": [
    "from CADETProcess.comparison import Comparator, ReferenceIO\n",
    "\n",
    "comparator = Comparator()\n",
    "for i_p in range(experiment_1.n_proteins):\n",
    "    Ref_name = 'Protein_'+str(i_p)\n",
    "    comparator.add_reference(ReferenceIO(\n",
    "        Ref_name, experiment_1.time, experiment_1.c_protein[:,i_p]\n",
    "        )\n",
    "    )\n",
    "    comparator.add_difference_metric(\n",
    "        'SSE', ReferenceIO(Ref_name, experiment_1.time, experiment_1.c_protein[:, i_p]),\n",
    "        'outlet.outlet', components=component_system.labels[i_p+1]\n",
    "    )\n",
    "\n",
    "comparator.plot_comparison(sim_res, plot_individual=True)"
   ]
  }
 ],
 "metadata": {
  "kernelspec": {
   "display_name": "Python 3 (ipykernel)",
   "language": "python",
   "name": "python3"
  }
 },
 "nbformat": 4,
 "nbformat_minor": 5
}
