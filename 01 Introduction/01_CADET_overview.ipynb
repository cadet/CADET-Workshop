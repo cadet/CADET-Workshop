{
 "cells": [
  {
   "cell_type": "markdown",
   "id": "483a62ac",
   "metadata": {
    "editable": true,
    "slideshow": {
     "slide_type": ""
    }
   },
   "source": [
    "# CADET Overview\n",
    "\n",
    "```{figure} ./resources/cadet_horizontal.png\n",
    ":width: 75%\n",
    "```"
   ]
  },
  {
   "cell_type": "markdown",
   "id": "73a3162e",
   "metadata": {
    "editable": true,
    "slideshow": {
     "slide_type": "slide"
    }
   },
   "source": [
    "## Unit Operation Model\n",
    "\n",
    "```{figure} ./resources/unit_operation.png\n",
    ":width: 30%\n",
    ":align: center\n",
    "\n",
    "```"
   ]
  },
  {
   "cell_type": "markdown",
   "id": "997c4ae3",
   "metadata": {
    "editable": true,
    "jp-MarkdownHeadingCollapsed": true,
    "slideshow": {
     "slide_type": "slide"
    }
   },
   "source": [
    "## Flow Sheet Model\n",
    "\n",
    "```{figure} ./resources/batch_elution.svg\n",
    ":width: 50%\n",
    ":align: center\n",
    "\n",
    "```"
   ]
  },
  {
   "cell_type": "markdown",
   "id": "9c2061e0",
   "metadata": {
    "editable": true,
    "jp-MarkdownHeadingCollapsed": true,
    "slideshow": {
     "slide_type": "slide"
    }
   },
   "source": [
    "## Process Model\n",
    "\n",
    "```{figure} ./resources/batch_elution_process_model.svg\n",
    ":width: 50%\n",
    ":align: center\n",
    "\n",
    "```"
   ]
  },
  {
   "cell_type": "markdown",
   "id": "d02356f6",
   "metadata": {
    "editable": true,
    "slideshow": {
     "slide_type": "slide"
    }
   },
   "source": [
    "## Simulation\n",
    "\n",
    "```{figure} ./resources/simulation.png\n",
    ":align: center\n",
    ":width: 50%\n",
    "```"
   ]
  },
  {
   "cell_type": "markdown",
   "id": "5b89714c",
   "metadata": {
    "editable": true,
    "slideshow": {
     "slide_type": "fragment"
    }
   },
   "source": [
    "```{figure} ./resources/simulation_results.png\n",
    ":align: center\n",
    ":width: 50%\n",
    "```"
   ]
  },
  {
   "cell_type": "markdown",
   "id": "f47680a9",
   "metadata": {
    "slideshow": {
     "slide_type": "slide"
    }
   },
   "source": [
    "## Simulation: Cyclic Stationarity\n",
    "\n",
    "```{figure} ./resources/stationarity.png\n",
    ":align: center\n",
    ":width: 50%\n",
    "```"
   ]
  },
  {
   "cell_type": "markdown",
   "id": "4a21630c",
   "metadata": {
    "slideshow": {
     "slide_type": "fragment"
    }
   },
   "source": [
    "```{figure} ./resources/simulation_results_cyclic.png\n",
    ":align: center\n",
    ":width: 33%\n",
    "```"
   ]
  },
  {
   "cell_type": "markdown",
   "id": "4cb17cec",
   "metadata": {
    "jp-MarkdownHeadingCollapsed": true,
    "slideshow": {
     "slide_type": "slide"
    }
   },
   "source": [
    "## Post Processing\n",
    "\n",
    "```{figure} ./resources/post_processing.png\n",
    ":align: center\n",
    ":width: 750\n",
    "```"
   ]
  },
  {
   "cell_type": "markdown",
   "id": "1e24a9a0",
   "metadata": {
    "slideshow": {
     "slide_type": "slide"
    }
   },
   "source": [
    "## Post Processing: Fractionation\n",
    "\n",
    "```{figure} ./resources/fractionator.png\n",
    ":align: center\n",
    ":width: 750\n",
    "```"
   ]
  },
  {
   "cell_type": "markdown",
   "id": "40595a30",
   "metadata": {},
   "source": [
    "```{figure} ./resources/fractionation.png\n",
    ":align: center\n",
    ":width: 50%\n",
    "```"
   ]
  },
  {
   "cell_type": "markdown",
   "id": "3bfb5006",
   "metadata": {
    "slideshow": {
     "slide_type": "slide"
    }
   },
   "source": [
    "## Post Processing - Comparison with experimental data\n",
    "\n",
    "```{figure} ./resources/comparator.png\n",
    ":align: center\n",
    ":width: 750\n",
    "```"
   ]
  },
  {
   "cell_type": "markdown",
   "id": "1069a739",
   "metadata": {},
   "source": [
    "```{figure} ./resources/comparison.png\n",
    ":align: center\n",
    ":width: 50%\n",
    "```"
   ]
  },
  {
   "cell_type": "markdown",
   "id": "69ca69a5",
   "metadata": {
    "slideshow": {
     "slide_type": "slide"
    }
   },
   "source": [
    "## Optimization\n",
    "\n",
    "```{figure} ./resources/optimization.png\n",
    ":align: center\n",
    ":width: 50%\n",
    "```"
   ]
  },
  {
   "cell_type": "markdown",
   "id": "8450f0bf",
   "metadata": {
    "slideshow": {
     "slide_type": "slide"
    }
   },
   "source": [
    "## Optimization - Parameter Estimation\n",
    "\n",
    "```{figure} ./resources/parameter_estimation.png\n",
    ":align: center\n",
    ":width: 90%\n",
    "``````"
   ]
  },
  {
   "cell_type": "markdown",
   "id": "9396b839",
   "metadata": {
    "slideshow": {
     "slide_type": "slide"
    }
   },
   "source": [
    "## Optimization - Process Optimization\n",
    "\n",
    "```{figure} ./resources/process_optimization.png\n",
    ":align: center\n",
    ":width: 90%\n",
    "``````"
   ]
  },
  {
   "cell_type": "markdown",
   "id": "b78b11a8",
   "metadata": {
    "slideshow": {
     "slide_type": "slide"
    }
   },
   "source": [
    "# Further Resources\n",
    "\n",
    "## General Information\n",
    "- **Website**: https://cadet-web.de\n",
    "- **User Forum**: https://forum.cadet-web.de\n",
    "- **JupyterHub**: https://jupyter.cadet-web.de\n",
    "\n",
    "## CADET-Core\n",
    "- **Source Code**: https://github.com/modsim/cadet\n",
    "- **Documentation**: https://cadet.github.io\n",
    "- **Tutorials**: https://github.com/modsim/cadet-tutorial\n",
    "\n",
    "## CADET-Process\n",
    "- **Source Code**: https://github.com/fau-advanced-separations/cadet-process\n",
    "- **Documentation**: https://cadet-process.readthedocs.io/en/latest/\n",
    "- **Tutorials**: https://github.com/modsim/cadet-workshop"
   ]
  }
 ],
 "metadata": {
  "jupytext": {
   "formats": "ipynb,md:myst"
  },
  "kernelspec": {
   "display_name": "Python 3 (ipykernel)",
   "language": "python",
   "name": "python3"
  }
 },
 "nbformat": 4,
 "nbformat_minor": 5
}
