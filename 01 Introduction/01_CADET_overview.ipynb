{
 "cells": [
  {
   "cell_type": "markdown",
   "id": "7cd51ea3",
   "metadata": {
    "editable": true,
    "slideshow": {
     "slide_type": "slide"
    }
   },
   "source": [
    "# CADET Overview\n",
    "\n",
    "```{figure} ./resources/cadet_overview.png\n",
    ":width: 75%\n",
    "```"
   ]
  },
  {
   "cell_type": "markdown",
   "id": "096c308f",
   "metadata": {
    "editable": true,
    "slideshow": {
     "slide_type": "slide"
    }
   },
   "source": [
    "## Unit Operation Model\n",
    "\n",
    "```{figure} ./resources/unit_operation.png\n",
    ":width: 30%\n",
    ":align: center\n",
    "\n",
    "```"
   ]
  },
  {
   "cell_type": "markdown",
   "id": "15df0206",
   "metadata": {
    "editable": true,
    "jp-MarkdownHeadingCollapsed": true,
    "slideshow": {
     "slide_type": "slide"
    }
   },
   "source": [
    "## Flow Sheet Model\n",
    "\n",
    "```{figure} ./resources/batch_elution.svg\n",
    ":width: 50%\n",
    ":align: center\n",
    "\n",
    "```"
   ]
  },
  {
   "cell_type": "markdown",
   "id": "ec713d27",
   "metadata": {
    "editable": true,
    "jp-MarkdownHeadingCollapsed": true,
    "slideshow": {
     "slide_type": "slide"
    }
   },
   "source": [
    "## Process Model\n",
    "\n",
    "```{figure} ./resources/batch_elution_process_model.svg\n",
    ":width: 50%\n",
    ":align: center\n",
    "\n",
    "```"
   ]
  },
  {
   "cell_type": "markdown",
   "id": "3dafad2e",
   "metadata": {
    "editable": true,
    "slideshow": {
     "slide_type": "slide"
    }
   },
   "source": [
    "## Simulation\n",
    "\n",
    "```{figure} ./resources/simulation.png\n",
    ":align: center\n",
    ":width: 50%\n",
    "```"
   ]
  },
  {
   "cell_type": "markdown",
   "id": "599b6424",
   "metadata": {
    "editable": true,
    "slideshow": {
     "slide_type": "fragment"
    }
   },
   "source": [
    "```{figure} ./resources/simulation_results.png\n",
    ":align: center\n",
    ":width: 50%\n",
    "```"
   ]
  },
  {
   "cell_type": "markdown",
   "id": "b9904019",
   "metadata": {
    "slideshow": {
     "slide_type": "slide"
    }
   },
   "source": [
    "## Simulation: Cyclic Stationarity\n",
    "\n",
    "```{figure} ./resources/stationarity.png\n",
    ":align: center\n",
    ":width: 50%\n",
    "```"
   ]
  },
  {
   "cell_type": "markdown",
   "id": "4a165bf7",
   "metadata": {
    "slideshow": {
     "slide_type": "fragment"
    }
   },
   "source": [
    "```{figure} ./resources/simulation_results_cyclic.png\n",
    ":align: center\n",
    ":width: 33%\n",
    "```"
   ]
  },
  {
   "cell_type": "markdown",
   "id": "f0f7583b",
   "metadata": {
    "jp-MarkdownHeadingCollapsed": true,
    "slideshow": {
     "slide_type": "slide"
    }
   },
   "source": [
    "## Post Processing\n",
    "\n",
    "```{figure} ./resources/post_processing.png\n",
    ":align: center\n",
    ":width: 750\n",
    "```"
   ]
  },
  {
   "cell_type": "markdown",
   "id": "7414aa34",
   "metadata": {
    "slideshow": {
     "slide_type": "slide"
    }
   },
   "source": [
    "## Post Processing: Fractionation\n",
    "\n",
    "```{figure} ./resources/fractionator.png\n",
    ":align: center\n",
    ":width: 750\n",
    "```"
   ]
  },
  {
   "cell_type": "markdown",
   "id": "0e30c566",
   "metadata": {},
   "source": [
    "```{figure} ./resources/fractionation.png\n",
    ":align: center\n",
    ":width: 50%\n",
    "```"
   ]
  },
  {
   "cell_type": "markdown",
   "id": "32913014",
   "metadata": {
    "slideshow": {
     "slide_type": "slide"
    }
   },
   "source": [
    "## Post Processing - Comparison with experimental data\n",
    "\n",
    "```{figure} ./resources/comparator.png\n",
    ":align: center\n",
    ":width: 750\n",
    "```"
   ]
  },
  {
   "cell_type": "markdown",
   "id": "76aac0d5",
   "metadata": {},
   "source": [
    "```{figure} ./resources/comparison.png\n",
    ":align: center\n",
    ":width: 50%\n",
    "```"
   ]
  },
  {
   "cell_type": "markdown",
   "id": "3c197d40",
   "metadata": {
    "slideshow": {
     "slide_type": "slide"
    }
   },
   "source": [
    "## Optimization\n",
    "\n",
    "```{figure} ./resources/optimization.png\n",
    ":align: center\n",
    ":width: 50%\n",
    "```"
   ]
  },
  {
   "cell_type": "markdown",
   "id": "997bfedd",
   "metadata": {
    "slideshow": {
     "slide_type": "slide"
    }
   },
   "source": [
    "## Optimization - Parameter Estimation\n",
    "\n",
    "```{figure} ./resources/parameter_estimation.png\n",
    ":align: center\n",
    ":width: 90%\n",
    "``````"
   ]
  },
  {
   "cell_type": "markdown",
   "id": "075f66e5",
   "metadata": {
    "slideshow": {
     "slide_type": "slide"
    }
   },
   "source": [
    "## Optimization - Process Optimization\n",
    "\n",
    "```{figure} ./resources/process_optimization.png\n",
    ":align: center\n",
    ":width: 90%\n",
    "``````"
   ]
  },
  {
   "cell_type": "markdown",
   "id": "6f421799",
   "metadata": {
    "slideshow": {
     "slide_type": "slide"
    }
   },
   "source": [
    "# Further Resources\n",
    "\n",
    "## General Information\n",
    "- **Website**: https://cadet-web.de\n",
    "- **User Forum**: https://forum.cadet-web.de\n",
    "- **JupyterHub**: https://jupyter.cadet-web.de\n",
    "\n",
    "## CADET-Core\n",
    "- **Source Code**: https://github.com/modsim/cadet\n",
    "- **Documentation**: https://cadet.github.io\n",
    "- **Tutorials**: https://github.com/modsim/cadet-tutorial\n",
    "\n",
    "## CADET-Process\n",
    "- **Source Code**: https://github.com/fau-advanced-separations/cadet-process\n",
    "- **Documentation**: https://cadet-process.readthedocs.io/en/latest/\n",
    "- **Tutorials**: https://github.com/modsim/cadet-workshop"
   ]
  }
 ],
 "metadata": {
  "kernelspec": {
   "display_name": "Python 3 (ipykernel)",
   "language": "python",
   "name": "python3"
  }
 },
 "nbformat": 4,
 "nbformat_minor": 5
}
