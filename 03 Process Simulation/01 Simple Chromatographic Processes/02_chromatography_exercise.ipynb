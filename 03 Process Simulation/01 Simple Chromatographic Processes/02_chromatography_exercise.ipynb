{
 "cells": [
  {
   "cell_type": "markdown",
   "id": "d20c6923",
   "metadata": {},
   "source": [
    "# Chromatographic Processes - Exercise"
   ]
  },
  {
   "cell_type": "markdown",
   "id": "ded8909d",
   "metadata": {},
   "source": [
    "## Exercise 1: Combine nonbinding tracer with binding components\n",
    "\n",
    "From the tutorial, combine the dextran pulse with the langmuir experiment.\n",
    "Then, start modifying:\n",
    "- Feed concentrations\n",
    "- Adsorption parameters\n",
    "- Transport parameters\n",
    "- Flow Rates"
   ]
  },
  {
   "cell_type": "code",
   "execution_count": null,
   "id": "39431762",
   "metadata": {
    "tags": [
     "solution"
    ]
   },
   "outputs": [],
   "source": []
  },
  {
   "cell_type": "markdown",
   "id": "9dba1237",
   "metadata": {
    "slideshow": {
     "slide_type": "slide"
    }
   },
   "source": [
    "## Exercise 2: Multiple injections\n",
    "\n",
    "For some processes, multiple injections onto a column in sequence.\n",
    "Take the previous example and create an inlet profile with three injections.\n",
    "For this purpose, the `Simulator` can automatically run multiple simulations by setting `n_cycles`.\n",
    "\n",
    "***Task:*** Try finding the best interval (cycle time) s.t. the column is used most efficiently."
   ]
  },
  {
   "cell_type": "code",
   "execution_count": null,
   "id": "15b67a62",
   "metadata": {
    "tags": [
     "solution"
    ]
   },
   "outputs": [],
   "source": []
  },
  {
   "cell_type": "markdown",
   "id": "b296b326",
   "metadata": {
    "slideshow": {
     "slide_type": "slide"
    }
   },
   "source": [
    "## Example 3: Load wash elute with three components\n",
    "\n",
    "Add a second protein component to the LWE example from the tutorial lesson.\n",
    "Assume that all parameters are the same as the first protein, only change:\n",
    "- adsorption rate: $0.3~m^{3}_{MP}m^{-3}_{SP}s^{-1}$\n",
    "- characteristic charge: $5.0$"
   ]
  },
  {
   "cell_type": "code",
   "execution_count": null,
   "id": "4996faf2",
   "metadata": {
    "tags": [
     "solution"
    ]
   },
   "outputs": [],
   "source": []
  },
  {
   "cell_type": "code",
   "execution_count": null,
   "id": "150ddaf7",
   "metadata": {},
   "outputs": [],
   "source": []
  }
 ],
 "metadata": {
  "jupytext": {
   "formats": "ipynb,md:myst"
  },
  "kernelspec": {
   "display_name": "Python 3 (ipykernel)",
   "language": "python",
   "name": "python3"
  }
 },
 "nbformat": 4,
 "nbformat_minor": 5
}
