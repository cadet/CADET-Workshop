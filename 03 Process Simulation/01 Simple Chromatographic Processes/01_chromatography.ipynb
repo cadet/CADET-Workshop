{
 "cells": [
  {
   "cell_type": "markdown",
   "id": "af6e9a9c",
   "metadata": {
    "slideshow": {
     "slide_type": "slide"
    }
   },
   "source": [
    "# Simple Chromatographic Processes"
   ]
  },
  {
   "cell_type": "markdown",
   "id": "f7d0c7e7",
   "metadata": {
    "slideshow": {
     "slide_type": "fragment"
    }
   },
   "source": [
    "Liquid chromatography is a technique for the separation of mixtures dissolved in a fluid. That fluid is called the mobile phase, which carries the mixture through a structure holding another material, called the stationary phase."
   ]
  },
  {
   "cell_type": "markdown",
   "id": "c7ed3f8a",
   "metadata": {
    "slideshow": {
     "slide_type": "fragment"
    }
   },
   "source": [
    "The various components of the mixture interact with different strengths with the stationary phase. Therefore they travel at different speeds, causing them to separate.\n",
    "\n",
    "Different mechanisms can be used for the separation:\n",
    " - adsorption,\n",
    " - ion exchange,\n",
    " - hydrophobic interactions,\n",
    " - size exclusion,\n",
    " - etc.\n",
    "\n",
    "For each mechanism, various stationary phases are available."
   ]
  },
  {
   "cell_type": "markdown",
   "id": "0d4a723b",
   "metadata": {
    "slideshow": {
     "slide_type": "slide"
    }
   },
   "source": [
    "There are broadly speaking, _two_ types of chromatography:\n",
    "\n",
    "__Preparative__ and __analytical__\n",
    "\n",
    "_Preparative_ targets isolation and purification of \"large\" quantities of a substance.\n",
    "\n",
    "_Analytical_ serves to identify or quantify analytes in a mixture.\n",
    "\n",
    "Generally, chromatographic models are used for optimization of _preparative_ processes."
   ]
  },
  {
   "cell_type": "markdown",
   "id": "91ca0864",
   "metadata": {
    "slideshow": {
     "slide_type": "fragment"
    }
   },
   "source": [
    "For modelling these processes, we have to combine all of the techniques we learnt in the previous lessons:\n",
    "- Configure unit operations models.\n",
    "- Associate adsorption models with unit operations.\n",
    "- Generate dynamic inlet profiles.\n",
    "- Chemical reactions (if required)"
   ]
  },
  {
   "cell_type": "markdown",
   "id": "64a83698",
   "metadata": {
    "slideshow": {
     "slide_type": "slide"
    }
   },
   "source": [
    "## Example 1: Dextran pulse\n",
    "\n",
    "In this exercise, we will consider the following system:\n",
    "\n",
    "```{figure} ./resources/system.png\n",
    ":width: 50%\n",
    ":align: center\n",
    "```"
   ]
  },
  {
   "cell_type": "markdown",
   "id": "fbe5c152",
   "metadata": {
    "slideshow": {
     "slide_type": "fragment"
    }
   },
   "source": [
    "Simplify the model by using a large, inert molecule:\n",
    "- exclude pore access\n",
    "    - no pore porosity\n",
    "    - no diffusion parameters\n",
    "- exclude binding\n",
    "    - no binding parameters\n",
    "\n",
    "Only:\n",
    "the __bed porosity__ and __axial dispersion__ affect the Dextran pulse."
   ]
  },
  {
   "cell_type": "markdown",
   "id": "afe13714",
   "metadata": {
    "slideshow": {
     "slide_type": "slide"
    }
   },
   "source": [
    "For the column, assume the following parameters which are usually provided by the manufacturer (or can be measured):\n",
    "- length: $0.1~m$\n",
    "- diameter: $0.01~m$\n",
    "- particle radius: $4.5 \\cdot 10^{-5}~m$\n",
    "- flow rate: $10^{-6}/60~m^3 s^{-1}$"
   ]
  },
  {
   "cell_type": "markdown",
   "id": "aae809a3",
   "metadata": {
    "slideshow": {
     "slide_type": "fragment"
    }
   },
   "source": [
    "Moreover, since Dextran does not penetrate pores, the film diffusion coefficient can be set to $0~m \\cdot s^{-1}$."
   ]
  },
  {
   "cell_type": "markdown",
   "id": "39b62437",
   "metadata": {
    "slideshow": {
     "slide_type": "fragment"
    }
   },
   "source": [
    "Finally, bed porosity and axial dispersion need to be specified.\n",
    "Usually, these parameters will be estimated using an inverse method (see later tutorials).\n",
    "For now, assume the following values:\n",
    "- bed porosity: $0.37$\n",
    "- axial dispersion: $2.0 \\cdot 10^{-7}~m^2 \\cdot s^{-1}$"
   ]
  },
  {
   "cell_type": "code",
   "execution_count": null,
   "id": "ab9b2c4a",
   "metadata": {
    "tags": [
     "solution"
    ]
   },
   "outputs": [],
   "source": [
    "from CADETProcess.processModel import ComponentSystem\n",
    "from CADETProcess.processModel import Inlet, LumpedRateModelWithPores, Outlet\n",
    "from CADETProcess.processModel import FlowSheet\n",
    "from CADETProcess.processModel import Process\n",
    "\n",
    "component_system = ComponentSystem(['Dextran'])\n",
    "\n",
    "inlet = Inlet(component_system, 'inlet')\n",
    "inlet.flow_rate = 1e-6/60\n",
    "inlet.c = [0]\n",
    "\n",
    "column = LumpedRateModelWithPores(component_system, 'column')\n",
    "column.length = 0.1\n",
    "column.diameter = 0.01\n",
    "column.bed_porosity = 0.37\n",
    "column.particle_radius = 4.5e-5\n",
    "column.particle_porosity = 0.33\n",
    "\n",
    "column.axial_dispersion = 2.0e-7\n",
    "column.film_diffusion = [0.0]\n",
    "\n",
    "outlet = Outlet(component_system, 'outlet')\n",
    "\n",
    "flow_sheet = FlowSheet(component_system)\n",
    "flow_sheet.add_unit(inlet)\n",
    "flow_sheet.add_unit(column)\n",
    "flow_sheet.add_unit(outlet)\n",
    "\n",
    "flow_sheet.add_connection(inlet, column)\n",
    "flow_sheet.add_connection(column, outlet)"
   ]
  },
  {
   "cell_type": "markdown",
   "id": "a20d8077",
   "metadata": {
    "slideshow": {
     "slide_type": "slide"
    }
   },
   "source": [
    "For the injection, we need to Introduce two sections.\n",
    "In the first section, which lasts $50~s$, the concentration of Dextran at the `INLET` is $1.0~mM$, afterwards it is $0.0~mM$.\n",
    "The flow rate is a constant $1~mL \\cdot min^{-1}$.\n",
    "\n",
    "```{figure} ./resources/dextran_inlet.png\n",
    ":width: 50%\n",
    ":align: center\n",
    "```"
   ]
  },
  {
   "cell_type": "code",
   "execution_count": null,
   "id": "93b4d6b1",
   "metadata": {
    "tags": [
     "solution"
    ]
   },
   "outputs": [],
   "source": [
    "process = Process(flow_sheet, 'dextran')\n",
    "process.cycle_time = 600\n",
    "\n",
    "process.add_event('inject_on', 'flow_sheet.inlet.c', [1.0], 0)\n",
    "process.add_event('inject_off', 'flow_sheet.inlet.c', [0.0], 50.0)\n",
    "\n",
    "from CADETProcess.simulator import Cadet\n",
    "simulator = Cadet()\n",
    "\n",
    "simulation_results = simulator.simulate(process)\n",
    "\n",
    "_ = simulation_results.solution.column.outlet.plot()"
   ]
  },
  {
   "cell_type": "markdown",
   "id": "50f7357f",
   "metadata": {
    "slideshow": {
     "slide_type": "slide"
    }
   },
   "source": [
    "## Example 2: Multi Component Langmuir Separation\n",
    "\n",
    "Now, we will use the same system, but add `Langmuir` model to the column with two components using batch elution chromatography.\n",
    "This process is often used for the purification of small molecules like amino acids or sugars."
   ]
  },
  {
   "cell_type": "markdown",
   "id": "19f97168",
   "metadata": {
    "slideshow": {
     "slide_type": "fragment"
    }
   },
   "source": [
    "For the Langmuir isotherm, use the following parameters:\n",
    "- adsorption rate: $[0.02, 0.03]~m^3 mol^{-1} s^{-1}$\n",
    "- desorption rate: $[1, 1]~s^{-1}$\n",
    "- binding capacity: $[100, 100]~mM$\n",
    "\n",
    "additionally, use these transport parameters:\n",
    "\n",
    "- particle porosity: $0.33$\n",
    "- film diffusion: $10^{-4}$\n",
    "\n",
    "This time, use two `Inlet UnitOperations`, a feed `Inlet` with a concentration of $10 ~mM$ for both components and an eluent `Inlet` with a concentration of $0~mM$."
   ]
  },
  {
   "cell_type": "code",
   "execution_count": null,
   "id": "e66a1dcf",
   "metadata": {
    "tags": [
     "solution"
    ]
   },
   "outputs": [],
   "source": [
    "from CADETProcess.processModel import ComponentSystem\n",
    "from CADETProcess.processModel import Langmuir\n",
    "from CADETProcess.processModel import (\n",
    "    Inlet, LumpedRateModelWithPores, Outlet\n",
    ")\n",
    "from CADETProcess.processModel import FlowSheet\n",
    "from CADETProcess.processModel import Process\n",
    "\n",
    "# Component System\n",
    "component_system = ComponentSystem()\n",
    "component_system.add_component('A')\n",
    "component_system.add_component('B')\n",
    "\n",
    "# Binding Model\n",
    "binding_model = Langmuir(component_system, name='langmuir')\n",
    "binding_model.is_kinetic = False\n",
    "binding_model.adsorption_rate = [0.02, 0.03]\n",
    "binding_model.desorption_rate = [1, 1]\n",
    "binding_model.capacity = [100, 100]\n",
    "\n",
    "# Unit Operations\n",
    "feed = Inlet(component_system, name='feed')\n",
    "feed.c = [10, 10]\n",
    "\n",
    "eluent = Inlet(component_system, name='eluent')\n",
    "eluent.c = [0, 0]\n",
    "\n",
    "column = LumpedRateModelWithPores(component_system, 'column')\n",
    "column.binding_model = binding_model\n",
    "column.length = 0.1\n",
    "column.diameter = 0.01\n",
    "column.bed_porosity = 0.37\n",
    "column.particle_radius = 4.5e-5\n",
    "column.particle_porosity = 0.33\n",
    "column.axial_dispersion = 2.0e-7\n",
    "column.film_diffusion = [1e-4, 1e-4]\n",
    "\n",
    "outlet = Outlet(component_system, name='outlet')\n",
    "\n",
    "# flow sheet\n",
    "flow_sheet = FlowSheet(component_system)\n",
    "\n",
    "flow_sheet.add_unit(feed)\n",
    "flow_sheet.add_unit(eluent)\n",
    "flow_sheet.add_unit(column)\n",
    "flow_sheet.add_unit(outlet)\n",
    "\n",
    "flow_sheet.add_connection(feed, column)\n",
    "flow_sheet.add_connection(eluent, column)\n",
    "flow_sheet.add_connection(column, outlet)"
   ]
  },
  {
   "cell_type": "markdown",
   "id": "e35a6aa7",
   "metadata": {
    "slideshow": {
     "slide_type": "slide"
    }
   },
   "source": [
    "Again, we create two sections to model the injections. This time by turning off the flow rate of the feed `Inlet` and turning on the flow rate of the eluent `Inlet`."
   ]
  },
  {
   "cell_type": "code",
   "execution_count": null,
   "id": "ffa13091",
   "metadata": {
    "tags": [
     "solution"
    ]
   },
   "outputs": [],
   "source": [
    "# Process\n",
    "process = Process(flow_sheet, 'batch elution')\n",
    "\n",
    "## Create Events and Durations\n",
    "Q = 1e-6/60\n",
    "process.add_event('feed_on', 'flow_sheet.feed.flow_rate', Q, 0)\n",
    "process.add_event('feed_off', 'flow_sheet.feed.flow_rate', 0.0, 60)\n",
    "\n",
    "process.add_event('eluent_off', 'flow_sheet.eluent.flow_rate', 0.0, 0)\n",
    "process.add_event('eluent_on', 'flow_sheet.eluent.flow_rate', Q, 60)\n",
    "\n",
    "## Set process times\n",
    "process.cycle_time = 1200"
   ]
  },
  {
   "cell_type": "markdown",
   "id": "6ca4dedb",
   "metadata": {
    "slideshow": {
     "slide_type": "slide"
    }
   },
   "source": [
    "### A Note on Event Dependencies\n",
    "\n",
    "Often, multiple `Events` happen simulateneously.\n",
    "Here, for example, when the feed is turned off, the eluent also needs to be switched on.\n",
    "To eliminate the need to manually change all event times, dependencies can be specified using `add_event_dependency`."
   ]
  },
  {
   "cell_type": "code",
   "execution_count": null,
   "id": "9bcf2004",
   "metadata": {
    "tags": [
     "solution"
    ]
   },
   "outputs": [],
   "source": [
    "# Process\n",
    "process = Process(flow_sheet, 'batch elution')\n",
    "\n",
    "## Create Events and Durations\n",
    "Q = 1e-6/60\n",
    "process.add_event(name='feed_on', parameter_path='flow_sheet.feed.flow_rate', state=Q, time=0)\n",
    "process.add_event('feed_off', 'flow_sheet.feed.flow_rate', 0.0, 60)\n",
    "\n",
    "process.add_event(name='eluent_on', parameter_path='flow_sheet.eluent.flow_rate', state=Q)\n",
    "process.add_event_dependency(\"eluent_on\", [\"feed_off\"])\n",
    "\n",
    "process.add_event('eluent_off', 'flow_sheet.eluent.flow_rate', 0.0)\n",
    "process.add_event_dependency('eluent_off', ['feed_on'])\n",
    "\n",
    "## Set process times\n",
    "process.cycle_time = 1200"
   ]
  },
  {
   "cell_type": "markdown",
   "id": "e52b2380",
   "metadata": {},
   "source": [
    "You can see all the dependent events with the `.dependent_events` method"
   ]
  },
  {
   "cell_type": "code",
   "execution_count": null,
   "id": "92150ce9",
   "metadata": {
    "tags": [
     "solution"
    ]
   },
   "outputs": [],
   "source": [
    "process.dependent_events"
   ]
  },
  {
   "cell_type": "markdown",
   "id": "44fb39e0",
   "metadata": {},
   "source": [
    "Now simulate and plot the results."
   ]
  },
  {
   "cell_type": "code",
   "execution_count": null,
   "id": "55929206",
   "metadata": {
    "tags": [
     "solution"
    ]
   },
   "outputs": [],
   "source": [
    "from CADETProcess.simulator import Cadet\n",
    "process_simulator = Cadet()\n",
    "\n",
    "simulation_results = process_simulator.simulate(process)\n",
    "_ = simulation_results.solution.column.outlet.plot()"
   ]
  },
  {
   "cell_type": "markdown",
   "id": "e84273ff",
   "metadata": {
    "slideshow": {
     "slide_type": "slide"
    }
   },
   "source": [
    "## Example 3: Load wash elute with Steric Mass Action law binding\n",
    "\n",
    "The [Steric Mass Action model](https://cadet.github.io/master/modelling/binding/steric_mass_action.html#steric-mass-action-model) takes charges of the molecules into account and is, thus, often used in ion-exchange chromatography.\n",
    "Each component has a characteristic charge $\\nu$ that determines the number of available binding sites $\\Lambda$ (ionic capacity) used up by a molecule.\n",
    "Due to the molecule’s shape, some additional binding sites (steric shielding factor $\\sigma$) may be shielded from other molecules and are not available for binding."
   ]
  },
  {
   "cell_type": "markdown",
   "id": "8ef48c16",
   "metadata": {
    "slideshow": {
     "slide_type": "fragment"
    }
   },
   "source": [
    "The model is given by this eqution:\n",
    "\n",
    "$$\\frac{\\mathrm{d} q_i}{\\mathrm{d} t} = k_{a,i} c_{p,i}\\bar{q}_0^{\\nu_i} - k_{d,i} q_i c_{p,0}^{\\nu_i}$$\n",
    "\n",
    "where $c_{p,0}$ denotes the mobile phase salt concentration, and"
   ]
  },
  {
   "cell_type": "markdown",
   "id": "922f7f20",
   "metadata": {
    "slideshow": {
     "slide_type": "fragment"
    }
   },
   "source": [
    "$$\\bar{q}_0 = \\Lambda - \\sum_{j=1}^{N_{\\text{comp}} - 1} \\left( \\nu_j + \\sigma_j \\right) q_j$$\n",
    "\n",
    "is the number of available binding sites."
   ]
  },
  {
   "cell_type": "markdown",
   "id": "f651afa7",
   "metadata": {
    "slideshow": {
     "slide_type": "slide"
    }
   },
   "source": [
    "Using the parameter transformation\n",
    "\n",
    "$$k_{a,i} = \\tilde{k}_{a,i} q_{\\text{ref}}^{-\\nu_i}$$\n",
    "\n",
    "$$k_{d,i} = \\tilde{k}_{d,i} c_{\\text{ref}}^{-\\nu_i}$$"
   ]
  },
  {
   "cell_type": "markdown",
   "id": "3cda2354",
   "metadata": {
    "slideshow": {
     "slide_type": "fragment"
    }
   },
   "source": [
    "we obtain the modified model equation:\n",
    "\n",
    "$$\\frac{\\mathrm{d} q_i}{\\mathrm{d} t} = \\tilde{k}_{a,i} c_{p,i} \\left(\\frac{\\bar{q}_0}{q_{\\text{ref}}}\\right)^{\\nu_i} - \\tilde{k}_{d,i} q_i \\left(\\frac{c_{p,0}}{c_{\\text{ref}}}\\right)^{\\nu_i}$$"
   ]
  },
  {
   "cell_type": "markdown",
   "id": "3c3c7b3a",
   "metadata": {
    "slideshow": {
     "slide_type": "fragment"
    }
   },
   "source": [
    "This transformation serves as a (partial) nondimensionalization of the adsorption and desorption rates."
   ]
  },
  {
   "cell_type": "markdown",
   "id": "6d61f6b3",
   "metadata": {
    "slideshow": {
     "slide_type": "fragment"
    }
   },
   "source": [
    "The basic goal is to have $\\left(\\frac{\\bar{q}_0}{q_{\\text{ref}}}\\right) \\leq 1$ and $\\left(\\frac{c_{p,0}}{c_{\\text{ref}}}\\right) \\leq 1$\n",
    "\n",
    "Recommended choices for $c_{\\text{ref}}$ are the average or maximum inlet concentration of the mobile phase modifier $c_0$, and for $q_{\\text{ref}}$ the ionic capacity $\\Lambda$.\n",
    "Note that setting the reference concentrations to ${1.0}$ each results in the original binding model."
   ]
  },
  {
   "cell_type": "markdown",
   "id": "430acd85",
   "metadata": {
    "slideshow": {
     "slide_type": "fragment"
    }
   },
   "source": [
    "```{note}\n",
    "From a practical perspective, modern resins have a very high capacity and large proteins can can have a very high charactistic charge.\n",
    "If the concentration is not normalized, the system is often numerically unstable.\n",
    "It may run slowly or not at all.\n",
    "```"
   ]
  },
  {
   "cell_type": "markdown",
   "id": "04bdc387",
   "metadata": {
    "slideshow": {
     "slide_type": "slide"
    }
   },
   "source": [
    "In this example, we will look at a typical process for protein purification.\n",
    "\n",
    "1. First, a protein salt mixture is loaded on the column and binds to the resin.\n",
    "2. Then, the column is washed with a lower concentrated salt solution.\n",
    "3. Finally, the protein is eluted by adding a linear salt gradient.\n",
    "\n",
    "```{figure} ./resources/lwe_inlet.png\n",
    ":width: 80%\n",
    ":align: center\n",
    "\n",
    "```"
   ]
  },
  {
   "cell_type": "markdown",
   "id": "6ddc8ae7",
   "metadata": {
    "slideshow": {
     "slide_type": "fragment"
    }
   },
   "source": [
    "First, define the `ComponentSystem` and the parameters for the `StericMassAction` model.\n",
    "As mentioned earlier, consider a reference concentration in the pore for numeric purposes."
   ]
  },
  {
   "cell_type": "code",
   "execution_count": null,
   "id": "272b7a1f",
   "metadata": {
    "tags": [
     "solution"
    ]
   },
   "outputs": [],
   "source": [
    "import numpy as np\n",
    "\n",
    "from CADETProcess.processModel import ComponentSystem\n",
    "from CADETProcess.processModel import StericMassAction\n",
    "from CADETProcess.processModel import Inlet, GeneralRateModel, Outlet\n",
    "from CADETProcess.processModel import FlowSheet\n",
    "from CADETProcess.processModel import Process\n",
    "\n",
    "# Component System\n",
    "component_system = ComponentSystem()\n",
    "component_system.add_component('Salt')\n",
    "component_system.add_component('Protein')\n",
    "\n",
    "# Binding Model\n",
    "binding_model = StericMassAction(component_system, name='SMA')\n",
    "binding_model.is_kinetic = True\n",
    "binding_model.adsorption_rate = [0.0, 0.3]\n",
    "binding_model.desorption_rate = [0.0, 1.5]\n",
    "binding_model.characteristic_charge = [0.0, 7.0]\n",
    "binding_model.steric_factor = [0.0, 50.0]\n",
    "binding_model.capacity = 225.0"
   ]
  },
  {
   "cell_type": "markdown",
   "id": "7cfe9fbd",
   "metadata": {},
   "source": [
    "Then, we define the system of unit operations."
   ]
  },
  {
   "cell_type": "code",
   "execution_count": null,
   "id": "ac015b8c",
   "metadata": {
    "tags": [
     "solution"
    ]
   },
   "outputs": [],
   "source": [
    "# Unit Operations\n",
    "inlet = Inlet(component_system, name='inlet')\n",
    "inlet.flow_rate = 2.88e-8\n",
    "\n",
    "column = GeneralRateModel(component_system, name='column')\n",
    "column.binding_model = binding_model\n",
    "\n",
    "column.length = 0.25\n",
    "column.diameter = 0.0115\n",
    "column.bed_porosity = 0.37\n",
    "column.particle_radius = 4.5e-5\n",
    "column.particle_porosity = 0.33\n",
    "column.axial_dispersion = 2.0e-7\n",
    "column.film_diffusion = [2.0e-5, 2.0e-7]\n",
    "column.pore_diffusion = [7e-5, 1e-9]\n",
    "column.surface_diffusion = [0.0, 0.0]\n",
    "\n",
    "outlet = Outlet(component_system, name='outlet')\n",
    "\n",
    "# Flow Sheet\n",
    "flow_sheet = FlowSheet(component_system)\n",
    "\n",
    "flow_sheet.add_unit(inlet)\n",
    "flow_sheet.add_unit(column)\n",
    "flow_sheet.add_unit(outlet)\n",
    "\n",
    "flow_sheet.add_connection(inlet, column)\n",
    "flow_sheet.add_connection(column, outlet)"
   ]
  },
  {
   "cell_type": "markdown",
   "id": "d0764438",
   "metadata": {
    "slideshow": {
     "slide_type": "fragment"
    }
   },
   "source": [
    "The protein is loaded for $7500 s$, then there is a wash step, which takes $2000 s$, and the gradient takes another $5500 s$."
   ]
  },
  {
   "cell_type": "code",
   "execution_count": null,
   "id": "2bb1f53f",
   "metadata": {
    "tags": [
     "solution"
    ]
   },
   "outputs": [],
   "source": [
    "# Process\n",
    "process = Process(flow_sheet, 'lwe')\n",
    "process.cycle_time = 15000.0\n",
    "\n",
    "## Create Events and Durations\n",
    "wash_start = 7500.0\n",
    "gradient_start = 9500.0\n",
    "concentration_difference = np.array([500.0, 0.0]) - np.array([70.0, 0.0])\n",
    "gradient_duration = process.cycle_time - gradient_start\n",
    "gradient_slope = concentration_difference/gradient_duration\n",
    "\n",
    "_ = process.add_event('load', 'flow_sheet.inlet.c', [180.0, 0.1])\n",
    "_ = process.add_event('wash', 'flow_sheet.inlet.c', [70.0, 0.0], wash_start)\n",
    "_ = process.add_event(\n",
    "    'grad_start',\n",
    "    'flow_sheet.inlet.c',\n",
    "    [[70.0, gradient_slope[0]], [0, gradient_slope[1]]],\n",
    "    gradient_start\n",
    ")"
   ]
  },
  {
   "cell_type": "markdown",
   "id": "c51bc5b5",
   "metadata": {
    "slideshow": {
     "slide_type": "fragment"
    }
   },
   "source": [
    "Finally, we set the initial conditions of the column.\n",
    "We assume, that in the beginning of the process, the stationary phase is fully loaded with  salt."
   ]
  },
  {
   "cell_type": "code",
   "execution_count": null,
   "id": "6909a3b5",
   "metadata": {
    "tags": [
     "solution"
    ]
   },
   "outputs": [],
   "source": [
    "column.c = [180, 0]\n",
    "column.q = [binding_model.capacity, 0]"
   ]
  },
  {
   "cell_type": "markdown",
   "id": "bfc0db53",
   "metadata": {
    "slideshow": {
     "slide_type": "fragment"
    }
   },
   "source": [
    "Now, we run the simulation and plot the results. Because the concentration ranges are very different, we use different scales for both components."
   ]
  },
  {
   "cell_type": "code",
   "execution_count": null,
   "id": "3f493ab0",
   "metadata": {
    "tags": [
     "solution"
    ]
   },
   "outputs": [],
   "source": [
    "from CADETProcess.simulator import Cadet\n",
    "process_simulator = Cadet()\n",
    "\n",
    "simulation_results = process_simulator.simulate(process)\n",
    "\n",
    "from CADETProcess.plotting import SecondaryAxis\n",
    "sec = SecondaryAxis()\n",
    "sec.components = [\"Salt\"]\n",
    "sec.y_label = '$c_{salt}$'\n",
    "\n",
    "_ = simulation_results.solution.column.outlet.plot(secondary_axis=sec)"
   ]
  }
 ],
 "metadata": {
  "jupytext": {
   "formats": "ipynb,md:myst"
  },
  "kernelspec": {
   "display_name": "Python 3 (ipykernel)",
   "language": "python",
   "name": "python3"
  }
 },
 "nbformat": 4,
 "nbformat_minor": 5
}
