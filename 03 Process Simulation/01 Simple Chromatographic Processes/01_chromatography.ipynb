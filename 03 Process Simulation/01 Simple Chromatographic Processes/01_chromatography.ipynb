{
 "cells": [
  {
   "cell_type": "markdown",
   "id": "9f4d0719",
   "metadata": {
    "slideshow": {
     "slide_type": "slide"
    }
   },
   "source": [
    "# Simple Chromatographic Processes"
   ]
  },
  {
   "cell_type": "markdown",
   "id": "be86f490",
   "metadata": {
    "slideshow": {
     "slide_type": "fragment"
    }
   },
   "source": [
    "Liquid chromatography is a technique for the separation of mixtures dissolved in a fluid. That fluid is called the mobile phase, which carries the mixture through a structure holding another material, called the stationary phase."
   ]
  },
  {
   "cell_type": "markdown",
   "id": "3ca767ba",
   "metadata": {
    "slideshow": {
     "slide_type": "fragment"
    }
   },
   "source": [
    "The various components of the mixture interact with different strengths with the stationary phase. Therefore they travel at different speeds, causing them to separate.\n",
    "\n",
    "Different mechanisms can be used for the separation:\n",
    " - adsorption,\n",
    " - ion exchange,\n",
    " - hydrophobic interactions,\n",
    " - size exclusion,\n",
    " - etc.\n",
    "\n",
    "For each mechanism, various stationary phases are available."
   ]
  },
  {
   "cell_type": "markdown",
   "id": "dda6c53e",
   "metadata": {
    "slideshow": {
     "slide_type": "slide"
    }
   },
   "source": [
    "There are broadly speaking, _two_ types of chromatography:\n",
    "\n",
    "__Preparative__ and __analytical__\n",
    "\n",
    "_Preparative_ targets isolation and purification of \"large\" quantities of a substance.\n",
    "\n",
    "_Analytical_ serves to identify or quantify analytes in a mixture.\n",
    "\n",
    "Generally, chromatographic models are used for optimization of _preparative_ processes."
   ]
  },
  {
   "cell_type": "markdown",
   "id": "d2362cd0",
   "metadata": {
    "slideshow": {
     "slide_type": "fragment"
    }
   },
   "source": [
    "For modelling these processes, we have to combine all of the techniques we learnt in the previous lessons:\n",
    "- Configure unit operations models.\n",
    "- Associate adsorption models with unit operations.\n",
    "- Generate dynamic inlet profiles.\n",
    "- Chemical reactions (if required)"
   ]
  },
  {
   "cell_type": "markdown",
   "id": "d74b6224",
   "metadata": {
    "slideshow": {
     "slide_type": "slide"
    }
   },
   "source": [
    "## Example 1: Dextran pulse\n",
    "\n",
    "In this exercise, we will consider the following system:\n",
    "\n",
    "```{figure} ./resources/system.png\n",
    ":width: 50%\n",
    ":align: center\n",
    "```"
   ]
  },
  {
   "cell_type": "markdown",
   "id": "ff8934bb",
   "metadata": {
    "slideshow": {
     "slide_type": "fragment"
    }
   },
   "source": [
    "Simplify the model by using a large, inert molecule:\n",
    "- exclude pore access\n",
    "    - no pore porosity\n",
    "    - no diffusion parameters\n",
    "- exclude binding\n",
    "    - no binding parameters\n",
    "\n",
    "Only:\n",
    "the __bed porosity__ and __axial dispersion__ affect the Dextran pulse."
   ]
  },
  {
   "cell_type": "markdown",
   "id": "6f5e36cc",
   "metadata": {
    "slideshow": {
     "slide_type": "slide"
    }
   },
   "source": [
    "For the column, assume the following parameters which are usually provided by the manufacturer (or can be measured):\n",
    "- length: $0.1~m$\n",
    "- diameter: $0.01~m$\n",
    "- particle radius: $4.5 \\cdot 10^{-5}~m$\n",
    "- flow rate: $10^{-6}/60~m^3 s^{-1}$"
   ]
  },
  {
   "cell_type": "markdown",
   "id": "ca1f0bb2",
   "metadata": {
    "slideshow": {
     "slide_type": "fragment"
    }
   },
   "source": [
    "Moreover, since Dextran does not penetrate pores, the film diffusion coefficient can be set to $0~m \\cdot s^{-1}$."
   ]
  },
  {
   "cell_type": "markdown",
   "id": "7d1e886e",
   "metadata": {
    "slideshow": {
     "slide_type": "fragment"
    }
   },
   "source": [
    "Finally, bed porosity and axial dispersion need to be specified.\n",
    "Usually, these parameters will be estimated using an inverse method (see later tutorials).\n",
    "For now, assume the following values:\n",
    "- bed porosity: $0.37$\n",
    "- axial dispersion: $2.0 \\cdot 10^{-7}~m^2 \\cdot s^{-1}$"
   ]
  },
  {
   "cell_type": "code",
   "execution_count": null,
   "id": "93f0b43a",
   "metadata": {
    "tags": [
     "solution"
    ]
   },
   "outputs": [],
   "source": []
  },
  {
   "cell_type": "markdown",
   "id": "dac66d6e",
   "metadata": {
    "slideshow": {
     "slide_type": "slide"
    }
   },
   "source": [
    "For the injection, we need to Introduce two sections.\n",
    "In the first section, which lasts $50~s$, the concentration of Dextran at the `INLET` is $1.0~mM$, afterwards it is $0.0~mM$.\n",
    "The flow rate is a constant $1~mL \\cdot min^{-1}$.\n",
    "\n",
    "```{figure} ./resources/dextran_inlet.png\n",
    ":width: 50%\n",
    ":align: center\n",
    "```"
   ]
  },
  {
   "cell_type": "code",
   "execution_count": null,
   "id": "9665915f",
   "metadata": {
    "tags": [
     "solution"
    ]
   },
   "outputs": [],
   "source": []
  },
  {
   "cell_type": "markdown",
   "id": "a73da015",
   "metadata": {
    "slideshow": {
     "slide_type": "slide"
    }
   },
   "source": [
    "## Example 2: Multi Component Langmuir Separation\n",
    "\n",
    "Now, we will use the same system, but add `Langmuir` model to the column with two components using batch elution chromatography.\n",
    "This process is often used for the purification of small molecules like amino acids or sugars."
   ]
  },
  {
   "cell_type": "markdown",
   "id": "3ce15b94",
   "metadata": {
    "slideshow": {
     "slide_type": "fragment"
    }
   },
   "source": [
    "For the Langmuir isotherm, use the following parameters:\n",
    "- adsorption rate: $[0.02, 0.03]~m^3 mol^{-1} s^{-1}$\n",
    "- desorption rate: $[1, 1]~s^{-1}$\n",
    "- binding capacity: $[100, 100]~mM$\n",
    "\n",
    "additionally, use these transport parameters:\n",
    "\n",
    "- particle porosity: $0.33$\n",
    "- film diffusion: $10^{-4}$\n",
    "\n",
    "This time, use two `Inlet UnitOperations`, a feed `Inlet` with a concentration of $10 ~mM$ for both components and an eluent `Inlet` with a concentration of $0~mM$."
   ]
  },
  {
   "cell_type": "code",
   "execution_count": null,
   "id": "5dbf337c",
   "metadata": {
    "tags": [
     "solution"
    ]
   },
   "outputs": [],
   "source": []
  },
  {
   "cell_type": "markdown",
   "id": "51afb478",
   "metadata": {
    "slideshow": {
     "slide_type": "slide"
    }
   },
   "source": [
    "Again, we create two sections to model the injections. This time by turning off the flow rate of the feed `Inlet` and turning on the flow rate of the eluent `Inlet`."
   ]
  },
  {
   "cell_type": "code",
   "execution_count": null,
   "id": "128144ef",
   "metadata": {
    "tags": [
     "solution"
    ]
   },
   "outputs": [],
   "source": []
  },
  {
   "cell_type": "markdown",
   "id": "3c6cb116",
   "metadata": {
    "slideshow": {
     "slide_type": "slide"
    }
   },
   "source": [
    "### A Note on Event Dependencies\n",
    "\n",
    "Often, multiple `Events` happen simulateneously.\n",
    "Here, for example, when the feed is turned off, the eluent also needs to be switched on.\n",
    "To eliminate the need to manually change all event times, dependencies can be specified using `add_event_dependency`."
   ]
  },
  {
   "cell_type": "code",
   "execution_count": null,
   "id": "4af59910",
   "metadata": {
    "tags": [
     "solution"
    ]
   },
   "outputs": [],
   "source": []
  },
  {
   "cell_type": "markdown",
   "id": "633acad2",
   "metadata": {},
   "source": [
    "You can see all the dependent events with the `.dependent_events` method"
   ]
  },
  {
   "cell_type": "code",
   "execution_count": null,
   "id": "fe48c1ae",
   "metadata": {
    "tags": [
     "solution"
    ]
   },
   "outputs": [],
   "source": []
  },
  {
   "cell_type": "markdown",
   "id": "445d7b4b",
   "metadata": {},
   "source": [
    "Now simulate and plot the results."
   ]
  },
  {
   "cell_type": "code",
   "execution_count": null,
   "id": "2ac1dffd",
   "metadata": {
    "tags": [
     "solution"
    ]
   },
   "outputs": [],
   "source": []
  },
  {
   "cell_type": "markdown",
   "id": "09fa47dd",
   "metadata": {
    "slideshow": {
     "slide_type": "slide"
    }
   },
   "source": [
    "## Example 3: Load wash elute with Steric Mass Action law binding\n",
    "\n",
    "The [Steric Mass Action model](https://cadet.github.io/master/modelling/binding/steric_mass_action.html#steric-mass-action-model) takes charges of the molecules into account and is, thus, often used in ion-exchange chromatography.\n",
    "Each component has a characteristic charge $\\nu$ that determines the number of available binding sites $\\Lambda$ (ionic capacity) used up by a molecule.\n",
    "Due to the molecule’s shape, some additional binding sites (steric shielding factor $\\sigma$) may be shielded from other molecules and are not available for binding."
   ]
  },
  {
   "cell_type": "markdown",
   "id": "8c7427b4",
   "metadata": {
    "slideshow": {
     "slide_type": "fragment"
    }
   },
   "source": [
    "The model is given by this eqution:\n",
    "\n",
    "$$\\frac{\\mathrm{d} q_i}{\\mathrm{d} t} = k_{a,i} c_{p,i}\\bar{q}_0^{\\nu_i} - k_{d,i} q_i c_{p,0}^{\\nu_i}$$\n",
    "\n",
    "where $c_{p,0}$ denotes the mobile phase salt concentration, and"
   ]
  },
  {
   "cell_type": "markdown",
   "id": "c122598d",
   "metadata": {
    "slideshow": {
     "slide_type": "fragment"
    }
   },
   "source": [
    "$$\\bar{q}_0 = \\Lambda - \\sum_{j=1}^{N_{\\text{comp}} - 1} \\left( \\nu_j + \\sigma_j \\right) q_j$$\n",
    "\n",
    "is the number of available binding sites."
   ]
  },
  {
   "cell_type": "markdown",
   "id": "cfce0218",
   "metadata": {
    "slideshow": {
     "slide_type": "slide"
    }
   },
   "source": [
    "Using the parameter transformation\n",
    "\n",
    "$$k_{a,i} = \\tilde{k}_{a,i} q_{\\text{ref}}^{-\\nu_i}$$\n",
    "\n",
    "$$k_{d,i} = \\tilde{k}_{d,i} c_{\\text{ref}}^{-\\nu_i}$$"
   ]
  },
  {
   "cell_type": "markdown",
   "id": "5b1f33e9",
   "metadata": {
    "slideshow": {
     "slide_type": "fragment"
    }
   },
   "source": [
    "we obtain the modified model equation:\n",
    "\n",
    "$$\\frac{\\mathrm{d} q_i}{\\mathrm{d} t} = \\tilde{k}_{a,i} c_{p,i} \\left(\\frac{\\bar{q}_0}{q_{\\text{ref}}}\\right)^{\\nu_i} - \\tilde{k}_{d,i} q_i \\left(\\frac{c_{p,0}}{c_{\\text{ref}}}\\right)^{\\nu_i}$$"
   ]
  },
  {
   "cell_type": "markdown",
   "id": "7d10a8eb",
   "metadata": {
    "slideshow": {
     "slide_type": "fragment"
    }
   },
   "source": [
    "This transformation serves as a (partial) nondimensionalization of the adsorption and desorption rates."
   ]
  },
  {
   "cell_type": "markdown",
   "id": "2a6cd7f6",
   "metadata": {
    "slideshow": {
     "slide_type": "fragment"
    }
   },
   "source": [
    "The basic goal is to have $\\left(\\frac{\\bar{q}_0}{q_{\\text{ref}}}\\right) \\leq 1$ and $\\left(\\frac{c_{p,0}}{c_{\\text{ref}}}\\right) \\leq 1$\n",
    "\n",
    "Recommended choices for $c_{\\text{ref}}$ are the average or maximum inlet concentration of the mobile phase modifier $c_0$, and for $q_{\\text{ref}}$ the ionic capacity $\\Lambda$.\n",
    "Note that setting the reference concentrations to ${1.0}$ each results in the original binding model."
   ]
  },
  {
   "cell_type": "markdown",
   "id": "1c0f1be8",
   "metadata": {
    "slideshow": {
     "slide_type": "fragment"
    }
   },
   "source": [
    "```{note}\n",
    "From a practical perspective, modern resins have a very high capacity and large proteins can can have a very high charactistic charge.\n",
    "If the concentration is not normalized, the system is often numerically unstable.\n",
    "It may run slowly or not at all.\n",
    "```"
   ]
  },
  {
   "cell_type": "markdown",
   "id": "b5fc5236",
   "metadata": {
    "slideshow": {
     "slide_type": "slide"
    }
   },
   "source": [
    "In this example, we will look at a typical process for protein purification.\n",
    "\n",
    "1. First, a protein salt mixture is loaded on the column and binds to the resin.\n",
    "2. Then, the column is washed with a lower concentrated salt solution.\n",
    "3. Finally, the protein is eluted by adding a linear salt gradient.\n",
    "\n",
    "```{figure} ./resources/lwe_inlet.png\n",
    ":width: 80%\n",
    ":align: center\n",
    "\n",
    "```"
   ]
  },
  {
   "cell_type": "markdown",
   "id": "cfe9aaf7",
   "metadata": {
    "slideshow": {
     "slide_type": "fragment"
    }
   },
   "source": [
    "First, define the `ComponentSystem` and the parameters for the `StericMassAction` model.\n",
    "As mentioned earlier, consider a reference concentration in the pore for numeric purposes."
   ]
  },
  {
   "cell_type": "code",
   "execution_count": null,
   "id": "a71ae9c7",
   "metadata": {
    "tags": [
     "solution"
    ]
   },
   "outputs": [],
   "source": []
  },
  {
   "cell_type": "markdown",
   "id": "2c35ca5a",
   "metadata": {},
   "source": [
    "Then, we define the system of unit operations."
   ]
  },
  {
   "cell_type": "code",
   "execution_count": null,
   "id": "a234afd6",
   "metadata": {
    "tags": [
     "solution"
    ]
   },
   "outputs": [],
   "source": []
  },
  {
   "cell_type": "markdown",
   "id": "cbbcbaf0",
   "metadata": {
    "slideshow": {
     "slide_type": "fragment"
    }
   },
   "source": [
    "The protein is loaded for $7500 s$, then there is a wash step, which takes $2000 s$, and the gradient takes another $5500 s$."
   ]
  },
  {
   "cell_type": "code",
   "execution_count": null,
   "id": "be7156b5",
   "metadata": {
    "tags": [
     "solution"
    ]
   },
   "outputs": [],
   "source": []
  },
  {
   "cell_type": "markdown",
   "id": "25c89b1a",
   "metadata": {
    "slideshow": {
     "slide_type": "fragment"
    }
   },
   "source": [
    "Finally, we set the initial conditions of the column.\n",
    "We assume, that in the beginning of the process, the stationary phase is fully loaded with  salt."
   ]
  },
  {
   "cell_type": "code",
   "execution_count": null,
   "id": "94f03d45",
   "metadata": {
    "tags": [
     "solution"
    ]
   },
   "outputs": [],
   "source": []
  },
  {
   "cell_type": "markdown",
   "id": "ad595b65",
   "metadata": {
    "slideshow": {
     "slide_type": "fragment"
    }
   },
   "source": [
    "Now, we run the simulation and plot the results. Because the concentration ranges are very different, we use different scales for both components."
   ]
  },
  {
   "cell_type": "code",
   "execution_count": null,
   "id": "cb9c7172",
   "metadata": {
    "tags": [
     "solution"
    ]
   },
   "outputs": [],
   "source": []
  }
 ],
 "metadata": {
  "jupytext": {
   "formats": "ipynb,md:myst"
  },
  "kernelspec": {
   "display_name": "Python 3 (ipykernel)",
   "language": "python",
   "name": "python3"
  }
 },
 "nbformat": 4,
 "nbformat_minor": 5
}
