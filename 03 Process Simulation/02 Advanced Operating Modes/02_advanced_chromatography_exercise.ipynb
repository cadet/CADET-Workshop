{
 "cells": [
  {
   "cell_type": "markdown",
   "id": "07384cbe",
   "metadata": {
    "slideshow": {
     "slide_type": "slide"
    }
   },
   "source": [
    "# Advanced Chromatographic Processes - Exercises\n",
    "\n",
    "\n",
    "## Exercise 1: Modelling dispersion of valves and tubing\n",
    "\n",
    "Take the example from the lesson and add tubing using a `TubularReactor` with $L_c = 0.5~m$, $A_c = 1 \\cdot 10^{-5}~m^2$, and $D_{ax} = 1 \\cdot 10^{-5}~m^2 \\cdot s^{-1}$.\n",
    "\n",
    "***Task:*** Plot the inlet and outlet of every unit operation and compare the results to a system without any considerations for valving and tubing."
   ]
  },
  {
   "cell_type": "code",
   "execution_count": null,
   "id": "5fdb06a4",
   "metadata": {
    "tags": [
     "solution"
    ]
   },
   "outputs": [],
   "source": []
  },
  {
   "cell_type": "code",
   "execution_count": null,
   "id": "23df1b2a",
   "metadata": {
    "tags": [
     "solution"
    ]
   },
   "outputs": [],
   "source": []
  },
  {
   "cell_type": "markdown",
   "id": "1bf9fb39",
   "metadata": {
    "slideshow": {
     "slide_type": "slide"
    }
   },
   "source": [
    "## Example 2: Carousel System\n",
    "\n",
    "Consider the following multi column system:\n",
    "\n",
    "```{figure} ./resources/carousel.png\n",
    ":width: 50%\n",
    ":align: center\n",
    "```\n",
    "There exist four zones in this system:\n",
    "- Wash: 3 columns in series\n",
    "- Feed: 3 columns in parallel\n",
    "- Dilute: 2 columns in series; reverse flow\n",
    "- Elute: 2 Columns in series"
   ]
  },
  {
   "cell_type": "code",
   "execution_count": null,
   "id": "03408ca8",
   "metadata": {
    "tags": [
     "solution"
    ]
   },
   "outputs": [],
   "source": []
  },
  {
   "cell_type": "markdown",
   "id": "ff57a1cc",
   "metadata": {
    "slideshow": {
     "slide_type": "slide"
    }
   },
   "source": [
    "Now the zones are set up and the reverse flow is set in the dilution zone."
   ]
  },
  {
   "cell_type": "code",
   "execution_count": null,
   "id": "ad6a71f2",
   "metadata": {
    "tags": [
     "solution"
    ]
   },
   "outputs": [],
   "source": []
  },
  {
   "cell_type": "markdown",
   "id": "ebd3ab8f",
   "metadata": {
    "slideshow": {
     "slide_type": "slide"
    }
   },
   "source": [
    "As in the previous example, the units and zones are added and connected in the CarouselBuilder"
   ]
  },
  {
   "cell_type": "code",
   "execution_count": null,
   "id": "496601af",
   "metadata": {
    "tags": [
     "solution"
    ]
   },
   "outputs": [],
   "source": []
  }
 ],
 "metadata": {
  "jupytext": {
   "formats": "ipynb,md:myst"
  },
  "kernelspec": {
   "display_name": "Python 3 (ipykernel)",
   "language": "python",
   "name": "python3"
  }
 },
 "nbformat": 4,
 "nbformat_minor": 5
}
