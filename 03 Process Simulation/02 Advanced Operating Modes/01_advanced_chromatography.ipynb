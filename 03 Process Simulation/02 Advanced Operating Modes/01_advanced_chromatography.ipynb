{
 "cells": [
  {
   "cell_type": "markdown",
   "id": "cafbd6cb",
   "metadata": {},
   "source": [
    "# Advanced Chromatographic Processes\n",
    "\n",
    "In this lesson we will learn how to create more complex models with binding, multiple components, and multiple unit operations"
   ]
  },
  {
   "cell_type": "markdown",
   "id": "0adf14a5",
   "metadata": {
    "slideshow": {
     "slide_type": "slide"
    }
   },
   "source": [
    "## Example 1: Modelling dispersion of valves and tubing\n",
    "\n",
    "A real system does not have an inlet connected directly to the column which connects directly to the outlet.\n",
    "Real systems have tubes and mixing valves.\n",
    "If they are not accounted for, the pulse that arrives at the column inlet will be far too sharp.\n",
    "Moreover, the measured output signal from your column will be appear more diffuse than the real column outlet, because it will have spent time in tubing between the outlet and the detector."
   ]
  },
  {
   "cell_type": "markdown",
   "id": "d3dd6e63",
   "metadata": {
    "slideshow": {
     "slide_type": "fragment"
    }
   },
   "source": [
    "We can model this, by introducing additional unit operations that can account for the time shift and dispersion that is introduced by the periphery of the column.\n",
    "For this example, we will model the mixer at the inlet using a `Cstr`."
   ]
  },
  {
   "cell_type": "markdown",
   "id": "f44a5cd8",
   "metadata": {
    "slideshow": {
     "slide_type": "fragment"
    }
   },
   "source": [
    "Moreover, in this example we will use two `Inlets` and modify `flow_rate` to create the inlet profile.\n",
    "\n",
    "```{figure} ./resources/valve_mixer.png\n",
    ":width: 50%\n",
    ":align: center\n",
    "```"
   ]
  },
  {
   "cell_type": "markdown",
   "id": "95420bd8",
   "metadata": {
    "slideshow": {
     "slide_type": "slide"
    }
   },
   "source": [
    "For the column, assume the following parameters which are usually provided by the manufacturer (or can be measured):\n",
    "- length: $0.1~m$\n",
    "- diameter: $0.01~m$\n",
    "- bed porosity: $0.37$\n",
    "- particle radius: $4.5 \\cdot 10^{-5}~m$\n",
    "- particle porosity: $0.33$\n",
    "- axial dispersion: $2.0 \\cdot 10^{-7}~m^2 \\cdot s^{-1}$"
   ]
  },
  {
   "cell_type": "markdown",
   "id": "ebbcbd7a",
   "metadata": {
    "slideshow": {
     "slide_type": "fragment"
    }
   },
   "source": [
    "For the Langmuir isotherm, use the following parameters:\n",
    "- adsorption rate: $[0.02, 0.03]~m^3 mol^{-1} s^{-1}$\n",
    "- desorption rate: $[1, 1]~s^{-1}$\n",
    "- binding capacity: $[100, 100]~mM$"
   ]
  },
  {
   "cell_type": "markdown",
   "id": "28e0c12f",
   "metadata": {
    "slideshow": {
     "slide_type": "fragment"
    }
   },
   "source": [
    "For the tank, assume a volume of $1 mL$.\n",
    "\n",
    "Moreover, consider a flow rate of $1~mL/min$, a feed concentration of $10~mM$, and a feed duration of $60~s$."
   ]
  },
  {
   "cell_type": "code",
   "execution_count": null,
   "id": "5d8b7508",
   "metadata": {
    "tags": [
     "solution"
    ]
   },
   "outputs": [],
   "source": [
    "Q = 1e-6/60\n",
    "\n",
    "from CADETProcess.processModel import ComponentSystem\n",
    "from CADETProcess.processModel import Langmuir\n",
    "from CADETProcess.processModel import (\n",
    "    Inlet, Cstr, LumpedRateModelWithPores, Outlet\n",
    ")\n",
    "from CADETProcess.processModel import FlowSheet\n",
    "from CADETProcess.processModel import Process\n",
    "\n",
    "# Component System\n",
    "component_system = ComponentSystem(['A', 'B'])\n",
    "\n",
    "# Binding Model\n",
    "binding_model = Langmuir(component_system, name='langmuir')\n",
    "binding_model.is_kinetic = False\n",
    "binding_model.adsorption_rate = [0.02, 0.03]\n",
    "binding_model.desorption_rate = [1, 1]\n",
    "binding_model.capacity = [100, 100]\n",
    "\n",
    "# Unit Operations\n",
    "feed = Inlet(component_system, name='feed')\n",
    "feed.c = [10, 10]\n",
    "\n",
    "eluent = Inlet(component_system, name='eluent')\n",
    "eluent.c = [0, 0]\n",
    "\n",
    "# Mixer\n",
    "valve = Cstr(component_system, 'valve')\n",
    "valve.V = 1e-6\n",
    "valve.flow_rate = Q\n",
    "\n",
    "# Column\n",
    "column = LumpedRateModelWithPores(component_system, 'column')\n",
    "column.binding_model = binding_model\n",
    "column.length = 0.1\n",
    "column.diameter = 0.01\n",
    "column.bed_porosity = 0.37\n",
    "column.particle_radius = 4.5e-5\n",
    "column.particle_porosity = 0.33\n",
    "column.axial_dispersion = 2.0e-7\n",
    "column.film_diffusion = [1e-4, 1e-4]\n",
    "\n",
    "outlet = Outlet(component_system, name='outlet')\n",
    "\n",
    "# Flow Sheet\n",
    "flow_sheet = FlowSheet(component_system)\n",
    "\n",
    "flow_sheet.add_unit(feed)\n",
    "flow_sheet.add_unit(eluent)\n",
    "flow_sheet.add_unit(valve)\n",
    "flow_sheet.add_unit(column)\n",
    "flow_sheet.add_unit(outlet)\n",
    "\n",
    "flow_sheet.add_connection(feed, valve)\n",
    "flow_sheet.add_connection(eluent, valve)\n",
    "flow_sheet.add_connection(valve, column)\n",
    "flow_sheet.add_connection(column, outlet)\n",
    "\n",
    "# Process\n",
    "process = Process(flow_sheet, 'batch elution')\n",
    "\n",
    "## Create Events and Durations\n",
    "process.add_event('feed_on', 'flow_sheet.feed.flow_rate', Q, 0)\n",
    "process.add_event('feed_off', 'flow_sheet.feed.flow_rate', 0.0, 60)\n",
    "\n",
    "process.add_event('eluent_off', 'flow_sheet.eluent.flow_rate', 0.0, 0)\n",
    "process.add_event('eluent_on', 'flow_sheet.eluent.flow_rate', Q, 60)\n",
    "\n",
    "## Set Process Times\n",
    "process.cycle_time = 1200"
   ]
  },
  {
   "cell_type": "markdown",
   "id": "dae5f2b0",
   "metadata": {
    "slideshow": {
     "slide_type": "slide"
    }
   },
   "source": [
    "Now simulate and plot the results."
   ]
  },
  {
   "cell_type": "code",
   "execution_count": null,
   "id": "5444c544",
   "metadata": {
    "tags": [
     "solution"
    ]
   },
   "outputs": [],
   "source": [
    "from CADETProcess.simulator import Cadet\n",
    "process_simulator = Cadet()\n",
    "\n",
    "simulation_results = process_simulator.simulate(process)\n",
    "_ = simulation_results.solution.column.inlet.plot()\n",
    "_ = simulation_results.solution.column.outlet.plot()"
   ]
  },
  {
   "cell_type": "markdown",
   "id": "0ae8e686",
   "metadata": {
    "slideshow": {
     "slide_type": "slide"
    }
   },
   "source": [
    "## Simulated Moving Bed (Cyclic Systems)\n",
    "\n",
    "For many applications, the use of multiple columns can improve process performance when compared with conventional batch elution processes.\n",
    "Next to the well known simulated moving bed (SMB) many other operating modes exist which extend the use of multiple columns, e.g. Varicol, or PowerFeed processes and gradient operations."
   ]
  },
  {
   "cell_type": "markdown",
   "id": "3f9ece2e",
   "metadata": {
    "slideshow": {
     "slide_type": "fragment"
    }
   },
   "source": [
    "In all of the aforementioned processes, multiple chromatographic columns are mounted to a rotating column carousel and a central multiport switching valve distributes in- and outgoing streams to and from the columns. After a given time, the column positions are moved to the next position in the carousel. In this process, the columns pass through different zones which serve different purposes."
   ]
  },
  {
   "cell_type": "markdown",
   "id": "b77c491a",
   "metadata": {
    "slideshow": {
     "slide_type": "slide"
    }
   },
   "source": [
    "For example, in a classical SMB, four zones are present (see Figure below)\n",
    "\n",
    "- Zone I: Elution of the strongly adsorbing component\n",
    "- Zone II: Elution of the weakly adsorbing component\n",
    "- Zone III: Adsorption of the strongly adsorbing component\n",
    "- Zone IV : Adsorption of the weakly adsorbing component\n",
    "\n",
    "```{figure} ./resources/smb.png\n",
    ":width: 50%\n",
    ":align: center\n",
    "```"
   ]
  },
  {
   "cell_type": "markdown",
   "id": "8df5c349",
   "metadata": {
    "slideshow": {
     "slide_type": "fragment"
    }
   },
   "source": [
    "Moreover, four in- and outlets are connected to the zones:\n",
    "- Feed: Inlet containing the components to be separated\n",
    "- Eluent: Inlet with elution buffer\n",
    "- Extract: Outlet containing the strongly adsorbing component\n",
    "- Raffinate: Outlet containing the weakly adsorbing component\n",
    "\n",
    "To facilitate the configuration of complex SMB, carousel, or other multi column systems systems, a CarouselBuilder was implemented in CADET-Process.\n",
    "It allows a straight-forward configuration of the zones and returns a fully configured Process object including all internal connections, as well as switching events."
   ]
  },
  {
   "cell_type": "markdown",
   "id": "b365eab6",
   "metadata": {
    "slideshow": {
     "slide_type": "slide"
    }
   },
   "source": [
    "Before configuring the zones, the binding and column models are configured.\n",
    "The column is later used as a template for all columns in the system."
   ]
  },
  {
   "cell_type": "code",
   "execution_count": null,
   "id": "1e57452e",
   "metadata": {
    "tags": [
     "solution"
    ]
   },
   "outputs": [],
   "source": [
    "from CADETProcess.processModel import ComponentSystem\n",
    "component_system = ComponentSystem(2)\n",
    "\n",
    "# Binding Model\n",
    "from CADETProcess.processModel import Linear\n",
    "binding_model = Linear(component_system)\n",
    "binding_model.adsorption_rate = [6, 8]\n",
    "binding_model.desorption_rate = [1, 1]\n",
    "\n",
    "from CADETProcess.processModel import LumpedRateModelWithoutPores\n",
    "column = LumpedRateModelWithoutPores(component_system, name='master_column')\n",
    "column.length = 0.6\n",
    "column.diameter = 0.024\n",
    "column.axial_dispersion = 4.7e-7\n",
    "column.total_porosity = 0.7\n",
    "\n",
    "column.binding_model = binding_model"
   ]
  },
  {
   "cell_type": "markdown",
   "id": "0c19663e",
   "metadata": {
    "slideshow": {
     "slide_type": "slide"
    }
   },
   "source": [
    "Now, the inlets and outlets of the system are configured:"
   ]
  },
  {
   "cell_type": "code",
   "execution_count": null,
   "id": "05e854f6",
   "metadata": {
    "tags": [
     "solution"
    ]
   },
   "outputs": [],
   "source": [
    "from CADETProcess.processModel import Inlet, Outlet\n",
    "feed = Inlet(component_system, name='feed')\n",
    "feed.c = [10, 10]\n",
    "feed.flow_rate = 2e-7\n",
    "eluent = Inlet(component_system, name='eluent')\n",
    "eluent.c = [0, 0]\n",
    "eluent.flow_rate = 6e-7\n",
    "\n",
    "raffinate = Outlet(component_system, name='raffinate')\n",
    "extract = Outlet(component_system, name='extract')"
   ]
  },
  {
   "cell_type": "markdown",
   "id": "94b93066",
   "metadata": {
    "slideshow": {
     "slide_type": "slide"
    }
   },
   "source": [
    "To allow more complicated systems, CADET-Process provides two options for configuring zones, a SerialZone and a ParallelZone.\n",
    "For both, the number of columns in the zone needs to be specified.\n",
    "Since here all the zones only consist of one column, either can be used."
   ]
  },
  {
   "cell_type": "code",
   "execution_count": null,
   "id": "1d04b96a",
   "metadata": {
    "tags": [
     "solution"
    ]
   },
   "outputs": [],
   "source": [
    "from CADETProcess.modelBuilder import SerialZone, ParallelZone\n",
    "\n",
    "zone_I = SerialZone(component_system, 'zone_I', 1)\n",
    "zone_II = SerialZone(component_system, 'zone_II', 1)\n",
    "zone_III = SerialZone(component_system, 'zone_III', 1)\n",
    "zone_IV = SerialZone(component_system, 'zone_IV', 1)"
   ]
  },
  {
   "cell_type": "markdown",
   "id": "13faf1c5",
   "metadata": {
    "slideshow": {
     "slide_type": "slide"
    }
   },
   "source": [
    "The CarouselBuilder can now be used like a regular FlowSheet where the zones are conceptually used like other UnitOperations.\n",
    "After initializing the CarouselBuilder, the column template is assigned and all units and zones are added."
   ]
  },
  {
   "cell_type": "code",
   "execution_count": null,
   "id": "5d0c5142",
   "metadata": {
    "tags": [
     "solution"
    ]
   },
   "outputs": [],
   "source": [
    "from CADETProcess.modelBuilder import CarouselBuilder\n",
    "\n",
    "builder = CarouselBuilder(component_system, 'smb')\n",
    "builder.column = column\n",
    "builder.add_unit(feed)\n",
    "builder.add_unit(eluent)\n",
    "\n",
    "builder.add_unit(raffinate)\n",
    "builder.add_unit(extract)\n",
    "\n",
    "builder.add_unit(zone_I)\n",
    "builder.add_unit(zone_II)\n",
    "builder.add_unit(zone_III)\n",
    "builder.add_unit(zone_IV)"
   ]
  },
  {
   "cell_type": "markdown",
   "id": "517ad6cf",
   "metadata": {
    "slideshow": {
     "slide_type": "slide"
    }
   },
   "source": [
    "Now, the connections are added to the builder.\n",
    "To define split streams, the output_state is used which sets the ratio between outgoing streams of a unit operation in the flow sheet."
   ]
  },
  {
   "cell_type": "code",
   "execution_count": null,
   "id": "b9859b5a",
   "metadata": {
    "tags": [
     "solution"
    ]
   },
   "outputs": [],
   "source": [
    "builder.add_connection(eluent, zone_I)\n",
    "\n",
    "builder.add_connection(zone_I, extract)\n",
    "builder.add_connection(zone_I, zone_II)\n",
    "w_e = 0.15\n",
    "builder.set_output_state(zone_I, [w_e, 1-w_e])\n",
    "\n",
    "builder.add_connection(zone_II, zone_III)\n",
    "\n",
    "builder.add_connection(feed, zone_III)\n",
    "\n",
    "builder.add_connection(zone_III, raffinate)\n",
    "builder.add_connection(zone_III, zone_IV)\n",
    "w_r = 0.15\n",
    "builder.set_output_state(zone_III, [w_r, 1-w_r])\n",
    "\n",
    "builder.add_connection(zone_IV, zone_I)"
   ]
  },
  {
   "cell_type": "markdown",
   "id": "0b7051c3",
   "metadata": {
    "slideshow": {
     "slide_type": "slide"
    }
   },
   "source": [
    "Now, the switch time is assigned to the builder which determines after how much time a column is switched to the next position.\n",
    "By calling the build_process() method, a regular Process object is constructed which can be simulated just as usual using CADET.\n",
    "It contains the assembled flow sheet with all columns, as well as the events required for simulation."
   ]
  },
  {
   "cell_type": "code",
   "execution_count": null,
   "id": "d6485f14",
   "metadata": {
    "tags": [
     "solution"
    ]
   },
   "outputs": [],
   "source": [
    "builder.switch_time = 300\n",
    "process = builder.build_process()"
   ]
  },
  {
   "cell_type": "markdown",
   "id": "25b8abb4",
   "metadata": {
    "slideshow": {
     "slide_type": "slide"
    }
   },
   "source": [
    "Since multi column systems often exhibit a transient startup behavior, it might be useful to simulate multiple cycles until cyclic stationarity is reached (see Cyclic Stationarity).\n",
    "Because this simulation is computationally expensive, only a few simulations are run here.\n",
    "Please run this simulation locally to see the full results."
   ]
  },
  {
   "cell_type": "code",
   "execution_count": null,
   "id": "3caf926e",
   "metadata": {
    "tags": [
     "solution"
    ]
   },
   "outputs": [],
   "source": [
    "from CADETProcess.simulator import Cadet\n",
    "\n",
    "process_simulator = Cadet()\n",
    "# process_simulator.evaluate_stationarity = True\n",
    "process_simulator.n_cycles = 3\n",
    "\n",
    "simulation_results = process_simulator.simulate(process)"
   ]
  },
  {
   "cell_type": "markdown",
   "id": "1e53f449",
   "metadata": {
    "slideshow": {
     "slide_type": "slide"
    }
   },
   "source": [
    "The results can now be plotted.\n",
    "For example, this is how the concentration profiles of the raffinate and extract outlets are plotted:"
   ]
  },
  {
   "cell_type": "code",
   "execution_count": null,
   "id": "7f14239f",
   "metadata": {
    "tags": [
     "solution"
    ]
   },
   "outputs": [],
   "source": [
    "_ = simulation_results.solution.raffinate.inlet.plot()\n",
    "_ = simulation_results.solution.extract.inlet.plot()"
   ]
  }
 ],
 "metadata": {
  "jupytext": {
   "formats": "ipynb,md:myst"
  },
  "kernelspec": {
   "display_name": "Python 3 (ipykernel)",
   "language": "python",
   "name": "python3"
  }
 },
 "nbformat": 4,
 "nbformat_minor": 5
}
