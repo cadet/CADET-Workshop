{
 "cells": [
  {
   "cell_type": "markdown",
   "id": "c508feab",
   "metadata": {},
   "source": [
    "# Importing packages and introduction to Numpy/Scipy/Matplotlib\n",
    "Python capabilities are extended with many useful packages. A few of the packages that we'll use in this class are:\n",
    "\n",
    "- [NumPy](https://www.numpy.org/) for array-computing\n",
    "- [SciPy](https://www.scipy.org/) for numerical routines\n",
    "- [Matplotlib](https://www.matplotlib.org/) for data visualization\n",
    "\n",
    "You can import a package with ```import package as pk``` where ```package``` is the package name and ```pk``` is the abbreviated name.\n",
    "\n",
    "\n",
    "***Task:*** Import the ```numpy``` package as ```np``` (shortened name) and get help on the ```np.linspace``` function."
   ]
  },
  {
   "cell_type": "code",
   "execution_count": null,
   "id": "3320680f",
   "metadata": {
    "tags": [
     "solution"
    ]
   },
   "outputs": [],
   "source": [
    "import numpy as np\n",
    "help(np.linspace)"
   ]
  },
  {
   "cell_type": "markdown",
   "id": "b0ab46d8",
   "metadata": {},
   "source": [
    "***Task:*** Use ```np.linspace``` to define 20 equally spaced values between $0$ and $2\\,\\pi$. Name the variable ```x``` and use the built-in ```np.pi``` constant for $\\pi$."
   ]
  },
  {
   "cell_type": "code",
   "execution_count": null,
   "id": "4712b489",
   "metadata": {
    "tags": [
     "solution"
    ]
   },
   "outputs": [],
   "source": [
    "x = np.linspace(0,2*np.pi,20)\n",
    "print(x)"
   ]
  },
  {
   "cell_type": "markdown",
   "id": "2f87f9c2",
   "metadata": {},
   "source": [
    "***Task:*** Use ```np.sin``` to calculate a new variable ```y``` as $y=2\\,\\sin{\\left(\\frac{x}{2}\\right)}$."
   ]
  },
  {
   "cell_type": "code",
   "execution_count": null,
   "id": "cc80c83f",
   "metadata": {
    "tags": [
     "solution"
    ]
   },
   "outputs": [],
   "source": [
    "y = 2*np.sin(x/2)\n",
    "print(y)"
   ]
  },
  {
   "cell_type": "markdown",
   "id": "21c5386e",
   "metadata": {},
   "source": [
    "***Task:*** Import the ```matplotlib.pyplot``` package as ```plt``` (shortened name) and show the help on the ```plt.plot``` function."
   ]
  },
  {
   "cell_type": "code",
   "execution_count": null,
   "id": "6e3cc357",
   "metadata": {
    "tags": [
     "solution"
    ]
   },
   "outputs": [],
   "source": [
    "import matplotlib.pyplot as plt\n",
    "help(plt.plot)"
   ]
  },
  {
   "cell_type": "markdown",
   "id": "e4cc5238",
   "metadata": {},
   "source": [
    "***Task:*** Create a plot of ```x``` and ```y``` with the ```plt.plot``` function. Add an x-label with ```plt.xlabel``` and a y-label with ```plt.ylabel```."
   ]
  },
  {
   "cell_type": "code",
   "execution_count": null,
   "id": "4bd1c3ce",
   "metadata": {
    "tags": [
     "solution"
    ]
   },
   "outputs": [],
   "source": [
    "plt.plot(x,y,label='y=2*sin(x/2)')\n",
    "plt.xlabel('x')\n",
    "plt.ylabel('y')\n",
    "\n",
    "z = np.cos(x)\n",
    "plt.plot(x,z,label='cos(x)')\n",
    "\n",
    "plt.title('Trigonometry Functions')\n",
    "plt.legend()"
   ]
  }
 ],
 "metadata": {
  "jupytext": {
   "formats": "ipynb,md:myst"
  },
  "kernelspec": {
   "display_name": "Python 3 (ipykernel)",
   "language": "python",
   "name": "python3"
  }
 },
 "nbformat": 4,
 "nbformat_minor": 5
}
