{
 "cells": [
  {
   "cell_type": "markdown",
   "id": "0607ad49",
   "metadata": {},
   "source": [
    "# Importing packages and introduction to Numpy/Scipy/Matplotlib\n",
    "Python capabilities are extended with many useful packages. A few of the packages that we'll use in this class are:\n",
    "\n",
    "- [NumPy](https://www.numpy.org/) for array-computing\n",
    "- [SciPy](https://www.scipy.org/) for numerical routines\n",
    "- [Matplotlib](https://www.matplotlib.org/) for data visualization\n",
    "\n",
    "You can import a package with ```import package as pk``` where ```package``` is the package name and ```pk``` is the abbreviated name.\n",
    "\n",
    "\n",
    "***Task:*** Import the ```numpy``` package as ```np``` (shortened name) and get help on the ```np.linspace``` function."
   ]
  },
  {
   "cell_type": "code",
   "execution_count": null,
   "id": "6f1af2be",
   "metadata": {
    "tags": [
     "solution"
    ]
   },
   "outputs": [],
   "source": []
  },
  {
   "cell_type": "markdown",
   "id": "3b28796c",
   "metadata": {},
   "source": [
    "***Task:*** Use ```np.linspace``` to define 20 equally spaced values between $0$ and $2\\,\\pi$. Name the variable ```x``` and use the built-in ```np.pi``` constant for $\\pi$."
   ]
  },
  {
   "cell_type": "code",
   "execution_count": null,
   "id": "38dfebd3",
   "metadata": {
    "tags": [
     "solution"
    ]
   },
   "outputs": [],
   "source": []
  },
  {
   "cell_type": "markdown",
   "id": "0410b693",
   "metadata": {},
   "source": [
    "***Task:*** Use ```np.sin``` to calculate a new variable ```y``` as $y=2\\,\\sin{\\left(\\frac{x}{2}\\right)}$."
   ]
  },
  {
   "cell_type": "code",
   "execution_count": null,
   "id": "8e2b4880",
   "metadata": {
    "tags": [
     "solution"
    ]
   },
   "outputs": [],
   "source": []
  },
  {
   "cell_type": "markdown",
   "id": "d7dec11f",
   "metadata": {},
   "source": [
    "***Task:*** Import the ```matplotlib.pyplot``` package as ```plt``` (shortened name) and show the help on the ```plt.plot``` function."
   ]
  },
  {
   "cell_type": "code",
   "execution_count": null,
   "id": "07148590",
   "metadata": {
    "tags": [
     "solution"
    ]
   },
   "outputs": [],
   "source": []
  },
  {
   "cell_type": "markdown",
   "id": "354d89af",
   "metadata": {},
   "source": [
    "***Task:*** Create a plot of ```x``` and ```y``` with the ```plt.plot``` function. Add an x-label with ```plt.xlabel``` and a y-label with ```plt.ylabel```."
   ]
  },
  {
   "cell_type": "code",
   "execution_count": null,
   "id": "7dc5cb83",
   "metadata": {
    "tags": [
     "solution"
    ]
   },
   "outputs": [],
   "source": []
  }
 ],
 "metadata": {
  "jupytext": {
   "formats": "ipynb,md:myst"
  },
  "kernelspec": {
   "display_name": "Python 3 (ipykernel)",
   "language": "python",
   "name": "python3"
  }
 },
 "nbformat": 4,
 "nbformat_minor": 5
}
