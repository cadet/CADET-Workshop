{
 "cells": [
  {
   "cell_type": "markdown",
   "id": "cd2cdcee",
   "metadata": {},
   "source": [
    "# Importing packages and introduction to Numpy/Scipy/Matplotlib\n",
    "Python capabilities are extended with many useful packages. A few of the packages that we'll use in this class are:\n",
    "\n",
    "- [NumPy](https://www.numpy.org/) for array-computing\n",
    "- [SciPy](https://www.scipy.org/) for numerical routines\n",
    "- [Matplotlib](https://www.matplotlib.org/) for data visualization\n",
    "\n",
    "You can import a package with ```import package as pk``` where ```package``` is the package name and ```pk``` is the abbreviated name.\n",
    "\n",
    "\n",
    "***Task:*** Import the ```numpy``` package as ```np``` (shortened name) and get help on the ```np.linspace``` function."
   ]
  },
  {
   "cell_type": "code",
   "execution_count": null,
   "id": "1e2a7347",
   "metadata": {
    "tags": [
     "solution"
    ]
   },
   "outputs": [],
   "source": [
    "import numpy as np\n",
    "help(np.linspace)"
   ]
  },
  {
   "cell_type": "markdown",
   "id": "07868e13",
   "metadata": {},
   "source": [
    "***Task:*** Use ```np.linspace``` to define 20 equally spaced values between $0$ and $2\\,\\pi$. Name the variable ```x``` and use the built-in ```np.pi``` constant for $\\pi$."
   ]
  },
  {
   "cell_type": "code",
   "execution_count": null,
   "id": "e4731f6a",
   "metadata": {
    "tags": [
     "solution"
    ]
   },
   "outputs": [],
   "source": [
    "x = np.linspace(0,2*np.pi,20)\n",
    "print(x)"
   ]
  },
  {
   "cell_type": "markdown",
   "id": "8403fa69",
   "metadata": {},
   "source": [
    "***Task:*** Use ```np.sin``` to calculate a new variable ```y``` as $y=2\\,\\sin{\\left(\\frac{x}{2}\\right)}$."
   ]
  },
  {
   "cell_type": "code",
   "execution_count": null,
   "id": "4f4d9710",
   "metadata": {
    "tags": [
     "solution"
    ]
   },
   "outputs": [],
   "source": [
    "y = 2*np.sin(x/2)\n",
    "print(y)"
   ]
  },
  {
   "cell_type": "markdown",
   "id": "15b267e4",
   "metadata": {},
   "source": [
    "***Task:*** Import the ```matplotlib.pyplot``` package as ```plt``` (shortened name) and show the help on the ```plt.plot``` function."
   ]
  },
  {
   "cell_type": "code",
   "execution_count": null,
   "id": "09731fbb",
   "metadata": {
    "tags": [
     "solution"
    ]
   },
   "outputs": [],
   "source": [
    "import matplotlib.pyplot as plt\n",
    "help(plt.plot)"
   ]
  },
  {
   "cell_type": "markdown",
   "id": "a48ab8a4",
   "metadata": {},
   "source": [
    "***Task:*** Create a plot of ```x``` and ```y``` with the ```plt.plot``` function. Add an x-label with ```plt.xlabel``` and a y-label with ```plt.ylabel```."
   ]
  },
  {
   "cell_type": "code",
   "execution_count": null,
   "id": "426b45cb",
   "metadata": {
    "tags": [
     "solution"
    ]
   },
   "outputs": [],
   "source": [
    "plt.plot(x,y,label='y=2*sin(x/2)')\n",
    "plt.xlabel('x')\n",
    "plt.ylabel('y')\n",
    "\n",
    "z = np.cos(x)\n",
    "plt.plot(x,z,label='cos(x)')\n",
    "\n",
    "plt.title('Trigonometry Functions')\n",
    "plt.legend()"
   ]
  }
 ],
 "metadata": {
  "jupytext": {
   "formats": "ipynb,md:myst"
  },
  "kernelspec": {
   "display_name": "Python 3 (ipykernel)",
   "language": "python",
   "name": "python3"
  }
 },
 "nbformat": 4,
 "nbformat_minor": 5
}
