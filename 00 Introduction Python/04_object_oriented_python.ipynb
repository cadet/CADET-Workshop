{
 "cells": [
  {
   "cell_type": "markdown",
   "id": "ff2e47f8",
   "metadata": {
    "editable": true,
    "slideshow": {
     "slide_type": "slide"
    }
   },
   "source": [
    "# Object Oriented Programming"
   ]
  },
  {
   "cell_type": "markdown",
   "id": "3ff46a7a",
   "metadata": {
    "editable": true,
    "slideshow": {
     "slide_type": "fragment"
    }
   },
   "source": [
    "## Introduction to Object-Oriented Programming (OOP) for Modeling\n",
    "\n",
    "### Basics of Variables in Python\n",
    "\n",
    "In Python, we can store information in variables. For instance, I could define the length of a column as a floating-point number."
   ]
  },
  {
   "cell_type": "code",
   "execution_count": null,
   "id": "7895a120",
   "metadata": {},
   "outputs": [],
   "source": [
    "column_length = 0.1  # m\n",
    "print(column_length)"
   ]
  },
  {
   "cell_type": "markdown",
   "id": "45156812",
   "metadata": {
    "editable": true,
    "slideshow": {
     "slide_type": "slide"
    }
   },
   "source": [
    "Now, if I want to expand on this model of a column, I might add another variable, like radius. I can then calculate the column’s volume using length, radius, and pi."
   ]
  },
  {
   "cell_type": "code",
   "execution_count": null,
   "id": "90653d74",
   "metadata": {
    "editable": true,
    "slideshow": {
     "slide_type": ""
    },
    "tags": [
     "solution"
    ]
   },
   "outputs": [],
   "source": [
    "column_diameter = 0.2\n",
    "column_volume = column_length * column_diameter ** 2 * 3.14\n",
    "print(column_volume)"
   ]
  },
  {
   "cell_type": "markdown",
   "id": "3f3b0538",
   "metadata": {
    "editable": true,
    "slideshow": {
     "slide_type": "fragment"
    }
   },
   "source": [
    "However, if I want a second column, I have to duplicate all this code—defining a new length, radius, and volume, which becomes tedious. Constantly updating variable names, repeating code, and managing values manually is not efficient."
   ]
  },
  {
   "cell_type": "code",
   "execution_count": null,
   "id": "83e37cf2",
   "metadata": {
    "editable": true,
    "slideshow": {
     "slide_type": ""
    }
   },
   "outputs": [],
   "source": [
    "# column_2_length, column_2_diameter"
   ]
  },
  {
   "cell_type": "markdown",
   "id": "07c4cffc",
   "metadata": {
    "editable": true,
    "slideshow": {
     "slide_type": "slide"
    }
   },
   "source": [
    "### Reducing Code Repetition\n",
    "\n",
    "To reduce code repetition, I could use functions. A function allows us to encapsulate repetitive tasks, making our code shorter and easier to manage."
   ]
  },
  {
   "cell_type": "markdown",
   "id": "d687ad9c",
   "metadata": {
    "editable": true,
    "slideshow": {
     "slide_type": "fragment"
    }
   },
   "source": [
    "But even with functions, manually handling individual values for each column remains cumbersome, especially when we add more parameters like cross-sectional area or porosity. Imagine managing several columns with unique properties—having a separate variable for each becomes overwhelming."
   ]
  },
  {
   "cell_type": "code",
   "execution_count": null,
   "id": "24bda078",
   "metadata": {
    "editable": true,
    "slideshow": {
     "slide_type": ""
    }
   },
   "outputs": [],
   "source": []
  },
  {
   "cell_type": "markdown",
   "id": "ec361272",
   "metadata": {
    "editable": true,
    "slideshow": {
     "slide_type": "slide"
    }
   },
   "source": [
    "### Solution: Object-Oriented Programming\n",
    "\n",
    "This is where object-oriented programming (OOP) comes in. OOP allows us to create a class, or a blueprint, that groups all relevant information about an entity—in this case, a column. We can then create instances of this class, each representing a distinct column with its own attributes. Think of it like DNA and proteins: the class is like the DNA, which defines how to create the object, and the object is the end result that we can work with directly.\n",
    "\n",
    "To define a class in Python, we start by giving it an initialization function. This function, called \"init,\" specifies the attributes each instance needs, such as length and radius. These attributes are stored within the object itself, using a standard placeholder in Python called \"self.\" Once defined, I can create columns with specific lengths and radii. Each column instance is self-contained, so changing the length of one column doesn’t affect the others.\n",
    "\n",
    "Another advantage of classes is that we can add functions, or \"methods,\" to perform actions directly within each object. For instance, we could create a method that calculates volume, using the length and radius stored in that instance. This way, each column can calculate its volume independently without needing a separate variable for volume.\n",
    "\n",
    "In future sessions, we’ll be creating column objects with various properties, such as porosity and adsorption methods, and possibly even event objects for more complex modeling."
   ]
  },
  {
   "cell_type": "code",
   "execution_count": null,
   "id": "698e1fe1",
   "metadata": {
    "editable": true,
    "slideshow": {
     "slide_type": ""
    }
   },
   "outputs": [],
   "source": [
    "def volume(length, radius):\n",
    "    volume = length * radius ** 2 * 3.14\n",
    "    return volume\n",
    "\n",
    "\n",
    "column_volume = volume(column_length, column_diameter/2)"
   ]
  },
  {
   "cell_type": "code",
   "execution_count": null,
   "id": "e6c0f4bc",
   "metadata": {
    "editable": true,
    "slideshow": {
     "slide_type": ""
    }
   },
   "outputs": [],
   "source": [
    "class Column:\n",
    "    def __init__(self, length, radius):\n",
    "        self.length = length\n",
    "        self.radius = radius\n",
    "\n",
    "    @property\n",
    "    def volume(self):\n",
    "        volume = self.length * self.radius ** 2 * 3.14\n",
    "        return volume\n",
    "\n",
    "column = Column(0.1, 0.001)\n",
    "print(column.volume)\n",
    "column2 = Column(0.2, 0.001)\n",
    "print(column2.volume)\n",
    "column.length = 10\n",
    "print(column.volume)"
   ]
  },
  {
   "cell_type": "markdown",
   "id": "04726ed4",
   "metadata": {
    "editable": true,
    "slideshow": {
     "slide_type": "fragment"
    }
   },
   "source": [
    "Once defined, I can create columns with specific lengths and radii. Each column instance is self-contained, so changing the length of one column doesn’t affect the others."
   ]
  },
  {
   "cell_type": "code",
   "execution_count": null,
   "id": "34dacfdb",
   "metadata": {},
   "outputs": [],
   "source": []
  },
  {
   "cell_type": "markdown",
   "id": "3993a7e3",
   "metadata": {
    "editable": true,
    "slideshow": {
     "slide_type": "fragment"
    }
   },
   "source": [
    "Another advantage of classes is that we can add functions, or \"methods,\" to perform actions directly within each object. For instance, we could create a method that calculates volume, using the length and radius stored in that instance. This way, each column can calculate its volume independently without needing a separate variable for volume."
   ]
  },
  {
   "cell_type": "markdown",
   "id": "7b929b49",
   "metadata": {
    "editable": true,
    "slideshow": {
     "slide_type": "fragment"
    }
   },
   "source": [
    "In future sessions, we’ll be creating column objects with various properties, such as porosity and adsorption methods, and possibly even event objects for more complex modeling."
   ]
  },
  {
   "cell_type": "code",
   "execution_count": null,
   "id": "f22eb2ef",
   "metadata": {
    "editable": true,
    "slideshow": {
     "slide_type": ""
    }
   },
   "outputs": [],
   "source": []
  }
 ],
 "metadata": {
  "jupytext": {
   "formats": "ipynb,md:myst"
  },
  "kernelspec": {
   "display_name": "Python 3 (ipykernel)",
   "language": "python",
   "name": "python3"
  }
 },
 "nbformat": 4,
 "nbformat_minor": 5
}
