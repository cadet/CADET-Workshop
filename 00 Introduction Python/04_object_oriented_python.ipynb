{
 "cells": [
  {
   "cell_type": "markdown",
   "id": "51db81f2",
   "metadata": {
    "editable": true,
    "slideshow": {
     "slide_type": "slide"
    },
    "tags": []
   },
   "source": [
    "# Object Oriented Programming"
   ]
  },
  {
   "cell_type": "markdown",
   "id": "98e5272b",
   "metadata": {
    "editable": true,
    "slideshow": {
     "slide_type": "fragment"
    },
    "tags": []
   },
   "source": [
    "## Introduction to Object-Oriented Programming (OOP) for Modeling\n",
    "\n",
    "### Basics of Variables in Python\n",
    "\n",
    "In Python, we can store information in variables. For instance, I could define the length of a column as a floating-point number."
   ]
  },
  {
   "cell_type": "code",
   "execution_count": 4,
   "id": "e0e39e98-c152-4107-be6f-2393181036d9",
   "metadata": {},
   "outputs": [
    {
     "name": "stdout",
     "output_type": "stream",
     "text": [
      "0.1\n"
     ]
    }
   ],
   "source": [
    "column_length = 0.1  # m\n",
    "print(column_length)"
   ]
  },
  {
   "cell_type": "markdown",
   "id": "a14d1050-ee3a-4652-82c1-0ec4b05d5618",
   "metadata": {
    "editable": true,
    "slideshow": {
     "slide_type": "slide"
    },
    "tags": []
   },
   "source": [
    "Now, if I want to expand on this model of a column, I might add another variable, like radius. I can then calculate the column’s volume using length, radius, and pi."
   ]
  },
  {
   "cell_type": "code",
   "execution_count": 6,
   "id": "3bb7d6c5",
   "metadata": {
    "editable": true,
    "slideshow": {
     "slide_type": ""
    },
    "tags": [
     "solution"
    ]
   },
   "outputs": [
    {
     "name": "stdout",
     "output_type": "stream",
     "text": [
      "0.012560000000000003\n"
     ]
    }
   ],
   "source": [
    "column_diameter = 0.2\n",
    "column_volume = column_length * column_diameter ** 2 * 3.14\n",
    "print(column_volume)"
   ]
  },
  {
   "cell_type": "markdown",
   "id": "276cd35a-60a2-4263-bb3a-0a121fec14ea",
   "metadata": {
    "editable": true,
    "slideshow": {
     "slide_type": "fragment"
    },
    "tags": []
   },
   "source": [
    "However, if I want a second column, I have to duplicate all this code—defining a new length, radius, and volume, which becomes tedious. Constantly updating variable names, repeating code, and managing values manually is not efficient."
   ]
  },
  {
   "cell_type": "code",
   "execution_count": null,
   "id": "12a159a0-d412-4e61-959a-eacc4378f5f3",
   "metadata": {
    "editable": true,
    "slideshow": {
     "slide_type": ""
    },
    "tags": []
   },
   "outputs": [],
   "source": [
    "column_2_length, column_2_diameter"
   ]
  },
  {
   "cell_type": "markdown",
   "id": "96c1f5c9-79f3-44cc-9e36-8c0713cbd948",
   "metadata": {
    "editable": true,
    "slideshow": {
     "slide_type": "slide"
    },
    "tags": []
   },
   "source": [
    "### Reducing Code Repetition\n",
    "\n",
    "To reduce code repetition, I could use functions. A function allows us to encapsulate repetitive tasks, making our code shorter and easier to manage. "
   ]
  },
  {
   "cell_type": "markdown",
   "id": "bc651218-d19b-4419-9dcc-c801ccb4bd2b",
   "metadata": {
    "editable": true,
    "slideshow": {
     "slide_type": "fragment"
    },
    "tags": []
   },
   "source": [
    "But even with functions, manually handling individual values for each column remains cumbersome, especially when we add more parameters like cross-sectional area or porosity. Imagine managing several columns with unique properties—having a separate variable for each becomes overwhelming."
   ]
  },
  {
   "cell_type": "code",
   "execution_count": null,
   "id": "74d66c9d-3360-4226-86b7-dcac567c1d3f",
   "metadata": {
    "editable": true,
    "slideshow": {
     "slide_type": ""
    },
    "tags": []
   },
   "outputs": [],
   "source": []
  },
  {
   "cell_type": "markdown",
   "id": "ccbef5db-c257-4017-a96f-32c446e39c2e",
   "metadata": {
    "editable": true,
    "slideshow": {
     "slide_type": "slide"
    },
    "tags": []
   },
   "source": [
    "### Solution: Object-Oriented Programming\n",
    "\n",
    "This is where object-oriented programming (OOP) comes in. OOP allows us to create a class, or a blueprint, that groups all relevant information about an entity—in this case, a column. We can then create instances of this class, each representing a distinct column with its own attributes. Think of it like DNA and proteins: the class is like the DNA, which defines how to create the object, and the object is the end result that we can work with directly.\n",
    "\n",
    "To define a class in Python, we start by giving it an initialization function. This function, called \"init,\" specifies the attributes each instance needs, such as length and radius. These attributes are stored within the object itself, using a standard placeholder in Python called \"self.\" Once defined, I can create columns with specific lengths and radii. Each column instance is self-contained, so changing the length of one column doesn’t affect the others.\n",
    "\n",
    "Another advantage of classes is that we can add functions, or \"methods,\" to perform actions directly within each object. For instance, we could create a method that calculates volume, using the length and radius stored in that instance. This way, each column can calculate its volume independently without needing a separate variable for volume.\n",
    "\n",
    "In future sessions, we’ll be creating column objects with various properties, such as porosity and adsorption methods, and possibly even event objects for more complex modeling."
   ]
  },
  {
   "cell_type": "code",
   "execution_count": 7,
   "id": "c6d1d0d4-3302-475e-b5a7-e82cab61443c",
   "metadata": {
    "editable": true,
    "slideshow": {
     "slide_type": ""
    },
    "tags": []
   },
   "outputs": [],
   "source": [
    "def volume(length, radius):\n",
    "    volume = length * radius ** 2 * 3.14\n",
    "    return volume\n",
    "\n",
    "\n",
    "column_volume = volume(column_length, column_diameter/2)"
   ]
  },
  {
   "cell_type": "code",
   "execution_count": 11,
   "id": "72831e69-4092-4369-898a-52f5cc0642a3",
   "metadata": {
    "editable": true,
    "slideshow": {
     "slide_type": ""
    },
    "tags": []
   },
   "outputs": [
    {
     "name": "stdout",
     "output_type": "stream",
     "text": [
      "3.14e-07\n",
      "6.28e-07\n",
      "3.14e-05\n"
     ]
    }
   ],
   "source": [
    "class Column:\n",
    "    def __init__(self, length, radius):\n",
    "        self.length = length\n",
    "        self.radius = radius\n",
    "\n",
    "    def volume(self):\n",
    "        volume = self.length * self.radius ** 2 * 3.14\n",
    "        return volume\n",
    "\n",
    "column = Column(0.1, 0.001)\n",
    "print(column.volume())\n",
    "column2 = Column(0.2, 0.001)\n",
    "print(column2.volume())\n",
    "column.length = 10\n",
    "print(column.volume())\n"
   ]
  },
  {
   "cell_type": "markdown",
   "id": "11e97ac8-3c0d-458c-a326-92001aace423",
   "metadata": {
    "editable": true,
    "slideshow": {
     "slide_type": "fragment"
    },
    "tags": []
   },
   "source": [
    "Once defined, I can create columns with specific lengths and radii. Each column instance is self-contained, so changing the length of one column doesn’t affect the others."
   ]
  },
  {
   "cell_type": "code",
   "execution_count": null,
   "id": "beba8016-a86e-43e2-93db-59c0d5b374f7",
   "metadata": {},
   "outputs": [],
   "source": []
  },
  {
   "cell_type": "markdown",
   "id": "1c5fa142-92ed-4e87-9e83-630032ea0307",
   "metadata": {
    "editable": true,
    "slideshow": {
     "slide_type": "fragment"
    },
    "tags": []
   },
   "source": [
    "Another advantage of classes is that we can add functions, or \"methods,\" to perform actions directly within each object. For instance, we could create a method that calculates volume, using the length and radius stored in that instance. This way, each column can calculate its volume independently without needing a separate variable for volume."
   ]
  },
  {
   "cell_type": "markdown",
   "id": "8717f9a8-0651-4b18-b903-3fab20946537",
   "metadata": {
    "editable": true,
    "slideshow": {
     "slide_type": "fragment"
    },
    "tags": []
   },
   "source": [
    "In future sessions, we’ll be creating column objects with various properties, such as porosity and adsorption methods, and possibly even event objects for more complex modeling."
   ]
  },
  {
   "cell_type": "code",
   "execution_count": null,
   "id": "f4989628-b7dc-42d7-aff4-132607f67bba",
   "metadata": {
    "editable": true,
    "slideshow": {
     "slide_type": ""
    },
    "tags": []
   },
   "outputs": [],
   "source": []
  }
 ],
 "metadata": {
  "jupytext": {
   "formats": "ipynb,md:myst"
  },
  "kernelspec": {
   "display_name": "Python 3 (ipykernel)",
   "language": "python",
   "name": "python3"
  },
  "language_info": {
   "codemirror_mode": {
    "name": "ipython",
    "version": 3
   },
   "file_extension": ".py",
   "mimetype": "text/x-python",
   "name": "python",
   "nbconvert_exporter": "python",
   "pygments_lexer": "ipython3",
   "version": "3.11.10"
  }
 },
 "nbformat": 4,
 "nbformat_minor": 5
}
