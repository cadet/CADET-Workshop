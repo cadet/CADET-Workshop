{
 "cells": [
  {
   "cell_type": "markdown",
   "id": "51db81f2",
   "metadata": {
    "editable": true,
    "slideshow": {
     "slide_type": "slide"
    }
   },
   "source": [
    "# Object Oriented Programming"
   ]
  },
  {
   "cell_type": "markdown",
   "id": "98e5272b",
   "metadata": {},
   "source": [
    "## Introduction to Object-Oriented Programming (OOP) for Modeling\n",
    "\n",
    "Last year, we received a few questions and noticed some confusion around object-oriented programming. So, I want to take this opportunity to introduce some techniques and syntax we’ll use going forward. This will help everyone follow along more smoothly.\n",
    "\n",
    "### Basics of Variables in Python\n",
    "\n",
    "In Python, we can store information in variables. For instance, I could define the length of a column as a floating-point number and add a comment to indicate that it's measured in meters. Comments in Python begin with a pound symbol, which tells the interpreter to ignore everything after it. Then, I can output the column length to see its value.\n",
    "\n",
    "Now, if I want to expand on this model of a column, I might add another variable, like radius, to store the column’s radius in meters. Python automatically recognizes the data type if I assign it a number. I can then calculate the column’s volume using length, radius, and pi.\n",
    "\n",
    "However, if I want a second column, I have to duplicate all this code—defining a new length, radius, and volume, which becomes tedious. Constantly updating variable names, repeating code, and managing values manually is not efficient.\n",
    "\n",
    "### Reducing Code Repetition\n",
    "\n",
    "To reduce code repetition, I could use functions. A function allows us to encapsulate repetitive tasks, making our code shorter and easier to manage. But even with functions, manually handling individual values for each column remains cumbersome, especially when we add more parameters like cross-sectional area or porosity. Imagine managing several columns with unique properties—having a separate variable for each becomes overwhelming.\n",
    "\n",
    "### Solution: Object-Oriented Programming\n",
    "\n",
    "This is where object-oriented programming (OOP) comes in. OOP allows us to create a class, or a blueprint, that groups all relevant information about an entity—in this case, a column. We can then create instances of this class, each representing a distinct column with its own attributes. Think of it like DNA and proteins: the class is like the DNA, which defines how to create the object, and the object is the end result that we can work with directly.\n",
    "\n",
    "To define a class in Python, we start by giving it an initialization function. This function, called \"init,\" specifies the attributes each instance needs, such as length and radius. These attributes are stored within the object itself, using a standard placeholder in Python called \"self.\" Once defined, I can create columns with specific lengths and radii. Each column instance is self-contained, so changing the length of one column doesn’t affect the others.\n",
    "\n",
    "Another advantage of classes is that we can add functions, or \"methods,\" to perform actions directly within each object. For instance, we could create a method that calculates volume, using the length and radius stored in that instance. This way, each column can calculate its volume independently without needing a separate variable for volume.\n",
    "\n",
    "In future sessions, we’ll be creating column objects with various properties, such as porosity and adsorption methods, and possibly even event objects for more complex modeling."
   ]
  },
  {
   "cell_type": "code",
   "execution_count": null,
   "id": "ed6156d1",
   "metadata": {
    "editable": true,
    "slideshow": {
     "slide_type": "fragment"
    },
    "tags": [
     "solution"
    ]
   },
   "outputs": [],
   "source": []
  },
  {
   "cell_type": "code",
   "execution_count": null,
   "id": "3bb7d6c5",
   "metadata": {
    "editable": true,
    "slideshow": {
     "slide_type": "fragment"
    },
    "tags": [
     "solution"
    ]
   },
   "outputs": [],
   "source": []
  },
  {
   "cell_type": "code",
   "execution_count": null,
   "id": "1c4d4fc9",
   "metadata": {},
   "outputs": [],
   "source": []
  }
 ],
 "metadata": {
  "jupytext": {
   "formats": "ipynb,md:myst"
  },
  "kernelspec": {
   "display_name": "Python 3 (ipykernel)",
   "language": "python",
   "name": "python3"
  }
 },
 "nbformat": 4,
 "nbformat_minor": 5
}
