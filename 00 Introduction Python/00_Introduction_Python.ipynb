{
 "cells": [
  {
   "cell_type": "markdown",
   "id": "462b84c2",
   "metadata": {},
   "source": [
    "# Introduction to Python\n",
    "\n",
    "## Why Python?\n",
    "- Simplicity: Easy to code, easy to read.\n",
    "- Availability: Free and open source and compatible with all major operating systems.\n",
    "- \"Batteries included\": Robust standard library provides wide range of modules to add functionality to the Python application.\n",
    "- Excellent third party libraries:\n",
    "\n",
    "***The Python ecosystem:***\n",
    "\n",
    "```{figure} ./images/python_ecosystem.png\n",
    ":alt: Python Ecosystem\n",
    ":width: 500px\n",
    ":align: center\n",
    "```\n",
    "\n",
    "- In this course we will be using:\n",
    "    - [NumPy](https://www.numpy.org/) for array-computing\n",
    "    - [SciPy](https://www.scipy.org/) for numerical routines\n",
    "    - [Matplotlib](https://www.matplotlib.org/) for data visualization\n",
    "\n",
    "- Widespread Adoption in Science and Education:\n",
    "\n",
    "\n",
    "```{figure} ./images/stackoverflow-growth.png\n",
    ":alt: Python Growth\n",
    ":width: 500px\n",
    ":align: center\n",
    "```\n",
    "\n",
    "### Tutorial objectives\n",
    "This tutorial covers the following topics:\n",
    "- Installation of Python\n",
    "- `help`, `print`, `type`\n",
    "- Variables\n",
    "- Operators\n",
    "- Basic Functions\n",
    "- Import of packages\n",
    "- Introduction to numpy\n",
    "- Introduction to matplotlib"
   ]
  },
  {
   "cell_type": "markdown",
   "id": "056e730d",
   "metadata": {},
   "source": [
    "___"
   ]
  },
  {
   "cell_type": "markdown",
   "id": "37cf895e",
   "metadata": {},
   "source": [
    "## Python Installation\n",
    "- In this course, we will be using the Conda Python distribution. Conda is an open source package management system and environment management system that runs on Windows, macOS and Linux. Conda quickly installs, runs and updates packages and their dependencies completely seprate from any system Python installations and withoud needing administrative rights.\n",
    "- Download Miniconda from [here](https://docs.conda.io/en/latest/miniconda.html)\n",
    "- Installation remarks:\n",
    "    - Accept License Agreement\n",
    "    - Select *Install Just Me*\n",
    "    - Select Destination Folder: use recommended\n",
    "    - Do *not* add Anaconda to your PATH\n",
    "    - Click install\n",
    "    - To install additional packages, open the anaconda prompt from the windows menu and enter:\n",
    "        ```\n",
    "        conda install numpy scipy matplotlib jupyterlab\n",
    "        ```\n",
    "- The tutorial and exercises will be presented using jupyter notebooks. Jupyterlab is an open-source web application that allows you to create and share documents that contain live code, equations, visualizations and narrative text.\n",
    "    - Markdown cells are used for formatted text\n",
    "    - Code cells contain executable code\n",
    "\n",
    "***Task:*** Start Jupyterlab Server by entering ``` jupyter-lab ``` in the anaconda prompt, create a new notebook and a new cell and convert the type to 'Markdown'."
   ]
  },
  {
   "cell_type": "markdown",
   "id": "2eb65f5e",
   "metadata": {},
   "source": [
    "## Further Watching\n",
    "You can find plenty of great resources for (Python) programming online.\n",
    "- [Corey Schafer](https://www.youtube.com/user/schafer5) is focused on general programming aspectes, mainly in Python, but also has good introductions to *Bash*, *Git*, *SQL*, and many more.\n",
    "- [APMonitor](https://www.youtube.com/user/APMonitorCom) has a lot of engineering examples in *Python*, *Matlab* or on *paper*. In fact, some of this course's exercises are based heavily on his work.\n",
    "- [3Blue1Brown](https://www.youtube.com/channel/UCYO_jab_esuFRV4b17AJtAw) makes great videos series on a broad range of (physical) math topics such as *linear algebra*, *calculus*, and *differential equations*."
   ]
  }
 ],
 "metadata": {
  "kernelspec": {
   "display_name": "Python 3 (ipykernel)",
   "language": "python",
   "name": "python3"
  }
 },
 "nbformat": 4,
 "nbformat_minor": 5
}
