{
 "cells": [
  {
   "cell_type": "markdown",
   "id": "65a4bf00",
   "metadata": {},
   "source": [
    "## Markdown\n",
    "Markdown is a lightweight markup language with plain text formatting syntax. You can find more information and examples [here](https://en.wikipedia.org/wiki/Markdown).\n",
    "___\n",
    "\n",
    "### Example: Raw input"
   ]
  },
  {
   "cell_type": "raw",
   "id": "c2ff4d1e",
   "metadata": {},
   "source": [
    "It's very easy to make some words **bold** and other words *italic* with Markdown.\n",
    "\n",
    "You can insert [links](https://www.example.com),\n",
    "\n",
    "create lists\n",
    "- item 1\n",
    "- item 2\n",
    "\n",
    "and Headlines.\n",
    "# Heading\n",
    "## Sub-heading\n",
    "\n",
    "Also, mathematical equations are supported using KaTeX notation:\n",
    "$\n",
    "\\frac{\\partial c(z,t)}{\\partial t} + F \\frac{\\partial q(z,t)}{\\partial t} + u \\frac{\\partial c(z,t)}{\\partial z} = 0\n",
    "$"
   ]
  },
  {
   "cell_type": "markdown",
   "id": "2915c09f",
   "metadata": {},
   "source": [
    "### Example: Output:\n",
    "It's very easy to make some words **bold** and other words *italic* with Markdown.\n",
    "\n",
    "You can insert [links](https://www.example.com),\n",
    "\n",
    "create lists\n",
    "- item 1\n",
    "- item 2\n",
    "\n",
    "and Headlines.\n",
    "# Heading\n",
    "## Sub-heading\n",
    "\n",
    "Also, mathematical equations are supported using KaTeX notation:\n",
    "$\n",
    "\\frac{\\partial c(z,t)}{\\partial t} + F \\frac{\\partial q(z,t)}{\\partial t} + u \\frac{\\partial c(z,t)}{\\partial z} = 0\n",
    "$"
   ]
  },
  {
   "cell_type": "markdown",
   "id": "926d69b6",
   "metadata": {},
   "source": [
    "___"
   ]
  },
  {
   "cell_type": "markdown",
   "id": "d42ee79e",
   "metadata": {},
   "source": [
    "***Task:*** Write a sentence using **bold**, *italic*, as well as ***bold and italic*** highlighting."
   ]
  },
  {
   "cell_type": "markdown",
   "id": "11936b20",
   "metadata": {},
   "source": [
    "***Task:*** Download an image and insert a link with the alternative text 'Figure 1'."
   ]
  },
  {
   "cell_type": "markdown",
   "id": "476d9e11",
   "metadata": {},
   "source": [
    "***Task:*** Write down the equation for your favorite adsorption isotherm."
   ]
  }
 ],
 "metadata": {
  "kernelspec": {
   "display_name": "Python 3",
   "language": "python",
   "name": "python3"
  }
 },
 "nbformat": 4,
 "nbformat_minor": 5
}
