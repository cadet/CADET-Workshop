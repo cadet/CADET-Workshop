{
 "cells": [
  {
   "cell_type": "markdown",
   "id": "fd33274c",
   "metadata": {},
   "source": [
    "## Getting started with Python\n",
    "\n",
    "### Hello World!\n",
    "The simplest program in Python consists of a line that tells the computer a command. Traditionally, the first program of every programmer in every new language prints \"Hello World!\""
   ]
  },
  {
   "cell_type": "markdown",
   "id": "a9647c84",
   "metadata": {},
   "source": [
    "***Task:*** Change ```'Hello world!'``` to a different text message."
   ]
  },
  {
   "cell_type": "code",
   "execution_count": null,
   "id": "7a78049a",
   "metadata": {
    "tags": [
     "solution"
    ]
   },
   "outputs": [],
   "source": [
    "print('Hello world!')"
   ]
  },
  {
   "cell_type": "markdown",
   "id": "174b0ab0",
   "metadata": {},
   "source": [
    "### Help me!\n",
    "The most important thing to learn in programming is finding help. The easiest way is to to use the ```help()``` function. If you get stuck, search for answers online in the online documentation of [Python](https://docs.python.org/3/) or in forums such as [Stackoverflow](https://stackoverflow.com/questions/tagged/python). Chances are, other programmers will have had the same problem as you have!"
   ]
  },
  {
   "cell_type": "markdown",
   "id": "e87f4bf9",
   "metadata": {},
   "source": [
    "***Task:*** Show the help documentation for the ```max``` function instead of the ```print``` function. Based on the help, use the ```max``` function to find the highest value of two numbers: ```5``` and ```2```."
   ]
  },
  {
   "cell_type": "code",
   "execution_count": null,
   "id": "fb1b7ff7",
   "metadata": {
    "tags": [
     "solution"
    ]
   },
   "outputs": [],
   "source": [
    "help(print)"
   ]
  },
  {
   "cell_type": "markdown",
   "id": "2475ddbb",
   "metadata": {},
   "source": [
    "### Python as a calculator\n",
    "\n",
    "Python can be used just like a calculator. Enter an expression and the interpreter returns the result. The syntax is simple: the operators ```+```, ```-```, ```*```, and ```/``` act as you would expect. Round brackets ```( )``` can be used to group expressions."
   ]
  },
  {
   "cell_type": "markdown",
   "id": "f92a7d5b",
   "metadata": {},
   "source": [
    "***Task:*** Play around with the interpreter and enter some equations!"
   ]
  },
  {
   "cell_type": "code",
   "execution_count": null,
   "id": "b29b4961",
   "metadata": {
    "tags": [
     "solution"
    ]
   },
   "outputs": [],
   "source": [
    "1 + 1"
   ]
  },
  {
   "cell_type": "code",
   "execution_count": null,
   "id": "f60289e7",
   "metadata": {
    "tags": [
     "solution"
    ]
   },
   "outputs": [],
   "source": [
    "(50 * 5 - 6) / 3"
   ]
  },
  {
   "cell_type": "markdown",
   "id": "08d8be92",
   "metadata": {},
   "source": [
    "### Operators\n",
    "\n",
    "We've already seen some operators. Operators are used to transform, compare, join, substract, etc. Below is a list of operators in descending order of precedence. When there are no parenthesis to guide the precedence, this order will be assumed.\n",
    "\n",
    "| Operator | Description |\n",
    "| --- | --- |\n",
    "| ** | Exponent |\n",
    "| *, /, //, % | Multiplication, Division, Floor division, Modulus |\n",
    "| +, - | Addition, Subtraction |\n",
    "| <=, <, >, >= | Comparison |\n",
    "| =, %=, /=, //=, -=, +=, *=, **= | Assignment |\n",
    "| is, is not | Identity |\n",
    "| in, not in | Membership |\n",
    "| not, or, and | Logical |"
   ]
  },
  {
   "cell_type": "markdown",
   "id": "acd737af",
   "metadata": {},
   "source": [
    "***Example:***"
   ]
  },
  {
   "cell_type": "code",
   "execution_count": null,
   "id": "1d2f0483",
   "metadata": {
    "tags": [
     "solution"
    ]
   },
   "outputs": [],
   "source": [
    "# Area of unit circle. <-- Note the '#', it makes everything after that a comment, i.e. it will NOT be executed\n",
    "3.1415926/4 * 2**2"
   ]
  },
  {
   "cell_type": "markdown",
   "id": "f05e28eb",
   "metadata": {},
   "source": [
    "***Example:***"
   ]
  },
  {
   "cell_type": "code",
   "execution_count": null,
   "id": "cd5294fc",
   "metadata": {
    "tags": [
     "solution"
    ]
   },
   "outputs": [],
   "source": [
    "1 == 0"
   ]
  },
  {
   "cell_type": "markdown",
   "id": "df156676",
   "metadata": {},
   "source": [
    "***Task:*** Calculate the volume of the unit sphere."
   ]
  },
  {
   "cell_type": "code",
   "execution_count": null,
   "id": "e785e050",
   "metadata": {
    "tags": [
     "solution"
    ]
   },
   "outputs": [],
   "source": []
  },
  {
   "cell_type": "markdown",
   "id": "8944a8ea",
   "metadata": {},
   "source": [
    "***Task:*** Determine whether $35^2$ is greater than $2^{10}$."
   ]
  },
  {
   "cell_type": "code",
   "execution_count": null,
   "id": "4702b540",
   "metadata": {
    "tags": [
     "solution"
    ]
   },
   "outputs": [],
   "source": []
  },
  {
   "cell_type": "markdown",
   "id": "eb5d3c50",
   "metadata": {},
   "source": [
    "### Variables\n",
    "\n",
    "Variables are reserved memory locations to store values. By assigning different data types to variables, you can store integers, decimals or characters in these variables. Python variables do not need explicit declaration to reserve memory space. The declaration happens automatically when you assign a value to a variable using the equal sign (```=```).\n",
    "\n",
    "The operand to the left of the ```=``` operator is the name of the variable and the operand to the right of the ```=``` operator is the value stored in the variable. A variable name must begin with a letter or underscore but not with a number or other special characters. A variable name must not have a space and lowercase or uppercase are permitted."
   ]
  },
  {
   "cell_type": "markdown",
   "id": "98635c91",
   "metadata": {},
   "source": [
    "***Example:***"
   ]
  },
  {
   "cell_type": "code",
   "execution_count": null,
   "id": "becaf4b5",
   "metadata": {
    "tags": [
     "solution"
    ]
   },
   "outputs": [],
   "source": [
    "answer = 42\n",
    "print(answer)"
   ]
  },
  {
   "cell_type": "markdown",
   "id": "aee75424",
   "metadata": {},
   "source": [
    "***Task:*** Correct the following errors in the variable names and print their values."
   ]
  },
  {
   "cell_type": "code",
   "execution_count": null,
   "id": "02187e59",
   "metadata": {
    "tags": [
     "solution"
    ]
   },
   "outputs": [],
   "source": [
    "1diameter = 1\n",
    "length! = 10\n",
    "circle_area = 3.1415926/4* diameter**2\n",
    "#bar = 4"
   ]
  },
  {
   "cell_type": "markdown",
   "id": "56e8aff5",
   "metadata": {},
   "source": [
    "***Task:*** Write an equation for the volume of a cylinder using predefined variables."
   ]
  },
  {
   "cell_type": "code",
   "execution_count": null,
   "id": "c1715ef8",
   "metadata": {
    "tags": [
     "solution"
    ]
   },
   "outputs": [],
   "source": []
  },
  {
   "cell_type": "markdown",
   "id": "38904387",
   "metadata": {},
   "source": [
    "### Object Orientation/Types\n",
    "Object-oriented Programming (OOP), is a programming paradigm which provides means of structuring programs so that properties and behaviors are bundled into individual objects. For instance, an object could represent a person with a name property, age, address, etc., with behaviors like walking, talking, breathing, and running. Or an email with properties like recipient list, subject, body, etc., and behaviors like adding attachments and sending.\n",
    "\n",
    "A deeper introduction to OOP is out of scope for this course. However, it is important to know that in Python *everything* is an object. This means, it is of a certain *type* and every type brings with it certain behaviour. Python has five standard data types and we've already met some (subclasses) of them:\n",
    "- Numbers\n",
    "- String\n",
    "- List\n",
    "- Tuple\n",
    "- Dictionary\n",
    "\n",
    "The type can be determined using the ```type``` function."
   ]
  },
  {
   "cell_type": "markdown",
   "id": "380f2aa3",
   "metadata": {},
   "source": [
    "***Example:***"
   ]
  },
  {
   "cell_type": "code",
   "execution_count": null,
   "id": "921363bb",
   "metadata": {
    "tags": [
     "solution"
    ]
   },
   "outputs": [],
   "source": [
    "foo = 2.0\n",
    "print(type(foo))"
   ]
  },
  {
   "cell_type": "markdown",
   "id": "a5d5d435",
   "metadata": {},
   "source": [
    "***Task:*** Print the variable value and type for ```answer```, and ```file_name```."
   ]
  },
  {
   "cell_type": "code",
   "execution_count": null,
   "id": "d286a95e",
   "metadata": {
    "tags": [
     "solution"
    ]
   },
   "outputs": [],
   "source": [
    "answer = 42\n",
    "file_name = \"readme.md\""
   ]
  },
  {
   "cell_type": "markdown",
   "id": "7d0ba9cc",
   "metadata": {},
   "source": [
    "Almost everything in Python has *attributes* and *methods*."
   ]
  },
  {
   "cell_type": "markdown",
   "id": "a26f49fe",
   "metadata": {},
   "source": [
    "***Task:*** The method ```upper()``` returns a copy of the string in which all case-based characters have been uppercased. Use this method to capitalize a string variable."
   ]
  },
  {
   "cell_type": "code",
   "execution_count": null,
   "id": "b0da58f7",
   "metadata": {
    "tags": [
     "solution"
    ]
   },
   "outputs": [],
   "source": []
  },
  {
   "cell_type": "markdown",
   "id": "938cd7e2",
   "metadata": {},
   "source": [
    "### Containers\n",
    "Lists are the most versatile compound data type for grouping together values in Python. A list contains items separated by commas and enclosed within square brackets (```[]```). The values stored in a list can be accessed using the slice operator (```[index]```, ```[start:end]```) with indexes starting at ***0*** in the beginning of the list and working their way to end ***-1***."
   ]
  },
  {
   "cell_type": "markdown",
   "id": "c5a61861",
   "metadata": {},
   "source": [
    "***Example:***"
   ]
  },
  {
   "cell_type": "code",
   "execution_count": null,
   "id": "54e826c0",
   "metadata": {
    "tags": [
     "solution"
    ]
   },
   "outputs": [],
   "source": [
    "my_list = ['abcd', 786 , 2.23, 'john', 70.2]\n",
    "print(my_list)\n",
    "print(my_list[0])"
   ]
  },
  {
   "cell_type": "markdown",
   "id": "77c0e9f9",
   "metadata": {},
   "source": [
    "***Task:*** Print elements starting from 3rd element."
   ]
  },
  {
   "cell_type": "code",
   "execution_count": null,
   "id": "79699df3",
   "metadata": {
    "tags": [
     "solution"
    ]
   },
   "outputs": [],
   "source": []
  },
  {
   "cell_type": "markdown",
   "id": "25727ed0",
   "metadata": {},
   "source": [
    "***Task:*** Append ```99``` to the list using the ```append()``` method."
   ]
  },
  {
   "cell_type": "code",
   "execution_count": null,
   "id": "70b70a58",
   "metadata": {
    "tags": [
     "solution"
    ]
   },
   "outputs": [],
   "source": []
  },
  {
   "cell_type": "markdown",
   "id": "d12cb3fd",
   "metadata": {},
   "source": [
    "### Dictionaries\n",
    "\n",
    "Dictionaries in Python are unordered collections of key-value pairs enclosed within curly brackets (`{}`). Unlike lists, which are indexed by numbers, dictionaries are indexed by\n",
    "keys, which can be either numbers or strings."
   ]
  },
  {
   "cell_type": "markdown",
   "id": "035ecf22",
   "metadata": {},
   "source": [
    "***Example:***"
   ]
  },
  {
   "cell_type": "code",
   "execution_count": null,
   "id": "22f63167",
   "metadata": {
    "tags": [
     "solution"
    ]
   },
   "outputs": [],
   "source": [
    "my_dict = {'name': 'Cadet', 'version': '4.1.0', 'nUsers': 500}\n",
    "print(my_dict)\n",
    "print(my_dict['name'])\n",
    "my_dict['nDownloads'] = 2000\n",
    "print(my_dict['nDownloads'])"
   ]
  },
  {
   "cell_type": "markdown",
   "id": "70f011ba",
   "metadata": {},
   "source": [
    "Dictionaries, like lists, can be nested."
   ]
  },
  {
   "cell_type": "code",
   "execution_count": null,
   "id": "59b30ad5",
   "metadata": {
    "tags": [
     "solution"
    ]
   },
   "outputs": [],
   "source": [
    "my_dict = {'name': 'Cadet', 'version': '4.1.0', 'nUsers': 500}\n",
    "my_dict['stats'] = { 'github_stars': 1000, 'downloads': 2000, 'issues': 3}\n",
    "print(my_dict)"
   ]
  },
  {
   "cell_type": "markdown",
   "id": "35dbf10b",
   "metadata": {},
   "source": [
    "### Python syntax\n",
    "\n",
    "In Python code blocks are structured by indentation level. It is is a language requirement not a matter of style. This principle makes it easier to read because it eliminates most of braces ```{ }``` and ```end``` statements which makes Python code much more readable. All statements with the same distance from left belong to the same block of code, i.e. the statements within a block line up vertically. If a block has to be more deeply nested, it is simply indented further to the right.\n",
    "\n",
    "Loops and Conditional statements end with a colon ```:```. The same is true for functions and other structures introducing blocks."
   ]
  },
  {
   "cell_type": "markdown",
   "id": "f4feae99",
   "metadata": {},
   "source": [
    "### Conditions\n",
    "\n",
    "Conditional statements are used to direct the flow of the program to different commands based on whether a statement is ```True``` or ```False```. A boolean (```True``` or ```False```) is used to direct the flow with an ```if```, ```elif``` (else if), or ```else``` parts to the statement."
   ]
  },
  {
   "cell_type": "markdown",
   "id": "23e18e86",
   "metadata": {},
   "source": [
    "***Example:***"
   ]
  },
  {
   "cell_type": "code",
   "execution_count": null,
   "id": "d0104e86",
   "metadata": {
    "tags": [
     "solution"
    ]
   },
   "outputs": [],
   "source": [
    "x = 4\n",
    "if x < 3:\n",
    "    print('less than 3')\n",
    "elif x<4:\n",
    "    print('between 3 and 4')\n",
    "else:\n",
    "    print('greater than 4')"
   ]
  },
  {
   "cell_type": "markdown",
   "id": "e74851a8",
   "metadata": {},
   "source": [
    "***Task:*** Write a conditional statement that checks whether the string ```'spam'``` is in ```menu```.\n",
    "**Hint:** Check the operators list for membership statements."
   ]
  },
  {
   "cell_type": "code",
   "execution_count": null,
   "id": "4fb42853",
   "metadata": {
    "tags": [
     "solution"
    ]
   },
   "outputs": [],
   "source": [
    "menu = ['eggs','bacon']"
   ]
  },
  {
   "cell_type": "markdown",
   "id": "67769495",
   "metadata": {},
   "source": [
    "### Loops\n",
    "Often, we don't know (or care) how many elements are in a container (e.g. list). We just want to perform an operation on every element of the container. The ```for``` statement in Python differs a bit from what you may be used to in C or Pascal. Python’s ```for``` statement iterates over the items of any sequence (e.g. a list or a string), in the order that they appear in the sequence."
   ]
  },
  {
   "cell_type": "markdown",
   "id": "5369b4b5",
   "metadata": {},
   "source": [
    "***Example:***"
   ]
  },
  {
   "cell_type": "code",
   "execution_count": null,
   "id": "2fb44ea1",
   "metadata": {
    "tags": [
     "solution"
    ]
   },
   "outputs": [],
   "source": [
    "list_of_primes = [2, 3, 5, 7]\n",
    "for element in list_of_primes:\n",
    "    print(element)"
   ]
  },
  {
   "cell_type": "markdown",
   "id": "e6e72aa2",
   "metadata": {},
   "source": [
    "***Task:*** Create a list with strings, iterate over all elements and print the string and the length of the string using the ```len``` function."
   ]
  },
  {
   "cell_type": "code",
   "execution_count": null,
   "id": "c2ae892c",
   "metadata": {
    "tags": [
     "solution"
    ]
   },
   "outputs": [],
   "source": []
  },
  {
   "cell_type": "markdown",
   "id": "b3e6861e",
   "metadata": {},
   "source": [
    "## Functions\n",
    "A function is a block of organized, reusable code that is used to perform a single, related action. Functions provide better modularity for your application and a high degree of code reusing. There are built-in functions like ```print()```, ```help()```, etc. but it is possible to create your own functions. These functions are called user-defined functions.\n",
    "A function definition describes what is to be calculated once the function is called. The keyword ```def``` introduces a function definition. It must be followed by the function name and the parenthesized list of formal parameters. The statements that form the body of the function start at the next line, and must be indented.\n",
    "\n",
    "***Note***, the function is not evaluated when defined!"
   ]
  },
  {
   "cell_type": "markdown",
   "id": "a6c10bec",
   "metadata": {},
   "source": [
    "***Example:***"
   ]
  },
  {
   "cell_type": "code",
   "execution_count": null,
   "id": "4ca77742",
   "metadata": {
    "tags": [
     "solution"
    ]
   },
   "outputs": [],
   "source": [
    "def circle_area(diameter):\n",
    "    return 3.1415926/4 * diameter**2\n",
    "\n",
    "area = circle_area(3)\n",
    "print(area)"
   ]
  },
  {
   "cell_type": "markdown",
   "id": "129440bd",
   "metadata": {},
   "source": [
    "***Task:*** Define a function that returns the volume of a cylinder as a function of diameter and length."
   ]
  },
  {
   "cell_type": "code",
   "execution_count": null,
   "id": "ac963cd3",
   "metadata": {
    "tags": [
     "solution"
    ]
   },
   "outputs": [],
   "source": []
  }
 ],
 "metadata": {
  "kernelspec": {
   "display_name": "Python 3 (ipykernel)",
   "language": "python",
   "name": "python3"
  }
 },
 "nbformat": 4,
 "nbformat_minor": 5
}
